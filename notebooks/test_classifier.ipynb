{
 "metadata": {
  "language_info": {
   "codemirror_mode": {
    "name": "ipython",
    "version": 3
   },
   "file_extension": ".py",
   "mimetype": "text/x-python",
   "name": "python",
   "nbconvert_exporter": "python",
   "pygments_lexer": "ipython3",
   "version": "3.8.8"
  },
  "orig_nbformat": 4,
  "kernelspec": {
   "name": "python3",
   "display_name": "Python 3.8.8 64-bit ('GOA-SVM-for-GPT-Classification': conda)"
  },
  "interpreter": {
   "hash": "f88953d5c9aa5aedf1a2710ce0bc6ce5df85e8403576077b94186b56238ee893"
  }
 },
 "nbformat": 4,
 "nbformat_minor": 2,
 "cells": [
  {
   "cell_type": "code",
   "execution_count": 2,
   "source": [
    "import pandas as pd\n",
    "import numpy as np\n",
    "from sklearn.svm import SVC\n",
    "from sklearn.metrics import matthews_corrcoef, plot_confusion_matrix, classification_report\n",
    "from sklearn.model_selection import train_test_split, StratifiedKFold\n",
    "from sklearn.preprocessing import MinMaxScaler\n",
    "import plotly.express as px\n",
    "import matplotlib.pyplot as plt"
   ],
   "outputs": [],
   "metadata": {}
  },
  {
   "cell_type": "code",
   "execution_count": 3,
   "source": [
    "df = pd.read_csv('../data/gpt.csv')\n",
    "print(df.shape)\n",
    "df.head()"
   ],
   "outputs": [
    {
     "output_type": "stream",
     "name": "stdout",
     "text": [
      "(6447, 160)\n"
     ]
    },
    {
     "output_type": "execute_result",
     "data": {
      "text/plain": [
       "   mean_mfcc_1  mean_mfcc_2  mean_mfcc_3  mean_mfcc_4  mean_mfcc_5  \\\n",
       "0   -411.65314    33.170135   -30.911780    38.635730   -24.372381   \n",
       "1   -399.08527    30.436052   -33.198303    44.226353   -19.701908   \n",
       "2   -411.24110    27.454344   -31.142880    41.796850   -21.297293   \n",
       "3   -412.59488    32.472946   -33.717010    32.722760   -27.585297   \n",
       "4   -463.63068    23.407460   -37.412075    23.105309   -25.589716   \n",
       "\n",
       "   mean_mfcc_6  mean_mfcc_7  mean_mfcc_8  mean_mfcc_9  mean_mfcc_10  ...  \\\n",
       "0   -14.701840   -13.416180   -18.674322    -4.827284     -7.523250  ...   \n",
       "1   -14.285540    -7.467613   -15.525382    -9.905143     -7.433832  ...   \n",
       "2   -16.594273   -14.108022   -22.829268    -8.346383     -8.005956  ...   \n",
       "3   -20.834576    -3.360715    -0.139201    18.071037     20.306720  ...   \n",
       "4   -13.467739    17.442879    17.299585    30.478392     20.385946  ...   \n",
       "\n",
       "   kurtosis_delta2_mfcc_8  kurtosis_delta2_mfcc_9  kurtosis_delta2_mfcc_10  \\\n",
       "0                3.033881                7.131977                 2.107958   \n",
       "1                1.327275                1.314436                 5.728040   \n",
       "2                0.774317                2.350504                 2.191023   \n",
       "3                1.814800                0.370574                 0.382478   \n",
       "4               -0.077335                2.848352                 2.663400   \n",
       "\n",
       "   kurtosis_delta2_mfcc_11  kurtosis_delta2_mfcc_12  kurtosis_delta2_mfcc_13  \\\n",
       "0                 1.055066                 6.452170                 4.515785   \n",
       "1                 3.939144                 1.454260                 4.650425   \n",
       "2                 0.286006                 1.011268                 4.786306   \n",
       "3                 8.740768                 2.768397                 8.513342   \n",
       "4                 3.453472                 5.990107                 5.814278   \n",
       "\n",
       "   technique          subtechnique  tone_type  \\\n",
       "0     normal  normal_whole_step_up          5   \n",
       "1     normal  normal_whole_step_up          5   \n",
       "2     normal  normal_whole_step_up          5   \n",
       "3     normal  normal_whole_step_up          5   \n",
       "4     normal  normal_whole_step_up          5   \n",
       "\n",
       "                                           file_path  \n",
       "0  ../data/guitar/wav/5/normal_whole_step_up/norm...  \n",
       "1  ../data/guitar/wav/5/normal_whole_step_up/norm...  \n",
       "2  ../data/guitar/wav/5/normal_whole_step_up/norm...  \n",
       "3  ../data/guitar/wav/5/normal_whole_step_up/norm...  \n",
       "4  ../data/guitar/wav/5/normal_whole_step_up/norm...  \n",
       "\n",
       "[5 rows x 160 columns]"
      ],
      "text/html": [
       "<div>\n",
       "<style scoped>\n",
       "    .dataframe tbody tr th:only-of-type {\n",
       "        vertical-align: middle;\n",
       "    }\n",
       "\n",
       "    .dataframe tbody tr th {\n",
       "        vertical-align: top;\n",
       "    }\n",
       "\n",
       "    .dataframe thead th {\n",
       "        text-align: right;\n",
       "    }\n",
       "</style>\n",
       "<table border=\"1\" class=\"dataframe\">\n",
       "  <thead>\n",
       "    <tr style=\"text-align: right;\">\n",
       "      <th></th>\n",
       "      <th>mean_mfcc_1</th>\n",
       "      <th>mean_mfcc_2</th>\n",
       "      <th>mean_mfcc_3</th>\n",
       "      <th>mean_mfcc_4</th>\n",
       "      <th>mean_mfcc_5</th>\n",
       "      <th>mean_mfcc_6</th>\n",
       "      <th>mean_mfcc_7</th>\n",
       "      <th>mean_mfcc_8</th>\n",
       "      <th>mean_mfcc_9</th>\n",
       "      <th>mean_mfcc_10</th>\n",
       "      <th>...</th>\n",
       "      <th>kurtosis_delta2_mfcc_8</th>\n",
       "      <th>kurtosis_delta2_mfcc_9</th>\n",
       "      <th>kurtosis_delta2_mfcc_10</th>\n",
       "      <th>kurtosis_delta2_mfcc_11</th>\n",
       "      <th>kurtosis_delta2_mfcc_12</th>\n",
       "      <th>kurtosis_delta2_mfcc_13</th>\n",
       "      <th>technique</th>\n",
       "      <th>subtechnique</th>\n",
       "      <th>tone_type</th>\n",
       "      <th>file_path</th>\n",
       "    </tr>\n",
       "  </thead>\n",
       "  <tbody>\n",
       "    <tr>\n",
       "      <th>0</th>\n",
       "      <td>-411.65314</td>\n",
       "      <td>33.170135</td>\n",
       "      <td>-30.911780</td>\n",
       "      <td>38.635730</td>\n",
       "      <td>-24.372381</td>\n",
       "      <td>-14.701840</td>\n",
       "      <td>-13.416180</td>\n",
       "      <td>-18.674322</td>\n",
       "      <td>-4.827284</td>\n",
       "      <td>-7.523250</td>\n",
       "      <td>...</td>\n",
       "      <td>3.033881</td>\n",
       "      <td>7.131977</td>\n",
       "      <td>2.107958</td>\n",
       "      <td>1.055066</td>\n",
       "      <td>6.452170</td>\n",
       "      <td>4.515785</td>\n",
       "      <td>normal</td>\n",
       "      <td>normal_whole_step_up</td>\n",
       "      <td>5</td>\n",
       "      <td>../data/guitar/wav/5/normal_whole_step_up/norm...</td>\n",
       "    </tr>\n",
       "    <tr>\n",
       "      <th>1</th>\n",
       "      <td>-399.08527</td>\n",
       "      <td>30.436052</td>\n",
       "      <td>-33.198303</td>\n",
       "      <td>44.226353</td>\n",
       "      <td>-19.701908</td>\n",
       "      <td>-14.285540</td>\n",
       "      <td>-7.467613</td>\n",
       "      <td>-15.525382</td>\n",
       "      <td>-9.905143</td>\n",
       "      <td>-7.433832</td>\n",
       "      <td>...</td>\n",
       "      <td>1.327275</td>\n",
       "      <td>1.314436</td>\n",
       "      <td>5.728040</td>\n",
       "      <td>3.939144</td>\n",
       "      <td>1.454260</td>\n",
       "      <td>4.650425</td>\n",
       "      <td>normal</td>\n",
       "      <td>normal_whole_step_up</td>\n",
       "      <td>5</td>\n",
       "      <td>../data/guitar/wav/5/normal_whole_step_up/norm...</td>\n",
       "    </tr>\n",
       "    <tr>\n",
       "      <th>2</th>\n",
       "      <td>-411.24110</td>\n",
       "      <td>27.454344</td>\n",
       "      <td>-31.142880</td>\n",
       "      <td>41.796850</td>\n",
       "      <td>-21.297293</td>\n",
       "      <td>-16.594273</td>\n",
       "      <td>-14.108022</td>\n",
       "      <td>-22.829268</td>\n",
       "      <td>-8.346383</td>\n",
       "      <td>-8.005956</td>\n",
       "      <td>...</td>\n",
       "      <td>0.774317</td>\n",
       "      <td>2.350504</td>\n",
       "      <td>2.191023</td>\n",
       "      <td>0.286006</td>\n",
       "      <td>1.011268</td>\n",
       "      <td>4.786306</td>\n",
       "      <td>normal</td>\n",
       "      <td>normal_whole_step_up</td>\n",
       "      <td>5</td>\n",
       "      <td>../data/guitar/wav/5/normal_whole_step_up/norm...</td>\n",
       "    </tr>\n",
       "    <tr>\n",
       "      <th>3</th>\n",
       "      <td>-412.59488</td>\n",
       "      <td>32.472946</td>\n",
       "      <td>-33.717010</td>\n",
       "      <td>32.722760</td>\n",
       "      <td>-27.585297</td>\n",
       "      <td>-20.834576</td>\n",
       "      <td>-3.360715</td>\n",
       "      <td>-0.139201</td>\n",
       "      <td>18.071037</td>\n",
       "      <td>20.306720</td>\n",
       "      <td>...</td>\n",
       "      <td>1.814800</td>\n",
       "      <td>0.370574</td>\n",
       "      <td>0.382478</td>\n",
       "      <td>8.740768</td>\n",
       "      <td>2.768397</td>\n",
       "      <td>8.513342</td>\n",
       "      <td>normal</td>\n",
       "      <td>normal_whole_step_up</td>\n",
       "      <td>5</td>\n",
       "      <td>../data/guitar/wav/5/normal_whole_step_up/norm...</td>\n",
       "    </tr>\n",
       "    <tr>\n",
       "      <th>4</th>\n",
       "      <td>-463.63068</td>\n",
       "      <td>23.407460</td>\n",
       "      <td>-37.412075</td>\n",
       "      <td>23.105309</td>\n",
       "      <td>-25.589716</td>\n",
       "      <td>-13.467739</td>\n",
       "      <td>17.442879</td>\n",
       "      <td>17.299585</td>\n",
       "      <td>30.478392</td>\n",
       "      <td>20.385946</td>\n",
       "      <td>...</td>\n",
       "      <td>-0.077335</td>\n",
       "      <td>2.848352</td>\n",
       "      <td>2.663400</td>\n",
       "      <td>3.453472</td>\n",
       "      <td>5.990107</td>\n",
       "      <td>5.814278</td>\n",
       "      <td>normal</td>\n",
       "      <td>normal_whole_step_up</td>\n",
       "      <td>5</td>\n",
       "      <td>../data/guitar/wav/5/normal_whole_step_up/norm...</td>\n",
       "    </tr>\n",
       "  </tbody>\n",
       "</table>\n",
       "<p>5 rows × 160 columns</p>\n",
       "</div>"
      ]
     },
     "metadata": {},
     "execution_count": 3
    }
   ],
   "metadata": {}
  },
  {
   "cell_type": "code",
   "execution_count": 4,
   "source": [
    "df = pd.read_csv('../data/gpt2.csv')\n",
    "print(df.shape)\n",
    "df.head"
   ],
   "outputs": [
    {
     "output_type": "stream",
     "name": "stdout",
     "text": [
      "(6447, 160)\n"
     ]
    },
    {
     "output_type": "execute_result",
     "data": {
      "text/plain": [
       "      mean_mfcc_1  mean_mfcc_2  mean_mfcc_3  mean_mfcc_4  mean_mfcc_5  \\\n",
       "0      -411.65314    33.170135   -30.911780    38.635730   -24.372381   \n",
       "1      -399.08527    30.436052   -33.198303    44.226353   -19.701908   \n",
       "2      -411.24110    27.454344   -31.142880    41.796850   -21.297293   \n",
       "3      -412.59488    32.472946   -33.717010    32.722760   -27.585297   \n",
       "4      -463.63068    23.407460   -37.412075    23.105309   -25.589716   \n",
       "...           ...          ...          ...          ...          ...   \n",
       "6442   -259.43195   113.581250   -60.711704    38.687447   -16.485188   \n",
       "6443   -267.36304   100.107544   -65.090050    40.042583   -25.081902   \n",
       "6444   -240.61841   106.457780   -73.125080    45.112090   -24.206589   \n",
       "6445   -253.73338   108.137375   -64.209660    45.611935   -20.468567   \n",
       "6446   -260.79172    88.917680   -60.198856    35.718710   -21.798298   \n",
       "\n",
       "      mean_mfcc_6  mean_mfcc_7  mean_mfcc_8  mean_mfcc_9  mean_mfcc_10  ...  \\\n",
       "0      -14.701840   -13.416180   -18.674322    -4.827284     -7.523250  ...   \n",
       "1      -14.285540    -7.467613   -15.525382    -9.905143     -7.433832  ...   \n",
       "2      -16.594273   -14.108022   -22.829268    -8.346383     -8.005956  ...   \n",
       "3      -20.834576    -3.360715    -0.139201    18.071037     20.306720  ...   \n",
       "4      -13.467739    17.442879    17.299585    30.478392     20.385946  ...   \n",
       "...           ...          ...          ...          ...           ...  ...   \n",
       "6442   -16.529064   -18.669495    -9.401738   -13.028473     -6.518498  ...   \n",
       "6443   -13.342467   -21.605759     0.493293     4.827024     13.048793  ...   \n",
       "6444    -5.423219   -21.370804     1.308757    -5.778953     -4.319183  ...   \n",
       "6445    -8.575330   -23.142643    -8.460610   -13.505126     -7.615469  ...   \n",
       "6446   -19.583618   -15.911580     3.916384    14.405855     19.127726  ...   \n",
       "\n",
       "      kurtosis_delta2_mfcc_8  kurtosis_delta2_mfcc_9  kurtosis_delta2_mfcc_10  \\\n",
       "0                   4.320754                6.900723                 1.550282   \n",
       "1                   2.232981                1.091241                 6.138021   \n",
       "2                   0.574031                2.997862                 2.170656   \n",
       "3                   1.622491                0.911100                 0.562873   \n",
       "4                   0.167333                2.717007                 2.518794   \n",
       "...                      ...                     ...                      ...   \n",
       "6442               -0.234040                1.078889                 1.013798   \n",
       "6443               -0.491916               -0.499367                -0.266575   \n",
       "6444                0.549861               -0.318323                -0.145430   \n",
       "6445                1.782875                1.372508                 1.179815   \n",
       "6446                0.554340                0.166013                 2.018312   \n",
       "\n",
       "      kurtosis_delta2_mfcc_11  kurtosis_delta2_mfcc_12  \\\n",
       "0                    1.283120                 6.022099   \n",
       "1                    4.186696                 2.572085   \n",
       "2                    1.166915                 1.340580   \n",
       "3                    8.964993                 2.880903   \n",
       "4                    3.251980                 6.117061   \n",
       "...                       ...                      ...   \n",
       "6442                 0.447506                -0.303494   \n",
       "6443                -0.434209                -0.120999   \n",
       "6444                 1.476785                -0.047101   \n",
       "6445                -0.227901                -0.183635   \n",
       "6446                 0.461096                 0.643940   \n",
       "\n",
       "      kurtosis_delta2_mfcc_13  technique           subtechnique  tone_type  \\\n",
       "0                    4.430148     normal   normal_whole_step_up          5   \n",
       "1                    4.529522     normal   normal_whole_step_up          5   \n",
       "2                    4.846247     normal   normal_whole_step_up          5   \n",
       "3                    8.729866     normal   normal_whole_step_up          5   \n",
       "4                    5.795457     normal   normal_whole_step_up          5   \n",
       "...                       ...        ...                    ...        ...   \n",
       "6442                 0.196200      slide  slide_whole_step_down          4   \n",
       "6443                 1.198053      slide  slide_whole_step_down          4   \n",
       "6444                 0.963316      slide  slide_whole_step_down          4   \n",
       "6445                -0.341773      slide  slide_whole_step_down          4   \n",
       "6446                -0.283722      slide  slide_whole_step_down          4   \n",
       "\n",
       "                                              file_path  \n",
       "0     ../data/guitar/wav/5/normal_whole_step_up/norm...  \n",
       "1     ../data/guitar/wav/5/normal_whole_step_up/norm...  \n",
       "2     ../data/guitar/wav/5/normal_whole_step_up/norm...  \n",
       "3     ../data/guitar/wav/5/normal_whole_step_up/norm...  \n",
       "4     ../data/guitar/wav/5/normal_whole_step_up/norm...  \n",
       "...                                                 ...  \n",
       "6442  ../data/guitar/wav/4/slide_whole_step_down/sli...  \n",
       "6443  ../data/guitar/wav/4/slide_whole_step_down/sli...  \n",
       "6444  ../data/guitar/wav/4/slide_whole_step_down/sli...  \n",
       "6445  ../data/guitar/wav/4/slide_whole_step_down/sli...  \n",
       "6446  ../data/guitar/wav/4/slide_whole_step_down/sli...  \n",
       "\n",
       "[6447 rows x 160 columns]"
      ],
      "text/html": [
       "<div>\n",
       "<style scoped>\n",
       "    .dataframe tbody tr th:only-of-type {\n",
       "        vertical-align: middle;\n",
       "    }\n",
       "\n",
       "    .dataframe tbody tr th {\n",
       "        vertical-align: top;\n",
       "    }\n",
       "\n",
       "    .dataframe thead th {\n",
       "        text-align: right;\n",
       "    }\n",
       "</style>\n",
       "<table border=\"1\" class=\"dataframe\">\n",
       "  <thead>\n",
       "    <tr style=\"text-align: right;\">\n",
       "      <th></th>\n",
       "      <th>mean_mfcc_1</th>\n",
       "      <th>mean_mfcc_2</th>\n",
       "      <th>mean_mfcc_3</th>\n",
       "      <th>mean_mfcc_4</th>\n",
       "      <th>mean_mfcc_5</th>\n",
       "      <th>mean_mfcc_6</th>\n",
       "      <th>mean_mfcc_7</th>\n",
       "      <th>mean_mfcc_8</th>\n",
       "      <th>mean_mfcc_9</th>\n",
       "      <th>mean_mfcc_10</th>\n",
       "      <th>...</th>\n",
       "      <th>kurtosis_delta2_mfcc_8</th>\n",
       "      <th>kurtosis_delta2_mfcc_9</th>\n",
       "      <th>kurtosis_delta2_mfcc_10</th>\n",
       "      <th>kurtosis_delta2_mfcc_11</th>\n",
       "      <th>kurtosis_delta2_mfcc_12</th>\n",
       "      <th>kurtosis_delta2_mfcc_13</th>\n",
       "      <th>technique</th>\n",
       "      <th>subtechnique</th>\n",
       "      <th>tone_type</th>\n",
       "      <th>file_path</th>\n",
       "    </tr>\n",
       "  </thead>\n",
       "  <tbody>\n",
       "    <tr>\n",
       "      <th>0</th>\n",
       "      <td>-411.65314</td>\n",
       "      <td>33.170135</td>\n",
       "      <td>-30.911780</td>\n",
       "      <td>38.635730</td>\n",
       "      <td>-24.372381</td>\n",
       "      <td>-14.701840</td>\n",
       "      <td>-13.416180</td>\n",
       "      <td>-18.674322</td>\n",
       "      <td>-4.827284</td>\n",
       "      <td>-7.523250</td>\n",
       "      <td>...</td>\n",
       "      <td>4.320754</td>\n",
       "      <td>6.900723</td>\n",
       "      <td>1.550282</td>\n",
       "      <td>1.283120</td>\n",
       "      <td>6.022099</td>\n",
       "      <td>4.430148</td>\n",
       "      <td>normal</td>\n",
       "      <td>normal_whole_step_up</td>\n",
       "      <td>5</td>\n",
       "      <td>../data/guitar/wav/5/normal_whole_step_up/norm...</td>\n",
       "    </tr>\n",
       "    <tr>\n",
       "      <th>1</th>\n",
       "      <td>-399.08527</td>\n",
       "      <td>30.436052</td>\n",
       "      <td>-33.198303</td>\n",
       "      <td>44.226353</td>\n",
       "      <td>-19.701908</td>\n",
       "      <td>-14.285540</td>\n",
       "      <td>-7.467613</td>\n",
       "      <td>-15.525382</td>\n",
       "      <td>-9.905143</td>\n",
       "      <td>-7.433832</td>\n",
       "      <td>...</td>\n",
       "      <td>2.232981</td>\n",
       "      <td>1.091241</td>\n",
       "      <td>6.138021</td>\n",
       "      <td>4.186696</td>\n",
       "      <td>2.572085</td>\n",
       "      <td>4.529522</td>\n",
       "      <td>normal</td>\n",
       "      <td>normal_whole_step_up</td>\n",
       "      <td>5</td>\n",
       "      <td>../data/guitar/wav/5/normal_whole_step_up/norm...</td>\n",
       "    </tr>\n",
       "    <tr>\n",
       "      <th>2</th>\n",
       "      <td>-411.24110</td>\n",
       "      <td>27.454344</td>\n",
       "      <td>-31.142880</td>\n",
       "      <td>41.796850</td>\n",
       "      <td>-21.297293</td>\n",
       "      <td>-16.594273</td>\n",
       "      <td>-14.108022</td>\n",
       "      <td>-22.829268</td>\n",
       "      <td>-8.346383</td>\n",
       "      <td>-8.005956</td>\n",
       "      <td>...</td>\n",
       "      <td>0.574031</td>\n",
       "      <td>2.997862</td>\n",
       "      <td>2.170656</td>\n",
       "      <td>1.166915</td>\n",
       "      <td>1.340580</td>\n",
       "      <td>4.846247</td>\n",
       "      <td>normal</td>\n",
       "      <td>normal_whole_step_up</td>\n",
       "      <td>5</td>\n",
       "      <td>../data/guitar/wav/5/normal_whole_step_up/norm...</td>\n",
       "    </tr>\n",
       "    <tr>\n",
       "      <th>3</th>\n",
       "      <td>-412.59488</td>\n",
       "      <td>32.472946</td>\n",
       "      <td>-33.717010</td>\n",
       "      <td>32.722760</td>\n",
       "      <td>-27.585297</td>\n",
       "      <td>-20.834576</td>\n",
       "      <td>-3.360715</td>\n",
       "      <td>-0.139201</td>\n",
       "      <td>18.071037</td>\n",
       "      <td>20.306720</td>\n",
       "      <td>...</td>\n",
       "      <td>1.622491</td>\n",
       "      <td>0.911100</td>\n",
       "      <td>0.562873</td>\n",
       "      <td>8.964993</td>\n",
       "      <td>2.880903</td>\n",
       "      <td>8.729866</td>\n",
       "      <td>normal</td>\n",
       "      <td>normal_whole_step_up</td>\n",
       "      <td>5</td>\n",
       "      <td>../data/guitar/wav/5/normal_whole_step_up/norm...</td>\n",
       "    </tr>\n",
       "    <tr>\n",
       "      <th>4</th>\n",
       "      <td>-463.63068</td>\n",
       "      <td>23.407460</td>\n",
       "      <td>-37.412075</td>\n",
       "      <td>23.105309</td>\n",
       "      <td>-25.589716</td>\n",
       "      <td>-13.467739</td>\n",
       "      <td>17.442879</td>\n",
       "      <td>17.299585</td>\n",
       "      <td>30.478392</td>\n",
       "      <td>20.385946</td>\n",
       "      <td>...</td>\n",
       "      <td>0.167333</td>\n",
       "      <td>2.717007</td>\n",
       "      <td>2.518794</td>\n",
       "      <td>3.251980</td>\n",
       "      <td>6.117061</td>\n",
       "      <td>5.795457</td>\n",
       "      <td>normal</td>\n",
       "      <td>normal_whole_step_up</td>\n",
       "      <td>5</td>\n",
       "      <td>../data/guitar/wav/5/normal_whole_step_up/norm...</td>\n",
       "    </tr>\n",
       "    <tr>\n",
       "      <th>...</th>\n",
       "      <td>...</td>\n",
       "      <td>...</td>\n",
       "      <td>...</td>\n",
       "      <td>...</td>\n",
       "      <td>...</td>\n",
       "      <td>...</td>\n",
       "      <td>...</td>\n",
       "      <td>...</td>\n",
       "      <td>...</td>\n",
       "      <td>...</td>\n",
       "      <td>...</td>\n",
       "      <td>...</td>\n",
       "      <td>...</td>\n",
       "      <td>...</td>\n",
       "      <td>...</td>\n",
       "      <td>...</td>\n",
       "      <td>...</td>\n",
       "      <td>...</td>\n",
       "      <td>...</td>\n",
       "      <td>...</td>\n",
       "      <td>...</td>\n",
       "    </tr>\n",
       "    <tr>\n",
       "      <th>6442</th>\n",
       "      <td>-259.43195</td>\n",
       "      <td>113.581250</td>\n",
       "      <td>-60.711704</td>\n",
       "      <td>38.687447</td>\n",
       "      <td>-16.485188</td>\n",
       "      <td>-16.529064</td>\n",
       "      <td>-18.669495</td>\n",
       "      <td>-9.401738</td>\n",
       "      <td>-13.028473</td>\n",
       "      <td>-6.518498</td>\n",
       "      <td>...</td>\n",
       "      <td>-0.234040</td>\n",
       "      <td>1.078889</td>\n",
       "      <td>1.013798</td>\n",
       "      <td>0.447506</td>\n",
       "      <td>-0.303494</td>\n",
       "      <td>0.196200</td>\n",
       "      <td>slide</td>\n",
       "      <td>slide_whole_step_down</td>\n",
       "      <td>4</td>\n",
       "      <td>../data/guitar/wav/4/slide_whole_step_down/sli...</td>\n",
       "    </tr>\n",
       "    <tr>\n",
       "      <th>6443</th>\n",
       "      <td>-267.36304</td>\n",
       "      <td>100.107544</td>\n",
       "      <td>-65.090050</td>\n",
       "      <td>40.042583</td>\n",
       "      <td>-25.081902</td>\n",
       "      <td>-13.342467</td>\n",
       "      <td>-21.605759</td>\n",
       "      <td>0.493293</td>\n",
       "      <td>4.827024</td>\n",
       "      <td>13.048793</td>\n",
       "      <td>...</td>\n",
       "      <td>-0.491916</td>\n",
       "      <td>-0.499367</td>\n",
       "      <td>-0.266575</td>\n",
       "      <td>-0.434209</td>\n",
       "      <td>-0.120999</td>\n",
       "      <td>1.198053</td>\n",
       "      <td>slide</td>\n",
       "      <td>slide_whole_step_down</td>\n",
       "      <td>4</td>\n",
       "      <td>../data/guitar/wav/4/slide_whole_step_down/sli...</td>\n",
       "    </tr>\n",
       "    <tr>\n",
       "      <th>6444</th>\n",
       "      <td>-240.61841</td>\n",
       "      <td>106.457780</td>\n",
       "      <td>-73.125080</td>\n",
       "      <td>45.112090</td>\n",
       "      <td>-24.206589</td>\n",
       "      <td>-5.423219</td>\n",
       "      <td>-21.370804</td>\n",
       "      <td>1.308757</td>\n",
       "      <td>-5.778953</td>\n",
       "      <td>-4.319183</td>\n",
       "      <td>...</td>\n",
       "      <td>0.549861</td>\n",
       "      <td>-0.318323</td>\n",
       "      <td>-0.145430</td>\n",
       "      <td>1.476785</td>\n",
       "      <td>-0.047101</td>\n",
       "      <td>0.963316</td>\n",
       "      <td>slide</td>\n",
       "      <td>slide_whole_step_down</td>\n",
       "      <td>4</td>\n",
       "      <td>../data/guitar/wav/4/slide_whole_step_down/sli...</td>\n",
       "    </tr>\n",
       "    <tr>\n",
       "      <th>6445</th>\n",
       "      <td>-253.73338</td>\n",
       "      <td>108.137375</td>\n",
       "      <td>-64.209660</td>\n",
       "      <td>45.611935</td>\n",
       "      <td>-20.468567</td>\n",
       "      <td>-8.575330</td>\n",
       "      <td>-23.142643</td>\n",
       "      <td>-8.460610</td>\n",
       "      <td>-13.505126</td>\n",
       "      <td>-7.615469</td>\n",
       "      <td>...</td>\n",
       "      <td>1.782875</td>\n",
       "      <td>1.372508</td>\n",
       "      <td>1.179815</td>\n",
       "      <td>-0.227901</td>\n",
       "      <td>-0.183635</td>\n",
       "      <td>-0.341773</td>\n",
       "      <td>slide</td>\n",
       "      <td>slide_whole_step_down</td>\n",
       "      <td>4</td>\n",
       "      <td>../data/guitar/wav/4/slide_whole_step_down/sli...</td>\n",
       "    </tr>\n",
       "    <tr>\n",
       "      <th>6446</th>\n",
       "      <td>-260.79172</td>\n",
       "      <td>88.917680</td>\n",
       "      <td>-60.198856</td>\n",
       "      <td>35.718710</td>\n",
       "      <td>-21.798298</td>\n",
       "      <td>-19.583618</td>\n",
       "      <td>-15.911580</td>\n",
       "      <td>3.916384</td>\n",
       "      <td>14.405855</td>\n",
       "      <td>19.127726</td>\n",
       "      <td>...</td>\n",
       "      <td>0.554340</td>\n",
       "      <td>0.166013</td>\n",
       "      <td>2.018312</td>\n",
       "      <td>0.461096</td>\n",
       "      <td>0.643940</td>\n",
       "      <td>-0.283722</td>\n",
       "      <td>slide</td>\n",
       "      <td>slide_whole_step_down</td>\n",
       "      <td>4</td>\n",
       "      <td>../data/guitar/wav/4/slide_whole_step_down/sli...</td>\n",
       "    </tr>\n",
       "  </tbody>\n",
       "</table>\n",
       "<p>6447 rows × 160 columns</p>\n",
       "</div>"
      ]
     },
     "metadata": {},
     "execution_count": 4
    }
   ],
   "metadata": {}
  },
  {
   "cell_type": "code",
   "execution_count": 12,
   "source": [
    "dropped = [x for x in list(df.columns) if x[-2:] == '_1']\n",
    "\n",
    "data = df.drop(columns=dropped)\n",
    "data"
   ],
   "outputs": [
    {
     "output_type": "execute_result",
     "data": {
      "text/plain": [
       "      mean_mfcc_2  mean_mfcc_3  mean_mfcc_4  mean_mfcc_5  mean_mfcc_6  \\\n",
       "0       33.170135   -30.911780    38.635730   -24.372381   -14.701840   \n",
       "1       30.436052   -33.198303    44.226353   -19.701908   -14.285540   \n",
       "2       27.454344   -31.142880    41.796850   -21.297293   -16.594273   \n",
       "3       32.472946   -33.717010    32.722760   -27.585297   -20.834576   \n",
       "4       23.407460   -37.412075    23.105309   -25.589716   -13.467739   \n",
       "...           ...          ...          ...          ...          ...   \n",
       "6442   113.581250   -60.711704    38.687447   -16.485188   -16.529064   \n",
       "6443   100.107544   -65.090050    40.042583   -25.081902   -13.342467   \n",
       "6444   106.457780   -73.125080    45.112090   -24.206589    -5.423219   \n",
       "6445   108.137375   -64.209660    45.611935   -20.468567    -8.575330   \n",
       "6446    88.917680   -60.198856    35.718710   -21.798298   -19.583618   \n",
       "\n",
       "      mean_mfcc_7  mean_mfcc_8  mean_mfcc_9  mean_mfcc_10  mean_mfcc_11  ...  \\\n",
       "0      -13.416180   -18.674322    -4.827284     -7.523250      3.586741  ...   \n",
       "1       -7.467613   -15.525382    -9.905143     -7.433832     -7.796216  ...   \n",
       "2      -14.108022   -22.829268    -8.346383     -8.005956    -10.035259  ...   \n",
       "3       -3.360715    -0.139201    18.071037     20.306720     20.008034  ...   \n",
       "4       17.442879    17.299585    30.478392     20.385946    -18.861895  ...   \n",
       "...           ...          ...          ...           ...           ...  ...   \n",
       "6442   -18.669495    -9.401738   -13.028473     -6.518498     -0.096909  ...   \n",
       "6443   -21.605759     0.493293     4.827024     13.048793     21.302406  ...   \n",
       "6444   -21.370804     1.308757    -5.778953     -4.319183     -5.156901  ...   \n",
       "6445   -23.142643    -8.460610   -13.505126     -7.615469      0.454342  ...   \n",
       "6446   -15.911580     3.916384    14.405855     19.127726     25.894978  ...   \n",
       "\n",
       "      kurtosis_delta2_mfcc_8  kurtosis_delta2_mfcc_9  kurtosis_delta2_mfcc_10  \\\n",
       "0                   4.320754                6.900723                 1.550282   \n",
       "1                   2.232981                1.091241                 6.138021   \n",
       "2                   0.574031                2.997862                 2.170656   \n",
       "3                   1.622491                0.911100                 0.562873   \n",
       "4                   0.167333                2.717007                 2.518794   \n",
       "...                      ...                     ...                      ...   \n",
       "6442               -0.234040                1.078889                 1.013798   \n",
       "6443               -0.491916               -0.499367                -0.266575   \n",
       "6444                0.549861               -0.318323                -0.145430   \n",
       "6445                1.782875                1.372508                 1.179815   \n",
       "6446                0.554340                0.166013                 2.018312   \n",
       "\n",
       "      kurtosis_delta2_mfcc_11  kurtosis_delta2_mfcc_12  \\\n",
       "0                    1.283120                 6.022099   \n",
       "1                    4.186696                 2.572085   \n",
       "2                    1.166915                 1.340580   \n",
       "3                    8.964993                 2.880903   \n",
       "4                    3.251980                 6.117061   \n",
       "...                       ...                      ...   \n",
       "6442                 0.447506                -0.303494   \n",
       "6443                -0.434209                -0.120999   \n",
       "6444                 1.476785                -0.047101   \n",
       "6445                -0.227901                -0.183635   \n",
       "6446                 0.461096                 0.643940   \n",
       "\n",
       "      kurtosis_delta2_mfcc_13  technique           subtechnique  tone_type  \\\n",
       "0                    4.430148     normal   normal_whole_step_up          5   \n",
       "1                    4.529522     normal   normal_whole_step_up          5   \n",
       "2                    4.846247     normal   normal_whole_step_up          5   \n",
       "3                    8.729866     normal   normal_whole_step_up          5   \n",
       "4                    5.795457     normal   normal_whole_step_up          5   \n",
       "...                       ...        ...                    ...        ...   \n",
       "6442                 0.196200      slide  slide_whole_step_down          4   \n",
       "6443                 1.198053      slide  slide_whole_step_down          4   \n",
       "6444                 0.963316      slide  slide_whole_step_down          4   \n",
       "6445                -0.341773      slide  slide_whole_step_down          4   \n",
       "6446                -0.283722      slide  slide_whole_step_down          4   \n",
       "\n",
       "                                              file_path  \n",
       "0     ../data/guitar/wav/5/normal_whole_step_up/norm...  \n",
       "1     ../data/guitar/wav/5/normal_whole_step_up/norm...  \n",
       "2     ../data/guitar/wav/5/normal_whole_step_up/norm...  \n",
       "3     ../data/guitar/wav/5/normal_whole_step_up/norm...  \n",
       "4     ../data/guitar/wav/5/normal_whole_step_up/norm...  \n",
       "...                                                 ...  \n",
       "6442  ../data/guitar/wav/4/slide_whole_step_down/sli...  \n",
       "6443  ../data/guitar/wav/4/slide_whole_step_down/sli...  \n",
       "6444  ../data/guitar/wav/4/slide_whole_step_down/sli...  \n",
       "6445  ../data/guitar/wav/4/slide_whole_step_down/sli...  \n",
       "6446  ../data/guitar/wav/4/slide_whole_step_down/sli...  \n",
       "\n",
       "[6447 rows x 148 columns]"
      ],
      "text/html": [
       "<div>\n",
       "<style scoped>\n",
       "    .dataframe tbody tr th:only-of-type {\n",
       "        vertical-align: middle;\n",
       "    }\n",
       "\n",
       "    .dataframe tbody tr th {\n",
       "        vertical-align: top;\n",
       "    }\n",
       "\n",
       "    .dataframe thead th {\n",
       "        text-align: right;\n",
       "    }\n",
       "</style>\n",
       "<table border=\"1\" class=\"dataframe\">\n",
       "  <thead>\n",
       "    <tr style=\"text-align: right;\">\n",
       "      <th></th>\n",
       "      <th>mean_mfcc_2</th>\n",
       "      <th>mean_mfcc_3</th>\n",
       "      <th>mean_mfcc_4</th>\n",
       "      <th>mean_mfcc_5</th>\n",
       "      <th>mean_mfcc_6</th>\n",
       "      <th>mean_mfcc_7</th>\n",
       "      <th>mean_mfcc_8</th>\n",
       "      <th>mean_mfcc_9</th>\n",
       "      <th>mean_mfcc_10</th>\n",
       "      <th>mean_mfcc_11</th>\n",
       "      <th>...</th>\n",
       "      <th>kurtosis_delta2_mfcc_8</th>\n",
       "      <th>kurtosis_delta2_mfcc_9</th>\n",
       "      <th>kurtosis_delta2_mfcc_10</th>\n",
       "      <th>kurtosis_delta2_mfcc_11</th>\n",
       "      <th>kurtosis_delta2_mfcc_12</th>\n",
       "      <th>kurtosis_delta2_mfcc_13</th>\n",
       "      <th>technique</th>\n",
       "      <th>subtechnique</th>\n",
       "      <th>tone_type</th>\n",
       "      <th>file_path</th>\n",
       "    </tr>\n",
       "  </thead>\n",
       "  <tbody>\n",
       "    <tr>\n",
       "      <th>0</th>\n",
       "      <td>33.170135</td>\n",
       "      <td>-30.911780</td>\n",
       "      <td>38.635730</td>\n",
       "      <td>-24.372381</td>\n",
       "      <td>-14.701840</td>\n",
       "      <td>-13.416180</td>\n",
       "      <td>-18.674322</td>\n",
       "      <td>-4.827284</td>\n",
       "      <td>-7.523250</td>\n",
       "      <td>3.586741</td>\n",
       "      <td>...</td>\n",
       "      <td>4.320754</td>\n",
       "      <td>6.900723</td>\n",
       "      <td>1.550282</td>\n",
       "      <td>1.283120</td>\n",
       "      <td>6.022099</td>\n",
       "      <td>4.430148</td>\n",
       "      <td>normal</td>\n",
       "      <td>normal_whole_step_up</td>\n",
       "      <td>5</td>\n",
       "      <td>../data/guitar/wav/5/normal_whole_step_up/norm...</td>\n",
       "    </tr>\n",
       "    <tr>\n",
       "      <th>1</th>\n",
       "      <td>30.436052</td>\n",
       "      <td>-33.198303</td>\n",
       "      <td>44.226353</td>\n",
       "      <td>-19.701908</td>\n",
       "      <td>-14.285540</td>\n",
       "      <td>-7.467613</td>\n",
       "      <td>-15.525382</td>\n",
       "      <td>-9.905143</td>\n",
       "      <td>-7.433832</td>\n",
       "      <td>-7.796216</td>\n",
       "      <td>...</td>\n",
       "      <td>2.232981</td>\n",
       "      <td>1.091241</td>\n",
       "      <td>6.138021</td>\n",
       "      <td>4.186696</td>\n",
       "      <td>2.572085</td>\n",
       "      <td>4.529522</td>\n",
       "      <td>normal</td>\n",
       "      <td>normal_whole_step_up</td>\n",
       "      <td>5</td>\n",
       "      <td>../data/guitar/wav/5/normal_whole_step_up/norm...</td>\n",
       "    </tr>\n",
       "    <tr>\n",
       "      <th>2</th>\n",
       "      <td>27.454344</td>\n",
       "      <td>-31.142880</td>\n",
       "      <td>41.796850</td>\n",
       "      <td>-21.297293</td>\n",
       "      <td>-16.594273</td>\n",
       "      <td>-14.108022</td>\n",
       "      <td>-22.829268</td>\n",
       "      <td>-8.346383</td>\n",
       "      <td>-8.005956</td>\n",
       "      <td>-10.035259</td>\n",
       "      <td>...</td>\n",
       "      <td>0.574031</td>\n",
       "      <td>2.997862</td>\n",
       "      <td>2.170656</td>\n",
       "      <td>1.166915</td>\n",
       "      <td>1.340580</td>\n",
       "      <td>4.846247</td>\n",
       "      <td>normal</td>\n",
       "      <td>normal_whole_step_up</td>\n",
       "      <td>5</td>\n",
       "      <td>../data/guitar/wav/5/normal_whole_step_up/norm...</td>\n",
       "    </tr>\n",
       "    <tr>\n",
       "      <th>3</th>\n",
       "      <td>32.472946</td>\n",
       "      <td>-33.717010</td>\n",
       "      <td>32.722760</td>\n",
       "      <td>-27.585297</td>\n",
       "      <td>-20.834576</td>\n",
       "      <td>-3.360715</td>\n",
       "      <td>-0.139201</td>\n",
       "      <td>18.071037</td>\n",
       "      <td>20.306720</td>\n",
       "      <td>20.008034</td>\n",
       "      <td>...</td>\n",
       "      <td>1.622491</td>\n",
       "      <td>0.911100</td>\n",
       "      <td>0.562873</td>\n",
       "      <td>8.964993</td>\n",
       "      <td>2.880903</td>\n",
       "      <td>8.729866</td>\n",
       "      <td>normal</td>\n",
       "      <td>normal_whole_step_up</td>\n",
       "      <td>5</td>\n",
       "      <td>../data/guitar/wav/5/normal_whole_step_up/norm...</td>\n",
       "    </tr>\n",
       "    <tr>\n",
       "      <th>4</th>\n",
       "      <td>23.407460</td>\n",
       "      <td>-37.412075</td>\n",
       "      <td>23.105309</td>\n",
       "      <td>-25.589716</td>\n",
       "      <td>-13.467739</td>\n",
       "      <td>17.442879</td>\n",
       "      <td>17.299585</td>\n",
       "      <td>30.478392</td>\n",
       "      <td>20.385946</td>\n",
       "      <td>-18.861895</td>\n",
       "      <td>...</td>\n",
       "      <td>0.167333</td>\n",
       "      <td>2.717007</td>\n",
       "      <td>2.518794</td>\n",
       "      <td>3.251980</td>\n",
       "      <td>6.117061</td>\n",
       "      <td>5.795457</td>\n",
       "      <td>normal</td>\n",
       "      <td>normal_whole_step_up</td>\n",
       "      <td>5</td>\n",
       "      <td>../data/guitar/wav/5/normal_whole_step_up/norm...</td>\n",
       "    </tr>\n",
       "    <tr>\n",
       "      <th>...</th>\n",
       "      <td>...</td>\n",
       "      <td>...</td>\n",
       "      <td>...</td>\n",
       "      <td>...</td>\n",
       "      <td>...</td>\n",
       "      <td>...</td>\n",
       "      <td>...</td>\n",
       "      <td>...</td>\n",
       "      <td>...</td>\n",
       "      <td>...</td>\n",
       "      <td>...</td>\n",
       "      <td>...</td>\n",
       "      <td>...</td>\n",
       "      <td>...</td>\n",
       "      <td>...</td>\n",
       "      <td>...</td>\n",
       "      <td>...</td>\n",
       "      <td>...</td>\n",
       "      <td>...</td>\n",
       "      <td>...</td>\n",
       "      <td>...</td>\n",
       "    </tr>\n",
       "    <tr>\n",
       "      <th>6442</th>\n",
       "      <td>113.581250</td>\n",
       "      <td>-60.711704</td>\n",
       "      <td>38.687447</td>\n",
       "      <td>-16.485188</td>\n",
       "      <td>-16.529064</td>\n",
       "      <td>-18.669495</td>\n",
       "      <td>-9.401738</td>\n",
       "      <td>-13.028473</td>\n",
       "      <td>-6.518498</td>\n",
       "      <td>-0.096909</td>\n",
       "      <td>...</td>\n",
       "      <td>-0.234040</td>\n",
       "      <td>1.078889</td>\n",
       "      <td>1.013798</td>\n",
       "      <td>0.447506</td>\n",
       "      <td>-0.303494</td>\n",
       "      <td>0.196200</td>\n",
       "      <td>slide</td>\n",
       "      <td>slide_whole_step_down</td>\n",
       "      <td>4</td>\n",
       "      <td>../data/guitar/wav/4/slide_whole_step_down/sli...</td>\n",
       "    </tr>\n",
       "    <tr>\n",
       "      <th>6443</th>\n",
       "      <td>100.107544</td>\n",
       "      <td>-65.090050</td>\n",
       "      <td>40.042583</td>\n",
       "      <td>-25.081902</td>\n",
       "      <td>-13.342467</td>\n",
       "      <td>-21.605759</td>\n",
       "      <td>0.493293</td>\n",
       "      <td>4.827024</td>\n",
       "      <td>13.048793</td>\n",
       "      <td>21.302406</td>\n",
       "      <td>...</td>\n",
       "      <td>-0.491916</td>\n",
       "      <td>-0.499367</td>\n",
       "      <td>-0.266575</td>\n",
       "      <td>-0.434209</td>\n",
       "      <td>-0.120999</td>\n",
       "      <td>1.198053</td>\n",
       "      <td>slide</td>\n",
       "      <td>slide_whole_step_down</td>\n",
       "      <td>4</td>\n",
       "      <td>../data/guitar/wav/4/slide_whole_step_down/sli...</td>\n",
       "    </tr>\n",
       "    <tr>\n",
       "      <th>6444</th>\n",
       "      <td>106.457780</td>\n",
       "      <td>-73.125080</td>\n",
       "      <td>45.112090</td>\n",
       "      <td>-24.206589</td>\n",
       "      <td>-5.423219</td>\n",
       "      <td>-21.370804</td>\n",
       "      <td>1.308757</td>\n",
       "      <td>-5.778953</td>\n",
       "      <td>-4.319183</td>\n",
       "      <td>-5.156901</td>\n",
       "      <td>...</td>\n",
       "      <td>0.549861</td>\n",
       "      <td>-0.318323</td>\n",
       "      <td>-0.145430</td>\n",
       "      <td>1.476785</td>\n",
       "      <td>-0.047101</td>\n",
       "      <td>0.963316</td>\n",
       "      <td>slide</td>\n",
       "      <td>slide_whole_step_down</td>\n",
       "      <td>4</td>\n",
       "      <td>../data/guitar/wav/4/slide_whole_step_down/sli...</td>\n",
       "    </tr>\n",
       "    <tr>\n",
       "      <th>6445</th>\n",
       "      <td>108.137375</td>\n",
       "      <td>-64.209660</td>\n",
       "      <td>45.611935</td>\n",
       "      <td>-20.468567</td>\n",
       "      <td>-8.575330</td>\n",
       "      <td>-23.142643</td>\n",
       "      <td>-8.460610</td>\n",
       "      <td>-13.505126</td>\n",
       "      <td>-7.615469</td>\n",
       "      <td>0.454342</td>\n",
       "      <td>...</td>\n",
       "      <td>1.782875</td>\n",
       "      <td>1.372508</td>\n",
       "      <td>1.179815</td>\n",
       "      <td>-0.227901</td>\n",
       "      <td>-0.183635</td>\n",
       "      <td>-0.341773</td>\n",
       "      <td>slide</td>\n",
       "      <td>slide_whole_step_down</td>\n",
       "      <td>4</td>\n",
       "      <td>../data/guitar/wav/4/slide_whole_step_down/sli...</td>\n",
       "    </tr>\n",
       "    <tr>\n",
       "      <th>6446</th>\n",
       "      <td>88.917680</td>\n",
       "      <td>-60.198856</td>\n",
       "      <td>35.718710</td>\n",
       "      <td>-21.798298</td>\n",
       "      <td>-19.583618</td>\n",
       "      <td>-15.911580</td>\n",
       "      <td>3.916384</td>\n",
       "      <td>14.405855</td>\n",
       "      <td>19.127726</td>\n",
       "      <td>25.894978</td>\n",
       "      <td>...</td>\n",
       "      <td>0.554340</td>\n",
       "      <td>0.166013</td>\n",
       "      <td>2.018312</td>\n",
       "      <td>0.461096</td>\n",
       "      <td>0.643940</td>\n",
       "      <td>-0.283722</td>\n",
       "      <td>slide</td>\n",
       "      <td>slide_whole_step_down</td>\n",
       "      <td>4</td>\n",
       "      <td>../data/guitar/wav/4/slide_whole_step_down/sli...</td>\n",
       "    </tr>\n",
       "  </tbody>\n",
       "</table>\n",
       "<p>6447 rows × 148 columns</p>\n",
       "</div>"
      ]
     },
     "metadata": {},
     "execution_count": 12
    }
   ],
   "metadata": {}
  },
  {
   "cell_type": "code",
   "execution_count": 13,
   "source": [
    "data.to_csv('../data/gpt3.csv', index=False)"
   ],
   "outputs": [],
   "metadata": {}
  },
  {
   "cell_type": "code",
   "execution_count": 4,
   "source": [
    "technique = pd.value_counts(df['technique']).reset_index()\n",
    "technique.columns = ['Teknik Bermain Gitar', 'Jumlah']\n",
    "px.bar(technique, x='Teknik Bermain Gitar', y='Jumlah', width=400, height=300)"
   ],
   "outputs": [
    {
     "output_type": "display_data",
     "data": {
      "application/vnd.plotly.v1+json": {
       "config": {
        "plotlyServerURL": "https://plot.ly"
       },
       "data": [
        {
         "alignmentgroup": "True",
         "hovertemplate": "Teknik Bermain Gitar=%{x}<br>Jumlah=%{y}<extra></extra>",
         "legendgroup": "",
         "marker": {
          "color": "#636efa"
         },
         "name": "",
         "offsetgroup": "",
         "orientation": "v",
         "showlegend": false,
         "textposition": "auto",
         "type": "bar",
         "x": [
          "normal",
          "bending",
          "slide",
          "trill",
          "hamming",
          "pulling",
          "mute"
         ],
         "xaxis": "x",
         "y": [
          1974,
          1253,
          1134,
          630,
          567,
          511,
          378
         ],
         "yaxis": "y"
        }
       ],
       "layout": {
        "barmode": "relative",
        "height": 300,
        "legend": {
         "tracegroupgap": 0
        },
        "margin": {
         "t": 60
        },
        "template": {
         "data": {
          "bar": [
           {
            "error_x": {
             "color": "#2a3f5f"
            },
            "error_y": {
             "color": "#2a3f5f"
            },
            "marker": {
             "line": {
              "color": "#E5ECF6",
              "width": 0.5
             }
            },
            "type": "bar"
           }
          ],
          "barpolar": [
           {
            "marker": {
             "line": {
              "color": "#E5ECF6",
              "width": 0.5
             }
            },
            "type": "barpolar"
           }
          ],
          "carpet": [
           {
            "aaxis": {
             "endlinecolor": "#2a3f5f",
             "gridcolor": "white",
             "linecolor": "white",
             "minorgridcolor": "white",
             "startlinecolor": "#2a3f5f"
            },
            "baxis": {
             "endlinecolor": "#2a3f5f",
             "gridcolor": "white",
             "linecolor": "white",
             "minorgridcolor": "white",
             "startlinecolor": "#2a3f5f"
            },
            "type": "carpet"
           }
          ],
          "choropleth": [
           {
            "colorbar": {
             "outlinewidth": 0,
             "ticks": ""
            },
            "type": "choropleth"
           }
          ],
          "contour": [
           {
            "colorbar": {
             "outlinewidth": 0,
             "ticks": ""
            },
            "colorscale": [
             [
              0,
              "#0d0887"
             ],
             [
              0.1111111111111111,
              "#46039f"
             ],
             [
              0.2222222222222222,
              "#7201a8"
             ],
             [
              0.3333333333333333,
              "#9c179e"
             ],
             [
              0.4444444444444444,
              "#bd3786"
             ],
             [
              0.5555555555555556,
              "#d8576b"
             ],
             [
              0.6666666666666666,
              "#ed7953"
             ],
             [
              0.7777777777777778,
              "#fb9f3a"
             ],
             [
              0.8888888888888888,
              "#fdca26"
             ],
             [
              1,
              "#f0f921"
             ]
            ],
            "type": "contour"
           }
          ],
          "contourcarpet": [
           {
            "colorbar": {
             "outlinewidth": 0,
             "ticks": ""
            },
            "type": "contourcarpet"
           }
          ],
          "heatmap": [
           {
            "colorbar": {
             "outlinewidth": 0,
             "ticks": ""
            },
            "colorscale": [
             [
              0,
              "#0d0887"
             ],
             [
              0.1111111111111111,
              "#46039f"
             ],
             [
              0.2222222222222222,
              "#7201a8"
             ],
             [
              0.3333333333333333,
              "#9c179e"
             ],
             [
              0.4444444444444444,
              "#bd3786"
             ],
             [
              0.5555555555555556,
              "#d8576b"
             ],
             [
              0.6666666666666666,
              "#ed7953"
             ],
             [
              0.7777777777777778,
              "#fb9f3a"
             ],
             [
              0.8888888888888888,
              "#fdca26"
             ],
             [
              1,
              "#f0f921"
             ]
            ],
            "type": "heatmap"
           }
          ],
          "heatmapgl": [
           {
            "colorbar": {
             "outlinewidth": 0,
             "ticks": ""
            },
            "colorscale": [
             [
              0,
              "#0d0887"
             ],
             [
              0.1111111111111111,
              "#46039f"
             ],
             [
              0.2222222222222222,
              "#7201a8"
             ],
             [
              0.3333333333333333,
              "#9c179e"
             ],
             [
              0.4444444444444444,
              "#bd3786"
             ],
             [
              0.5555555555555556,
              "#d8576b"
             ],
             [
              0.6666666666666666,
              "#ed7953"
             ],
             [
              0.7777777777777778,
              "#fb9f3a"
             ],
             [
              0.8888888888888888,
              "#fdca26"
             ],
             [
              1,
              "#f0f921"
             ]
            ],
            "type": "heatmapgl"
           }
          ],
          "histogram": [
           {
            "marker": {
             "colorbar": {
              "outlinewidth": 0,
              "ticks": ""
             }
            },
            "type": "histogram"
           }
          ],
          "histogram2d": [
           {
            "colorbar": {
             "outlinewidth": 0,
             "ticks": ""
            },
            "colorscale": [
             [
              0,
              "#0d0887"
             ],
             [
              0.1111111111111111,
              "#46039f"
             ],
             [
              0.2222222222222222,
              "#7201a8"
             ],
             [
              0.3333333333333333,
              "#9c179e"
             ],
             [
              0.4444444444444444,
              "#bd3786"
             ],
             [
              0.5555555555555556,
              "#d8576b"
             ],
             [
              0.6666666666666666,
              "#ed7953"
             ],
             [
              0.7777777777777778,
              "#fb9f3a"
             ],
             [
              0.8888888888888888,
              "#fdca26"
             ],
             [
              1,
              "#f0f921"
             ]
            ],
            "type": "histogram2d"
           }
          ],
          "histogram2dcontour": [
           {
            "colorbar": {
             "outlinewidth": 0,
             "ticks": ""
            },
            "colorscale": [
             [
              0,
              "#0d0887"
             ],
             [
              0.1111111111111111,
              "#46039f"
             ],
             [
              0.2222222222222222,
              "#7201a8"
             ],
             [
              0.3333333333333333,
              "#9c179e"
             ],
             [
              0.4444444444444444,
              "#bd3786"
             ],
             [
              0.5555555555555556,
              "#d8576b"
             ],
             [
              0.6666666666666666,
              "#ed7953"
             ],
             [
              0.7777777777777778,
              "#fb9f3a"
             ],
             [
              0.8888888888888888,
              "#fdca26"
             ],
             [
              1,
              "#f0f921"
             ]
            ],
            "type": "histogram2dcontour"
           }
          ],
          "mesh3d": [
           {
            "colorbar": {
             "outlinewidth": 0,
             "ticks": ""
            },
            "type": "mesh3d"
           }
          ],
          "parcoords": [
           {
            "line": {
             "colorbar": {
              "outlinewidth": 0,
              "ticks": ""
             }
            },
            "type": "parcoords"
           }
          ],
          "pie": [
           {
            "automargin": true,
            "type": "pie"
           }
          ],
          "scatter": [
           {
            "marker": {
             "colorbar": {
              "outlinewidth": 0,
              "ticks": ""
             }
            },
            "type": "scatter"
           }
          ],
          "scatter3d": [
           {
            "line": {
             "colorbar": {
              "outlinewidth": 0,
              "ticks": ""
             }
            },
            "marker": {
             "colorbar": {
              "outlinewidth": 0,
              "ticks": ""
             }
            },
            "type": "scatter3d"
           }
          ],
          "scattercarpet": [
           {
            "marker": {
             "colorbar": {
              "outlinewidth": 0,
              "ticks": ""
             }
            },
            "type": "scattercarpet"
           }
          ],
          "scattergeo": [
           {
            "marker": {
             "colorbar": {
              "outlinewidth": 0,
              "ticks": ""
             }
            },
            "type": "scattergeo"
           }
          ],
          "scattergl": [
           {
            "marker": {
             "colorbar": {
              "outlinewidth": 0,
              "ticks": ""
             }
            },
            "type": "scattergl"
           }
          ],
          "scattermapbox": [
           {
            "marker": {
             "colorbar": {
              "outlinewidth": 0,
              "ticks": ""
             }
            },
            "type": "scattermapbox"
           }
          ],
          "scatterpolar": [
           {
            "marker": {
             "colorbar": {
              "outlinewidth": 0,
              "ticks": ""
             }
            },
            "type": "scatterpolar"
           }
          ],
          "scatterpolargl": [
           {
            "marker": {
             "colorbar": {
              "outlinewidth": 0,
              "ticks": ""
             }
            },
            "type": "scatterpolargl"
           }
          ],
          "scatterternary": [
           {
            "marker": {
             "colorbar": {
              "outlinewidth": 0,
              "ticks": ""
             }
            },
            "type": "scatterternary"
           }
          ],
          "surface": [
           {
            "colorbar": {
             "outlinewidth": 0,
             "ticks": ""
            },
            "colorscale": [
             [
              0,
              "#0d0887"
             ],
             [
              0.1111111111111111,
              "#46039f"
             ],
             [
              0.2222222222222222,
              "#7201a8"
             ],
             [
              0.3333333333333333,
              "#9c179e"
             ],
             [
              0.4444444444444444,
              "#bd3786"
             ],
             [
              0.5555555555555556,
              "#d8576b"
             ],
             [
              0.6666666666666666,
              "#ed7953"
             ],
             [
              0.7777777777777778,
              "#fb9f3a"
             ],
             [
              0.8888888888888888,
              "#fdca26"
             ],
             [
              1,
              "#f0f921"
             ]
            ],
            "type": "surface"
           }
          ],
          "table": [
           {
            "cells": {
             "fill": {
              "color": "#EBF0F8"
             },
             "line": {
              "color": "white"
             }
            },
            "header": {
             "fill": {
              "color": "#C8D4E3"
             },
             "line": {
              "color": "white"
             }
            },
            "type": "table"
           }
          ]
         },
         "layout": {
          "annotationdefaults": {
           "arrowcolor": "#2a3f5f",
           "arrowhead": 0,
           "arrowwidth": 1
          },
          "autotypenumbers": "strict",
          "coloraxis": {
           "colorbar": {
            "outlinewidth": 0,
            "ticks": ""
           }
          },
          "colorscale": {
           "diverging": [
            [
             0,
             "#8e0152"
            ],
            [
             0.1,
             "#c51b7d"
            ],
            [
             0.2,
             "#de77ae"
            ],
            [
             0.3,
             "#f1b6da"
            ],
            [
             0.4,
             "#fde0ef"
            ],
            [
             0.5,
             "#f7f7f7"
            ],
            [
             0.6,
             "#e6f5d0"
            ],
            [
             0.7,
             "#b8e186"
            ],
            [
             0.8,
             "#7fbc41"
            ],
            [
             0.9,
             "#4d9221"
            ],
            [
             1,
             "#276419"
            ]
           ],
           "sequential": [
            [
             0,
             "#0d0887"
            ],
            [
             0.1111111111111111,
             "#46039f"
            ],
            [
             0.2222222222222222,
             "#7201a8"
            ],
            [
             0.3333333333333333,
             "#9c179e"
            ],
            [
             0.4444444444444444,
             "#bd3786"
            ],
            [
             0.5555555555555556,
             "#d8576b"
            ],
            [
             0.6666666666666666,
             "#ed7953"
            ],
            [
             0.7777777777777778,
             "#fb9f3a"
            ],
            [
             0.8888888888888888,
             "#fdca26"
            ],
            [
             1,
             "#f0f921"
            ]
           ],
           "sequentialminus": [
            [
             0,
             "#0d0887"
            ],
            [
             0.1111111111111111,
             "#46039f"
            ],
            [
             0.2222222222222222,
             "#7201a8"
            ],
            [
             0.3333333333333333,
             "#9c179e"
            ],
            [
             0.4444444444444444,
             "#bd3786"
            ],
            [
             0.5555555555555556,
             "#d8576b"
            ],
            [
             0.6666666666666666,
             "#ed7953"
            ],
            [
             0.7777777777777778,
             "#fb9f3a"
            ],
            [
             0.8888888888888888,
             "#fdca26"
            ],
            [
             1,
             "#f0f921"
            ]
           ]
          },
          "colorway": [
           "#636efa",
           "#EF553B",
           "#00cc96",
           "#ab63fa",
           "#FFA15A",
           "#19d3f3",
           "#FF6692",
           "#B6E880",
           "#FF97FF",
           "#FECB52"
          ],
          "font": {
           "color": "#2a3f5f"
          },
          "geo": {
           "bgcolor": "white",
           "lakecolor": "white",
           "landcolor": "#E5ECF6",
           "showlakes": true,
           "showland": true,
           "subunitcolor": "white"
          },
          "hoverlabel": {
           "align": "left"
          },
          "hovermode": "closest",
          "mapbox": {
           "style": "light"
          },
          "paper_bgcolor": "white",
          "plot_bgcolor": "#E5ECF6",
          "polar": {
           "angularaxis": {
            "gridcolor": "white",
            "linecolor": "white",
            "ticks": ""
           },
           "bgcolor": "#E5ECF6",
           "radialaxis": {
            "gridcolor": "white",
            "linecolor": "white",
            "ticks": ""
           }
          },
          "scene": {
           "xaxis": {
            "backgroundcolor": "#E5ECF6",
            "gridcolor": "white",
            "gridwidth": 2,
            "linecolor": "white",
            "showbackground": true,
            "ticks": "",
            "zerolinecolor": "white"
           },
           "yaxis": {
            "backgroundcolor": "#E5ECF6",
            "gridcolor": "white",
            "gridwidth": 2,
            "linecolor": "white",
            "showbackground": true,
            "ticks": "",
            "zerolinecolor": "white"
           },
           "zaxis": {
            "backgroundcolor": "#E5ECF6",
            "gridcolor": "white",
            "gridwidth": 2,
            "linecolor": "white",
            "showbackground": true,
            "ticks": "",
            "zerolinecolor": "white"
           }
          },
          "shapedefaults": {
           "line": {
            "color": "#2a3f5f"
           }
          },
          "ternary": {
           "aaxis": {
            "gridcolor": "white",
            "linecolor": "white",
            "ticks": ""
           },
           "baxis": {
            "gridcolor": "white",
            "linecolor": "white",
            "ticks": ""
           },
           "bgcolor": "#E5ECF6",
           "caxis": {
            "gridcolor": "white",
            "linecolor": "white",
            "ticks": ""
           }
          },
          "title": {
           "x": 0.05
          },
          "xaxis": {
           "automargin": true,
           "gridcolor": "white",
           "linecolor": "white",
           "ticks": "",
           "title": {
            "standoff": 15
           },
           "zerolinecolor": "white",
           "zerolinewidth": 2
          },
          "yaxis": {
           "automargin": true,
           "gridcolor": "white",
           "linecolor": "white",
           "ticks": "",
           "title": {
            "standoff": 15
           },
           "zerolinecolor": "white",
           "zerolinewidth": 2
          }
         }
        },
        "width": 400,
        "xaxis": {
         "anchor": "y",
         "domain": [
          0,
          1
         ],
         "title": {
          "text": "Teknik Bermain Gitar"
         }
        },
        "yaxis": {
         "anchor": "x",
         "domain": [
          0,
          1
         ],
         "title": {
          "text": "Jumlah"
         }
        }
       }
      }
     },
     "metadata": {}
    }
   ],
   "metadata": {}
  },
  {
   "cell_type": "code",
   "execution_count": 5,
   "source": [
    "X = df.iloc[:,:156]\n",
    "y = df['technique']\n",
    "y_sub = df['subtechnique']\n",
    "\n",
    "X_train, X_test, y_train, y_test = train_test_split(X, y, train_size=0.9, random_state=42, stratify=y_sub)\n",
    "\n",
    "scaler = MinMaxScaler(feature_range=(-1,1))\n",
    "scaler.fit(X_train)\n",
    "X_train = scaler.transform(X_train)\n",
    "X_test = scaler.transform(X_test)"
   ],
   "outputs": [],
   "metadata": {}
  },
  {
   "cell_type": "code",
   "execution_count": 7,
   "source": [
    "c = 2.5\n",
    "sigma = 1.25\n",
    "clf = SVC(kernel='rbf', C=2**c, gamma=1/(2*(2**sigma)**2), decision_function_shape='ovo')\n",
    "clf.fit(X_train, y_train)\n",
    "y_pred = clf.predict(X_test)\n",
    "\n",
    "print('MCC: ', matthews_corrcoef(y_test, y_pred))\n",
    "print(classification_report(y_test, y_pred))\n",
    "fig, ax = plt.subplots(figsize=(7,7))\n",
    "plot_confusion_matrix(clf, X_test, y_test, ax=ax)\n",
    "plt.show()"
   ],
   "outputs": [
    {
     "output_type": "stream",
     "name": "stdout",
     "text": [
      "MCC:  0.8530200916176779\n",
      "              precision    recall  f1-score   support\n",
      "\n",
      "     bending       0.94      0.93      0.94       127\n",
      "     hamming       0.70      0.62      0.66        56\n",
      "        mute       1.00      1.00      1.00        38\n",
      "      normal       0.93      0.92      0.93       196\n",
      "     pulling       0.86      0.75      0.80        51\n",
      "       slide       0.77      0.89      0.83       114\n",
      "       trill       0.90      0.89      0.90        63\n",
      "\n",
      "    accuracy                           0.88       645\n",
      "   macro avg       0.87      0.86      0.86       645\n",
      "weighted avg       0.88      0.88      0.88       645\n",
      "\n"
     ]
    },
    {
     "output_type": "display_data",
     "data": {
      "text/plain": [
       "<Figure size 504x504 with 2 Axes>"
      ],
      "image/png": "[encoded data removed]"
     },
     "metadata": {
      "needs_background": "light"
     }
    }
   ],
   "metadata": {}
  },
  {
   "cell_type": "code",
   "execution_count": 15,
   "source": [
    "gamma = 1 / (156 * X_train.var())\n",
    "gamma"
   ],
   "outputs": [
    {
     "output_type": "execute_result",
     "data": {
      "text/plain": [
       "0.042210011625998814"
      ]
     },
     "metadata": {},
     "execution_count": 15
    }
   ],
   "metadata": {}
  },
  {
   "cell_type": "code",
   "execution_count": 16,
   "source": [
    "sigma = np.sqrt(1/(2*gamma))\n",
    "sigma"
   ],
   "outputs": [
    {
     "output_type": "execute_result",
     "data": {
      "text/plain": [
       "3.4417337158693284"
      ]
     },
     "metadata": {},
     "execution_count": 16
    }
   ],
   "metadata": {}
  },
  {
   "cell_type": "code",
   "execution_count": 18,
   "source": [
    "np.sqrt((156*X_train.var())/2)"
   ],
   "outputs": [
    {
     "output_type": "execute_result",
     "data": {
      "text/plain": [
       "3.4417337158693284"
      ]
     },
     "metadata": {},
     "execution_count": 18
    }
   ],
   "metadata": {}
  },
  {
   "cell_type": "code",
   "execution_count": 20,
   "source": [
    "gamma = 1 / (156 * np.var(X_train))\n",
    "gamma"
   ],
   "outputs": [
    {
     "output_type": "execute_result",
     "data": {
      "text/plain": [
       "0.042210011625998814"
      ]
     },
     "metadata": {},
     "execution_count": 20
    }
   ],
   "metadata": {}
  }
 ]
}