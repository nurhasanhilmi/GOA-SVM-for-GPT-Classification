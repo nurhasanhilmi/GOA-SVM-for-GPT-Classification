{
 "metadata": {
  "language_info": {
   "codemirror_mode": {
    "name": "ipython",
    "version": 3
   },
   "file_extension": ".py",
   "mimetype": "text/x-python",
   "name": "python",
   "nbconvert_exporter": "python",
   "pygments_lexer": "ipython3",
   "version": "3.8.8"
  },
  "orig_nbformat": 4,
  "kernelspec": {
   "name": "python3",
   "display_name": "Python 3.8.8 64-bit ('GOA-SVM-for-GPT-Classification': conda)"
  },
  "interpreter": {
   "hash": "f88953d5c9aa5aedf1a2710ce0bc6ce5df85e8403576077b94186b56238ee893"
  }
 },
 "nbformat": 4,
 "nbformat_minor": 2,
 "cells": [
  {
   "cell_type": "code",
   "execution_count": 2,
   "metadata": {},
   "outputs": [],
   "source": [
    "import os\n",
    "import pandas as pd\n",
    "import xml.etree.ElementTree as et\n",
    "import librosa\n",
    "import librosa.display\n",
    "import plotly.express as px\n",
    "import matplotlib.pyplot as plt\n",
    "import numpy as np\n",
    "from scipy.stats import skew, kurtosis\n",
    "from tqdm import tqdm"
   ]
  },
  {
   "cell_type": "code",
   "execution_count": 88,
   "metadata": {},
   "outputs": [],
   "source": [
    "ANNOTATION_PATH = '../data/IDMT-SMT-GUITAR_V2/dataset2/annotation'\n",
    "AUDIO_PATH_ROOT = '../data/IDMT-SMT-GUITAR_V2/dataset2/audio'"
   ]
  },
  {
   "cell_type": "code",
   "execution_count": 89,
   "metadata": {},
   "outputs": [
    {
     "output_type": "execute_result",
     "data": {
      "text/plain": [
       "87"
      ]
     },
     "metadata": {},
     "execution_count": 89
    }
   ],
   "source": [
    "annotation_files = os.listdir(ANNOTATION_PATH)\n",
    "annotation_files.sort()\n",
    "len(annotation_files)"
   ]
  },
  {
   "cell_type": "code",
   "execution_count": 102,
   "metadata": {},
   "outputs": [
    {
     "output_type": "stream",
     "name": "stderr",
     "text": [
      "87it [00:00, 94.83it/s]\n"
     ]
    }
   ],
   "source": [
    "dataset = pd.DataFrame()\n",
    "for i, annotation_file in tqdm(enumerate(annotation_files)):\n",
    "    annotation_file_path = os.path.join(ANNOTATION_PATH, annotation_file)\n",
    "\n",
    "    annotation_tree = et.parse(annotation_file_path)\n",
    "    annotation_root = annotation_tree.getroot()\n",
    "    global_params = annotation_root.find('globalParameter')\n",
    "    transcription = annotation_root.find('transcription')\n",
    "\n",
    "    params = []\n",
    "    params_value = []\n",
    "    for param in global_params:\n",
    "        params.append(param.tag)\n",
    "        params_value.append(param.text)\n",
    "    params_value[0] = annotation_file[:-3] + 'wav'\n",
    "\n",
    "    total_event = len(transcription.findall('event'))\n",
    "    df_globalParams = pd.DataFrame([params_value]*total_event, columns=params)\n",
    "\n",
    "    transcription_tag = ['expressionStyle', 'excitationStyle', 'onsetSec', 'offsetSec', 'duration']\n",
    "    df_transcription = pd.DataFrame(columns=transcription_tag)\n",
    "    for tag in transcription_tag:\n",
    "        if tag != 'duration':\n",
    "            values = []\n",
    "            for value in transcription.iter(tag):\n",
    "                values.append(value.text)\n",
    "            df_transcription[tag] = values\n",
    "    df = pd.concat([df_transcription, df_globalParams], axis=1)\n",
    "    if i == 0:\n",
    "        dataset = df\n",
    "    else:\n",
    "        dataset = dataset.append(df)\n",
    "dataset = dataset.reset_index(drop=True)\n",
    "dataset['onsetSec'] = pd.to_numeric(dataset['onsetSec'])\n",
    "dataset['offsetSec'] = pd.to_numeric(dataset['offsetSec'])\n",
    "dataset['duration'] = dataset['offsetSec'] - dataset['onsetSec']\n",
    "\n",
    "idx = []\n",
    "for i in range(dataset.shape[0]):\n",
    "    if (('Lick' in dataset['audioFileName'][i]) and \\\n",
    "        (dataset['expressionStyle'][i] == 'NO') and \\\n",
    "        (dataset['excitationStyle'][i] == 'PK')):\n",
    "        idx.append(i)\n",
    "dataset = dataset.drop(idx)\n",
    "dataset = dataset.reset_index(drop=True)"
   ]
  },
  {
   "cell_type": "code",
   "execution_count": 103,
   "metadata": {
    "tags": []
   },
   "outputs": [
    {
     "output_type": "stream",
     "name": "stdout",
     "text": [
      "(1323, 15)\n"
     ]
    },
    {
     "output_type": "execute_result",
     "data": {
      "text/plain": [
       "  expressionStyle excitationStyle  onsetSec  offsetSec  duration  \\\n",
       "0              NO              PK    1.5790     2.2409    0.6619   \n",
       "1              NO              PK    2.6026     3.3066    0.7040   \n",
       "2              NO              PK    3.6949     4.3970    0.7021   \n",
       "3              NO              PK    4.7456     5.4846    0.7390   \n",
       "4              NO              PK    5.8514     6.5035    0.6521   \n",
       "\n",
       "        audioFileName instrument instrumentModel pickUpSetting  \\\n",
       "0  AR_A_fret_0-20.wav       EGUI   Aristides 010       unknown   \n",
       "1  AR_A_fret_0-20.wav       EGUI   Aristides 010       unknown   \n",
       "2  AR_A_fret_0-20.wav       EGUI   Aristides 010       unknown   \n",
       "3  AR_A_fret_0-20.wav       EGUI   Aristides 010       unknown   \n",
       "4  AR_A_fret_0-20.wav       EGUI   Aristides 010       unknown   \n",
       "\n",
       "         instrumentTuning recordingDate    recordingArtist  \\\n",
       "0  40  45  50  55  59  64      13-02-14  Christian Kehling   \n",
       "1  40  45  50  55  59  64      13-02-14  Christian Kehling   \n",
       "2  40  45  50  55  59  64      13-02-14  Christian Kehling   \n",
       "3  40  45  50  55  59  64      13-02-14  Christian Kehling   \n",
       "4  40  45  50  55  59  64      13-02-14  Christian Kehling   \n",
       "\n",
       "  instrumentBodyMaterial instrumentStringMaterial           composer  \n",
       "0                unknown                    Steel  Christian Kehling  \n",
       "1                unknown                    Steel  Christian Kehling  \n",
       "2                unknown                    Steel  Christian Kehling  \n",
       "3                unknown                    Steel  Christian Kehling  \n",
       "4                unknown                    Steel  Christian Kehling  "
      ],
      "text/html": "<div>\n<style scoped>\n    .dataframe tbody tr th:only-of-type {\n        vertical-align: middle;\n    }\n\n    .dataframe tbody tr th {\n        vertical-align: top;\n    }\n\n    .dataframe thead th {\n        text-align: right;\n    }\n</style>\n<table border=\"1\" class=\"dataframe\">\n  <thead>\n    <tr style=\"text-align: right;\">\n      <th></th>\n      <th>expressionStyle</th>\n      <th>excitationStyle</th>\n      <th>onsetSec</th>\n      <th>offsetSec</th>\n      <th>duration</th>\n      <th>audioFileName</th>\n      <th>instrument</th>\n      <th>instrumentModel</th>\n      <th>pickUpSetting</th>\n      <th>instrumentTuning</th>\n      <th>recordingDate</th>\n      <th>recordingArtist</th>\n      <th>instrumentBodyMaterial</th>\n      <th>instrumentStringMaterial</th>\n      <th>composer</th>\n    </tr>\n  </thead>\n  <tbody>\n    <tr>\n      <th>0</th>\n      <td>NO</td>\n      <td>PK</td>\n      <td>1.5790</td>\n      <td>2.2409</td>\n      <td>0.6619</td>\n      <td>AR_A_fret_0-20.wav</td>\n      <td>EGUI</td>\n      <td>Aristides 010</td>\n      <td>unknown</td>\n      <td>40  45  50  55  59  64</td>\n      <td>13-02-14</td>\n      <td>Christian Kehling</td>\n      <td>unknown</td>\n      <td>Steel</td>\n      <td>Christian Kehling</td>\n    </tr>\n    <tr>\n      <th>1</th>\n      <td>NO</td>\n      <td>PK</td>\n      <td>2.6026</td>\n      <td>3.3066</td>\n      <td>0.7040</td>\n      <td>AR_A_fret_0-20.wav</td>\n      <td>EGUI</td>\n      <td>Aristides 010</td>\n      <td>unknown</td>\n      <td>40  45  50  55  59  64</td>\n      <td>13-02-14</td>\n      <td>Christian Kehling</td>\n      <td>unknown</td>\n      <td>Steel</td>\n      <td>Christian Kehling</td>\n    </tr>\n    <tr>\n      <th>2</th>\n      <td>NO</td>\n      <td>PK</td>\n      <td>3.6949</td>\n      <td>4.3970</td>\n      <td>0.7021</td>\n      <td>AR_A_fret_0-20.wav</td>\n      <td>EGUI</td>\n      <td>Aristides 010</td>\n      <td>unknown</td>\n      <td>40  45  50  55  59  64</td>\n      <td>13-02-14</td>\n      <td>Christian Kehling</td>\n      <td>unknown</td>\n      <td>Steel</td>\n      <td>Christian Kehling</td>\n    </tr>\n    <tr>\n      <th>3</th>\n      <td>NO</td>\n      <td>PK</td>\n      <td>4.7456</td>\n      <td>5.4846</td>\n      <td>0.7390</td>\n      <td>AR_A_fret_0-20.wav</td>\n      <td>EGUI</td>\n      <td>Aristides 010</td>\n      <td>unknown</td>\n      <td>40  45  50  55  59  64</td>\n      <td>13-02-14</td>\n      <td>Christian Kehling</td>\n      <td>unknown</td>\n      <td>Steel</td>\n      <td>Christian Kehling</td>\n    </tr>\n    <tr>\n      <th>4</th>\n      <td>NO</td>\n      <td>PK</td>\n      <td>5.8514</td>\n      <td>6.5035</td>\n      <td>0.6521</td>\n      <td>AR_A_fret_0-20.wav</td>\n      <td>EGUI</td>\n      <td>Aristides 010</td>\n      <td>unknown</td>\n      <td>40  45  50  55  59  64</td>\n      <td>13-02-14</td>\n      <td>Christian Kehling</td>\n      <td>unknown</td>\n      <td>Steel</td>\n      <td>Christian Kehling</td>\n    </tr>\n  </tbody>\n</table>\n</div>"
     },
     "metadata": {},
     "execution_count": 103
    }
   ],
   "source": [
    "print(dataset.shape)\n",
    "dataset"
   ]
  },
  {
   "source": [
    "expressionStyle = pd.value_counts(dataset['expressionStyle']).reset_index()\n",
    "expressionStyle.columns = ['Expression Style', 'Number']\n",
    "px.bar(expressionStyle, x='Expression Style', y='Number', width=400, height=300)"
   ],
   "cell_type": "code",
   "metadata": {},
   "execution_count": 104,
   "outputs": [
    {
     "output_type": "display_data",
     "data": {
      "application/vnd.plotly.v1+json": {
       "config": {
        "plotlyServerURL": "https://plot.ly"
       },
       "data": [
        {
         "alignmentgroup": "True",
         "hovertemplate": "Expression Style=%{x}<br>Number=%{y}<extra></extra>",
         "legendgroup": "",
         "marker": {
          "color": "#636efa"
         },
         "name": "",
         "offsetgroup": "",
         "orientation": "v",
         "showlegend": false,
         "textposition": "auto",
         "type": "bar",
         "x": [
          "NO",
          "DN",
          "HA",
          "VI",
          "BE",
          "SL"
         ],
         "xaxis": "x",
         "y": [
          627,
          246,
          132,
          120,
          117,
          81
         ],
         "yaxis": "y"
        }
       ],
       "layout": {
        "barmode": "relative",
        "height": 300,
        "legend": {
         "tracegroupgap": 0
        },
        "margin": {
         "t": 60
        },
        "template": {
         "data": {
          "bar": [
           {
            "error_x": {
             "color": "#2a3f5f"
            },
            "error_y": {
             "color": "#2a3f5f"
            },
            "marker": {
             "line": {
              "color": "#E5ECF6",
              "width": 0.5
             }
            },
            "type": "bar"
           }
          ],
          "barpolar": [
           {
            "marker": {
             "line": {
              "color": "#E5ECF6",
              "width": 0.5
             }
            },
            "type": "barpolar"
           }
          ],
          "carpet": [
           {
            "aaxis": {
             "endlinecolor": "#2a3f5f",
             "gridcolor": "white",
             "linecolor": "white",
             "minorgridcolor": "white",
             "startlinecolor": "#2a3f5f"
            },
            "baxis": {
             "endlinecolor": "#2a3f5f",
             "gridcolor": "white",
             "linecolor": "white",
             "minorgridcolor": "white",
             "startlinecolor": "#2a3f5f"
            },
            "type": "carpet"
           }
          ],
          "choropleth": [
           {
            "colorbar": {
             "outlinewidth": 0,
             "ticks": ""
            },
            "type": "choropleth"
           }
          ],
          "contour": [
           {
            "colorbar": {
             "outlinewidth": 0,
             "ticks": ""
            },
            "colorscale": [
             [
              0,
              "#0d0887"
             ],
             [
              0.1111111111111111,
              "#46039f"
             ],
             [
              0.2222222222222222,
              "#7201a8"
             ],
             [
              0.3333333333333333,
              "#9c179e"
             ],
             [
              0.4444444444444444,
              "#bd3786"
             ],
             [
              0.5555555555555556,
              "#d8576b"
             ],
             [
              0.6666666666666666,
              "#ed7953"
             ],
             [
              0.7777777777777778,
              "#fb9f3a"
             ],
             [
              0.8888888888888888,
              "#fdca26"
             ],
             [
              1,
              "#f0f921"
             ]
            ],
            "type": "contour"
           }
          ],
          "contourcarpet": [
           {
            "colorbar": {
             "outlinewidth": 0,
             "ticks": ""
            },
            "type": "contourcarpet"
           }
          ],
          "heatmap": [
           {
            "colorbar": {
             "outlinewidth": 0,
             "ticks": ""
            },
            "colorscale": [
             [
              0,
              "#0d0887"
             ],
             [
              0.1111111111111111,
              "#46039f"
             ],
             [
              0.2222222222222222,
              "#7201a8"
             ],
             [
              0.3333333333333333,
              "#9c179e"
             ],
             [
              0.4444444444444444,
              "#bd3786"
             ],
             [
              0.5555555555555556,
              "#d8576b"
             ],
             [
              0.6666666666666666,
              "#ed7953"
             ],
             [
              0.7777777777777778,
              "#fb9f3a"
             ],
             [
              0.8888888888888888,
              "#fdca26"
             ],
             [
              1,
              "#f0f921"
             ]
            ],
            "type": "heatmap"
           }
          ],
          "heatmapgl": [
           {
            "colorbar": {
             "outlinewidth": 0,
             "ticks": ""
            },
            "colorscale": [
             [
              0,
              "#0d0887"
             ],
             [
              0.1111111111111111,
              "#46039f"
             ],
             [
              0.2222222222222222,
              "#7201a8"
             ],
             [
              0.3333333333333333,
              "#9c179e"
             ],
             [
              0.4444444444444444,
              "#bd3786"
             ],
             [
              0.5555555555555556,
              "#d8576b"
             ],
             [
              0.6666666666666666,
              "#ed7953"
             ],
             [
              0.7777777777777778,
              "#fb9f3a"
             ],
             [
              0.8888888888888888,
              "#fdca26"
             ],
             [
              1,
              "#f0f921"
             ]
            ],
            "type": "heatmapgl"
           }
          ],
          "histogram": [
           {
            "marker": {
             "colorbar": {
              "outlinewidth": 0,
              "ticks": ""
             }
            },
            "type": "histogram"
           }
          ],
          "histogram2d": [
           {
            "colorbar": {
             "outlinewidth": 0,
             "ticks": ""
            },
            "colorscale": [
             [
              0,
              "#0d0887"
             ],
             [
              0.1111111111111111,
              "#46039f"
             ],
             [
              0.2222222222222222,
              "#7201a8"
             ],
             [
              0.3333333333333333,
              "#9c179e"
             ],
             [
              0.4444444444444444,
              "#bd3786"
             ],
             [
              0.5555555555555556,
              "#d8576b"
             ],
             [
              0.6666666666666666,
              "#ed7953"
             ],
             [
              0.7777777777777778,
              "#fb9f3a"
             ],
             [
              0.8888888888888888,
              "#fdca26"
             ],
             [
              1,
              "#f0f921"
             ]
            ],
            "type": "histogram2d"
           }
          ],
          "histogram2dcontour": [
           {
            "colorbar": {
             "outlinewidth": 0,
             "ticks": ""
            },
            "colorscale": [
             [
              0,
              "#0d0887"
             ],
             [
              0.1111111111111111,
              "#46039f"
             ],
             [
              0.2222222222222222,
              "#7201a8"
             ],
             [
              0.3333333333333333,
              "#9c179e"
             ],
             [
              0.4444444444444444,
              "#bd3786"
             ],
             [
              0.5555555555555556,
              "#d8576b"
             ],
             [
              0.6666666666666666,
              "#ed7953"
             ],
             [
              0.7777777777777778,
              "#fb9f3a"
             ],
             [
              0.8888888888888888,
              "#fdca26"
             ],
             [
              1,
              "#f0f921"
             ]
            ],
            "type": "histogram2dcontour"
           }
          ],
          "mesh3d": [
           {
            "colorbar": {
             "outlinewidth": 0,
             "ticks": ""
            },
            "type": "mesh3d"
           }
          ],
          "parcoords": [
           {
            "line": {
             "colorbar": {
              "outlinewidth": 0,
              "ticks": ""
             }
            },
            "type": "parcoords"
           }
          ],
          "pie": [
           {
            "automargin": true,
            "type": "pie"
           }
          ],
          "scatter": [
           {
            "marker": {
             "colorbar": {
              "outlinewidth": 0,
              "ticks": ""
             }
            },
            "type": "scatter"
           }
          ],
          "scatter3d": [
           {
            "line": {
             "colorbar": {
              "outlinewidth": 0,
              "ticks": ""
             }
            },
            "marker": {
             "colorbar": {
              "outlinewidth": 0,
              "ticks": ""
             }
            },
            "type": "scatter3d"
           }
          ],
          "scattercarpet": [
           {
            "marker": {
             "colorbar": {
              "outlinewidth": 0,
              "ticks": ""
             }
            },
            "type": "scattercarpet"
           }
          ],
          "scattergeo": [
           {
            "marker": {
             "colorbar": {
              "outlinewidth": 0,
              "ticks": ""
             }
            },
            "type": "scattergeo"
           }
          ],
          "scattergl": [
           {
            "marker": {
             "colorbar": {
              "outlinewidth": 0,
              "ticks": ""
             }
            },
            "type": "scattergl"
           }
          ],
          "scattermapbox": [
           {
            "marker": {
             "colorbar": {
              "outlinewidth": 0,
              "ticks": ""
             }
            },
            "type": "scattermapbox"
           }
          ],
          "scatterpolar": [
           {
            "marker": {
             "colorbar": {
              "outlinewidth": 0,
              "ticks": ""
             }
            },
            "type": "scatterpolar"
           }
          ],
          "scatterpolargl": [
           {
            "marker": {
             "colorbar": {
              "outlinewidth": 0,
              "ticks": ""
             }
            },
            "type": "scatterpolargl"
           }
          ],
          "scatterternary": [
           {
            "marker": {
             "colorbar": {
              "outlinewidth": 0,
              "ticks": ""
             }
            },
            "type": "scatterternary"
           }
          ],
          "surface": [
           {
            "colorbar": {
             "outlinewidth": 0,
             "ticks": ""
            },
            "colorscale": [
             [
              0,
              "#0d0887"
             ],
             [
              0.1111111111111111,
              "#46039f"
             ],
             [
              0.2222222222222222,
              "#7201a8"
             ],
             [
              0.3333333333333333,
              "#9c179e"
             ],
             [
              0.4444444444444444,
              "#bd3786"
             ],
             [
              0.5555555555555556,
              "#d8576b"
             ],
             [
              0.6666666666666666,
              "#ed7953"
             ],
             [
              0.7777777777777778,
              "#fb9f3a"
             ],
             [
              0.8888888888888888,
              "#fdca26"
             ],
             [
              1,
              "#f0f921"
             ]
            ],
            "type": "surface"
           }
          ],
          "table": [
           {
            "cells": {
             "fill": {
              "color": "#EBF0F8"
             },
             "line": {
              "color": "white"
             }
            },
            "header": {
             "fill": {
              "color": "#C8D4E3"
             },
             "line": {
              "color": "white"
             }
            },
            "type": "table"
           }
          ]
         },
         "layout": {
          "annotationdefaults": {
           "arrowcolor": "#2a3f5f",
           "arrowhead": 0,
           "arrowwidth": 1
          },
          "autotypenumbers": "strict",
          "coloraxis": {
           "colorbar": {
            "outlinewidth": 0,
            "ticks": ""
           }
          },
          "colorscale": {
           "diverging": [
            [
             0,
             "#8e0152"
            ],
            [
             0.1,
             "#c51b7d"
            ],
            [
             0.2,
             "#de77ae"
            ],
            [
             0.3,
             "#f1b6da"
            ],
            [
             0.4,
             "#fde0ef"
            ],
            [
             0.5,
             "#f7f7f7"
            ],
            [
             0.6,
             "#e6f5d0"
            ],
            [
             0.7,
             "#b8e186"
            ],
            [
             0.8,
             "#7fbc41"
            ],
            [
             0.9,
             "#4d9221"
            ],
            [
             1,
             "#276419"
            ]
           ],
           "sequential": [
            [
             0,
             "#0d0887"
            ],
            [
             0.1111111111111111,
             "#46039f"
            ],
            [
             0.2222222222222222,
             "#7201a8"
            ],
            [
             0.3333333333333333,
             "#9c179e"
            ],
            [
             0.4444444444444444,
             "#bd3786"
            ],
            [
             0.5555555555555556,
             "#d8576b"
            ],
            [
             0.6666666666666666,
             "#ed7953"
            ],
            [
             0.7777777777777778,
             "#fb9f3a"
            ],
            [
             0.8888888888888888,
             "#fdca26"
            ],
            [
             1,
             "#f0f921"
            ]
           ],
           "sequentialminus": [
            [
             0,
             "#0d0887"
            ],
            [
             0.1111111111111111,
             "#46039f"
            ],
            [
             0.2222222222222222,
             "#7201a8"
            ],
            [
             0.3333333333333333,
             "#9c179e"
            ],
            [
             0.4444444444444444,
             "#bd3786"
            ],
            [
             0.5555555555555556,
             "#d8576b"
            ],
            [
             0.6666666666666666,
             "#ed7953"
            ],
            [
             0.7777777777777778,
             "#fb9f3a"
            ],
            [
             0.8888888888888888,
             "#fdca26"
            ],
            [
             1,
             "#f0f921"
            ]
           ]
          },
          "colorway": [
           "#636efa",
           "#EF553B",
           "#00cc96",
           "#ab63fa",
           "#FFA15A",
           "#19d3f3",
           "#FF6692",
           "#B6E880",
           "#FF97FF",
           "#FECB52"
          ],
          "font": {
           "color": "#2a3f5f"
          },
          "geo": {
           "bgcolor": "white",
           "lakecolor": "white",
           "landcolor": "#E5ECF6",
           "showlakes": true,
           "showland": true,
           "subunitcolor": "white"
          },
          "hoverlabel": {
           "align": "left"
          },
          "hovermode": "closest",
          "mapbox": {
           "style": "light"
          },
          "paper_bgcolor": "white",
          "plot_bgcolor": "#E5ECF6",
          "polar": {
           "angularaxis": {
            "gridcolor": "white",
            "linecolor": "white",
            "ticks": ""
           },
           "bgcolor": "#E5ECF6",
           "radialaxis": {
            "gridcolor": "white",
            "linecolor": "white",
            "ticks": ""
           }
          },
          "scene": {
           "xaxis": {
            "backgroundcolor": "#E5ECF6",
            "gridcolor": "white",
            "gridwidth": 2,
            "linecolor": "white",
            "showbackground": true,
            "ticks": "",
            "zerolinecolor": "white"
           },
           "yaxis": {
            "backgroundcolor": "#E5ECF6",
            "gridcolor": "white",
            "gridwidth": 2,
            "linecolor": "white",
            "showbackground": true,
            "ticks": "",
            "zerolinecolor": "white"
           },
           "zaxis": {
            "backgroundcolor": "#E5ECF6",
            "gridcolor": "white",
            "gridwidth": 2,
            "linecolor": "white",
            "showbackground": true,
            "ticks": "",
            "zerolinecolor": "white"
           }
          },
          "shapedefaults": {
           "line": {
            "color": "#2a3f5f"
           }
          },
          "ternary": {
           "aaxis": {
            "gridcolor": "white",
            "linecolor": "white",
            "ticks": ""
           },
           "baxis": {
            "gridcolor": "white",
            "linecolor": "white",
            "ticks": ""
           },
           "bgcolor": "#E5ECF6",
           "caxis": {
            "gridcolor": "white",
            "linecolor": "white",
            "ticks": ""
           }
          },
          "title": {
           "x": 0.05
          },
          "xaxis": {
           "automargin": true,
           "gridcolor": "white",
           "linecolor": "white",
           "ticks": "",
           "title": {
            "standoff": 15
           },
           "zerolinecolor": "white",
           "zerolinewidth": 2
          },
          "yaxis": {
           "automargin": true,
           "gridcolor": "white",
           "linecolor": "white",
           "ticks": "",
           "title": {
            "standoff": 15
           },
           "zerolinecolor": "white",
           "zerolinewidth": 2
          }
         }
        },
        "width": 400,
        "xaxis": {
         "anchor": "y",
         "domain": [
          0,
          1
         ],
         "title": {
          "text": "Expression Style"
         }
        },
        "yaxis": {
         "anchor": "x",
         "domain": [
          0,
          1
         ],
         "title": {
          "text": "Number"
         }
        }
       }
      }
     },
     "metadata": {}
    }
   ]
  },
  {
   "cell_type": "code",
   "execution_count": 105,
   "metadata": {},
   "outputs": [
    {
     "output_type": "display_data",
     "data": {
      "application/vnd.plotly.v1+json": {
       "config": {
        "plotlyServerURL": "https://plot.ly"
       },
       "data": [
        {
         "alignmentgroup": "True",
         "hovertemplate": "Excitation Style=%{x}<br>Number=%{y}<extra></extra>",
         "legendgroup": "",
         "marker": {
          "color": "#636efa"
         },
         "name": "",
         "offsetgroup": "",
         "orientation": "v",
         "showlegend": false,
         "textposition": "auto",
         "type": "bar",
         "x": [
          "PK",
          "FS"
         ],
         "xaxis": "x",
         "y": [
          912,
          411
         ],
         "yaxis": "y"
        }
       ],
       "layout": {
        "barmode": "relative",
        "height": 300,
        "legend": {
         "tracegroupgap": 0
        },
        "margin": {
         "t": 60
        },
        "template": {
         "data": {
          "bar": [
           {
            "error_x": {
             "color": "#2a3f5f"
            },
            "error_y": {
             "color": "#2a3f5f"
            },
            "marker": {
             "line": {
              "color": "#E5ECF6",
              "width": 0.5
             }
            },
            "type": "bar"
           }
          ],
          "barpolar": [
           {
            "marker": {
             "line": {
              "color": "#E5ECF6",
              "width": 0.5
             }
            },
            "type": "barpolar"
           }
          ],
          "carpet": [
           {
            "aaxis": {
             "endlinecolor": "#2a3f5f",
             "gridcolor": "white",
             "linecolor": "white",
             "minorgridcolor": "white",
             "startlinecolor": "#2a3f5f"
            },
            "baxis": {
             "endlinecolor": "#2a3f5f",
             "gridcolor": "white",
             "linecolor": "white",
             "minorgridcolor": "white",
             "startlinecolor": "#2a3f5f"
            },
            "type": "carpet"
           }
          ],
          "choropleth": [
           {
            "colorbar": {
             "outlinewidth": 0,
             "ticks": ""
            },
            "type": "choropleth"
           }
          ],
          "contour": [
           {
            "colorbar": {
             "outlinewidth": 0,
             "ticks": ""
            },
            "colorscale": [
             [
              0,
              "#0d0887"
             ],
             [
              0.1111111111111111,
              "#46039f"
             ],
             [
              0.2222222222222222,
              "#7201a8"
             ],
             [
              0.3333333333333333,
              "#9c179e"
             ],
             [
              0.4444444444444444,
              "#bd3786"
             ],
             [
              0.5555555555555556,
              "#d8576b"
             ],
             [
              0.6666666666666666,
              "#ed7953"
             ],
             [
              0.7777777777777778,
              "#fb9f3a"
             ],
             [
              0.8888888888888888,
              "#fdca26"
             ],
             [
              1,
              "#f0f921"
             ]
            ],
            "type": "contour"
           }
          ],
          "contourcarpet": [
           {
            "colorbar": {
             "outlinewidth": 0,
             "ticks": ""
            },
            "type": "contourcarpet"
           }
          ],
          "heatmap": [
           {
            "colorbar": {
             "outlinewidth": 0,
             "ticks": ""
            },
            "colorscale": [
             [
              0,
              "#0d0887"
             ],
             [
              0.1111111111111111,
              "#46039f"
             ],
             [
              0.2222222222222222,
              "#7201a8"
             ],
             [
              0.3333333333333333,
              "#9c179e"
             ],
             [
              0.4444444444444444,
              "#bd3786"
             ],
             [
              0.5555555555555556,
              "#d8576b"
             ],
             [
              0.6666666666666666,
              "#ed7953"
             ],
             [
              0.7777777777777778,
              "#fb9f3a"
             ],
             [
              0.8888888888888888,
              "#fdca26"
             ],
             [
              1,
              "#f0f921"
             ]
            ],
            "type": "heatmap"
           }
          ],
          "heatmapgl": [
           {
            "colorbar": {
             "outlinewidth": 0,
             "ticks": ""
            },
            "colorscale": [
             [
              0,
              "#0d0887"
             ],
             [
              0.1111111111111111,
              "#46039f"
             ],
             [
              0.2222222222222222,
              "#7201a8"
             ],
             [
              0.3333333333333333,
              "#9c179e"
             ],
             [
              0.4444444444444444,
              "#bd3786"
             ],
             [
              0.5555555555555556,
              "#d8576b"
             ],
             [
              0.6666666666666666,
              "#ed7953"
             ],
             [
              0.7777777777777778,
              "#fb9f3a"
             ],
             [
              0.8888888888888888,
              "#fdca26"
             ],
             [
              1,
              "#f0f921"
             ]
            ],
            "type": "heatmapgl"
           }
          ],
          "histogram": [
           {
            "marker": {
             "colorbar": {
              "outlinewidth": 0,
              "ticks": ""
             }
            },
            "type": "histogram"
           }
          ],
          "histogram2d": [
           {
            "colorbar": {
             "outlinewidth": 0,
             "ticks": ""
            },
            "colorscale": [
             [
              0,
              "#0d0887"
             ],
             [
              0.1111111111111111,
              "#46039f"
             ],
             [
              0.2222222222222222,
              "#7201a8"
             ],
             [
              0.3333333333333333,
              "#9c179e"
             ],
             [
              0.4444444444444444,
              "#bd3786"
             ],
             [
              0.5555555555555556,
              "#d8576b"
             ],
             [
              0.6666666666666666,
              "#ed7953"
             ],
             [
              0.7777777777777778,
              "#fb9f3a"
             ],
             [
              0.8888888888888888,
              "#fdca26"
             ],
             [
              1,
              "#f0f921"
             ]
            ],
            "type": "histogram2d"
           }
          ],
          "histogram2dcontour": [
           {
            "colorbar": {
             "outlinewidth": 0,
             "ticks": ""
            },
            "colorscale": [
             [
              0,
              "#0d0887"
             ],
             [
              0.1111111111111111,
              "#46039f"
             ],
             [
              0.2222222222222222,
              "#7201a8"
             ],
             [
              0.3333333333333333,
              "#9c179e"
             ],
             [
              0.4444444444444444,
              "#bd3786"
             ],
             [
              0.5555555555555556,
              "#d8576b"
             ],
             [
              0.6666666666666666,
              "#ed7953"
             ],
             [
              0.7777777777777778,
              "#fb9f3a"
             ],
             [
              0.8888888888888888,
              "#fdca26"
             ],
             [
              1,
              "#f0f921"
             ]
            ],
            "type": "histogram2dcontour"
           }
          ],
          "mesh3d": [
           {
            "colorbar": {
             "outlinewidth": 0,
             "ticks": ""
            },
            "type": "mesh3d"
           }
          ],
          "parcoords": [
           {
            "line": {
             "colorbar": {
              "outlinewidth": 0,
              "ticks": ""
             }
            },
            "type": "parcoords"
           }
          ],
          "pie": [
           {
            "automargin": true,
            "type": "pie"
           }
          ],
          "scatter": [
           {
            "marker": {
             "colorbar": {
              "outlinewidth": 0,
              "ticks": ""
             }
            },
            "type": "scatter"
           }
          ],
          "scatter3d": [
           {
            "line": {
             "colorbar": {
              "outlinewidth": 0,
              "ticks": ""
             }
            },
            "marker": {
             "colorbar": {
              "outlinewidth": 0,
              "ticks": ""
             }
            },
            "type": "scatter3d"
           }
          ],
          "scattercarpet": [
           {
            "marker": {
             "colorbar": {
              "outlinewidth": 0,
              "ticks": ""
             }
            },
            "type": "scattercarpet"
           }
          ],
          "scattergeo": [
           {
            "marker": {
             "colorbar": {
              "outlinewidth": 0,
              "ticks": ""
             }
            },
            "type": "scattergeo"
           }
          ],
          "scattergl": [
           {
            "marker": {
             "colorbar": {
              "outlinewidth": 0,
              "ticks": ""
             }
            },
            "type": "scattergl"
           }
          ],
          "scattermapbox": [
           {
            "marker": {
             "colorbar": {
              "outlinewidth": 0,
              "ticks": ""
             }
            },
            "type": "scattermapbox"
           }
          ],
          "scatterpolar": [
           {
            "marker": {
             "colorbar": {
              "outlinewidth": 0,
              "ticks": ""
             }
            },
            "type": "scatterpolar"
           }
          ],
          "scatterpolargl": [
           {
            "marker": {
             "colorbar": {
              "outlinewidth": 0,
              "ticks": ""
             }
            },
            "type": "scatterpolargl"
           }
          ],
          "scatterternary": [
           {
            "marker": {
             "colorbar": {
              "outlinewidth": 0,
              "ticks": ""
             }
            },
            "type": "scatterternary"
           }
          ],
          "surface": [
           {
            "colorbar": {
             "outlinewidth": 0,
             "ticks": ""
            },
            "colorscale": [
             [
              0,
              "#0d0887"
             ],
             [
              0.1111111111111111,
              "#46039f"
             ],
             [
              0.2222222222222222,
              "#7201a8"
             ],
             [
              0.3333333333333333,
              "#9c179e"
             ],
             [
              0.4444444444444444,
              "#bd3786"
             ],
             [
              0.5555555555555556,
              "#d8576b"
             ],
             [
              0.6666666666666666,
              "#ed7953"
             ],
             [
              0.7777777777777778,
              "#fb9f3a"
             ],
             [
              0.8888888888888888,
              "#fdca26"
             ],
             [
              1,
              "#f0f921"
             ]
            ],
            "type": "surface"
           }
          ],
          "table": [
           {
            "cells": {
             "fill": {
              "color": "#EBF0F8"
             },
             "line": {
              "color": "white"
             }
            },
            "header": {
             "fill": {
              "color": "#C8D4E3"
             },
             "line": {
              "color": "white"
             }
            },
            "type": "table"
           }
          ]
         },
         "layout": {
          "annotationdefaults": {
           "arrowcolor": "#2a3f5f",
           "arrowhead": 0,
           "arrowwidth": 1
          },
          "autotypenumbers": "strict",
          "coloraxis": {
           "colorbar": {
            "outlinewidth": 0,
            "ticks": ""
           }
          },
          "colorscale": {
           "diverging": [
            [
             0,
             "#8e0152"
            ],
            [
             0.1,
             "#c51b7d"
            ],
            [
             0.2,
             "#de77ae"
            ],
            [
             0.3,
             "#f1b6da"
            ],
            [
             0.4,
             "#fde0ef"
            ],
            [
             0.5,
             "#f7f7f7"
            ],
            [
             0.6,
             "#e6f5d0"
            ],
            [
             0.7,
             "#b8e186"
            ],
            [
             0.8,
             "#7fbc41"
            ],
            [
             0.9,
             "#4d9221"
            ],
            [
             1,
             "#276419"
            ]
           ],
           "sequential": [
            [
             0,
             "#0d0887"
            ],
            [
             0.1111111111111111,
             "#46039f"
            ],
            [
             0.2222222222222222,
             "#7201a8"
            ],
            [
             0.3333333333333333,
             "#9c179e"
            ],
            [
             0.4444444444444444,
             "#bd3786"
            ],
            [
             0.5555555555555556,
             "#d8576b"
            ],
            [
             0.6666666666666666,
             "#ed7953"
            ],
            [
             0.7777777777777778,
             "#fb9f3a"
            ],
            [
             0.8888888888888888,
             "#fdca26"
            ],
            [
             1,
             "#f0f921"
            ]
           ],
           "sequentialminus": [
            [
             0,
             "#0d0887"
            ],
            [
             0.1111111111111111,
             "#46039f"
            ],
            [
             0.2222222222222222,
             "#7201a8"
            ],
            [
             0.3333333333333333,
             "#9c179e"
            ],
            [
             0.4444444444444444,
             "#bd3786"
            ],
            [
             0.5555555555555556,
             "#d8576b"
            ],
            [
             0.6666666666666666,
             "#ed7953"
            ],
            [
             0.7777777777777778,
             "#fb9f3a"
            ],
            [
             0.8888888888888888,
             "#fdca26"
            ],
            [
             1,
             "#f0f921"
            ]
           ]
          },
          "colorway": [
           "#636efa",
           "#EF553B",
           "#00cc96",
           "#ab63fa",
           "#FFA15A",
           "#19d3f3",
           "#FF6692",
           "#B6E880",
           "#FF97FF",
           "#FECB52"
          ],
          "font": {
           "color": "#2a3f5f"
          },
          "geo": {
           "bgcolor": "white",
           "lakecolor": "white",
           "landcolor": "#E5ECF6",
           "showlakes": true,
           "showland": true,
           "subunitcolor": "white"
          },
          "hoverlabel": {
           "align": "left"
          },
          "hovermode": "closest",
          "mapbox": {
           "style": "light"
          },
          "paper_bgcolor": "white",
          "plot_bgcolor": "#E5ECF6",
          "polar": {
           "angularaxis": {
            "gridcolor": "white",
            "linecolor": "white",
            "ticks": ""
           },
           "bgcolor": "#E5ECF6",
           "radialaxis": {
            "gridcolor": "white",
            "linecolor": "white",
            "ticks": ""
           }
          },
          "scene": {
           "xaxis": {
            "backgroundcolor": "#E5ECF6",
            "gridcolor": "white",
            "gridwidth": 2,
            "linecolor": "white",
            "showbackground": true,
            "ticks": "",
            "zerolinecolor": "white"
           },
           "yaxis": {
            "backgroundcolor": "#E5ECF6",
            "gridcolor": "white",
            "gridwidth": 2,
            "linecolor": "white",
            "showbackground": true,
            "ticks": "",
            "zerolinecolor": "white"
           },
           "zaxis": {
            "backgroundcolor": "#E5ECF6",
            "gridcolor": "white",
            "gridwidth": 2,
            "linecolor": "white",
            "showbackground": true,
            "ticks": "",
            "zerolinecolor": "white"
           }
          },
          "shapedefaults": {
           "line": {
            "color": "#2a3f5f"
           }
          },
          "ternary": {
           "aaxis": {
            "gridcolor": "white",
            "linecolor": "white",
            "ticks": ""
           },
           "baxis": {
            "gridcolor": "white",
            "linecolor": "white",
            "ticks": ""
           },
           "bgcolor": "#E5ECF6",
           "caxis": {
            "gridcolor": "white",
            "linecolor": "white",
            "ticks": ""
           }
          },
          "title": {
           "x": 0.05
          },
          "xaxis": {
           "automargin": true,
           "gridcolor": "white",
           "linecolor": "white",
           "ticks": "",
           "title": {
            "standoff": 15
           },
           "zerolinecolor": "white",
           "zerolinewidth": 2
          },
          "yaxis": {
           "automargin": true,
           "gridcolor": "white",
           "linecolor": "white",
           "ticks": "",
           "title": {
            "standoff": 15
           },
           "zerolinecolor": "white",
           "zerolinewidth": 2
          }
         }
        },
        "width": 400,
        "xaxis": {
         "anchor": "y",
         "domain": [
          0,
          1
         ],
         "title": {
          "text": "Excitation Style"
         }
        },
        "yaxis": {
         "anchor": "x",
         "domain": [
          0,
          1
         ],
         "title": {
          "text": "Number"
         }
        }
       }
      }
     },
     "metadata": {}
    }
   ],
   "source": [
    "excitationStyle = pd.value_counts(dataset['excitationStyle']).reset_index()\n",
    "excitationStyle.columns = ['Excitation Style', 'Number']\n",
    "px.bar(excitationStyle, x='Excitation Style', y='Number', width=400, height=300)"
   ]
  },
  {
   "cell_type": "code",
   "execution_count": 109,
   "metadata": {},
   "outputs": [
    {
     "output_type": "execute_result",
     "data": {
      "text/plain": [
       "378"
      ]
     },
     "metadata": {},
     "execution_count": 109
    }
   ],
   "source": [
    "count = 0\n",
    "for i in range(dataset.shape[0]):\n",
    "    if (dataset['expressionStyle'][i] == 'NO') and \\\n",
    "       (dataset['excitationStyle'][i] == 'PK'):\n",
    "        count += 1\n",
    "count"
   ]
  },
  {
   "cell_type": "code",
   "execution_count": 110,
   "metadata": {},
   "outputs": [],
   "source": [
    "def get_features(path, start_time, duration, sr=44100, n_mfcc=13, mode='mirror', n_fft=1024, hop_length=512):\n",
    "    signal, sr = librosa.load(path, sr=sr, offset=start_time, duration=duration)\n",
    "\n",
    "    mfcc = librosa.feature.mfcc(y=signal, sr=sr, n_mfcc=n_mfcc, n_fft=n_fft, hop_length=hop_length)\n",
    "    delta_mfcc = librosa.feature.delta(mfcc, mode=mode)\n",
    "    delta2_mfcc = librosa.feature.delta(mfcc, mode=mode, order=2)\n",
    "\n",
    "    mfccs = np.hstack((\n",
    "                    np.mean(mfcc, axis=1),\n",
    "                    np.std(mfcc, axis=1),\n",
    "                    skew(mfcc, axis=1),\n",
    "                    kurtosis(mfcc, axis=1)\n",
    "                ))\n",
    "    delta_mfccs = np.hstack((\n",
    "                    np.mean(delta_mfcc, axis=1),\n",
    "                    np.std(delta_mfcc, axis=1),\n",
    "                    skew(delta_mfcc, axis=1),\n",
    "                    kurtosis(delta_mfcc, axis=1)\n",
    "                ))\n",
    "    delta2_mfccs = np.hstack((\n",
    "                    np.mean(delta2_mfcc, axis=1),\n",
    "                    np.std(delta2_mfcc, axis=1),\n",
    "                    skew(delta2_mfcc, axis=1),\n",
    "                    kurtosis(delta2_mfcc, axis=1)\n",
    "                ))\n",
    "\n",
    "    extracted_features = np.hstack((mfccs, delta_mfccs, delta2_mfccs))\n",
    "    return extracted_features"
   ]
  },
  {
   "cell_type": "code",
   "execution_count": 111,
   "metadata": {},
   "outputs": [
    {
     "output_type": "stream",
     "name": "stderr",
     "text": [
      "100%|██████████| 1323/1323 [00:44<00:00, 29.49it/s]\n"
     ]
    }
   ],
   "source": [
    "data = []\n",
    "for i in tqdm(range(dataset.shape[0])):\n",
    "    filename = dataset['audioFileName'][i]\n",
    "    expression_style = dataset['expressionStyle'][i]\n",
    "    excitation_style = dataset['excitationStyle'][i]\n",
    "    onset = dataset['onsetSec'][i]\n",
    "    duration = dataset['duration'][i]\n",
    "    audio_path = os.path.join(AUDIO_PATH_ROOT, filename)\n",
    "\n",
    "    features = get_features(audio_path, onset, duration)\n",
    "    features = np.append(features, [expression_style, excitation_style, onset, duration, filename])\n",
    "    data.append(features)"
   ]
  },
  {
   "cell_type": "code",
   "execution_count": 112,
   "metadata": {},
   "outputs": [
    {
     "output_type": "execute_result",
     "data": {
      "text/plain": [
       "(1323, 161)"
      ]
     },
     "metadata": {},
     "execution_count": 112
    }
   ],
   "source": [
    "columns = []\n",
    "names = ['mfcc', 'delta_mfcc', 'delta2_mfcc']\n",
    "stats = ['mean', 'std', 'skew', 'kurtosis']\n",
    "file_desc = ['expression_style', 'excitation_style', 'start_time', 'duration', 'filename']\n",
    "\n",
    "for name in names:\n",
    "    for stat in stats:\n",
    "        for i in range(13):\n",
    "            col = f'{stat}_{name}_{i+1}'\n",
    "            columns = np.append(columns, col)\n",
    "\n",
    "columns = np.append(columns, file_desc)\n",
    "my_dataset = pd.DataFrame(data, columns=columns)\n",
    "my_dataset.shape"
   ]
  },
  {
   "cell_type": "code",
   "execution_count": 113,
   "metadata": {},
   "outputs": [],
   "source": [
    "my_dataset.to_csv('../data/guitar.csv', index=False)"
   ]
  },
  {
   "cell_type": "code",
   "execution_count": 116,
   "metadata": {},
   "outputs": [
    {
     "output_type": "stream",
     "name": "stdout",
     "text": [
      "AR_Lick11_FNVSBHD.wav\nAR_Lick11_FNVSBHD.wav\nAR_Lick11_FNVSBHD.wav\nAR_Lick11_FNVSBHD.wav\nAR_Lick11_FNVSBHD.wav\nAR_Lick11_FNVSBHD.wav\nAR_Lick11_FNVSBHD.wav\nAR_Lick11_FNVSBHD.wav\nAR_Lick11_FNVSBHD.wav\nAR_Lick11_FNVSBHD.wav\nAR_Lick11_FNVSBHD.wav\nAR_Lick11_FNVSBHD.wav\nAR_Lick11_FNVSBHD.wav\nAR_Lick11_FNVSBHD.wav\nAR_Lick11_FNVSBHD.wav\nAR_Lick11_FNVSBHD.wav\nAR_Lick11_FNVSBHD.wav\nAR_Lick11_FNVSBHD.wav\nAR_Lick11_FNVSBHD.wav\nAR_Lick11_FNVSBHD.wav\nAR_Lick11_FNVSBHD.wav\nAR_Lick11_FNVSBHD.wav\nAR_Lick11_FNVSBHD.wav\nAR_Lick11_FNVSBHD.wav\nAR_Lick11_FNVSBHD.wav\nAR_Lick11_FNVSBHD.wav\nAR_Lick11_FNVSBHD.wav\nAR_Lick11_FNVSBHD.wav\nAR_Lick11_FNVSBHD.wav\nAR_Lick11_FNVSBHD.wav\nAR_Lick11_FNVSBHD.wav\nAR_Lick11_FNVSBHD.wav\nAR_Lick11_FNVSBHD.wav\nAR_Lick11_FNVSBHD.wav\nAR_Lick11_FNVSBHD.wav\nAR_Lick11_FNVSBHD.wav\nAR_Lick11_FNVSBHD.wav\nAR_Lick11_FNVSBHD.wav\nAR_Lick11_FNVSBHD.wav\nAR_Lick11_FNVSBHD.wav\nAR_Lick11_FNVSBHD.wav\nAR_Lick11_FNVSBHD.wav\nAR_Lick11_FNVSBHD.wav\nAR_Lick11_FNVSBHD.wav\nAR_Lick11_FNVSBHD.wav\nAR_Lick11_FNVSBHD.wav\nAR_Lick11_FNVSBHD.wav\nAR_Lick11_FNVSBHD.wav\nAR_Lick11_FNVSBHD.wav\nAR_Lick11_FNVSBHD.wav\nAR_Lick11_FNVSBHD.wav\nAR_Lick11_FNVSBHD.wav\nAR_Lick11_FNVSBHD.wav\nAR_Lick11_FNVSBHD.wav\nAR_Lick11_FNVSBHD.wav\nAR_Lick11_FNVSBHD.wav\nAR_Lick11_FNVSBHD.wav\nAR_Lick11_FNVSBHD.wav\nAR_Lick11_FNVSBHD.wav\nAR_Lick11_FNVSBHD.wav\nAR_Lick11_FNVSBHD.wav\nAR_Lick11_FNVSBHD.wav\nAR_Lick11_FNVSBHD.wav\nAR_Lick11_FNVSBHD.wav\nAR_Lick11_FNVSBHD.wav\nAR_Lick11_FNVSBHD.wav\nAR_Lick11_FNVSBHD.wav\nAR_Lick11_KNVSBHD.wav\nAR_Lick11_KNVSBHD.wav\nAR_Lick11_KNVSBHD.wav\nAR_Lick11_KNVSBHD.wav\nAR_Lick11_KNVSBHD.wav\nAR_Lick11_KNVSBHD.wav\nAR_Lick11_KNVSBHD.wav\nAR_Lick11_KNVSBHD.wav\nAR_Lick11_KNVSBHD.wav\nAR_Lick11_KNVSBHD.wav\nAR_Lick11_KNVSBHD.wav\nAR_Lick11_KNVSBHD.wav\nAR_Lick11_KNVSBHD.wav\nAR_Lick11_KNVSBHD.wav\nAR_Lick11_KNVSBHD.wav\nAR_Lick11_KNVSBHD.wav\nAR_Lick11_KNVSBHD.wav\nAR_Lick11_KNVSBHD.wav\nAR_Lick11_KNVSBHD.wav\nAR_Lick11_KNVSBHD.wav\nAR_Lick11_KNVSBHD.wav\nAR_Lick11_KNVSBHD.wav\nAR_Lick11_KNVSBHD.wav\nAR_Lick1_FVSDN.wav\nAR_Lick1_FVSDN.wav\nAR_Lick1_FVSDN.wav\nAR_Lick1_FVSDN.wav\nAR_Lick1_FVSDN.wav\nAR_Lick1_FVSDN.wav\nAR_Lick1_FVSDN.wav\nAR_Lick1_FVSDN.wav\nAR_Lick1_FVSDN.wav\nAR_Lick1_FVSDN.wav\nAR_Lick1_FVSDN.wav\nAR_Lick1_FVSDN.wav\nAR_Lick1_FVSDN.wav\nAR_Lick1_KVSDN.wav\nAR_Lick1_KVSDN.wav\nAR_Lick1_KVSDN.wav\nAR_Lick1_KVSDN.wav\nAR_Lick2_FVSH.wav\nAR_Lick2_FVSH.wav\nAR_Lick2_FVSH.wav\nAR_Lick2_FVSH.wav\nAR_Lick2_FVSH.wav\nAR_Lick2_FVSH.wav\nAR_Lick2_FVSH.wav\nAR_Lick2_FVSH.wav\nAR_Lick2_FVSH.wav\nAR_Lick2_FVSH.wav\nAR_Lick2_FVSH.wav\nAR_Lick2_FVSH.wav\nAR_Lick2_FVSH.wav\nAR_Lick2_FVSH.wav\nAR_Lick2_FVSH.wav\nAR_Lick2_FVSH.wav\nAR_Lick2_FVSH.wav\nAR_Lick2_KVSH.wav\nAR_Lick2_KVSH.wav\nAR_Lick2_KVSH.wav\nAR_Lick2_KVSH.wav\nAR_Lick2_KVSH.wav\nAR_Lick2_KVSH.wav\nAR_Lick2_KVSH.wav\nAR_Lick2_KVSH.wav\nAR_Lick3_FSBDN.wav\nAR_Lick3_FSBDN.wav\nAR_Lick3_FSBDN.wav\nAR_Lick3_FSBDN.wav\nAR_Lick3_FSBDN.wav\nAR_Lick3_FSBDN.wav\nAR_Lick3_FSBDN.wav\nAR_Lick3_FSBDN.wav\nAR_Lick3_FSBDN.wav\nAR_Lick3_FSBDN.wav\nAR_Lick3_FSBDN.wav\nAR_Lick3_FSBDN.wav\nAR_Lick3_FSBDN.wav\nAR_Lick3_KSBDN.wav\nAR_Lick3_KSBDN.wav\nAR_Lick3_KSBDN.wav\nAR_Lick4_FBSH.wav\nAR_Lick4_FBSH.wav\nAR_Lick4_FBSH.wav\nAR_Lick4_FBSH.wav\nAR_Lick4_FBSH.wav\nAR_Lick4_FBSH.wav\nAR_Lick4_FBSH.wav\nAR_Lick4_FBSH.wav\nAR_Lick4_FBSH.wav\nAR_Lick4_FBSH.wav\nAR_Lick4_KBSH.wav\nAR_Lick4_KBSH.wav\nAR_Lick4_KBSH.wav\nAR_Lick4_KBSH.wav\nAR_Lick5_FBVDN.wav\nAR_Lick5_FBVDN.wav\nAR_Lick5_FBVDN.wav\nAR_Lick5_FBVDN.wav\nAR_Lick5_FBVDN.wav\nAR_Lick5_FBVDN.wav\nAR_Lick5_FBVDN.wav\nAR_Lick5_FBVDN.wav\nAR_Lick5_FBVDN.wav\nAR_Lick5_KBVDN.wav\nAR_Lick5_KBVDN.wav\nAR_Lick5_KBVDN.wav\nAR_Lick5_KBVDN.wav\nAR_Lick5_KBVDN.wav\nAR_Lick5_KBVDN.wav\nAR_Lick5_KBVDN.wav\nAR_Lick6_FHBV.wav\nAR_Lick6_FHBV.wav\nAR_Lick6_FHBV.wav\nAR_Lick6_FHBV.wav\nAR_Lick6_FHBV.wav\nAR_Lick6_FHBV.wav\nAR_Lick6_FHBV.wav\nAR_Lick6_FHBV.wav\nAR_Lick6_KHBV.wav\nAR_Lick6_KHBV.wav\nAR_Lick6_KHBV.wav\nAR_Lick6_KHBV.wav\nAR_Lick6_KHBV.wav\nFS_Lick11_FNVSBHD.wav\nFS_Lick11_FNVSBHD.wav\nFS_Lick11_FNVSBHD.wav\nFS_Lick11_FNVSBHD.wav\nFS_Lick11_FNVSBHD.wav\nFS_Lick11_FNVSBHD.wav\nFS_Lick11_FNVSBHD.wav\nFS_Lick11_FNVSBHD.wav\nFS_Lick11_FNVSBHD.wav\nFS_Lick11_FNVSBHD.wav\nFS_Lick11_FNVSBHD.wav\nFS_Lick11_FNVSBHD.wav\nFS_Lick11_FNVSBHD.wav\nFS_Lick11_FNVSBHD.wav\nFS_Lick11_FNVSBHD.wav\nFS_Lick11_FNVSBHD.wav\nFS_Lick11_FNVSBHD.wav\nFS_Lick11_FNVSBHD.wav\nFS_Lick11_FNVSBHD.wav\nFS_Lick11_FNVSBHD.wav\nFS_Lick11_FNVSBHD.wav\nFS_Lick11_FNVSBHD.wav\nFS_Lick11_FNVSBHD.wav\nFS_Lick11_FNVSBHD.wav\nFS_Lick11_FNVSBHD.wav\nFS_Lick11_FNVSBHD.wav\nFS_Lick11_FNVSBHD.wav\nFS_Lick11_FNVSBHD.wav\nFS_Lick11_FNVSBHD.wav\nFS_Lick11_FNVSBHD.wav\nFS_Lick11_FNVSBHD.wav\nFS_Lick11_FNVSBHD.wav\nFS_Lick11_FNVSBHD.wav\nFS_Lick11_FNVSBHD.wav\nFS_Lick11_FNVSBHD.wav\nFS_Lick11_FNVSBHD.wav\nFS_Lick11_FNVSBHD.wav\nFS_Lick11_FNVSBHD.wav\nFS_Lick11_FNVSBHD.wav\nFS_Lick11_FNVSBHD.wav\nFS_Lick11_FNVSBHD.wav\nFS_Lick11_FNVSBHD.wav\nFS_Lick11_FNVSBHD.wav\nFS_Lick11_FNVSBHD.wav\nFS_Lick11_FNVSBHD.wav\nFS_Lick11_FNVSBHD.wav\nFS_Lick11_FNVSBHD.wav\nFS_Lick11_FNVSBHD.wav\nFS_Lick11_FNVSBHD.wav\nFS_Lick11_FNVSBHD.wav\nFS_Lick11_FNVSBHD.wav\nFS_Lick11_FNVSBHD.wav\nFS_Lick11_FNVSBHD.wav\nFS_Lick11_FNVSBHD.wav\nFS_Lick11_FNVSBHD.wav\nFS_Lick11_FNVSBHD.wav\nFS_Lick11_FNVSBHD.wav\nFS_Lick11_FNVSBHD.wav\nFS_Lick11_FNVSBHD.wav\nFS_Lick11_FNVSBHD.wav\nFS_Lick11_FNVSBHD.wav\nFS_Lick11_FNVSBHD.wav\nFS_Lick11_FNVSBHD.wav\nFS_Lick11_FNVSBHD.wav\nFS_Lick11_FNVSBHD.wav\nFS_Lick11_FNVSBHD.wav\nFS_Lick11_FNVSBHD.wav\nFS_Lick11_KNVSBHD.wav\nFS_Lick11_KNVSBHD.wav\nFS_Lick11_KNVSBHD.wav\nFS_Lick11_KNVSBHD.wav\nFS_Lick11_KNVSBHD.wav\nFS_Lick11_KNVSBHD.wav\nFS_Lick11_KNVSBHD.wav\nFS_Lick11_KNVSBHD.wav\nFS_Lick11_KNVSBHD.wav\nFS_Lick11_KNVSBHD.wav\nFS_Lick11_KNVSBHD.wav\nFS_Lick11_KNVSBHD.wav\nFS_Lick11_KNVSBHD.wav\nFS_Lick11_KNVSBHD.wav\nFS_Lick11_KNVSBHD.wav\nFS_Lick11_KNVSBHD.wav\nFS_Lick11_KNVSBHD.wav\nFS_Lick11_KNVSBHD.wav\nFS_Lick11_KNVSBHD.wav\nFS_Lick11_KNVSBHD.wav\nFS_Lick11_KNVSBHD.wav\nFS_Lick11_KNVSBHD.wav\nFS_Lick11_KNVSBHD.wav\nFS_Lick1_FVSDN.wav\nFS_Lick1_FVSDN.wav\nFS_Lick1_FVSDN.wav\nFS_Lick1_FVSDN.wav\nFS_Lick1_FVSDN.wav\nFS_Lick1_FVSDN.wav\nFS_Lick1_FVSDN.wav\nFS_Lick1_FVSDN.wav\nFS_Lick1_FVSDN.wav\nFS_Lick1_FVSDN.wav\nFS_Lick1_FVSDN.wav\nFS_Lick1_FVSDN.wav\nFS_Lick1_FVSDN.wav\nFS_Lick1_KVSDN.wav\nFS_Lick1_KVSDN.wav\nFS_Lick1_KVSDN.wav\nFS_Lick1_KVSDN.wav\nFS_Lick2_FVSH.wav\nFS_Lick2_FVSH.wav\nFS_Lick2_FVSH.wav\nFS_Lick2_FVSH.wav\nFS_Lick2_FVSH.wav\nFS_Lick2_FVSH.wav\nFS_Lick2_FVSH.wav\nFS_Lick2_FVSH.wav\nFS_Lick2_FVSH.wav\nFS_Lick2_FVSH.wav\nFS_Lick2_FVSH.wav\nFS_Lick2_FVSH.wav\nFS_Lick2_FVSH.wav\nFS_Lick2_FVSH.wav\nFS_Lick2_FVSH.wav\nFS_Lick2_FVSH.wav\nFS_Lick2_FVSH.wav\nFS_Lick2_KVSH.wav\nFS_Lick2_KVSH.wav\nFS_Lick2_KVSH.wav\nFS_Lick2_KVSH.wav\nFS_Lick2_KVSH.wav\nFS_Lick2_KVSH.wav\nFS_Lick2_KVSH.wav\nFS_Lick2_KVSH.wav\nFS_Lick3_FSBDN.wav\nFS_Lick3_FSBDN.wav\nFS_Lick3_FSBDN.wav\nFS_Lick3_FSBDN.wav\nFS_Lick3_FSBDN.wav\nFS_Lick3_FSBDN.wav\nFS_Lick3_FSBDN.wav\nFS_Lick3_FSBDN.wav\nFS_Lick3_FSBDN.wav\nFS_Lick3_FSBDN.wav\nFS_Lick3_FSBDN.wav\nFS_Lick3_FSBDN.wav\nFS_Lick3_FSBDN.wav\nFS_Lick3_KSBDN.wav\nFS_Lick3_KSBDN.wav\nFS_Lick3_KSBDN.wav\nFS_Lick4_FBSH.wav\nFS_Lick4_FBSH.wav\nFS_Lick4_FBSH.wav\nFS_Lick4_FBSH.wav\nFS_Lick4_FBSH.wav\nFS_Lick4_FBSH.wav\nFS_Lick4_FBSH.wav\nFS_Lick4_FBSH.wav\nFS_Lick4_FBSH.wav\nFS_Lick4_FBSH.wav\nFS_Lick4_KBSH.wav\nFS_Lick4_KBSH.wav\nFS_Lick4_KBSH.wav\nFS_Lick4_KBSH.wav\nFS_Lick5_FBVDN.wav\nFS_Lick5_FBVDN.wav\nFS_Lick5_FBVDN.wav\nFS_Lick5_FBVDN.wav\nFS_Lick5_FBVDN.wav\nFS_Lick5_FBVDN.wav\nFS_Lick5_FBVDN.wav\nFS_Lick5_FBVDN.wav\nFS_Lick5_FBVDN.wav\nFS_Lick5_KBVDN.wav\nFS_Lick5_KBVDN.wav\nFS_Lick5_KBVDN.wav\nFS_Lick5_KBVDN.wav\nFS_Lick5_KBVDN.wav\nFS_Lick5_KBVDN.wav\nFS_Lick5_KBVDN.wav\nFS_Lick6_FHBV.wav\nFS_Lick6_FHBV.wav\nFS_Lick6_FHBV.wav\nFS_Lick6_FHBV.wav\nFS_Lick6_FHBV.wav\nFS_Lick6_FHBV.wav\nFS_Lick6_FHBV.wav\nFS_Lick6_FHBV.wav\nFS_Lick6_KHBV.wav\nFS_Lick6_KHBV.wav\nFS_Lick6_KHBV.wav\nFS_Lick6_KHBV.wav\nFS_Lick6_KHBV.wav\nLP_Lick11_FNVSBHD.wav\nLP_Lick11_FNVSBHD.wav\nLP_Lick11_FNVSBHD.wav\nLP_Lick11_FNVSBHD.wav\nLP_Lick11_FNVSBHD.wav\nLP_Lick11_FNVSBHD.wav\nLP_Lick11_FNVSBHD.wav\nLP_Lick11_FNVSBHD.wav\nLP_Lick11_FNVSBHD.wav\nLP_Lick11_FNVSBHD.wav\nLP_Lick11_FNVSBHD.wav\nLP_Lick11_FNVSBHD.wav\nLP_Lick11_FNVSBHD.wav\nLP_Lick11_FNVSBHD.wav\nLP_Lick11_FNVSBHD.wav\nLP_Lick11_FNVSBHD.wav\nLP_Lick11_FNVSBHD.wav\nLP_Lick11_FNVSBHD.wav\nLP_Lick11_FNVSBHD.wav\nLP_Lick11_FNVSBHD.wav\nLP_Lick11_FNVSBHD.wav\nLP_Lick11_FNVSBHD.wav\nLP_Lick11_FNVSBHD.wav\nLP_Lick11_FNVSBHD.wav\nLP_Lick11_FNVSBHD.wav\nLP_Lick11_FNVSBHD.wav\nLP_Lick11_FNVSBHD.wav\nLP_Lick11_FNVSBHD.wav\nLP_Lick11_FNVSBHD.wav\nLP_Lick11_FNVSBHD.wav\nLP_Lick11_FNVSBHD.wav\nLP_Lick11_FNVSBHD.wav\nLP_Lick11_FNVSBHD.wav\nLP_Lick11_FNVSBHD.wav\nLP_Lick11_FNVSBHD.wav\nLP_Lick11_FNVSBHD.wav\nLP_Lick11_FNVSBHD.wav\nLP_Lick11_FNVSBHD.wav\nLP_Lick11_FNVSBHD.wav\nLP_Lick11_FNVSBHD.wav\nLP_Lick11_FNVSBHD.wav\nLP_Lick11_FNVSBHD.wav\nLP_Lick11_FNVSBHD.wav\nLP_Lick11_FNVSBHD.wav\nLP_Lick11_FNVSBHD.wav\nLP_Lick11_FNVSBHD.wav\nLP_Lick11_FNVSBHD.wav\nLP_Lick11_FNVSBHD.wav\nLP_Lick11_FNVSBHD.wav\nLP_Lick11_FNVSBHD.wav\nLP_Lick11_FNVSBHD.wav\nLP_Lick11_FNVSBHD.wav\nLP_Lick11_FNVSBHD.wav\nLP_Lick11_FNVSBHD.wav\nLP_Lick11_FNVSBHD.wav\nLP_Lick11_FNVSBHD.wav\nLP_Lick11_FNVSBHD.wav\nLP_Lick11_FNVSBHD.wav\nLP_Lick11_FNVSBHD.wav\nLP_Lick11_FNVSBHD.wav\nLP_Lick11_FNVSBHD.wav\nLP_Lick11_FNVSBHD.wav\nLP_Lick11_FNVSBHD.wav\nLP_Lick11_FNVSBHD.wav\nLP_Lick11_FNVSBHD.wav\nLP_Lick11_FNVSBHD.wav\nLP_Lick11_FNVSBHD.wav\nLP_Lick11_KNVSBHD.wav\nLP_Lick11_KNVSBHD.wav\nLP_Lick11_KNVSBHD.wav\nLP_Lick11_KNVSBHD.wav\nLP_Lick11_KNVSBHD.wav\nLP_Lick11_KNVSBHD.wav\nLP_Lick11_KNVSBHD.wav\nLP_Lick11_KNVSBHD.wav\nLP_Lick11_KNVSBHD.wav\nLP_Lick11_KNVSBHD.wav\nLP_Lick11_KNVSBHD.wav\nLP_Lick11_KNVSBHD.wav\nLP_Lick11_KNVSBHD.wav\nLP_Lick11_KNVSBHD.wav\nLP_Lick11_KNVSBHD.wav\nLP_Lick11_KNVSBHD.wav\nLP_Lick11_KNVSBHD.wav\nLP_Lick11_KNVSBHD.wav\nLP_Lick11_KNVSBHD.wav\nLP_Lick11_KNVSBHD.wav\nLP_Lick11_KNVSBHD.wav\nLP_Lick11_KNVSBHD.wav\nLP_Lick11_KNVSBHD.wav\nLP_Lick1_FVSDN.wav\nLP_Lick1_FVSDN.wav\nLP_Lick1_FVSDN.wav\nLP_Lick1_FVSDN.wav\nLP_Lick1_FVSDN.wav\nLP_Lick1_FVSDN.wav\nLP_Lick1_FVSDN.wav\nLP_Lick1_FVSDN.wav\nLP_Lick1_FVSDN.wav\nLP_Lick1_FVSDN.wav\nLP_Lick1_FVSDN.wav\nLP_Lick1_FVSDN.wav\nLP_Lick1_FVSDN.wav\nLP_Lick1_KVSDN.wav\nLP_Lick1_KVSDN.wav\nLP_Lick1_KVSDN.wav\nLP_Lick1_KVSDN.wav\nLP_Lick2_FVSH.wav\nLP_Lick2_FVSH.wav\nLP_Lick2_FVSH.wav\nLP_Lick2_FVSH.wav\nLP_Lick2_FVSH.wav\nLP_Lick2_FVSH.wav\nLP_Lick2_FVSH.wav\nLP_Lick2_FVSH.wav\nLP_Lick2_FVSH.wav\nLP_Lick2_FVSH.wav\nLP_Lick2_FVSH.wav\nLP_Lick2_FVSH.wav\nLP_Lick2_FVSH.wav\nLP_Lick2_FVSH.wav\nLP_Lick2_FVSH.wav\nLP_Lick2_FVSH.wav\nLP_Lick2_FVSH.wav\nLP_Lick2_KVSH.wav\nLP_Lick2_KVSH.wav\nLP_Lick2_KVSH.wav\nLP_Lick2_KVSH.wav\nLP_Lick2_KVSH.wav\nLP_Lick2_KVSH.wav\nLP_Lick2_KVSH.wav\nLP_Lick2_KVSH.wav\nLP_Lick3_FSBDN.wav\nLP_Lick3_FSBDN.wav\nLP_Lick3_FSBDN.wav\nLP_Lick3_FSBDN.wav\nLP_Lick3_FSBDN.wav\nLP_Lick3_FSBDN.wav\nLP_Lick3_FSBDN.wav\nLP_Lick3_FSBDN.wav\nLP_Lick3_FSBDN.wav\nLP_Lick3_FSBDN.wav\nLP_Lick3_FSBDN.wav\nLP_Lick3_FSBDN.wav\nLP_Lick3_FSBDN.wav\nLP_Lick3_KSBDN.wav\nLP_Lick3_KSBDN.wav\nLP_Lick3_KSBDN.wav\nLP_Lick4_FBSH.wav\nLP_Lick4_FBSH.wav\nLP_Lick4_FBSH.wav\nLP_Lick4_FBSH.wav\nLP_Lick4_FBSH.wav\nLP_Lick4_FBSH.wav\nLP_Lick4_FBSH.wav\nLP_Lick4_FBSH.wav\nLP_Lick4_FBSH.wav\nLP_Lick4_FBSH.wav\nLP_Lick4_KBSH.wav\nLP_Lick4_KBSH.wav\nLP_Lick4_KBSH.wav\nLP_Lick4_KBSH.wav\nLP_Lick5_FBVDN.wav\nLP_Lick5_FBVDN.wav\nLP_Lick5_FBVDN.wav\nLP_Lick5_FBVDN.wav\nLP_Lick5_FBVDN.wav\nLP_Lick5_FBVDN.wav\nLP_Lick5_FBVDN.wav\nLP_Lick5_FBVDN.wav\nLP_Lick5_FBVDN.wav\nLP_Lick5_KBVDN.wav\nLP_Lick5_KBVDN.wav\nLP_Lick5_KBVDN.wav\nLP_Lick5_KBVDN.wav\nLP_Lick5_KBVDN.wav\nLP_Lick5_KBVDN.wav\nLP_Lick5_KBVDN.wav\nLP_Lick6_FHBV.wav\nLP_Lick6_FHBV.wav\nLP_Lick6_FHBV.wav\nLP_Lick6_FHBV.wav\nLP_Lick6_FHBV.wav\nLP_Lick6_FHBV.wav\nLP_Lick6_FHBV.wav\nLP_Lick6_FHBV.wav\nLP_Lick6_KHBV.wav\nLP_Lick6_KHBV.wav\nLP_Lick6_KHBV.wav\nLP_Lick6_KHBV.wav\nLP_Lick6_KHBV.wav\n"
     ]
    }
   ],
   "source": [
    "for i in range(my_dataset.shape[0]):\n",
    "    if 'Lick' in my_dataset['filename'][i]:\n",
    "        print(my_dataset['filename'][i])"
   ]
  },
  {
   "cell_type": "code",
   "execution_count": 125,
   "metadata": {},
   "outputs": [
    {
     "output_type": "stream",
     "name": "stdout",
     "text": [
      "ACCURACY: 85.714% \nMCC: 80.112% \n              precision    recall  f1-score   support\n\n          BE       0.62      0.67      0.64        12\n          DN       1.00      1.00      1.00        30\n          HA       1.00      0.82      0.90        11\n          NO       0.84      0.92      0.88        59\n          SL       1.00      0.55      0.71        11\n          VI       0.64      0.70      0.67        10\n\n    accuracy                           0.86       133\n   macro avg       0.85      0.77      0.80       133\nweighted avg       0.87      0.86      0.86       133\n\n"
     ]
    },
    {
     "output_type": "display_data",
     "data": {
      "text/plain": "<Figure size 432x288 with 2 Axes>",
      "image/svg+xml": "<?xml version=\"1.0\" encoding=\"utf-8\" standalone=\"no\"?>\n<!DOCTYPE svg PUBLIC \"-//W3C//DTD SVG 1.1//EN\"\n  \"http://www.w3.org/Graphics/SVG/1.1/DTD/svg11.dtd\">\n<svg height=\"262.19625pt\" version=\"1.1\" viewBox=\"0 0 315.20825 262.19625\" width=\"315.20825pt\" xmlns=\"http://www.w3.org/2000/svg\" xmlns:xlink=\"http://www.w3.org/1999/xlink\">\n <metadata>\n  <rdf:RDF xmlns:cc=\"http://creativecommons.org/ns#\" xmlns:dc=\"http://purl.org/dc/elements/1.1/\" xmlns:rdf=\"http://www.w3.org/1999/02/22-rdf-syntax-ns#\">\n   <cc:Work>\n    <dc:type rdf:resource=\"http://purl.org/dc/dcmitype/StillImage\"/>\n    <dc:date>2021-07-13T18:45:19.429227</dc:date>\n    <dc:format>image/svg+xml</dc:format>\n    <dc:creator>\n     <cc:Agent>\n      <dc:title>Matplotlib v3.4.1, https://matplotlib.org/</dc:title>\n     </cc:Agent>\n    </dc:creator>\n   </cc:Work>\n  </rdf:RDF>\n </metadata>\n <defs>\n  <style type=\"text/css\">*{stroke-linecap:butt;stroke-linejoin:round;}</style>\n </defs>\n <g id=\"figure_1\">\n  <g id=\"patch_1\">\n   <path d=\"M 0 262.19625 \nL 315.20825 262.19625 \nL 315.20825 0 \nL 0 0 \nz\n\" style=\"fill:none;\"/>\n  </g>\n  <g id=\"axes_1\">\n   <g id=\"patch_2\">\n    <path d=\"M 43.23125 224.64 \nL 260.67125 224.64 \nL 260.67125 7.2 \nL 43.23125 7.2 \nz\n\" style=\"fill:#ffffff;\"/>\n   </g>\n   <g clip-path=\"url(#p1f6e0dbb5d)\">\n    <image height=\"218\" id=\"imagea9e23f1c29\" transform=\"scale(1 -1)translate(0 -218)\" width=\"218\" x=\"43.23125\" xlink:href=\"data:image/png;base64,\niVBORw0KGgoAAAANSUhEUgAAANoAAADaCAYAAADAHVzbAAADLklEQVR4nO3dMarVUBhG0XtDsNFgJ+gAVFBEwcIJiDgFa4flNAQHoZ2FOAat0invPuuYxtfsE3CtEXyEbP7ynF/fend9OpDr379GTzi8aVlGT9i4rOvoCTvT08ejJ2xMowfA/0BoEBAaBIQGAaFBQGgQEBoEhAYBoUFAaBAQGgSEBgGhQUBoEBAaBIQGAaFBQGgQEBoEhAYBoUFAaBAQGgSEBgGhQUBoEBAaBIQGAaFBQGgQEBoEhAYBoUFAaBAQGgTm0QO4uenO7dETNs73742esHP19dvoCRsuGgSEBgGhQUBoEBAaBIQGAaFBQGgQEBoEhAYBoUFAaBAQGgSEBgGhQUBoEBAaBIQGAaFBQGgQEBoEhAYBoUFAaBAQGgSEBgGhQUBoEBAaBIQGAaFBQGgQEBoEhAYBoUFAaBCYp7vL6A0bVz9+jp5weB+/fBo9YePNg+ejJ+xMy7H+axcNAkKDgNAgIDQICA0CQoOA0CAgNAgIDQJCg4DQICA0CAgNAkKDgNAgIDQICA0CQoOA0CAgNAgIDQJCg4DQICA0CAgNAkKDgNAgIDQICA0CQoOA0CAgNAgIDQJCg4DQIDB7M/ofvHo2esHG20fHep/5dFpHD9i5rMfa5KJBQGgQEBoEhAYBoUFAaBAQGgSEBgGhQUBoEBAaBIQGAaFBQGgQEBoEhAYBoUFAaBAQGgSEBgGhQUBoEBAaBIQGAaFBQGgQEBoEhAYBoUFAaBAQGgSEBgGhQUBoEBAaBObRA/72/cPL0RN2Hr7/PHrCxmX0AG7MRYOA0CAgNAgIDQJCg4DQICA0CAgNAkKDgNAgIDQICA0CQoOA0CAgNAgIDQJCg4DQICA0CAgNAkKDgNAgIDQICA0CQoOA0CAgNAgIDQJCg4DQICA0CAgNAkKDgNAgIDQICA0C8/nFk9EbNo72MPsRTcsyesLGZV1HT9g52jdy0SAgNAgIDQJCg4DQICA0CAgNAkKDgNAgIDQICA0CQoOA0CAgNAgIDQJCg4DQICA0CAgNAkKDgNAgIDQICA0CQoOA0CAgNAgIDQJCg4DQICA0CAgNAkKDgNAgIDQICA0CfwBMXCLWcY0yTAAAAABJRU5ErkJggg==\" y=\"-6.64\"/>\n   </g>\n   <g id=\"matplotlib.axis_1\">\n    <g id=\"xtick_1\">\n     <g id=\"line2d_1\">\n      <defs>\n       <path d=\"M 0 0 \nL 0 3.5 \n\" id=\"m9c74a54a76\" style=\"stroke:#000000;stroke-width:0.8;\"/>\n      </defs>\n      <g>\n       <use style=\"stroke:#000000;stroke-width:0.8;\" x=\"61.35125\" xlink:href=\"#m9c74a54a76\" y=\"224.64\"/>\n      </g>\n     </g>\n     <g id=\"text_1\">\n      <!-- BE -->\n      <g transform=\"translate(54.761406 239.238437)scale(0.1 -0.1)\">\n       <defs>\n        <path d=\"M 1259 2228 \nL 1259 519 \nL 2272 519 \nQ 2781 519 3026 730 \nQ 3272 941 3272 1375 \nQ 3272 1813 3026 2020 \nQ 2781 2228 2272 2228 \nL 1259 2228 \nz\nM 1259 4147 \nL 1259 2741 \nL 2194 2741 \nQ 2656 2741 2882 2914 \nQ 3109 3088 3109 3444 \nQ 3109 3797 2882 3972 \nQ 2656 4147 2194 4147 \nL 1259 4147 \nz\nM 628 4666 \nL 2241 4666 \nQ 2963 4666 3353 4366 \nQ 3744 4066 3744 3513 \nQ 3744 3084 3544 2831 \nQ 3344 2578 2956 2516 \nQ 3422 2416 3680 2098 \nQ 3938 1781 3938 1306 \nQ 3938 681 3513 340 \nQ 3088 0 2303 0 \nL 628 0 \nL 628 4666 \nz\n\" id=\"DejaVuSans-42\" transform=\"scale(0.015625)\"/>\n        <path d=\"M 628 4666 \nL 3578 4666 \nL 3578 4134 \nL 1259 4134 \nL 1259 2753 \nL 3481 2753 \nL 3481 2222 \nL 1259 2222 \nL 1259 531 \nL 3634 531 \nL 3634 0 \nL 628 0 \nL 628 4666 \nz\n\" id=\"DejaVuSans-45\" transform=\"scale(0.015625)\"/>\n       </defs>\n       <use xlink:href=\"#DejaVuSans-42\"/>\n       <use x=\"68.603516\" xlink:href=\"#DejaVuSans-45\"/>\n      </g>\n     </g>\n    </g>\n    <g id=\"xtick_2\">\n     <g id=\"line2d_2\">\n      <g>\n       <use style=\"stroke:#000000;stroke-width:0.8;\" x=\"97.59125\" xlink:href=\"#m9c74a54a76\" y=\"224.64\"/>\n      </g>\n     </g>\n     <g id=\"text_2\">\n      <!-- DN -->\n      <g transform=\"translate(90.000625 239.238437)scale(0.1 -0.1)\">\n       <defs>\n        <path d=\"M 1259 4147 \nL 1259 519 \nL 2022 519 \nQ 2988 519 3436 956 \nQ 3884 1394 3884 2338 \nQ 3884 3275 3436 3711 \nQ 2988 4147 2022 4147 \nL 1259 4147 \nz\nM 628 4666 \nL 1925 4666 \nQ 3281 4666 3915 4102 \nQ 4550 3538 4550 2338 \nQ 4550 1131 3912 565 \nQ 3275 0 1925 0 \nL 628 0 \nL 628 4666 \nz\n\" id=\"DejaVuSans-44\" transform=\"scale(0.015625)\"/>\n        <path d=\"M 628 4666 \nL 1478 4666 \nL 3547 763 \nL 3547 4666 \nL 4159 4666 \nL 4159 0 \nL 3309 0 \nL 1241 3903 \nL 1241 0 \nL 628 0 \nL 628 4666 \nz\n\" id=\"DejaVuSans-4e\" transform=\"scale(0.015625)\"/>\n       </defs>\n       <use xlink:href=\"#DejaVuSans-44\"/>\n       <use x=\"77.001953\" xlink:href=\"#DejaVuSans-4e\"/>\n      </g>\n     </g>\n    </g>\n    <g id=\"xtick_3\">\n     <g id=\"line2d_3\">\n      <g>\n       <use style=\"stroke:#000000;stroke-width:0.8;\" x=\"133.83125\" xlink:href=\"#m9c74a54a76\" y=\"224.64\"/>\n      </g>\n     </g>\n     <g id=\"text_3\">\n      <!-- HA -->\n      <g transform=\"translate(126.650781 239.238437)scale(0.1 -0.1)\">\n       <defs>\n        <path d=\"M 628 4666 \nL 1259 4666 \nL 1259 2753 \nL 3553 2753 \nL 3553 4666 \nL 4184 4666 \nL 4184 0 \nL 3553 0 \nL 3553 2222 \nL 1259 2222 \nL 1259 0 \nL 628 0 \nL 628 4666 \nz\n\" id=\"DejaVuSans-48\" transform=\"scale(0.015625)\"/>\n        <path d=\"M 2188 4044 \nL 1331 1722 \nL 3047 1722 \nL 2188 4044 \nz\nM 1831 4666 \nL 2547 4666 \nL 4325 0 \nL 3669 0 \nL 3244 1197 \nL 1141 1197 \nL 716 0 \nL 50 0 \nL 1831 4666 \nz\n\" id=\"DejaVuSans-41\" transform=\"scale(0.015625)\"/>\n       </defs>\n       <use xlink:href=\"#DejaVuSans-48\"/>\n       <use x=\"75.195312\" xlink:href=\"#DejaVuSans-41\"/>\n      </g>\n     </g>\n    </g>\n    <g id=\"xtick_4\">\n     <g id=\"line2d_4\">\n      <g>\n       <use style=\"stroke:#000000;stroke-width:0.8;\" x=\"170.07125\" xlink:href=\"#m9c74a54a76\" y=\"224.64\"/>\n      </g>\n     </g>\n     <g id=\"text_4\">\n      <!-- NO -->\n      <g transform=\"translate(162.394688 239.238437)scale(0.1 -0.1)\">\n       <defs>\n        <path d=\"M 2522 4238 \nQ 1834 4238 1429 3725 \nQ 1025 3213 1025 2328 \nQ 1025 1447 1429 934 \nQ 1834 422 2522 422 \nQ 3209 422 3611 934 \nQ 4013 1447 4013 2328 \nQ 4013 3213 3611 3725 \nQ 3209 4238 2522 4238 \nz\nM 2522 4750 \nQ 3503 4750 4090 4092 \nQ 4678 3434 4678 2328 \nQ 4678 1225 4090 567 \nQ 3503 -91 2522 -91 \nQ 1538 -91 948 565 \nQ 359 1222 359 2328 \nQ 359 3434 948 4092 \nQ 1538 4750 2522 4750 \nz\n\" id=\"DejaVuSans-4f\" transform=\"scale(0.015625)\"/>\n       </defs>\n       <use xlink:href=\"#DejaVuSans-4e\"/>\n       <use x=\"74.804688\" xlink:href=\"#DejaVuSans-4f\"/>\n      </g>\n     </g>\n    </g>\n    <g id=\"xtick_5\">\n     <g id=\"line2d_5\">\n      <g>\n       <use style=\"stroke:#000000;stroke-width:0.8;\" x=\"206.31125\" xlink:href=\"#m9c74a54a76\" y=\"224.64\"/>\n      </g>\n     </g>\n     <g id=\"text_5\">\n      <!-- SL -->\n      <g transform=\"translate(200.351094 239.238437)scale(0.1 -0.1)\">\n       <defs>\n        <path d=\"M 3425 4513 \nL 3425 3897 \nQ 3066 4069 2747 4153 \nQ 2428 4238 2131 4238 \nQ 1616 4238 1336 4038 \nQ 1056 3838 1056 3469 \nQ 1056 3159 1242 3001 \nQ 1428 2844 1947 2747 \nL 2328 2669 \nQ 3034 2534 3370 2195 \nQ 3706 1856 3706 1288 \nQ 3706 609 3251 259 \nQ 2797 -91 1919 -91 \nQ 1588 -91 1214 -16 \nQ 841 59 441 206 \nL 441 856 \nQ 825 641 1194 531 \nQ 1563 422 1919 422 \nQ 2459 422 2753 634 \nQ 3047 847 3047 1241 \nQ 3047 1584 2836 1778 \nQ 2625 1972 2144 2069 \nL 1759 2144 \nQ 1053 2284 737 2584 \nQ 422 2884 422 3419 \nQ 422 4038 858 4394 \nQ 1294 4750 2059 4750 \nQ 2388 4750 2728 4690 \nQ 3069 4631 3425 4513 \nz\n\" id=\"DejaVuSans-53\" transform=\"scale(0.015625)\"/>\n        <path d=\"M 628 4666 \nL 1259 4666 \nL 1259 531 \nL 3531 531 \nL 3531 0 \nL 628 0 \nL 628 4666 \nz\n\" id=\"DejaVuSans-4c\" transform=\"scale(0.015625)\"/>\n       </defs>\n       <use xlink:href=\"#DejaVuSans-53\"/>\n       <use x=\"63.476562\" xlink:href=\"#DejaVuSans-4c\"/>\n      </g>\n     </g>\n    </g>\n    <g id=\"xtick_6\">\n     <g id=\"line2d_6\">\n      <g>\n       <use style=\"stroke:#000000;stroke-width:0.8;\" x=\"242.55125\" xlink:href=\"#m9c74a54a76\" y=\"224.64\"/>\n      </g>\n     </g>\n     <g id=\"text_6\">\n      <!-- VI -->\n      <g transform=\"translate(237.655938 239.238437)scale(0.1 -0.1)\">\n       <defs>\n        <path d=\"M 1831 0 \nL 50 4666 \nL 709 4666 \nL 2188 738 \nL 3669 4666 \nL 4325 4666 \nL 2547 0 \nL 1831 0 \nz\n\" id=\"DejaVuSans-56\" transform=\"scale(0.015625)\"/>\n        <path d=\"M 628 4666 \nL 1259 4666 \nL 1259 0 \nL 628 0 \nL 628 4666 \nz\n\" id=\"DejaVuSans-49\" transform=\"scale(0.015625)\"/>\n       </defs>\n       <use xlink:href=\"#DejaVuSans-56\"/>\n       <use x=\"68.408203\" xlink:href=\"#DejaVuSans-49\"/>\n      </g>\n     </g>\n    </g>\n    <g id=\"text_7\">\n     <!-- Predicted label -->\n     <g transform=\"translate(114.798906 252.916562)scale(0.1 -0.1)\">\n      <defs>\n       <path d=\"M 1259 4147 \nL 1259 2394 \nL 2053 2394 \nQ 2494 2394 2734 2622 \nQ 2975 2850 2975 3272 \nQ 2975 3691 2734 3919 \nQ 2494 4147 2053 4147 \nL 1259 4147 \nz\nM 628 4666 \nL 2053 4666 \nQ 2838 4666 3239 4311 \nQ 3641 3956 3641 3272 \nQ 3641 2581 3239 2228 \nQ 2838 1875 2053 1875 \nL 1259 1875 \nL 1259 0 \nL 628 0 \nL 628 4666 \nz\n\" id=\"DejaVuSans-50\" transform=\"scale(0.015625)\"/>\n       <path d=\"M 2631 2963 \nQ 2534 3019 2420 3045 \nQ 2306 3072 2169 3072 \nQ 1681 3072 1420 2755 \nQ 1159 2438 1159 1844 \nL 1159 0 \nL 581 0 \nL 581 3500 \nL 1159 3500 \nL 1159 2956 \nQ 1341 3275 1631 3429 \nQ 1922 3584 2338 3584 \nQ 2397 3584 2469 3576 \nQ 2541 3569 2628 3553 \nL 2631 2963 \nz\n\" id=\"DejaVuSans-72\" transform=\"scale(0.015625)\"/>\n       <path d=\"M 3597 1894 \nL 3597 1613 \nL 953 1613 \nQ 991 1019 1311 708 \nQ 1631 397 2203 397 \nQ 2534 397 2845 478 \nQ 3156 559 3463 722 \nL 3463 178 \nQ 3153 47 2828 -22 \nQ 2503 -91 2169 -91 \nQ 1331 -91 842 396 \nQ 353 884 353 1716 \nQ 353 2575 817 3079 \nQ 1281 3584 2069 3584 \nQ 2775 3584 3186 3129 \nQ 3597 2675 3597 1894 \nz\nM 3022 2063 \nQ 3016 2534 2758 2815 \nQ 2500 3097 2075 3097 \nQ 1594 3097 1305 2825 \nQ 1016 2553 972 2059 \nL 3022 2063 \nz\n\" id=\"DejaVuSans-65\" transform=\"scale(0.015625)\"/>\n       <path d=\"M 2906 2969 \nL 2906 4863 \nL 3481 4863 \nL 3481 0 \nL 2906 0 \nL 2906 525 \nQ 2725 213 2448 61 \nQ 2172 -91 1784 -91 \nQ 1150 -91 751 415 \nQ 353 922 353 1747 \nQ 353 2572 751 3078 \nQ 1150 3584 1784 3584 \nQ 2172 3584 2448 3432 \nQ 2725 3281 2906 2969 \nz\nM 947 1747 \nQ 947 1113 1208 752 \nQ 1469 391 1925 391 \nQ 2381 391 2643 752 \nQ 2906 1113 2906 1747 \nQ 2906 2381 2643 2742 \nQ 2381 3103 1925 3103 \nQ 1469 3103 1208 2742 \nQ 947 2381 947 1747 \nz\n\" id=\"DejaVuSans-64\" transform=\"scale(0.015625)\"/>\n       <path d=\"M 603 3500 \nL 1178 3500 \nL 1178 0 \nL 603 0 \nL 603 3500 \nz\nM 603 4863 \nL 1178 4863 \nL 1178 4134 \nL 603 4134 \nL 603 4863 \nz\n\" id=\"DejaVuSans-69\" transform=\"scale(0.015625)\"/>\n       <path d=\"M 3122 3366 \nL 3122 2828 \nQ 2878 2963 2633 3030 \nQ 2388 3097 2138 3097 \nQ 1578 3097 1268 2742 \nQ 959 2388 959 1747 \nQ 959 1106 1268 751 \nQ 1578 397 2138 397 \nQ 2388 397 2633 464 \nQ 2878 531 3122 666 \nL 3122 134 \nQ 2881 22 2623 -34 \nQ 2366 -91 2075 -91 \nQ 1284 -91 818 406 \nQ 353 903 353 1747 \nQ 353 2603 823 3093 \nQ 1294 3584 2113 3584 \nQ 2378 3584 2631 3529 \nQ 2884 3475 3122 3366 \nz\n\" id=\"DejaVuSans-63\" transform=\"scale(0.015625)\"/>\n       <path d=\"M 1172 4494 \nL 1172 3500 \nL 2356 3500 \nL 2356 3053 \nL 1172 3053 \nL 1172 1153 \nQ 1172 725 1289 603 \nQ 1406 481 1766 481 \nL 2356 481 \nL 2356 0 \nL 1766 0 \nQ 1100 0 847 248 \nQ 594 497 594 1153 \nL 594 3053 \nL 172 3053 \nL 172 3500 \nL 594 3500 \nL 594 4494 \nL 1172 4494 \nz\n\" id=\"DejaVuSans-74\" transform=\"scale(0.015625)\"/>\n       <path id=\"DejaVuSans-20\" transform=\"scale(0.015625)\"/>\n       <path d=\"M 603 4863 \nL 1178 4863 \nL 1178 0 \nL 603 0 \nL 603 4863 \nz\n\" id=\"DejaVuSans-6c\" transform=\"scale(0.015625)\"/>\n       <path d=\"M 2194 1759 \nQ 1497 1759 1228 1600 \nQ 959 1441 959 1056 \nQ 959 750 1161 570 \nQ 1363 391 1709 391 \nQ 2188 391 2477 730 \nQ 2766 1069 2766 1631 \nL 2766 1759 \nL 2194 1759 \nz\nM 3341 1997 \nL 3341 0 \nL 2766 0 \nL 2766 531 \nQ 2569 213 2275 61 \nQ 1981 -91 1556 -91 \nQ 1019 -91 701 211 \nQ 384 513 384 1019 \nQ 384 1609 779 1909 \nQ 1175 2209 1959 2209 \nL 2766 2209 \nL 2766 2266 \nQ 2766 2663 2505 2880 \nQ 2244 3097 1772 3097 \nQ 1472 3097 1187 3025 \nQ 903 2953 641 2809 \nL 641 3341 \nQ 956 3463 1253 3523 \nQ 1550 3584 1831 3584 \nQ 2591 3584 2966 3190 \nQ 3341 2797 3341 1997 \nz\n\" id=\"DejaVuSans-61\" transform=\"scale(0.015625)\"/>\n       <path d=\"M 3116 1747 \nQ 3116 2381 2855 2742 \nQ 2594 3103 2138 3103 \nQ 1681 3103 1420 2742 \nQ 1159 2381 1159 1747 \nQ 1159 1113 1420 752 \nQ 1681 391 2138 391 \nQ 2594 391 2855 752 \nQ 3116 1113 3116 1747 \nz\nM 1159 2969 \nQ 1341 3281 1617 3432 \nQ 1894 3584 2278 3584 \nQ 2916 3584 3314 3078 \nQ 3713 2572 3713 1747 \nQ 3713 922 3314 415 \nQ 2916 -91 2278 -91 \nQ 1894 -91 1617 61 \nQ 1341 213 1159 525 \nL 1159 0 \nL 581 0 \nL 581 4863 \nL 1159 4863 \nL 1159 2969 \nz\n\" id=\"DejaVuSans-62\" transform=\"scale(0.015625)\"/>\n      </defs>\n      <use xlink:href=\"#DejaVuSans-50\"/>\n      <use x=\"58.552734\" xlink:href=\"#DejaVuSans-72\"/>\n      <use x=\"97.416016\" xlink:href=\"#DejaVuSans-65\"/>\n      <use x=\"158.939453\" xlink:href=\"#DejaVuSans-64\"/>\n      <use x=\"222.416016\" xlink:href=\"#DejaVuSans-69\"/>\n      <use x=\"250.199219\" xlink:href=\"#DejaVuSans-63\"/>\n      <use x=\"305.179688\" xlink:href=\"#DejaVuSans-74\"/>\n      <use x=\"344.388672\" xlink:href=\"#DejaVuSans-65\"/>\n      <use x=\"405.912109\" xlink:href=\"#DejaVuSans-64\"/>\n      <use x=\"469.388672\" xlink:href=\"#DejaVuSans-20\"/>\n      <use x=\"501.175781\" xlink:href=\"#DejaVuSans-6c\"/>\n      <use x=\"528.958984\" xlink:href=\"#DejaVuSans-61\"/>\n      <use x=\"590.238281\" xlink:href=\"#DejaVuSans-62\"/>\n      <use x=\"653.714844\" xlink:href=\"#DejaVuSans-65\"/>\n      <use x=\"715.238281\" xlink:href=\"#DejaVuSans-6c\"/>\n     </g>\n    </g>\n   </g>\n   <g id=\"matplotlib.axis_2\">\n    <g id=\"ytick_1\">\n     <g id=\"line2d_7\">\n      <defs>\n       <path d=\"M 0 0 \nL -3.5 0 \n\" id=\"m1abff15fe7\" style=\"stroke:#000000;stroke-width:0.8;\"/>\n      </defs>\n      <g>\n       <use style=\"stroke:#000000;stroke-width:0.8;\" x=\"43.23125\" xlink:href=\"#m1abff15fe7\" y=\"25.32\"/>\n      </g>\n     </g>\n     <g id=\"text_8\">\n      <!-- BE -->\n      <g transform=\"translate(23.051563 29.119219)scale(0.1 -0.1)\">\n       <use xlink:href=\"#DejaVuSans-42\"/>\n       <use x=\"68.603516\" xlink:href=\"#DejaVuSans-45\"/>\n      </g>\n     </g>\n    </g>\n    <g id=\"ytick_2\">\n     <g id=\"line2d_8\">\n      <g>\n       <use style=\"stroke:#000000;stroke-width:0.8;\" x=\"43.23125\" xlink:href=\"#m1abff15fe7\" y=\"61.56\"/>\n      </g>\n     </g>\n     <g id=\"text_9\">\n      <!-- DN -->\n      <g transform=\"translate(21.05 65.359219)scale(0.1 -0.1)\">\n       <use xlink:href=\"#DejaVuSans-44\"/>\n       <use x=\"77.001953\" xlink:href=\"#DejaVuSans-4e\"/>\n      </g>\n     </g>\n    </g>\n    <g id=\"ytick_3\">\n     <g id=\"line2d_9\">\n      <g>\n       <use style=\"stroke:#000000;stroke-width:0.8;\" x=\"43.23125\" xlink:href=\"#m1abff15fe7\" y=\"97.8\"/>\n      </g>\n     </g>\n     <g id=\"text_10\">\n      <!-- HA -->\n      <g transform=\"translate(21.870313 101.599219)scale(0.1 -0.1)\">\n       <use xlink:href=\"#DejaVuSans-48\"/>\n       <use x=\"75.195312\" xlink:href=\"#DejaVuSans-41\"/>\n      </g>\n     </g>\n    </g>\n    <g id=\"ytick_4\">\n     <g id=\"line2d_10\">\n      <g>\n       <use style=\"stroke:#000000;stroke-width:0.8;\" x=\"43.23125\" xlink:href=\"#m1abff15fe7\" y=\"134.04\"/>\n      </g>\n     </g>\n     <g id=\"text_11\">\n      <!-- NO -->\n      <g transform=\"translate(20.878125 137.839219)scale(0.1 -0.1)\">\n       <use xlink:href=\"#DejaVuSans-4e\"/>\n       <use x=\"74.804688\" xlink:href=\"#DejaVuSans-4f\"/>\n      </g>\n     </g>\n    </g>\n    <g id=\"ytick_5\">\n     <g id=\"line2d_11\">\n      <g>\n       <use style=\"stroke:#000000;stroke-width:0.8;\" x=\"43.23125\" xlink:href=\"#m1abff15fe7\" y=\"170.28\"/>\n      </g>\n     </g>\n     <g id=\"text_12\">\n      <!-- SL -->\n      <g transform=\"translate(24.310938 174.079219)scale(0.1 -0.1)\">\n       <use xlink:href=\"#DejaVuSans-53\"/>\n       <use x=\"63.476562\" xlink:href=\"#DejaVuSans-4c\"/>\n      </g>\n     </g>\n    </g>\n    <g id=\"ytick_6\">\n     <g id=\"line2d_12\">\n      <g>\n       <use style=\"stroke:#000000;stroke-width:0.8;\" x=\"43.23125\" xlink:href=\"#m1abff15fe7\" y=\"206.52\"/>\n      </g>\n     </g>\n     <g id=\"text_13\">\n      <!-- VI -->\n      <g transform=\"translate(26.440625 210.319219)scale(0.1 -0.1)\">\n       <use xlink:href=\"#DejaVuSans-56\"/>\n       <use x=\"68.408203\" xlink:href=\"#DejaVuSans-49\"/>\n      </g>\n     </g>\n    </g>\n    <g id=\"text_14\">\n     <!-- True label -->\n     <g transform=\"translate(14.798438 140.219219)rotate(-90)scale(0.1 -0.1)\">\n      <defs>\n       <path d=\"M -19 4666 \nL 3928 4666 \nL 3928 4134 \nL 2272 4134 \nL 2272 0 \nL 1638 0 \nL 1638 4134 \nL -19 4134 \nL -19 4666 \nz\n\" id=\"DejaVuSans-54\" transform=\"scale(0.015625)\"/>\n       <path d=\"M 544 1381 \nL 544 3500 \nL 1119 3500 \nL 1119 1403 \nQ 1119 906 1312 657 \nQ 1506 409 1894 409 \nQ 2359 409 2629 706 \nQ 2900 1003 2900 1516 \nL 2900 3500 \nL 3475 3500 \nL 3475 0 \nL 2900 0 \nL 2900 538 \nQ 2691 219 2414 64 \nQ 2138 -91 1772 -91 \nQ 1169 -91 856 284 \nQ 544 659 544 1381 \nz\nM 1991 3584 \nL 1991 3584 \nz\n\" id=\"DejaVuSans-75\" transform=\"scale(0.015625)\"/>\n      </defs>\n      <use xlink:href=\"#DejaVuSans-54\"/>\n      <use x=\"46.333984\" xlink:href=\"#DejaVuSans-72\"/>\n      <use x=\"87.447266\" xlink:href=\"#DejaVuSans-75\"/>\n      <use x=\"150.826172\" xlink:href=\"#DejaVuSans-65\"/>\n      <use x=\"212.349609\" xlink:href=\"#DejaVuSans-20\"/>\n      <use x=\"244.136719\" xlink:href=\"#DejaVuSans-6c\"/>\n      <use x=\"271.919922\" xlink:href=\"#DejaVuSans-61\"/>\n      <use x=\"333.199219\" xlink:href=\"#DejaVuSans-62\"/>\n      <use x=\"396.675781\" xlink:href=\"#DejaVuSans-65\"/>\n      <use x=\"458.199219\" xlink:href=\"#DejaVuSans-6c\"/>\n     </g>\n    </g>\n   </g>\n   <g id=\"patch_3\">\n    <path d=\"M 43.23125 224.64 \nL 43.23125 7.2 \n\" style=\"fill:none;stroke:#000000;stroke-linecap:square;stroke-linejoin:miter;stroke-width:0.8;\"/>\n   </g>\n   <g id=\"patch_4\">\n    <path d=\"M 260.67125 224.64 \nL 260.67125 7.2 \n\" style=\"fill:none;stroke:#000000;stroke-linecap:square;stroke-linejoin:miter;stroke-width:0.8;\"/>\n   </g>\n   <g id=\"patch_5\">\n    <path d=\"M 43.23125 224.64 \nL 260.67125 224.64 \n\" style=\"fill:none;stroke:#000000;stroke-linecap:square;stroke-linejoin:miter;stroke-width:0.8;\"/>\n   </g>\n   <g id=\"patch_6\">\n    <path d=\"M 43.23125 7.2 \nL 260.67125 7.2 \n\" style=\"fill:none;stroke:#000000;stroke-linecap:square;stroke-linejoin:miter;stroke-width:0.8;\"/>\n   </g>\n   <g id=\"text_15\">\n    <!-- 8 -->\n    <g style=\"fill:#fde725;\" transform=\"translate(58.17 28.079375)scale(0.1 -0.1)\">\n     <defs>\n      <path d=\"M 2034 2216 \nQ 1584 2216 1326 1975 \nQ 1069 1734 1069 1313 \nQ 1069 891 1326 650 \nQ 1584 409 2034 409 \nQ 2484 409 2743 651 \nQ 3003 894 3003 1313 \nQ 3003 1734 2745 1975 \nQ 2488 2216 2034 2216 \nz\nM 1403 2484 \nQ 997 2584 770 2862 \nQ 544 3141 544 3541 \nQ 544 4100 942 4425 \nQ 1341 4750 2034 4750 \nQ 2731 4750 3128 4425 \nQ 3525 4100 3525 3541 \nQ 3525 3141 3298 2862 \nQ 3072 2584 2669 2484 \nQ 3125 2378 3379 2068 \nQ 3634 1759 3634 1313 \nQ 3634 634 3220 271 \nQ 2806 -91 2034 -91 \nQ 1263 -91 848 271 \nQ 434 634 434 1313 \nQ 434 1759 690 2068 \nQ 947 2378 1403 2484 \nz\nM 1172 3481 \nQ 1172 3119 1398 2916 \nQ 1625 2713 2034 2713 \nQ 2441 2713 2670 2916 \nQ 2900 3119 2900 3481 \nQ 2900 3844 2670 4047 \nQ 2441 4250 2034 4250 \nQ 1625 4250 1398 4047 \nQ 1172 3844 1172 3481 \nz\n\" id=\"DejaVuSans-38\" transform=\"scale(0.015625)\"/>\n     </defs>\n     <use xlink:href=\"#DejaVuSans-38\"/>\n    </g>\n   </g>\n   <g id=\"text_16\">\n    <!-- 0 -->\n    <g style=\"fill:#fde725;\" transform=\"translate(94.41 28.079375)scale(0.1 -0.1)\">\n     <defs>\n      <path d=\"M 2034 4250 \nQ 1547 4250 1301 3770 \nQ 1056 3291 1056 2328 \nQ 1056 1369 1301 889 \nQ 1547 409 2034 409 \nQ 2525 409 2770 889 \nQ 3016 1369 3016 2328 \nQ 3016 3291 2770 3770 \nQ 2525 4250 2034 4250 \nz\nM 2034 4750 \nQ 2819 4750 3233 4129 \nQ 3647 3509 3647 2328 \nQ 3647 1150 3233 529 \nQ 2819 -91 2034 -91 \nQ 1250 -91 836 529 \nQ 422 1150 422 2328 \nQ 422 3509 836 4129 \nQ 1250 4750 2034 4750 \nz\n\" id=\"DejaVuSans-30\" transform=\"scale(0.015625)\"/>\n     </defs>\n     <use xlink:href=\"#DejaVuSans-30\"/>\n    </g>\n   </g>\n   <g id=\"text_17\">\n    <!-- 0 -->\n    <g style=\"fill:#fde725;\" transform=\"translate(130.65 28.079375)scale(0.1 -0.1)\">\n     <use xlink:href=\"#DejaVuSans-30\"/>\n    </g>\n   </g>\n   <g id=\"text_18\">\n    <!-- 2 -->\n    <g style=\"fill:#fde725;\" transform=\"translate(166.89 28.079375)scale(0.1 -0.1)\">\n     <defs>\n      <path d=\"M 1228 531 \nL 3431 531 \nL 3431 0 \nL 469 0 \nL 469 531 \nQ 828 903 1448 1529 \nQ 2069 2156 2228 2338 \nQ 2531 2678 2651 2914 \nQ 2772 3150 2772 3378 \nQ 2772 3750 2511 3984 \nQ 2250 4219 1831 4219 \nQ 1534 4219 1204 4116 \nQ 875 4013 500 3803 \nL 500 4441 \nQ 881 4594 1212 4672 \nQ 1544 4750 1819 4750 \nQ 2544 4750 2975 4387 \nQ 3406 4025 3406 3419 \nQ 3406 3131 3298 2873 \nQ 3191 2616 2906 2266 \nQ 2828 2175 2409 1742 \nQ 1991 1309 1228 531 \nz\n\" id=\"DejaVuSans-32\" transform=\"scale(0.015625)\"/>\n     </defs>\n     <use xlink:href=\"#DejaVuSans-32\"/>\n    </g>\n   </g>\n   <g id=\"text_19\">\n    <!-- 0 -->\n    <g style=\"fill:#fde725;\" transform=\"translate(203.13 28.079375)scale(0.1 -0.1)\">\n     <use xlink:href=\"#DejaVuSans-30\"/>\n    </g>\n   </g>\n   <g id=\"text_20\">\n    <!-- 2 -->\n    <g style=\"fill:#fde725;\" transform=\"translate(239.37 28.079375)scale(0.1 -0.1)\">\n     <use xlink:href=\"#DejaVuSans-32\"/>\n    </g>\n   </g>\n   <g id=\"text_21\">\n    <!-- 0 -->\n    <g style=\"fill:#fde725;\" transform=\"translate(58.17 64.319375)scale(0.1 -0.1)\">\n     <use xlink:href=\"#DejaVuSans-30\"/>\n    </g>\n   </g>\n   <g id=\"text_22\">\n    <!-- 30 -->\n    <g style=\"fill:#440154;\" transform=\"translate(91.22875 64.319375)scale(0.1 -0.1)\">\n     <defs>\n      <path d=\"M 2597 2516 \nQ 3050 2419 3304 2112 \nQ 3559 1806 3559 1356 \nQ 3559 666 3084 287 \nQ 2609 -91 1734 -91 \nQ 1441 -91 1130 -33 \nQ 819 25 488 141 \nL 488 750 \nQ 750 597 1062 519 \nQ 1375 441 1716 441 \nQ 2309 441 2620 675 \nQ 2931 909 2931 1356 \nQ 2931 1769 2642 2001 \nQ 2353 2234 1838 2234 \nL 1294 2234 \nL 1294 2753 \nL 1863 2753 \nQ 2328 2753 2575 2939 \nQ 2822 3125 2822 3475 \nQ 2822 3834 2567 4026 \nQ 2313 4219 1838 4219 \nQ 1578 4219 1281 4162 \nQ 984 4106 628 3988 \nL 628 4550 \nQ 988 4650 1302 4700 \nQ 1616 4750 1894 4750 \nQ 2613 4750 3031 4423 \nQ 3450 4097 3450 3541 \nQ 3450 3153 3228 2886 \nQ 3006 2619 2597 2516 \nz\n\" id=\"DejaVuSans-33\" transform=\"scale(0.015625)\"/>\n     </defs>\n     <use xlink:href=\"#DejaVuSans-33\"/>\n     <use x=\"63.623047\" xlink:href=\"#DejaVuSans-30\"/>\n    </g>\n   </g>\n   <g id=\"text_23\">\n    <!-- 0 -->\n    <g style=\"fill:#fde725;\" transform=\"translate(130.65 64.319375)scale(0.1 -0.1)\">\n     <use xlink:href=\"#DejaVuSans-30\"/>\n    </g>\n   </g>\n   <g id=\"text_24\">\n    <!-- 0 -->\n    <g style=\"fill:#fde725;\" transform=\"translate(166.89 64.319375)scale(0.1 -0.1)\">\n     <use xlink:href=\"#DejaVuSans-30\"/>\n    </g>\n   </g>\n   <g id=\"text_25\">\n    <!-- 0 -->\n    <g style=\"fill:#fde725;\" transform=\"translate(203.13 64.319375)scale(0.1 -0.1)\">\n     <use xlink:href=\"#DejaVuSans-30\"/>\n    </g>\n   </g>\n   <g id=\"text_26\">\n    <!-- 0 -->\n    <g style=\"fill:#fde725;\" transform=\"translate(239.37 64.319375)scale(0.1 -0.1)\">\n     <use xlink:href=\"#DejaVuSans-30\"/>\n    </g>\n   </g>\n   <g id=\"text_27\">\n    <!-- 0 -->\n    <g style=\"fill:#fde725;\" transform=\"translate(58.17 100.559375)scale(0.1 -0.1)\">\n     <use xlink:href=\"#DejaVuSans-30\"/>\n    </g>\n   </g>\n   <g id=\"text_28\">\n    <!-- 0 -->\n    <g style=\"fill:#fde725;\" transform=\"translate(94.41 100.559375)scale(0.1 -0.1)\">\n     <use xlink:href=\"#DejaVuSans-30\"/>\n    </g>\n   </g>\n   <g id=\"text_29\">\n    <!-- 9 -->\n    <g style=\"fill:#fde725;\" transform=\"translate(130.65 100.559375)scale(0.1 -0.1)\">\n     <defs>\n      <path d=\"M 703 97 \nL 703 672 \nQ 941 559 1184 500 \nQ 1428 441 1663 441 \nQ 2288 441 2617 861 \nQ 2947 1281 2994 2138 \nQ 2813 1869 2534 1725 \nQ 2256 1581 1919 1581 \nQ 1219 1581 811 2004 \nQ 403 2428 403 3163 \nQ 403 3881 828 4315 \nQ 1253 4750 1959 4750 \nQ 2769 4750 3195 4129 \nQ 3622 3509 3622 2328 \nQ 3622 1225 3098 567 \nQ 2575 -91 1691 -91 \nQ 1453 -91 1209 -44 \nQ 966 3 703 97 \nz\nM 1959 2075 \nQ 2384 2075 2632 2365 \nQ 2881 2656 2881 3163 \nQ 2881 3666 2632 3958 \nQ 2384 4250 1959 4250 \nQ 1534 4250 1286 3958 \nQ 1038 3666 1038 3163 \nQ 1038 2656 1286 2365 \nQ 1534 2075 1959 2075 \nz\n\" id=\"DejaVuSans-39\" transform=\"scale(0.015625)\"/>\n     </defs>\n     <use xlink:href=\"#DejaVuSans-39\"/>\n    </g>\n   </g>\n   <g id=\"text_30\">\n    <!-- 2 -->\n    <g style=\"fill:#fde725;\" transform=\"translate(166.89 100.559375)scale(0.1 -0.1)\">\n     <use xlink:href=\"#DejaVuSans-32\"/>\n    </g>\n   </g>\n   <g id=\"text_31\">\n    <!-- 0 -->\n    <g style=\"fill:#fde725;\" transform=\"translate(203.13 100.559375)scale(0.1 -0.1)\">\n     <use xlink:href=\"#DejaVuSans-30\"/>\n    </g>\n   </g>\n   <g id=\"text_32\">\n    <!-- 0 -->\n    <g style=\"fill:#fde725;\" transform=\"translate(239.37 100.559375)scale(0.1 -0.1)\">\n     <use xlink:href=\"#DejaVuSans-30\"/>\n    </g>\n   </g>\n   <g id=\"text_33\">\n    <!-- 3 -->\n    <g style=\"fill:#fde725;\" transform=\"translate(58.17 136.799375)scale(0.1 -0.1)\">\n     <use xlink:href=\"#DejaVuSans-33\"/>\n    </g>\n   </g>\n   <g id=\"text_34\">\n    <!-- 0 -->\n    <g style=\"fill:#fde725;\" transform=\"translate(94.41 136.799375)scale(0.1 -0.1)\">\n     <use xlink:href=\"#DejaVuSans-30\"/>\n    </g>\n   </g>\n   <g id=\"text_35\">\n    <!-- 0 -->\n    <g style=\"fill:#fde725;\" transform=\"translate(130.65 136.799375)scale(0.1 -0.1)\">\n     <use xlink:href=\"#DejaVuSans-30\"/>\n    </g>\n   </g>\n   <g id=\"text_36\">\n    <!-- 54 -->\n    <g style=\"fill:#440154;\" transform=\"translate(163.70875 136.799375)scale(0.1 -0.1)\">\n     <defs>\n      <path d=\"M 691 4666 \nL 3169 4666 \nL 3169 4134 \nL 1269 4134 \nL 1269 2991 \nQ 1406 3038 1543 3061 \nQ 1681 3084 1819 3084 \nQ 2600 3084 3056 2656 \nQ 3513 2228 3513 1497 \nQ 3513 744 3044 326 \nQ 2575 -91 1722 -91 \nQ 1428 -91 1123 -41 \nQ 819 9 494 109 \nL 494 744 \nQ 775 591 1075 516 \nQ 1375 441 1709 441 \nQ 2250 441 2565 725 \nQ 2881 1009 2881 1497 \nQ 2881 1984 2565 2268 \nQ 2250 2553 1709 2553 \nQ 1456 2553 1204 2497 \nQ 953 2441 691 2322 \nL 691 4666 \nz\n\" id=\"DejaVuSans-35\" transform=\"scale(0.015625)\"/>\n      <path d=\"M 2419 4116 \nL 825 1625 \nL 2419 1625 \nL 2419 4116 \nz\nM 2253 4666 \nL 3047 4666 \nL 3047 1625 \nL 3713 1625 \nL 3713 1100 \nL 3047 1100 \nL 3047 0 \nL 2419 0 \nL 2419 1100 \nL 313 1100 \nL 313 1709 \nL 2253 4666 \nz\n\" id=\"DejaVuSans-34\" transform=\"scale(0.015625)\"/>\n     </defs>\n     <use xlink:href=\"#DejaVuSans-35\"/>\n     <use x=\"63.623047\" xlink:href=\"#DejaVuSans-34\"/>\n    </g>\n   </g>\n   <g id=\"text_37\">\n    <!-- 0 -->\n    <g style=\"fill:#fde725;\" transform=\"translate(203.13 136.799375)scale(0.1 -0.1)\">\n     <use xlink:href=\"#DejaVuSans-30\"/>\n    </g>\n   </g>\n   <g id=\"text_38\">\n    <!-- 2 -->\n    <g style=\"fill:#fde725;\" transform=\"translate(239.37 136.799375)scale(0.1 -0.1)\">\n     <use xlink:href=\"#DejaVuSans-32\"/>\n    </g>\n   </g>\n   <g id=\"text_39\">\n    <!-- 1 -->\n    <g style=\"fill:#fde725;\" transform=\"translate(58.17 173.039375)scale(0.1 -0.1)\">\n     <defs>\n      <path d=\"M 794 531 \nL 1825 531 \nL 1825 4091 \nL 703 3866 \nL 703 4441 \nL 1819 4666 \nL 2450 4666 \nL 2450 531 \nL 3481 531 \nL 3481 0 \nL 794 0 \nL 794 531 \nz\n\" id=\"DejaVuSans-31\" transform=\"scale(0.015625)\"/>\n     </defs>\n     <use xlink:href=\"#DejaVuSans-31\"/>\n    </g>\n   </g>\n   <g id=\"text_40\">\n    <!-- 0 -->\n    <g style=\"fill:#fde725;\" transform=\"translate(94.41 173.039375)scale(0.1 -0.1)\">\n     <use xlink:href=\"#DejaVuSans-30\"/>\n    </g>\n   </g>\n   <g id=\"text_41\">\n    <!-- 0 -->\n    <g style=\"fill:#fde725;\" transform=\"translate(130.65 173.039375)scale(0.1 -0.1)\">\n     <use xlink:href=\"#DejaVuSans-30\"/>\n    </g>\n   </g>\n   <g id=\"text_42\">\n    <!-- 4 -->\n    <g style=\"fill:#fde725;\" transform=\"translate(166.89 173.039375)scale(0.1 -0.1)\">\n     <use xlink:href=\"#DejaVuSans-34\"/>\n    </g>\n   </g>\n   <g id=\"text_43\">\n    <!-- 6 -->\n    <g style=\"fill:#fde725;\" transform=\"translate(203.13 173.039375)scale(0.1 -0.1)\">\n     <defs>\n      <path d=\"M 2113 2584 \nQ 1688 2584 1439 2293 \nQ 1191 2003 1191 1497 \nQ 1191 994 1439 701 \nQ 1688 409 2113 409 \nQ 2538 409 2786 701 \nQ 3034 994 3034 1497 \nQ 3034 2003 2786 2293 \nQ 2538 2584 2113 2584 \nz\nM 3366 4563 \nL 3366 3988 \nQ 3128 4100 2886 4159 \nQ 2644 4219 2406 4219 \nQ 1781 4219 1451 3797 \nQ 1122 3375 1075 2522 \nQ 1259 2794 1537 2939 \nQ 1816 3084 2150 3084 \nQ 2853 3084 3261 2657 \nQ 3669 2231 3669 1497 \nQ 3669 778 3244 343 \nQ 2819 -91 2113 -91 \nQ 1303 -91 875 529 \nQ 447 1150 447 2328 \nQ 447 3434 972 4092 \nQ 1497 4750 2381 4750 \nQ 2619 4750 2861 4703 \nQ 3103 4656 3366 4563 \nz\n\" id=\"DejaVuSans-36\" transform=\"scale(0.015625)\"/>\n     </defs>\n     <use xlink:href=\"#DejaVuSans-36\"/>\n    </g>\n   </g>\n   <g id=\"text_44\">\n    <!-- 0 -->\n    <g style=\"fill:#fde725;\" transform=\"translate(239.37 173.039375)scale(0.1 -0.1)\">\n     <use xlink:href=\"#DejaVuSans-30\"/>\n    </g>\n   </g>\n   <g id=\"text_45\">\n    <!-- 1 -->\n    <g style=\"fill:#fde725;\" transform=\"translate(58.17 209.279375)scale(0.1 -0.1)\">\n     <use xlink:href=\"#DejaVuSans-31\"/>\n    </g>\n   </g>\n   <g id=\"text_46\">\n    <!-- 0 -->\n    <g style=\"fill:#fde725;\" transform=\"translate(94.41 209.279375)scale(0.1 -0.1)\">\n     <use xlink:href=\"#DejaVuSans-30\"/>\n    </g>\n   </g>\n   <g id=\"text_47\">\n    <!-- 0 -->\n    <g style=\"fill:#fde725;\" transform=\"translate(130.65 209.279375)scale(0.1 -0.1)\">\n     <use xlink:href=\"#DejaVuSans-30\"/>\n    </g>\n   </g>\n   <g id=\"text_48\">\n    <!-- 2 -->\n    <g style=\"fill:#fde725;\" transform=\"translate(166.89 209.279375)scale(0.1 -0.1)\">\n     <use xlink:href=\"#DejaVuSans-32\"/>\n    </g>\n   </g>\n   <g id=\"text_49\">\n    <!-- 0 -->\n    <g style=\"fill:#fde725;\" transform=\"translate(203.13 209.279375)scale(0.1 -0.1)\">\n     <use xlink:href=\"#DejaVuSans-30\"/>\n    </g>\n   </g>\n   <g id=\"text_50\">\n    <!-- 7 -->\n    <g style=\"fill:#fde725;\" transform=\"translate(239.37 209.279375)scale(0.1 -0.1)\">\n     <defs>\n      <path d=\"M 525 4666 \nL 3525 4666 \nL 3525 4397 \nL 1831 0 \nL 1172 0 \nL 2766 4134 \nL 525 4134 \nL 525 4666 \nz\n\" id=\"DejaVuSans-37\" transform=\"scale(0.015625)\"/>\n     </defs>\n     <use xlink:href=\"#DejaVuSans-37\"/>\n    </g>\n   </g>\n  </g>\n  <g id=\"axes_2\">\n   <g id=\"patch_7\">\n    <path d=\"M 277.41125 224.64 \nL 288.28325 224.64 \nL 288.28325 7.2 \nL 277.41125 7.2 \nz\n\" style=\"fill:#ffffff;\"/>\n   </g>\n   <g id=\"patch_8\">\n    <path clip-path=\"url(#pfe25f58448)\" d=\"M 277.41125 224.64 \nL 277.41125 223.790625 \nL 277.41125 8.049375 \nL 277.41125 7.2 \nL 288.28325 7.2 \nL 288.28325 8.049375 \nL 288.28325 223.790625 \nL 288.28325 224.64 \nL 288.28325 224.64 \nz\n\" style=\"fill:#ffffff;stroke:#ffffff;stroke-linejoin:miter;stroke-width:0.01;\"/>\n   </g>\n   <image height=\"217\" id=\"image6c6851a711\" transform=\"scale(1 -1)translate(0 -217)\" width=\"11\" x=\"277\" xlink:href=\"data:image/png;base64,\niVBORw0KGgoAAAANSUhEUgAAAAsAAADZCAYAAAD2WsoCAAABUklEQVR4nN2awQ3CQAwEz/aFyqiB/gsBQguex0g+eK9W6/HmAiTxzNe9mp8dGV3t2iuyL/acF3GOKhKDZE6SmTnPGHAIDSQuL4ZVUZGzFuNmmdtak8aUzB7n0pz7Wjog4Xx7lxUZ0CsSckboYOuQMxGTDaIYJ9KAA2p9ZuiI85BzY8YGj+yGdxRoFR2ylCk0+lo184wT6f/XPSTzgc5DYsDy96/vM9GNoAFCyDTAgN4GEWdYfssZfLs0B/Q4h5bZdCbi/FrOM9Cltm5Ew4wBxEWOAsZ5jUBXrM9WkSANK8YmNLwBmbNHIzQanjPhvPPTF5e4botGTaHhDWg5X4FooBhAjDaInNmAMzbIOBN0V7xJDK+iqBsInUYDDUiWgtaNrhQ4oHWHZRvUYjxYRdtamrlvvDZ4zrx2gd9L+yLPgJI4oxjMmWTeC7yuU+SdkwR/Uv0A7xuAaGKmOKMAAAAASUVORK5CYII=\" y=\"-7\"/>\n   <g id=\"matplotlib.axis_3\"/>\n   <g id=\"matplotlib.axis_4\">\n    <g id=\"ytick_7\">\n     <g id=\"line2d_13\">\n      <defs>\n       <path d=\"M 0 0 \nL 3.5 0 \n\" id=\"ma374dcfc53\" style=\"stroke:#000000;stroke-width:0.8;\"/>\n      </defs>\n      <g>\n       <use style=\"stroke:#000000;stroke-width:0.8;\" x=\"288.28325\" xlink:href=\"#ma374dcfc53\" y=\"224.64\"/>\n      </g>\n     </g>\n     <g id=\"text_51\">\n      <!-- 0 -->\n      <g transform=\"translate(295.28325 228.439219)scale(0.1 -0.1)\">\n       <use xlink:href=\"#DejaVuSans-30\"/>\n      </g>\n     </g>\n    </g>\n    <g id=\"ytick_8\">\n     <g id=\"line2d_14\">\n      <g>\n       <use style=\"stroke:#000000;stroke-width:0.8;\" x=\"288.28325\" xlink:href=\"#ma374dcfc53\" y=\"184.373333\"/>\n      </g>\n     </g>\n     <g id=\"text_52\">\n      <!-- 10 -->\n      <g transform=\"translate(295.28325 188.172552)scale(0.1 -0.1)\">\n       <use xlink:href=\"#DejaVuSans-31\"/>\n       <use x=\"63.623047\" xlink:href=\"#DejaVuSans-30\"/>\n      </g>\n     </g>\n    </g>\n    <g id=\"ytick_9\">\n     <g id=\"line2d_15\">\n      <g>\n       <use style=\"stroke:#000000;stroke-width:0.8;\" x=\"288.28325\" xlink:href=\"#ma374dcfc53\" y=\"144.106667\"/>\n      </g>\n     </g>\n     <g id=\"text_53\">\n      <!-- 20 -->\n      <g transform=\"translate(295.28325 147.905885)scale(0.1 -0.1)\">\n       <use xlink:href=\"#DejaVuSans-32\"/>\n       <use x=\"63.623047\" xlink:href=\"#DejaVuSans-30\"/>\n      </g>\n     </g>\n    </g>\n    <g id=\"ytick_10\">\n     <g id=\"line2d_16\">\n      <g>\n       <use style=\"stroke:#000000;stroke-width:0.8;\" x=\"288.28325\" xlink:href=\"#ma374dcfc53\" y=\"103.84\"/>\n      </g>\n     </g>\n     <g id=\"text_54\">\n      <!-- 30 -->\n      <g transform=\"translate(295.28325 107.639219)scale(0.1 -0.1)\">\n       <use xlink:href=\"#DejaVuSans-33\"/>\n       <use x=\"63.623047\" xlink:href=\"#DejaVuSans-30\"/>\n      </g>\n     </g>\n    </g>\n    <g id=\"ytick_11\">\n     <g id=\"line2d_17\">\n      <g>\n       <use style=\"stroke:#000000;stroke-width:0.8;\" x=\"288.28325\" xlink:href=\"#ma374dcfc53\" y=\"63.573333\"/>\n      </g>\n     </g>\n     <g id=\"text_55\">\n      <!-- 40 -->\n      <g transform=\"translate(295.28325 67.372552)scale(0.1 -0.1)\">\n       <use xlink:href=\"#DejaVuSans-34\"/>\n       <use x=\"63.623047\" xlink:href=\"#DejaVuSans-30\"/>\n      </g>\n     </g>\n    </g>\n    <g id=\"ytick_12\">\n     <g id=\"line2d_18\">\n      <g>\n       <use style=\"stroke:#000000;stroke-width:0.8;\" x=\"288.28325\" xlink:href=\"#ma374dcfc53\" y=\"23.306667\"/>\n      </g>\n     </g>\n     <g id=\"text_56\">\n      <!-- 50 -->\n      <g transform=\"translate(295.28325 27.105885)scale(0.1 -0.1)\">\n       <use xlink:href=\"#DejaVuSans-35\"/>\n       <use x=\"63.623047\" xlink:href=\"#DejaVuSans-30\"/>\n      </g>\n     </g>\n    </g>\n   </g>\n   <g id=\"LineCollection_1\"/>\n   <g id=\"patch_9\">\n    <path d=\"M 277.41125 224.64 \nL 277.41125 223.790625 \nL 277.41125 8.049375 \nL 277.41125 7.2 \nL 288.28325 7.2 \nL 288.28325 8.049375 \nL 288.28325 223.790625 \nL 288.28325 224.64 \nz\n\" style=\"fill:none;stroke:#000000;stroke-linecap:square;stroke-linejoin:miter;stroke-width:0.8;\"/>\n   </g>\n  </g>\n </g>\n <defs>\n  <clipPath id=\"p1f6e0dbb5d\">\n   <rect height=\"217.44\" width=\"217.44\" x=\"43.23125\" y=\"7.2\"/>\n  </clipPath>\n  <clipPath id=\"pfe25f58448\">\n   <rect height=\"217.44\" width=\"10.872\" x=\"277.41125\" y=\"7.2\"/>\n  </clipPath>\n </defs>\n</svg>\n",
      "image/png": "[encoded data removed]"
     },
     "metadata": {
      "needs_background": "light"
     }
    }
   ],
   "source": [
    "from sklearn.svm import SVC\n",
    "from sklearn.model_selection import train_test_split\n",
    "from sklearn.preprocessing import MinMaxScaler\n",
    "from sklearn.metrics import accuracy_score, matthews_corrcoef, classification_report, plot_confusion_matrix\n",
    "\n",
    "X = my_dataset.iloc[:,:156]\n",
    "y = my_dataset['expression_style']\n",
    "\n",
    "X_train, X_test, y_train, y_test = train_test_split(X, y, train_size=0.90, random_state=42)\n",
    "\n",
    "scaler = MinMaxScaler(feature_range=(-1, 1))\n",
    "scaler.fit(X_train)\n",
    "X_train = scaler.transform(X_train)\n",
    "X_test = scaler.transform(X_test)\n",
    "\n",
    "c = 1\n",
    "s = 1\n",
    "clf = SVC(kernel='rbf', C=2**c, gamma=1/(2*(2**s)**2), decision_function_shape='ovo')\n",
    "clf.fit(X_train, y_train)\n",
    "y_pred = clf.predict(X_test)\n",
    "print(\"ACCURACY: {:.3f}% \".format(accuracy_score(y_test, y_pred) * 100))\n",
    "print(\"MCC: {:.3f}% \".format(matthews_corrcoef(y_test, y_pred) * 100))\n",
    "print(classification_report(y_test, y_pred))\n",
    "plot_confusion_matrix(clf, X_test, y_test)\n",
    "plt.show()"
   ]
  }
 ]
}