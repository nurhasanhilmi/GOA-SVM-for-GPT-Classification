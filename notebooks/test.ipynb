{
 "cells": [
  {
   "cell_type": "code",
   "execution_count": 1,
   "source": [
    "import pandas as pd\n",
    "import matplotlib.pyplot as plt"
   ],
   "outputs": [],
   "metadata": {}
  },
  {
   "cell_type": "code",
   "execution_count": 23,
   "source": [
    "for i in range(5):\n",
    "    if i == 0:\n",
    "        df = pd.read_csv(f'../data/misc/GOASVM_Run_0{i+1}.csv')\n",
    "        df['Run'] = [i+1] * 300\n",
    "        df['Fitness'] = df['Fitness'] * 100\n",
    "    else:\n",
    "        df2 = pd.read_csv(f'../data/misc/GOASVM_Run_0{i+1}.csv')\n",
    "        df2['Run'] = [i+1] * 300\n",
    "        df2['Fitness'] = df2['Fitness'] * 100\n",
    "        df = df.append(df2)\n",
    "df"
   ],
   "outputs": [
    {
     "output_type": "execute_result",
     "data": {
      "text/plain": [
       "     Iteration  Grasshopper         C     Sigma    Fitness  Run\n",
       "0            1            1  4.673686  4.491713  61.119251    1\n",
       "1            1            2  2.856227  2.966771  69.333964    1\n",
       "2            1            3  1.433934  0.275338  56.161145    1\n",
       "3            1            4  3.532242  3.806884  62.571546    1\n",
       "4            1            5  1.501665  4.863478  38.595141    1\n",
       "..         ...          ...       ...       ...        ...  ...\n",
       "295         10           26  3.287026  1.549650  80.110688    5\n",
       "296         10           27  3.287026  1.549650  80.110688    5\n",
       "297         10           28  3.287026  1.549650  80.110688    5\n",
       "298         10           29  3.287026  1.549650  80.110688    5\n",
       "299         10           30  3.287026  1.549650  80.110688    5\n",
       "\n",
       "[1500 rows x 6 columns]"
      ],
      "text/html": [
       "<div>\n",
       "<style scoped>\n",
       "    .dataframe tbody tr th:only-of-type {\n",
       "        vertical-align: middle;\n",
       "    }\n",
       "\n",
       "    .dataframe tbody tr th {\n",
       "        vertical-align: top;\n",
       "    }\n",
       "\n",
       "    .dataframe thead th {\n",
       "        text-align: right;\n",
       "    }\n",
       "</style>\n",
       "<table border=\"1\" class=\"dataframe\">\n",
       "  <thead>\n",
       "    <tr style=\"text-align: right;\">\n",
       "      <th></th>\n",
       "      <th>Iteration</th>\n",
       "      <th>Grasshopper</th>\n",
       "      <th>C</th>\n",
       "      <th>Sigma</th>\n",
       "      <th>Fitness</th>\n",
       "      <th>Run</th>\n",
       "    </tr>\n",
       "  </thead>\n",
       "  <tbody>\n",
       "    <tr>\n",
       "      <th>0</th>\n",
       "      <td>1</td>\n",
       "      <td>1</td>\n",
       "      <td>4.673686</td>\n",
       "      <td>4.491713</td>\n",
       "      <td>61.119251</td>\n",
       "      <td>1</td>\n",
       "    </tr>\n",
       "    <tr>\n",
       "      <th>1</th>\n",
       "      <td>1</td>\n",
       "      <td>2</td>\n",
       "      <td>2.856227</td>\n",
       "      <td>2.966771</td>\n",
       "      <td>69.333964</td>\n",
       "      <td>1</td>\n",
       "    </tr>\n",
       "    <tr>\n",
       "      <th>2</th>\n",
       "      <td>1</td>\n",
       "      <td>3</td>\n",
       "      <td>1.433934</td>\n",
       "      <td>0.275338</td>\n",
       "      <td>56.161145</td>\n",
       "      <td>1</td>\n",
       "    </tr>\n",
       "    <tr>\n",
       "      <th>3</th>\n",
       "      <td>1</td>\n",
       "      <td>4</td>\n",
       "      <td>3.532242</td>\n",
       "      <td>3.806884</td>\n",
       "      <td>62.571546</td>\n",
       "      <td>1</td>\n",
       "    </tr>\n",
       "    <tr>\n",
       "      <th>4</th>\n",
       "      <td>1</td>\n",
       "      <td>5</td>\n",
       "      <td>1.501665</td>\n",
       "      <td>4.863478</td>\n",
       "      <td>38.595141</td>\n",
       "      <td>1</td>\n",
       "    </tr>\n",
       "    <tr>\n",
       "      <th>...</th>\n",
       "      <td>...</td>\n",
       "      <td>...</td>\n",
       "      <td>...</td>\n",
       "      <td>...</td>\n",
       "      <td>...</td>\n",
       "      <td>...</td>\n",
       "    </tr>\n",
       "    <tr>\n",
       "      <th>295</th>\n",
       "      <td>10</td>\n",
       "      <td>26</td>\n",
       "      <td>3.287026</td>\n",
       "      <td>1.549650</td>\n",
       "      <td>80.110688</td>\n",
       "      <td>5</td>\n",
       "    </tr>\n",
       "    <tr>\n",
       "      <th>296</th>\n",
       "      <td>10</td>\n",
       "      <td>27</td>\n",
       "      <td>3.287026</td>\n",
       "      <td>1.549650</td>\n",
       "      <td>80.110688</td>\n",
       "      <td>5</td>\n",
       "    </tr>\n",
       "    <tr>\n",
       "      <th>297</th>\n",
       "      <td>10</td>\n",
       "      <td>28</td>\n",
       "      <td>3.287026</td>\n",
       "      <td>1.549650</td>\n",
       "      <td>80.110688</td>\n",
       "      <td>5</td>\n",
       "    </tr>\n",
       "    <tr>\n",
       "      <th>298</th>\n",
       "      <td>10</td>\n",
       "      <td>29</td>\n",
       "      <td>3.287026</td>\n",
       "      <td>1.549650</td>\n",
       "      <td>80.110688</td>\n",
       "      <td>5</td>\n",
       "    </tr>\n",
       "    <tr>\n",
       "      <th>299</th>\n",
       "      <td>10</td>\n",
       "      <td>30</td>\n",
       "      <td>3.287026</td>\n",
       "      <td>1.549650</td>\n",
       "      <td>80.110688</td>\n",
       "      <td>5</td>\n",
       "    </tr>\n",
       "  </tbody>\n",
       "</table>\n",
       "<p>1500 rows × 6 columns</p>\n",
       "</div>"
      ]
     },
     "metadata": {},
     "execution_count": 23
    }
   ],
   "metadata": {}
  },
  {
   "cell_type": "code",
   "execution_count": 25,
   "source": [
    "s = df.groupby(['Run', 'Iteration'], sort=True)['Fitness'].max()\n",
    "s = s.to_frame().reset_index()\n",
    "s.Fitness = s.Fitness.round(2)"
   ],
   "outputs": [],
   "metadata": {}
  },
  {
   "cell_type": "code",
   "execution_count": 30,
   "source": [
    "ss = s.pivot(index='Iteration', columns='Run', values='Fitness')\n",
    "ss.plot(figsize=(9,6))\n",
    "plt.ylabel('Fitness (MCC %)')\n",
    "# plt.savefig('sss.jpg', bbox_inches='tight', dpi=600)"
   ],
   "outputs": [
    {
     "output_type": "execute_result",
     "data": {
      "text/plain": [
       "Text(0, 0.5, 'Fitness (MCC %)')"
      ]
     },
     "metadata": {},
     "execution_count": 30
    },
    {
     "output_type": "display_data",
     "data": {
      "text/plain": [
       "<Figure size 648x432 with 1 Axes>"
      ],
      "image/png": "[encoded data removed]"
     },
     "metadata": {
      "needs_background": "light"
     }
    }
   ],
   "metadata": {}
  },
  {
   "cell_type": "code",
   "execution_count": 28,
   "source": [
    "run = 0\n",
    "maxx = 0\n",
    "\n",
    "for i in range(s.shape[0]):\n",
    "    s['Fitness'][i] = s['Fitness'][i]\n",
    "    if run < s['Run'][i]:\n",
    "        run = s['Run'][i]\n",
    "        maxx = 0\n",
    "        \n",
    "    if s['Fitness'][i] > maxx:\n",
    "        maxx = s['Fitness'][i]\n",
    "    else:\n",
    "        s['Fitness'][i] = maxx"
   ],
   "outputs": [
    {
     "output_type": "stream",
     "name": "stderr",
     "text": [
      "<ipython-input-28-faabd40c4d6e>:5: SettingWithCopyWarning: \n",
      "A value is trying to be set on a copy of a slice from a DataFrame\n",
      "\n",
      "See the caveats in the documentation: https://pandas.pydata.org/pandas-docs/stable/user_guide/indexing.html#returning-a-view-versus-a-copy\n",
      "  s['Fitness'][i] = s['Fitness'][i]\n",
      "<ipython-input-28-faabd40c4d6e>:13: SettingWithCopyWarning: \n",
      "A value is trying to be set on a copy of a slice from a DataFrame\n",
      "\n",
      "See the caveats in the documentation: https://pandas.pydata.org/pandas-docs/stable/user_guide/indexing.html#returning-a-view-versus-a-copy\n",
      "  s['Fitness'][i] = maxx\n"
     ]
    }
   ],
   "metadata": {}
  },
  {
   "cell_type": "code",
   "execution_count": 33,
   "source": [
    "s.pivot(index='Iteration', columns='Run', values='Fitness').plot()"
   ],
   "outputs": [
    {
     "output_type": "execute_result",
     "data": {
      "text/plain": [
       "<AxesSubplot:xlabel='Iteration'>"
      ]
     },
     "metadata": {},
     "execution_count": 33
    },
    {
     "output_type": "display_data",
     "data": {
      "text/plain": [
       "<Figure size 432x288 with 1 Axes>"
      ],
      "image/png": "[encoded data removed]"
     },
     "metadata": {
      "needs_background": "light"
     }
    }
   ],
   "metadata": {}
  }
 ],
 "metadata": {
  "orig_nbformat": 4,
  "language_info": {
   "name": "python",
   "version": "3.8.8",
   "mimetype": "text/x-python",
   "codemirror_mode": {
    "name": "ipython",
    "version": 3
   },
   "pygments_lexer": "ipython3",
   "nbconvert_exporter": "python",
   "file_extension": ".py"
  },
  "kernelspec": {
   "name": "python3",
   "display_name": "Python 3.8.8 64-bit ('GOA-SVM-for-GPT-Classification': conda)"
  },
  "interpreter": {
   "hash": "f88953d5c9aa5aedf1a2710ce0bc6ce5df85e8403576077b94186b56238ee893"
  }
 },
 "nbformat": 4,
 "nbformat_minor": 2
}