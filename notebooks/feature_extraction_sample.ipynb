{
 "metadata": {
  "language_info": {
   "codemirror_mode": {
    "name": "ipython",
    "version": 3
   },
   "file_extension": ".py",
   "mimetype": "text/x-python",
   "name": "python",
   "nbconvert_exporter": "python",
   "pygments_lexer": "ipython3",
   "version": "3.8.8"
  },
  "orig_nbformat": 4,
  "kernelspec": {
   "name": "python3",
   "display_name": "Python 3.8.8 64-bit ('GOA-SVM-for-GPT-Classification': conda)"
  },
  "interpreter": {
   "hash": "f88953d5c9aa5aedf1a2710ce0bc6ce5df85e8403576077b94186b56238ee893"
  }
 },
 "nbformat": 4,
 "nbformat_minor": 2,
 "cells": [
  {
   "source": [
    "import os\n",
    "import pandas as pd\n",
    "import numpy as np\n",
    "from scipy.stats import skew, kurtosis\n",
    "import librosa"
   ],
   "cell_type": "code",
   "metadata": {},
   "execution_count": 1,
   "outputs": []
  },
  {
   "cell_type": "code",
   "execution_count": 2,
   "metadata": {},
   "outputs": [],
   "source": [
    "def get_features(path):\n",
    "\n",
    "    signal, sr = librosa.load(path)\n",
    "\n",
    "    mfcc = librosa.feature.mfcc(y=signal, sr=sr, n_mfcc=13)\n",
    "    delta_mfcc = librosa.feature.delta(mfcc)\n",
    "    delta2_mfcc = librosa.feature.delta(mfcc, order=2)\n",
    "\n",
    "    mfccs = np.hstack((\n",
    "                    np.mean(mfcc, axis=1),\n",
    "                    np.std(mfcc, axis=1),\n",
    "                    np.max(mfcc, axis=1),\n",
    "                    np.median(mfcc, axis=1),\n",
    "                    np.min(mfcc, axis=1),\n",
    "                    skew(mfcc, axis=1),\n",
    "                    kurtosis(mfcc, axis=1)\n",
    "                ))\n",
    "    delta_mfccs = np.hstack((\n",
    "                    np.mean(delta_mfcc, axis=1),\n",
    "                    np.std(delta_mfcc, axis=1),\n",
    "                    np.max(delta_mfcc, axis=1),\n",
    "                    np.median(delta_mfcc, axis=1),\n",
    "                    np.min(delta_mfcc, axis=1),\n",
    "                    skew(delta_mfcc, axis=1),\n",
    "                    kurtosis(delta_mfcc, axis=1)\n",
    "                ))\n",
    "    delta2_mfccs = np.hstack((\n",
    "                    np.mean(delta2_mfcc, axis=1),\n",
    "                    np.std(delta2_mfcc, axis=1),\n",
    "                    np.max(delta2_mfcc, axis=1),\n",
    "                    np.median(delta2_mfcc, axis=1),\n",
    "                    np.min(delta2_mfcc, axis=1),\n",
    "                    skew(delta2_mfcc, axis=1),\n",
    "                    kurtosis(delta2_mfcc, axis=1)\n",
    "                ))\n",
    "\n",
    "    extracted_features = np.hstack((mfccs, delta_mfccs, delta2_mfccs))\n",
    "    return extracted_features"
   ]
  },
  {
   "cell_type": "code",
   "execution_count": 3,
   "metadata": {},
   "outputs": [
    {
     "output_type": "stream",
     "name": "stdout",
     "text": [
      "Done!!!\n"
     ]
    }
   ],
   "source": [
    "# dataset_path = '../data/wav'\n",
    "dataset_path = '../data/wav_split_sample'\n",
    "\n",
    "data = []\n",
    "\n",
    "for i, (root, _, files) in enumerate(os.walk(dataset_path)):\n",
    "    files.sort()\n",
    "    for f in files:\n",
    "        technique = f.split('_')[0]\n",
    "        file_path = dataset_path + '/' + f\n",
    "        features = get_features(file_path)\n",
    "        features = np.append(features, [technique, f])\n",
    "        data.append(features)\n",
    "    # if root is not dataset_path:\n",
    "    #     if not files:\n",
    "    #         tone_type = root.split('/')[-1]\n",
    "    #         # print(f'TONE TYPE: {tone_type}')\n",
    "    #     else:\n",
    "    #         subtechnique = root.split('/')[-1]\n",
    "    #         technique = subtechnique.split('_')[0]\n",
    "    #         # print(f'TECHNIQUE: {technique}')\n",
    "    #         # print(f'SUBTECHNIQUE: {subtechnique}')\n",
    "    #         for file in files:\n",
    "    #             file_path = os.path.join(root, file)\n",
    "    #             features = get_features(file_path)\n",
    "    #             featurses = np.append(features, [technique, file_path])\n",
    "    #             data.append(features)\n",
    "print('Done!!!')"
   ]
  },
  {
   "cell_type": "code",
   "execution_count": 4,
   "metadata": {},
   "outputs": [
    {
     "output_type": "execute_result",
     "data": {
      "text/plain": [
       "(275,)"
      ]
     },
     "metadata": {},
     "execution_count": 4
    }
   ],
   "source": [
    "columns = []\n",
    "names = ['mfcc', 'delta_mfcc', 'delta2_mfcc']\n",
    "stats = ['mean', 'std', 'max', 'median', 'min', 'skew', 'kurtosis']\n",
    "file_desc = ['technique','file']\n",
    "\n",
    "for name in names:\n",
    "    for stat in stats:\n",
    "        for i in range(13):\n",
    "            col = f'{stat}_{name}_{i+1}'\n",
    "            columns = np.append(columns, col)\n",
    "\n",
    "columns = np.append(columns, file_desc)\n",
    "columns.shape"
   ]
  },
  {
   "cell_type": "code",
   "execution_count": 5,
   "metadata": {},
   "outputs": [
    {
     "output_type": "execute_result",
     "data": {
      "text/plain": [
       "   mean_mfcc_1 mean_mfcc_2 mean_mfcc_3 mean_mfcc_4 mean_mfcc_5 mean_mfcc_6  \\\n",
       "0   -218.84694    86.81607   -51.84921    55.75788  -36.838966  -1.2738166   \n",
       "1   -252.66904     81.9901    -47.8681   56.606754  -33.919907   7.6535797   \n",
       "2   -250.90128    56.77972   -47.70276   50.883003  -44.211445  -1.6806709   \n",
       "3   -265.76428   69.707016  -41.595173   54.576717  -39.914696   5.1588726   \n",
       "4   -171.92993   177.89772   -47.25373    60.37567  -27.280334   6.3716865   \n",
       "5   -178.90503   173.24323  -43.702946   53.700607   -21.58375    5.908013   \n",
       "6   -174.18451   166.76561  -50.459927    56.00855  -24.160439   11.577605   \n",
       "7    -149.0495   165.08339  -47.892517   58.085186  -21.581646    9.573054   \n",
       "8   -229.42401    98.25939   -49.30093   55.048687  -28.042206   12.151862   \n",
       "9   -239.12857   105.10275  -47.263706   55.117516   -25.31652   10.826395   \n",
       "10   -223.3738    98.80097   -45.96021   53.955746  -33.537594    8.112716   \n",
       "11  -229.47527    95.05767  -45.428757   55.995564  -28.915018   7.0305643   \n",
       "12  -163.36801   166.09335  -41.006035    54.42635  -19.714222   11.553394   \n",
       "13   -172.3421   152.97675  -45.130722   53.975986  -20.556948      10.294   \n",
       "\n",
       "   mean_mfcc_7  mean_mfcc_8 mean_mfcc_9 mean_mfcc_10  ...  \\\n",
       "0   -25.367903  -13.5294695  -17.419874   -11.295274  ...   \n",
       "1   -22.220734     -17.5641   -25.35023  -13.4374075  ...   \n",
       "2    -33.99672   -26.632442  -16.369343    -3.762543  ...   \n",
       "3    -28.77237   -17.501478  -25.740204    -11.13976  ...   \n",
       "4   -17.744514   -7.4960775  -5.7304964   0.50984174  ...   \n",
       "5   -10.315294   -6.4816685  -4.7371135  -0.72148025  ...   \n",
       "6   -14.005915   -1.3546561   -7.976836    2.6209466  ...   \n",
       "7   -15.679747   -6.0630984  -11.011153   -2.6546214  ...   \n",
       "8   -14.595781   -14.143987  -19.198711   -10.642881  ...   \n",
       "9    -9.229997   -7.2455363  -11.876444    -6.864854  ...   \n",
       "10  -13.122084   -12.120887   -21.86597   -7.9476314  ...   \n",
       "11   -18.53011  -13.9567375    -12.5796   -4.9919076  ...   \n",
       "12  -12.718459     -5.40672  -11.408361   -1.4161935  ...   \n",
       "13  -14.767681   -3.6362262  -10.725727    -3.821517  ...   \n",
       "\n",
       "   kurtosis_delta2_mfcc_6 kurtosis_delta2_mfcc_7 kurtosis_delta2_mfcc_8  \\\n",
       "0              -1.3386278             -1.7792838              -1.764172   \n",
       "1              -1.9063942             -0.7111263             -1.7595763   \n",
       "2              0.21673512             0.94823337            -0.98609495   \n",
       "3              -1.7127274             -1.7433404              -1.832233   \n",
       "4              -1.3286442             -1.0811257             -1.7135916   \n",
       "5              -1.6293298             -1.8528775             -1.8901205   \n",
       "6              -1.3153142            -0.32129002              -1.947642   \n",
       "7              -1.8645568              -1.091222              1.9460306   \n",
       "8              -1.7948492              1.0870352              0.8193474   \n",
       "9              -1.5975614             -1.1785799             -1.6097223   \n",
       "10              1.2366061              -1.245217             -1.8241363   \n",
       "11             -1.4671047             -1.7538325             -1.7716769   \n",
       "12             -1.7975044              2.4835734            -0.98706794   \n",
       "13             0.42755675             -1.7194146             -1.8945171   \n",
       "\n",
       "   kurtosis_delta2_mfcc_9 kurtosis_delta2_mfcc_10 kurtosis_delta2_mfcc_11  \\\n",
       "0              -1.6684377              -1.8158064              -1.8029685   \n",
       "1              -1.7542081              -1.3334488               1.4874015   \n",
       "2               0.8075805              -1.8453026              -1.5187328   \n",
       "3              -1.8823328              -1.9095594              -1.7689748   \n",
       "4              -1.8230137              -0.7810836                -1.74023   \n",
       "5              -1.8444887              -1.7728902             -0.84310675   \n",
       "6              -1.9026482              -1.6507813             -0.69765997   \n",
       "7                -1.87207               3.2973309               2.1247764   \n",
       "8              0.96823454              -1.9120159              -1.2472228   \n",
       "9              -1.7678865              -1.8757617             -0.64981246   \n",
       "10            -0.18590498              -1.7787255              -1.8897104   \n",
       "11             -1.5297142             -0.35424185               0.5606177   \n",
       "12             -1.7959623              -1.7510682              -1.8427008   \n",
       "13             -1.7679434              -1.7723963               -1.765739   \n",
       "\n",
       "   kurtosis_delta2_mfcc_12 kurtosis_delta2_mfcc_13 technique  \\\n",
       "0               -1.9046292               -1.133988   bending   \n",
       "1               -1.8409225            -0.032402992   bending   \n",
       "2                -1.793363               0.3179667   hamming   \n",
       "3               -1.7773163              -1.7590983   hamming   \n",
       "4               -1.7876741              -1.1023704      mute   \n",
       "5               -1.8737533            -0.114789724      mute   \n",
       "6                 1.668056               -0.483433    normal   \n",
       "7               -1.7795596              -1.1067883    normal   \n",
       "8               -1.8317252              -1.7568729   pulling   \n",
       "9               -1.1703469              -1.9144055   pulling   \n",
       "10              -1.8973488              -1.8675362     slide   \n",
       "11              -1.7366258              -1.5076011     slide   \n",
       "12              -1.0230398              -1.7649486     trill   \n",
       "13              -1.3852925            -0.004087925     trill   \n",
       "\n",
       "                             file  \n",
       "0        bending_up_whole_1_1.wav  \n",
       "1        bending_up_whole_2_1.wav  \n",
       "2      hamming_whole_step_1_1.wav  \n",
       "3      hamming_whole_step_2_1.wav  \n",
       "4                    mute_1_1.wav  \n",
       "5                    mute_2_1.wav  \n",
       "6                  normal_1_1.wav  \n",
       "7                  normal_2_1.wav  \n",
       "8      pulling_whole_step_1_1.wav  \n",
       "9      pulling_whole_step_2_1.wav  \n",
       "10  slide_whole_step_down_1_1.wav  \n",
       "11  slide_whole_step_down_2_1.wav  \n",
       "12                  trill_2_1.wav  \n",
       "13                  trill_3_1.wav  \n",
       "\n",
       "[14 rows x 275 columns]"
      ],
      "text/html": "<div>\n<style scoped>\n    .dataframe tbody tr th:only-of-type {\n        vertical-align: middle;\n    }\n\n    .dataframe tbody tr th {\n        vertical-align: top;\n    }\n\n    .dataframe thead th {\n        text-align: right;\n    }\n</style>\n<table border=\"1\" class=\"dataframe\">\n  <thead>\n    <tr style=\"text-align: right;\">\n      <th></th>\n      <th>mean_mfcc_1</th>\n      <th>mean_mfcc_2</th>\n      <th>mean_mfcc_3</th>\n      <th>mean_mfcc_4</th>\n      <th>mean_mfcc_5</th>\n      <th>mean_mfcc_6</th>\n      <th>mean_mfcc_7</th>\n      <th>mean_mfcc_8</th>\n      <th>mean_mfcc_9</th>\n      <th>mean_mfcc_10</th>\n      <th>...</th>\n      <th>kurtosis_delta2_mfcc_6</th>\n      <th>kurtosis_delta2_mfcc_7</th>\n      <th>kurtosis_delta2_mfcc_8</th>\n      <th>kurtosis_delta2_mfcc_9</th>\n      <th>kurtosis_delta2_mfcc_10</th>\n      <th>kurtosis_delta2_mfcc_11</th>\n      <th>kurtosis_delta2_mfcc_12</th>\n      <th>kurtosis_delta2_mfcc_13</th>\n      <th>technique</th>\n      <th>file</th>\n    </tr>\n  </thead>\n  <tbody>\n    <tr>\n      <th>0</th>\n      <td>-218.84694</td>\n      <td>86.81607</td>\n      <td>-51.84921</td>\n      <td>55.75788</td>\n      <td>-36.838966</td>\n      <td>-1.2738166</td>\n      <td>-25.367903</td>\n      <td>-13.5294695</td>\n      <td>-17.419874</td>\n      <td>-11.295274</td>\n      <td>...</td>\n      <td>-1.3386278</td>\n      <td>-1.7792838</td>\n      <td>-1.764172</td>\n      <td>-1.6684377</td>\n      <td>-1.8158064</td>\n      <td>-1.8029685</td>\n      <td>-1.9046292</td>\n      <td>-1.133988</td>\n      <td>bending</td>\n      <td>bending_up_whole_1_1.wav</td>\n    </tr>\n    <tr>\n      <th>1</th>\n      <td>-252.66904</td>\n      <td>81.9901</td>\n      <td>-47.8681</td>\n      <td>56.606754</td>\n      <td>-33.919907</td>\n      <td>7.6535797</td>\n      <td>-22.220734</td>\n      <td>-17.5641</td>\n      <td>-25.35023</td>\n      <td>-13.4374075</td>\n      <td>...</td>\n      <td>-1.9063942</td>\n      <td>-0.7111263</td>\n      <td>-1.7595763</td>\n      <td>-1.7542081</td>\n      <td>-1.3334488</td>\n      <td>1.4874015</td>\n      <td>-1.8409225</td>\n      <td>-0.032402992</td>\n      <td>bending</td>\n      <td>bending_up_whole_2_1.wav</td>\n    </tr>\n    <tr>\n      <th>2</th>\n      <td>-250.90128</td>\n      <td>56.77972</td>\n      <td>-47.70276</td>\n      <td>50.883003</td>\n      <td>-44.211445</td>\n      <td>-1.6806709</td>\n      <td>-33.99672</td>\n      <td>-26.632442</td>\n      <td>-16.369343</td>\n      <td>-3.762543</td>\n      <td>...</td>\n      <td>0.21673512</td>\n      <td>0.94823337</td>\n      <td>-0.98609495</td>\n      <td>0.8075805</td>\n      <td>-1.8453026</td>\n      <td>-1.5187328</td>\n      <td>-1.793363</td>\n      <td>0.3179667</td>\n      <td>hamming</td>\n      <td>hamming_whole_step_1_1.wav</td>\n    </tr>\n    <tr>\n      <th>3</th>\n      <td>-265.76428</td>\n      <td>69.707016</td>\n      <td>-41.595173</td>\n      <td>54.576717</td>\n      <td>-39.914696</td>\n      <td>5.1588726</td>\n      <td>-28.77237</td>\n      <td>-17.501478</td>\n      <td>-25.740204</td>\n      <td>-11.13976</td>\n      <td>...</td>\n      <td>-1.7127274</td>\n      <td>-1.7433404</td>\n      <td>-1.832233</td>\n      <td>-1.8823328</td>\n      <td>-1.9095594</td>\n      <td>-1.7689748</td>\n      <td>-1.7773163</td>\n      <td>-1.7590983</td>\n      <td>hamming</td>\n      <td>hamming_whole_step_2_1.wav</td>\n    </tr>\n    <tr>\n      <th>4</th>\n      <td>-171.92993</td>\n      <td>177.89772</td>\n      <td>-47.25373</td>\n      <td>60.37567</td>\n      <td>-27.280334</td>\n      <td>6.3716865</td>\n      <td>-17.744514</td>\n      <td>-7.4960775</td>\n      <td>-5.7304964</td>\n      <td>0.50984174</td>\n      <td>...</td>\n      <td>-1.3286442</td>\n      <td>-1.0811257</td>\n      <td>-1.7135916</td>\n      <td>-1.8230137</td>\n      <td>-0.7810836</td>\n      <td>-1.74023</td>\n      <td>-1.7876741</td>\n      <td>-1.1023704</td>\n      <td>mute</td>\n      <td>mute_1_1.wav</td>\n    </tr>\n    <tr>\n      <th>5</th>\n      <td>-178.90503</td>\n      <td>173.24323</td>\n      <td>-43.702946</td>\n      <td>53.700607</td>\n      <td>-21.58375</td>\n      <td>5.908013</td>\n      <td>-10.315294</td>\n      <td>-6.4816685</td>\n      <td>-4.7371135</td>\n      <td>-0.72148025</td>\n      <td>...</td>\n      <td>-1.6293298</td>\n      <td>-1.8528775</td>\n      <td>-1.8901205</td>\n      <td>-1.8444887</td>\n      <td>-1.7728902</td>\n      <td>-0.84310675</td>\n      <td>-1.8737533</td>\n      <td>-0.114789724</td>\n      <td>mute</td>\n      <td>mute_2_1.wav</td>\n    </tr>\n    <tr>\n      <th>6</th>\n      <td>-174.18451</td>\n      <td>166.76561</td>\n      <td>-50.459927</td>\n      <td>56.00855</td>\n      <td>-24.160439</td>\n      <td>11.577605</td>\n      <td>-14.005915</td>\n      <td>-1.3546561</td>\n      <td>-7.976836</td>\n      <td>2.6209466</td>\n      <td>...</td>\n      <td>-1.3153142</td>\n      <td>-0.32129002</td>\n      <td>-1.947642</td>\n      <td>-1.9026482</td>\n      <td>-1.6507813</td>\n      <td>-0.69765997</td>\n      <td>1.668056</td>\n      <td>-0.483433</td>\n      <td>normal</td>\n      <td>normal_1_1.wav</td>\n    </tr>\n    <tr>\n      <th>7</th>\n      <td>-149.0495</td>\n      <td>165.08339</td>\n      <td>-47.892517</td>\n      <td>58.085186</td>\n      <td>-21.581646</td>\n      <td>9.573054</td>\n      <td>-15.679747</td>\n      <td>-6.0630984</td>\n      <td>-11.011153</td>\n      <td>-2.6546214</td>\n      <td>...</td>\n      <td>-1.8645568</td>\n      <td>-1.091222</td>\n      <td>1.9460306</td>\n      <td>-1.87207</td>\n      <td>3.2973309</td>\n      <td>2.1247764</td>\n      <td>-1.7795596</td>\n      <td>-1.1067883</td>\n      <td>normal</td>\n      <td>normal_2_1.wav</td>\n    </tr>\n    <tr>\n      <th>8</th>\n      <td>-229.42401</td>\n      <td>98.25939</td>\n      <td>-49.30093</td>\n      <td>55.048687</td>\n      <td>-28.042206</td>\n      <td>12.151862</td>\n      <td>-14.595781</td>\n      <td>-14.143987</td>\n      <td>-19.198711</td>\n      <td>-10.642881</td>\n      <td>...</td>\n      <td>-1.7948492</td>\n      <td>1.0870352</td>\n      <td>0.8193474</td>\n      <td>0.96823454</td>\n      <td>-1.9120159</td>\n      <td>-1.2472228</td>\n      <td>-1.8317252</td>\n      <td>-1.7568729</td>\n      <td>pulling</td>\n      <td>pulling_whole_step_1_1.wav</td>\n    </tr>\n    <tr>\n      <th>9</th>\n      <td>-239.12857</td>\n      <td>105.10275</td>\n      <td>-47.263706</td>\n      <td>55.117516</td>\n      <td>-25.31652</td>\n      <td>10.826395</td>\n      <td>-9.229997</td>\n      <td>-7.2455363</td>\n      <td>-11.876444</td>\n      <td>-6.864854</td>\n      <td>...</td>\n      <td>-1.5975614</td>\n      <td>-1.1785799</td>\n      <td>-1.6097223</td>\n      <td>-1.7678865</td>\n      <td>-1.8757617</td>\n      <td>-0.64981246</td>\n      <td>-1.1703469</td>\n      <td>-1.9144055</td>\n      <td>pulling</td>\n      <td>pulling_whole_step_2_1.wav</td>\n    </tr>\n    <tr>\n      <th>10</th>\n      <td>-223.3738</td>\n      <td>98.80097</td>\n      <td>-45.96021</td>\n      <td>53.955746</td>\n      <td>-33.537594</td>\n      <td>8.112716</td>\n      <td>-13.122084</td>\n      <td>-12.120887</td>\n      <td>-21.86597</td>\n      <td>-7.9476314</td>\n      <td>...</td>\n      <td>1.2366061</td>\n      <td>-1.245217</td>\n      <td>-1.8241363</td>\n      <td>-0.18590498</td>\n      <td>-1.7787255</td>\n      <td>-1.8897104</td>\n      <td>-1.8973488</td>\n      <td>-1.8675362</td>\n      <td>slide</td>\n      <td>slide_whole_step_down_1_1.wav</td>\n    </tr>\n    <tr>\n      <th>11</th>\n      <td>-229.47527</td>\n      <td>95.05767</td>\n      <td>-45.428757</td>\n      <td>55.995564</td>\n      <td>-28.915018</td>\n      <td>7.0305643</td>\n      <td>-18.53011</td>\n      <td>-13.9567375</td>\n      <td>-12.5796</td>\n      <td>-4.9919076</td>\n      <td>...</td>\n      <td>-1.4671047</td>\n      <td>-1.7538325</td>\n      <td>-1.7716769</td>\n      <td>-1.5297142</td>\n      <td>-0.35424185</td>\n      <td>0.5606177</td>\n      <td>-1.7366258</td>\n      <td>-1.5076011</td>\n      <td>slide</td>\n      <td>slide_whole_step_down_2_1.wav</td>\n    </tr>\n    <tr>\n      <th>12</th>\n      <td>-163.36801</td>\n      <td>166.09335</td>\n      <td>-41.006035</td>\n      <td>54.42635</td>\n      <td>-19.714222</td>\n      <td>11.553394</td>\n      <td>-12.718459</td>\n      <td>-5.40672</td>\n      <td>-11.408361</td>\n      <td>-1.4161935</td>\n      <td>...</td>\n      <td>-1.7975044</td>\n      <td>2.4835734</td>\n      <td>-0.98706794</td>\n      <td>-1.7959623</td>\n      <td>-1.7510682</td>\n      <td>-1.8427008</td>\n      <td>-1.0230398</td>\n      <td>-1.7649486</td>\n      <td>trill</td>\n      <td>trill_2_1.wav</td>\n    </tr>\n    <tr>\n      <th>13</th>\n      <td>-172.3421</td>\n      <td>152.97675</td>\n      <td>-45.130722</td>\n      <td>53.975986</td>\n      <td>-20.556948</td>\n      <td>10.294</td>\n      <td>-14.767681</td>\n      <td>-3.6362262</td>\n      <td>-10.725727</td>\n      <td>-3.821517</td>\n      <td>...</td>\n      <td>0.42755675</td>\n      <td>-1.7194146</td>\n      <td>-1.8945171</td>\n      <td>-1.7679434</td>\n      <td>-1.7723963</td>\n      <td>-1.765739</td>\n      <td>-1.3852925</td>\n      <td>-0.004087925</td>\n      <td>trill</td>\n      <td>trill_3_1.wav</td>\n    </tr>\n  </tbody>\n</table>\n<p>14 rows × 275 columns</p>\n</div>"
     },
     "metadata": {},
     "execution_count": 5
    }
   ],
   "source": [
    "df = pd.DataFrame(data, columns=columns)\n",
    "df"
   ]
  },
  {
   "cell_type": "code",
   "execution_count": 7,
   "metadata": {},
   "outputs": [],
   "source": [
    "# df.to_csv('../data/gpt.csv', index=False)\n",
    "df.to_csv('../data/gpt_split_sample.csv', index=False)"
   ]
  },
  {
   "cell_type": "code",
   "execution_count": 8,
   "metadata": {},
   "outputs": [],
   "source": [
    "gpt_sample = pd.read_csv('../data/gpt_split_sample.csv')"
   ]
  },
  {
   "cell_type": "code",
   "execution_count": 9,
   "metadata": {},
   "outputs": [
    {
     "output_type": "execute_result",
     "data": {
      "text/plain": [
       "    mean_mfcc_1  mean_mfcc_2  mean_mfcc_3  mean_mfcc_4  mean_mfcc_5  \\\n",
       "0    -218.84694    86.816070   -51.849210    55.757880   -36.838966   \n",
       "1    -252.66904    81.990100   -47.868100    56.606754   -33.919907   \n",
       "2    -250.90128    56.779720   -47.702760    50.883003   -44.211445   \n",
       "3    -265.76428    69.707016   -41.595173    54.576717   -39.914696   \n",
       "4    -171.92993   177.897720   -47.253730    60.375670   -27.280334   \n",
       "5    -178.90503   173.243230   -43.702946    53.700607   -21.583750   \n",
       "6    -174.18451   166.765610   -50.459927    56.008550   -24.160439   \n",
       "7    -149.04950   165.083390   -47.892517    58.085186   -21.581646   \n",
       "8    -229.42401    98.259390   -49.300930    55.048687   -28.042206   \n",
       "9    -239.12857   105.102750   -47.263706    55.117516   -25.316520   \n",
       "10   -223.37380    98.800970   -45.960210    53.955746   -33.537594   \n",
       "11   -229.47527    95.057670   -45.428757    55.995564   -28.915018   \n",
       "12   -163.36801   166.093350   -41.006035    54.426350   -19.714222   \n",
       "13   -172.34210   152.976750   -45.130722    53.975986   -20.556948   \n",
       "\n",
       "    mean_mfcc_6  mean_mfcc_7  mean_mfcc_8  mean_mfcc_9  mean_mfcc_10  ...  \\\n",
       "0     -1.273817   -25.367903   -13.529469   -17.419874    -11.295274  ...   \n",
       "1      7.653580   -22.220734   -17.564100   -25.350230    -13.437408  ...   \n",
       "2     -1.680671   -33.996720   -26.632442   -16.369343     -3.762543  ...   \n",
       "3      5.158873   -28.772370   -17.501478   -25.740204    -11.139760  ...   \n",
       "4      6.371687   -17.744514    -7.496078    -5.730496      0.509842  ...   \n",
       "5      5.908013   -10.315294    -6.481668    -4.737114     -0.721480  ...   \n",
       "6     11.577605   -14.005915    -1.354656    -7.976836      2.620947  ...   \n",
       "7      9.573054   -15.679747    -6.063098   -11.011153     -2.654621  ...   \n",
       "8     12.151862   -14.595781   -14.143987   -19.198711    -10.642881  ...   \n",
       "9     10.826395    -9.229997    -7.245536   -11.876444     -6.864854  ...   \n",
       "10     8.112716   -13.122084   -12.120887   -21.865970     -7.947631  ...   \n",
       "11     7.030564   -18.530110   -13.956737   -12.579600     -4.991908  ...   \n",
       "12    11.553394   -12.718459    -5.406720   -11.408361     -1.416194  ...   \n",
       "13    10.294000   -14.767681    -3.636226   -10.725727     -3.821517  ...   \n",
       "\n",
       "    kurtosis_delta2_mfcc_6  kurtosis_delta2_mfcc_7  kurtosis_delta2_mfcc_8  \\\n",
       "0                -1.338628               -1.779284               -1.764172   \n",
       "1                -1.906394               -0.711126               -1.759576   \n",
       "2                 0.216735                0.948233               -0.986095   \n",
       "3                -1.712727               -1.743340               -1.832233   \n",
       "4                -1.328644               -1.081126               -1.713592   \n",
       "5                -1.629330               -1.852877               -1.890121   \n",
       "6                -1.315314               -0.321290               -1.947642   \n",
       "7                -1.864557               -1.091222                1.946031   \n",
       "8                -1.794849                1.087035                0.819347   \n",
       "9                -1.597561               -1.178580               -1.609722   \n",
       "10                1.236606               -1.245217               -1.824136   \n",
       "11               -1.467105               -1.753832               -1.771677   \n",
       "12               -1.797504                2.483573               -0.987068   \n",
       "13                0.427557               -1.719415               -1.894517   \n",
       "\n",
       "    kurtosis_delta2_mfcc_9  kurtosis_delta2_mfcc_10  kurtosis_delta2_mfcc_11  \\\n",
       "0                -1.668438                -1.815806                -1.802968   \n",
       "1                -1.754208                -1.333449                 1.487402   \n",
       "2                 0.807581                -1.845303                -1.518733   \n",
       "3                -1.882333                -1.909559                -1.768975   \n",
       "4                -1.823014                -0.781084                -1.740230   \n",
       "5                -1.844489                -1.772890                -0.843107   \n",
       "6                -1.902648                -1.650781                -0.697660   \n",
       "7                -1.872070                 3.297331                 2.124776   \n",
       "8                 0.968235                -1.912016                -1.247223   \n",
       "9                -1.767886                -1.875762                -0.649812   \n",
       "10               -0.185905                -1.778725                -1.889710   \n",
       "11               -1.529714                -0.354242                 0.560618   \n",
       "12               -1.795962                -1.751068                -1.842701   \n",
       "13               -1.767943                -1.772396                -1.765739   \n",
       "\n",
       "    kurtosis_delta2_mfcc_12  kurtosis_delta2_mfcc_13  technique  \\\n",
       "0                 -1.904629                -1.133988    bending   \n",
       "1                 -1.840923                -0.032403    bending   \n",
       "2                 -1.793363                 0.317967    hamming   \n",
       "3                 -1.777316                -1.759098    hamming   \n",
       "4                 -1.787674                -1.102370       mute   \n",
       "5                 -1.873753                -0.114790       mute   \n",
       "6                  1.668056                -0.483433     normal   \n",
       "7                 -1.779560                -1.106788     normal   \n",
       "8                 -1.831725                -1.756873    pulling   \n",
       "9                 -1.170347                -1.914405    pulling   \n",
       "10                -1.897349                -1.867536      slide   \n",
       "11                -1.736626                -1.507601      slide   \n",
       "12                -1.023040                -1.764949      trill   \n",
       "13                -1.385293                -0.004088      trill   \n",
       "\n",
       "                             file  \n",
       "0        bending_up_whole_1_1.wav  \n",
       "1        bending_up_whole_2_1.wav  \n",
       "2      hamming_whole_step_1_1.wav  \n",
       "3      hamming_whole_step_2_1.wav  \n",
       "4                    mute_1_1.wav  \n",
       "5                    mute_2_1.wav  \n",
       "6                  normal_1_1.wav  \n",
       "7                  normal_2_1.wav  \n",
       "8      pulling_whole_step_1_1.wav  \n",
       "9      pulling_whole_step_2_1.wav  \n",
       "10  slide_whole_step_down_1_1.wav  \n",
       "11  slide_whole_step_down_2_1.wav  \n",
       "12                  trill_2_1.wav  \n",
       "13                  trill_3_1.wav  \n",
       "\n",
       "[14 rows x 275 columns]"
      ],
      "text/html": "<div>\n<style scoped>\n    .dataframe tbody tr th:only-of-type {\n        vertical-align: middle;\n    }\n\n    .dataframe tbody tr th {\n        vertical-align: top;\n    }\n\n    .dataframe thead th {\n        text-align: right;\n    }\n</style>\n<table border=\"1\" class=\"dataframe\">\n  <thead>\n    <tr style=\"text-align: right;\">\n      <th></th>\n      <th>mean_mfcc_1</th>\n      <th>mean_mfcc_2</th>\n      <th>mean_mfcc_3</th>\n      <th>mean_mfcc_4</th>\n      <th>mean_mfcc_5</th>\n      <th>mean_mfcc_6</th>\n      <th>mean_mfcc_7</th>\n      <th>mean_mfcc_8</th>\n      <th>mean_mfcc_9</th>\n      <th>mean_mfcc_10</th>\n      <th>...</th>\n      <th>kurtosis_delta2_mfcc_6</th>\n      <th>kurtosis_delta2_mfcc_7</th>\n      <th>kurtosis_delta2_mfcc_8</th>\n      <th>kurtosis_delta2_mfcc_9</th>\n      <th>kurtosis_delta2_mfcc_10</th>\n      <th>kurtosis_delta2_mfcc_11</th>\n      <th>kurtosis_delta2_mfcc_12</th>\n      <th>kurtosis_delta2_mfcc_13</th>\n      <th>technique</th>\n      <th>file</th>\n    </tr>\n  </thead>\n  <tbody>\n    <tr>\n      <th>0</th>\n      <td>-218.84694</td>\n      <td>86.816070</td>\n      <td>-51.849210</td>\n      <td>55.757880</td>\n      <td>-36.838966</td>\n      <td>-1.273817</td>\n      <td>-25.367903</td>\n      <td>-13.529469</td>\n      <td>-17.419874</td>\n      <td>-11.295274</td>\n      <td>...</td>\n      <td>-1.338628</td>\n      <td>-1.779284</td>\n      <td>-1.764172</td>\n      <td>-1.668438</td>\n      <td>-1.815806</td>\n      <td>-1.802968</td>\n      <td>-1.904629</td>\n      <td>-1.133988</td>\n      <td>bending</td>\n      <td>bending_up_whole_1_1.wav</td>\n    </tr>\n    <tr>\n      <th>1</th>\n      <td>-252.66904</td>\n      <td>81.990100</td>\n      <td>-47.868100</td>\n      <td>56.606754</td>\n      <td>-33.919907</td>\n      <td>7.653580</td>\n      <td>-22.220734</td>\n      <td>-17.564100</td>\n      <td>-25.350230</td>\n      <td>-13.437408</td>\n      <td>...</td>\n      <td>-1.906394</td>\n      <td>-0.711126</td>\n      <td>-1.759576</td>\n      <td>-1.754208</td>\n      <td>-1.333449</td>\n      <td>1.487402</td>\n      <td>-1.840923</td>\n      <td>-0.032403</td>\n      <td>bending</td>\n      <td>bending_up_whole_2_1.wav</td>\n    </tr>\n    <tr>\n      <th>2</th>\n      <td>-250.90128</td>\n      <td>56.779720</td>\n      <td>-47.702760</td>\n      <td>50.883003</td>\n      <td>-44.211445</td>\n      <td>-1.680671</td>\n      <td>-33.996720</td>\n      <td>-26.632442</td>\n      <td>-16.369343</td>\n      <td>-3.762543</td>\n      <td>...</td>\n      <td>0.216735</td>\n      <td>0.948233</td>\n      <td>-0.986095</td>\n      <td>0.807581</td>\n      <td>-1.845303</td>\n      <td>-1.518733</td>\n      <td>-1.793363</td>\n      <td>0.317967</td>\n      <td>hamming</td>\n      <td>hamming_whole_step_1_1.wav</td>\n    </tr>\n    <tr>\n      <th>3</th>\n      <td>-265.76428</td>\n      <td>69.707016</td>\n      <td>-41.595173</td>\n      <td>54.576717</td>\n      <td>-39.914696</td>\n      <td>5.158873</td>\n      <td>-28.772370</td>\n      <td>-17.501478</td>\n      <td>-25.740204</td>\n      <td>-11.139760</td>\n      <td>...</td>\n      <td>-1.712727</td>\n      <td>-1.743340</td>\n      <td>-1.832233</td>\n      <td>-1.882333</td>\n      <td>-1.909559</td>\n      <td>-1.768975</td>\n      <td>-1.777316</td>\n      <td>-1.759098</td>\n      <td>hamming</td>\n      <td>hamming_whole_step_2_1.wav</td>\n    </tr>\n    <tr>\n      <th>4</th>\n      <td>-171.92993</td>\n      <td>177.897720</td>\n      <td>-47.253730</td>\n      <td>60.375670</td>\n      <td>-27.280334</td>\n      <td>6.371687</td>\n      <td>-17.744514</td>\n      <td>-7.496078</td>\n      <td>-5.730496</td>\n      <td>0.509842</td>\n      <td>...</td>\n      <td>-1.328644</td>\n      <td>-1.081126</td>\n      <td>-1.713592</td>\n      <td>-1.823014</td>\n      <td>-0.781084</td>\n      <td>-1.740230</td>\n      <td>-1.787674</td>\n      <td>-1.102370</td>\n      <td>mute</td>\n      <td>mute_1_1.wav</td>\n    </tr>\n    <tr>\n      <th>5</th>\n      <td>-178.90503</td>\n      <td>173.243230</td>\n      <td>-43.702946</td>\n      <td>53.700607</td>\n      <td>-21.583750</td>\n      <td>5.908013</td>\n      <td>-10.315294</td>\n      <td>-6.481668</td>\n      <td>-4.737114</td>\n      <td>-0.721480</td>\n      <td>...</td>\n      <td>-1.629330</td>\n      <td>-1.852877</td>\n      <td>-1.890121</td>\n      <td>-1.844489</td>\n      <td>-1.772890</td>\n      <td>-0.843107</td>\n      <td>-1.873753</td>\n      <td>-0.114790</td>\n      <td>mute</td>\n      <td>mute_2_1.wav</td>\n    </tr>\n    <tr>\n      <th>6</th>\n      <td>-174.18451</td>\n      <td>166.765610</td>\n      <td>-50.459927</td>\n      <td>56.008550</td>\n      <td>-24.160439</td>\n      <td>11.577605</td>\n      <td>-14.005915</td>\n      <td>-1.354656</td>\n      <td>-7.976836</td>\n      <td>2.620947</td>\n      <td>...</td>\n      <td>-1.315314</td>\n      <td>-0.321290</td>\n      <td>-1.947642</td>\n      <td>-1.902648</td>\n      <td>-1.650781</td>\n      <td>-0.697660</td>\n      <td>1.668056</td>\n      <td>-0.483433</td>\n      <td>normal</td>\n      <td>normal_1_1.wav</td>\n    </tr>\n    <tr>\n      <th>7</th>\n      <td>-149.04950</td>\n      <td>165.083390</td>\n      <td>-47.892517</td>\n      <td>58.085186</td>\n      <td>-21.581646</td>\n      <td>9.573054</td>\n      <td>-15.679747</td>\n      <td>-6.063098</td>\n      <td>-11.011153</td>\n      <td>-2.654621</td>\n      <td>...</td>\n      <td>-1.864557</td>\n      <td>-1.091222</td>\n      <td>1.946031</td>\n      <td>-1.872070</td>\n      <td>3.297331</td>\n      <td>2.124776</td>\n      <td>-1.779560</td>\n      <td>-1.106788</td>\n      <td>normal</td>\n      <td>normal_2_1.wav</td>\n    </tr>\n    <tr>\n      <th>8</th>\n      <td>-229.42401</td>\n      <td>98.259390</td>\n      <td>-49.300930</td>\n      <td>55.048687</td>\n      <td>-28.042206</td>\n      <td>12.151862</td>\n      <td>-14.595781</td>\n      <td>-14.143987</td>\n      <td>-19.198711</td>\n      <td>-10.642881</td>\n      <td>...</td>\n      <td>-1.794849</td>\n      <td>1.087035</td>\n      <td>0.819347</td>\n      <td>0.968235</td>\n      <td>-1.912016</td>\n      <td>-1.247223</td>\n      <td>-1.831725</td>\n      <td>-1.756873</td>\n      <td>pulling</td>\n      <td>pulling_whole_step_1_1.wav</td>\n    </tr>\n    <tr>\n      <th>9</th>\n      <td>-239.12857</td>\n      <td>105.102750</td>\n      <td>-47.263706</td>\n      <td>55.117516</td>\n      <td>-25.316520</td>\n      <td>10.826395</td>\n      <td>-9.229997</td>\n      <td>-7.245536</td>\n      <td>-11.876444</td>\n      <td>-6.864854</td>\n      <td>...</td>\n      <td>-1.597561</td>\n      <td>-1.178580</td>\n      <td>-1.609722</td>\n      <td>-1.767886</td>\n      <td>-1.875762</td>\n      <td>-0.649812</td>\n      <td>-1.170347</td>\n      <td>-1.914405</td>\n      <td>pulling</td>\n      <td>pulling_whole_step_2_1.wav</td>\n    </tr>\n    <tr>\n      <th>10</th>\n      <td>-223.37380</td>\n      <td>98.800970</td>\n      <td>-45.960210</td>\n      <td>53.955746</td>\n      <td>-33.537594</td>\n      <td>8.112716</td>\n      <td>-13.122084</td>\n      <td>-12.120887</td>\n      <td>-21.865970</td>\n      <td>-7.947631</td>\n      <td>...</td>\n      <td>1.236606</td>\n      <td>-1.245217</td>\n      <td>-1.824136</td>\n      <td>-0.185905</td>\n      <td>-1.778725</td>\n      <td>-1.889710</td>\n      <td>-1.897349</td>\n      <td>-1.867536</td>\n      <td>slide</td>\n      <td>slide_whole_step_down_1_1.wav</td>\n    </tr>\n    <tr>\n      <th>11</th>\n      <td>-229.47527</td>\n      <td>95.057670</td>\n      <td>-45.428757</td>\n      <td>55.995564</td>\n      <td>-28.915018</td>\n      <td>7.030564</td>\n      <td>-18.530110</td>\n      <td>-13.956737</td>\n      <td>-12.579600</td>\n      <td>-4.991908</td>\n      <td>...</td>\n      <td>-1.467105</td>\n      <td>-1.753832</td>\n      <td>-1.771677</td>\n      <td>-1.529714</td>\n      <td>-0.354242</td>\n      <td>0.560618</td>\n      <td>-1.736626</td>\n      <td>-1.507601</td>\n      <td>slide</td>\n      <td>slide_whole_step_down_2_1.wav</td>\n    </tr>\n    <tr>\n      <th>12</th>\n      <td>-163.36801</td>\n      <td>166.093350</td>\n      <td>-41.006035</td>\n      <td>54.426350</td>\n      <td>-19.714222</td>\n      <td>11.553394</td>\n      <td>-12.718459</td>\n      <td>-5.406720</td>\n      <td>-11.408361</td>\n      <td>-1.416194</td>\n      <td>...</td>\n      <td>-1.797504</td>\n      <td>2.483573</td>\n      <td>-0.987068</td>\n      <td>-1.795962</td>\n      <td>-1.751068</td>\n      <td>-1.842701</td>\n      <td>-1.023040</td>\n      <td>-1.764949</td>\n      <td>trill</td>\n      <td>trill_2_1.wav</td>\n    </tr>\n    <tr>\n      <th>13</th>\n      <td>-172.34210</td>\n      <td>152.976750</td>\n      <td>-45.130722</td>\n      <td>53.975986</td>\n      <td>-20.556948</td>\n      <td>10.294000</td>\n      <td>-14.767681</td>\n      <td>-3.636226</td>\n      <td>-10.725727</td>\n      <td>-3.821517</td>\n      <td>...</td>\n      <td>0.427557</td>\n      <td>-1.719415</td>\n      <td>-1.894517</td>\n      <td>-1.767943</td>\n      <td>-1.772396</td>\n      <td>-1.765739</td>\n      <td>-1.385293</td>\n      <td>-0.004088</td>\n      <td>trill</td>\n      <td>trill_3_1.wav</td>\n    </tr>\n  </tbody>\n</table>\n<p>14 rows × 275 columns</p>\n</div>"
     },
     "metadata": {},
     "execution_count": 9
    }
   ],
   "source": [
    "gpt_sample"
   ]
  },
  {
   "cell_type": "code",
   "execution_count": 59,
   "metadata": {},
   "outputs": [],
   "source": [
    "for idx in range(14):\n",
    "    mfcc = np.zeros((13,7))\n",
    "    for j in range(7):\n",
    "        i = j + 0\n",
    "        mfcc[:,j] = gpt_sample.iloc[idx,i*13:i*13+13]\n",
    "    dmfcc = np.zeros((13,7))\n",
    "    for j in range(7):\n",
    "        i = j + 7\n",
    "        dmfcc[:,j] = gpt_sample.iloc[idx,i*13:i*13+13]\n",
    "    d2mfcc = np.zeros((13,7))\n",
    "    for j in range(7):\n",
    "        i = j + 14\n",
    "        d2mfcc[:,j] = gpt_sample.iloc[idx,i*13:i*13+13]\n",
    "    dframe = np.vstack((mfcc, dmfcc, d2mfcc))\n",
    "    dframe = pd.DataFrame(dframe)\n",
    "    title = df['file'][idx].split('.')[0]\n",
    "    dframe.to_csv(f'csv/{idx}_{title}.csv', index=False, float_format='%.2f')"
   ]
  },
  {
   "cell_type": "code",
   "execution_count": 4,
   "metadata": {},
   "outputs": [
    {
     "output_type": "stream",
     "name": "stderr",
     "text": [
      "<ipython-input-4-845052d87393>:3: RuntimeWarning: overflow encountered in exp\n  np.exp(1158)\n"
     ]
    },
    {
     "output_type": "execute_result",
     "data": {
      "text/plain": [
       "inf"
      ]
     },
     "metadata": {},
     "execution_count": 4
    }
   ],
   "source": [
    "import numpy as np\n",
    "\n",
    "np.exp(1158)"
   ]
  }
 ]
}