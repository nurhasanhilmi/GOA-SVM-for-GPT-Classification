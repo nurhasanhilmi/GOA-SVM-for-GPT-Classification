{
 "metadata": {
  "language_info": {
   "codemirror_mode": {
    "name": "ipython",
    "version": 3
   },
   "file_extension": ".py",
   "mimetype": "text/x-python",
   "name": "python",
   "nbconvert_exporter": "python",
   "pygments_lexer": "ipython3",
   "version": "3.8.8"
  },
  "orig_nbformat": 4,
  "kernelspec": {
   "name": "python3",
   "display_name": "Python 3.8.8 64-bit ('GOA-SVM-for-GPT-Classification': conda)"
  },
  "interpreter": {
   "hash": "f88953d5c9aa5aedf1a2710ce0bc6ce5df85e8403576077b94186b56238ee893"
  }
 },
 "nbformat": 4,
 "nbformat_minor": 2,
 "cells": [
  {
   "source": [
    "import os\n",
    "import pandas as pd\n",
    "import numpy as np\n",
    "from scipy.stats import skew, kurtosis\n",
    "import librosa"
   ],
   "cell_type": "code",
   "metadata": {},
   "execution_count": 1,
   "outputs": []
  },
  {
   "cell_type": "code",
   "execution_count": 2,
   "metadata": {},
   "outputs": [],
   "source": [
    "def get_features(path):\n",
    "\n",
    "    signal, sr = librosa.load(path)\n",
    "\n",
    "    mfcc = librosa.feature.mfcc(y=signal, sr=sr, n_mfcc=13)\n",
    "    delta_mfcc = librosa.feature.delta(mfcc)\n",
    "    delta2_mfcc = librosa.feature.delta(mfcc, order=2)\n",
    "\n",
    "    mfccs = np.hstack((\n",
    "                    np.mean(mfcc, axis=1),\n",
    "                    np.std(mfcc, axis=1),\n",
    "                    np.max(mfcc, axis=1),\n",
    "                    np.median(mfcc, axis=1),\n",
    "                    np.min(mfcc, axis=1),\n",
    "                    skew(mfcc, axis=1),\n",
    "                    kurtosis(mfcc, axis=1)\n",
    "                ))\n",
    "    delta_mfccs = np.hstack((\n",
    "                    np.mean(delta_mfcc, axis=1),\n",
    "                    np.std(delta_mfcc, axis=1),\n",
    "                    np.max(delta_mfcc, axis=1),\n",
    "                    np.median(delta_mfcc, axis=1),\n",
    "                    np.min(delta_mfcc, axis=1),\n",
    "                    skew(delta_mfcc, axis=1),\n",
    "                    kurtosis(delta_mfcc, axis=1)\n",
    "                ))\n",
    "    delta2_mfccs = np.hstack((\n",
    "                    np.mean(delta2_mfcc, axis=1),\n",
    "                    np.std(delta2_mfcc, axis=1),\n",
    "                    np.max(delta2_mfcc, axis=1),\n",
    "                    np.median(delta2_mfcc, axis=1),\n",
    "                    np.min(delta2_mfcc, axis=1),\n",
    "                    skew(delta2_mfcc, axis=1),\n",
    "                    kurtosis(delta2_mfcc, axis=1)\n",
    "                ))\n",
    "\n",
    "    extracted_features = np.hstack((mfccs, delta_mfccs, delta2_mfccs))\n",
    "    return extracted_features"
   ]
  },
  {
   "cell_type": "code",
   "execution_count": 3,
   "metadata": {},
   "outputs": [
    {
     "output_type": "stream",
     "name": "stdout",
     "text": [
      "Done!!!\n"
     ]
    }
   ],
   "source": [
    "# dataset_path = '../data/wav'\n",
    "dataset_path = '../data/wav_split_sample'\n",
    "\n",
    "data = []\n",
    "\n",
    "for i, (root, _, files) in enumerate(os.walk(dataset_path)):\n",
    "    files.sort()\n",
    "    for f in files:\n",
    "        technique = f.split('_')[0]\n",
    "        file_path = dataset_path + '/' + f\n",
    "        features = get_features(file_path)\n",
    "        features = np.append(features, [technique, f])\n",
    "        data.append(features)\n",
    "    # if root is not dataset_path:\n",
    "    #     if not files:\n",
    "    #         tone_type = root.split('/')[-1]\n",
    "    #         # print(f'TONE TYPE: {tone_type}')\n",
    "    #     else:\n",
    "    #         subtechnique = root.split('/')[-1]\n",
    "    #         technique = subtechnique.split('_')[0]\n",
    "    #         # print(f'TECHNIQUE: {technique}')\n",
    "    #         # print(f'SUBTECHNIQUE: {subtechnique}')\n",
    "    #         for file in files:\n",
    "    #             file_path = os.path.join(root, file)\n",
    "    #             features = get_features(file_path)\n",
    "    #             featurses = np.append(features, [technique, file_path])\n",
    "    #             data.append(features)\n",
    "print('Done!!!')"
   ]
  },
  {
   "cell_type": "code",
   "execution_count": 4,
   "metadata": {},
   "outputs": [
    {
     "output_type": "execute_result",
     "data": {
      "text/plain": [
       "(275,)"
      ]
     },
     "metadata": {},
     "execution_count": 4
    }
   ],
   "source": [
    "columns = []\n",
    "names = ['mfcc', 'delta_mfcc', 'delta2_mfcc']\n",
    "stats = ['mean', 'std', 'max', 'median', 'min', 'skew', 'kurtosis']\n",
    "file_desc = ['technique','file']\n",
    "\n",
    "for name in names:\n",
    "    for stat in stats:\n",
    "        for i in range(13):\n",
    "            col = f'{stat}_{name}_{i+1}'\n",
    "            columns = np.append(columns, col)\n",
    "\n",
    "columns = np.append(columns, file_desc)\n",
    "columns.shape"
   ]
  },
  {
   "cell_type": "code",
   "execution_count": 5,
   "metadata": {},
   "outputs": [
    {
     "output_type": "execute_result",
     "data": {
      "text/plain": [
       "   mean_mfcc_1 mean_mfcc_2 mean_mfcc_3 mean_mfcc_4 mean_mfcc_5 mean_mfcc_6  \\\n",
       "0   -218.84694    86.81607   -51.84921    55.75788  -36.838966  -1.2738166   \n",
       "1   -252.66904     81.9901    -47.8681   56.606754  -33.919907   7.6535797   \n",
       "2   -250.90128    56.77972   -47.70276   50.883003  -44.211445  -1.6806709   \n",
       "3   -265.76428   69.707016  -41.595173   54.576717  -39.914696   5.1588726   \n",
       "4   -171.92993   177.89772   -47.25373    60.37567  -27.280334   6.3716865   \n",
       "5   -178.90503   173.24323  -43.702946   53.700607   -21.58375    5.908013   \n",
       "6   -174.18451   166.76561  -50.459927    56.00855  -24.160439   11.577605   \n",
       "7    -149.0495   165.08339  -47.892517   58.085186  -21.581646    9.573054   \n",
       "8   -229.42401    98.25939   -49.30093   55.048687  -28.042206   12.151862   \n",
       "9   -239.12857   105.10275  -47.263706   55.117516   -25.31652   10.826395   \n",
       "10   -223.3738    98.80097   -45.96021   53.955746  -33.537594    8.112716   \n",
       "11  -229.47527    95.05767  -45.428757   55.995564  -28.915018   7.0305643   \n",
       "12  -163.36801   166.09335  -41.006035    54.42635  -19.714222   11.553394   \n",
       "13   -172.3421   152.97675  -45.130722   53.975986  -20.556948      10.294   \n",
       "\n",
       "   mean_mfcc_7  mean_mfcc_8 mean_mfcc_9 mean_mfcc_10  ...  \\\n",
       "0   -25.367903  -13.5294695  -17.419874   -11.295274  ...   \n",
       "1   -22.220734     -17.5641   -25.35023  -13.4374075  ...   \n",
       "2    -33.99672   -26.632442  -16.369343    -3.762543  ...   \n",
       "3    -28.77237   -17.501478  -25.740204    -11.13976  ...   \n",
       "4   -17.744514   -7.4960775  -5.7304964   0.50984174  ...   \n",
       "5   -10.315294   -6.4816685  -4.7371135  -0.72148025  ...   \n",
       "6   -14.005915   -1.3546561   -7.976836    2.6209466  ...   \n",
       "7   -15.679747   -6.0630984  -11.011153   -2.6546214  ...   \n",
       "8   -14.595781   -14.143987  -19.198711   -10.642881  ...   \n",
       "9    -9.229997   -7.2455363  -11.876444    -6.864854  ...   \n",
       "10  -13.122084   -12.120887   -21.86597   -7.9476314  ...   \n",
       "11   -18.53011  -13.9567375    -12.5796   -4.9919076  ...   \n",
       "12  -12.718459     -5.40672  -11.408361   -1.4161935  ...   \n",
       "13  -14.767681   -3.6362262  -10.725727    -3.821517  ...   \n",
       "\n",
       "   kurtosis_delta2_mfcc_6 kurtosis_delta2_mfcc_7 kurtosis_delta2_mfcc_8  \\\n",
       "0              -1.3386278             -1.7792838              -1.764172   \n",
       "1              -1.9063942             -0.7111263             -1.7595763   \n",
       "2              0.21673512             0.94823337            -0.98609495   \n",
       "3              -1.7127274             -1.7433404              -1.832233   \n",
       "4              -1.3286442             -1.0811257             -1.7135916   \n",
       "5              -1.6293298             -1.8528775             -1.8901205   \n",
       "6              -1.3153142            -0.32129002              -1.947642   \n",
       "7              -1.8645568              -1.091222              1.9460306   \n",
       "8              -1.7948492              1.0870352              0.8193474   \n",
       "9              -1.5975614             -1.1785799             -1.6097223   \n",
       "10              1.2366061              -1.245217             -1.8241363   \n",
       "11             -1.4671047             -1.7538325             -1.7716769   \n",
       "12             -1.7975044              2.4835734            -0.98706794   \n",
       "13             0.42755675             -1.7194146             -1.8945171   \n",
       "\n",
       "   kurtosis_delta2_mfcc_9 kurtosis_delta2_mfcc_10 kurtosis_delta2_mfcc_11  \\\n",
       "0              -1.6684377              -1.8158064              -1.8029685   \n",
       "1              -1.7542081              -1.3334488               1.4874015   \n",
       "2               0.8075805              -1.8453026              -1.5187328   \n",
       "3              -1.8823328              -1.9095594              -1.7689748   \n",
       "4              -1.8230137              -0.7810836                -1.74023   \n",
       "5              -1.8444887              -1.7728902             -0.84310675   \n",
       "6              -1.9026482              -1.6507813             -0.69765997   \n",
       "7                -1.87207               3.2973309               2.1247764   \n",
       "8              0.96823454              -1.9120159              -1.2472228   \n",
       "9              -1.7678865              -1.8757617             -0.64981246   \n",
       "10            -0.18590498              -1.7787255              -1.8897104   \n",
       "11             -1.5297142             -0.35424185               0.5606177   \n",
       "12             -1.7959623              -1.7510682              -1.8427008   \n",
       "13             -1.7679434              -1.7723963               -1.765739   \n",
       "\n",
       "   kurtosis_delta2_mfcc_12 kurtosis_delta2_mfcc_13 technique  \\\n",
       "0               -1.9046292               -1.133988   bending   \n",
       "1               -1.8409225            -0.032402992   bending   \n",
       "2                -1.793363               0.3179667   hamming   \n",
       "3               -1.7773163              -1.7590983   hamming   \n",
       "4               -1.7876741              -1.1023704      mute   \n",
       "5               -1.8737533            -0.114789724      mute   \n",
       "6                 1.668056               -0.483433    normal   \n",
       "7               -1.7795596              -1.1067883    normal   \n",
       "8               -1.8317252              -1.7568729   pulling   \n",
       "9               -1.1703469              -1.9144055   pulling   \n",
       "10              -1.8973488              -1.8675362     slide   \n",
       "11              -1.7366258              -1.5076011     slide   \n",
       "12              -1.0230398              -1.7649486     trill   \n",
       "13              -1.3852925            -0.004087925     trill   \n",
       "\n",
       "                             file  \n",
       "0        bending_up_whole_1_1.wav  \n",
       "1        bending_up_whole_2_1.wav  \n",
       "2      hamming_whole_step_1_1.wav  \n",
       "3      hamming_whole_step_2_1.wav  \n",
       "4                    mute_1_1.wav  \n",
       "5                    mute_2_1.wav  \n",
       "6                  normal_1_1.wav  \n",
       "7                  normal_2_1.wav  \n",
       "8      pulling_whole_step_1_1.wav  \n",
       "9      pulling_whole_step_2_1.wav  \n",
       "10  slide_whole_step_down_1_1.wav  \n",
       "11  slide_whole_step_down_2_1.wav  \n",
       "12                  trill_2_1.wav  \n",
       "13                  trill_3_1.wav  \n",
       "\n",
       "[14 rows x 275 columns]"
      ],
      "text/html": "<div>\n<style scoped>\n    .dataframe tbody tr th:only-of-type {\n        vertical-align: middle;\n    }\n\n    .dataframe tbody tr th {\n        vertical-align: top;\n    }\n\n    .dataframe thead th {\n        text-align: right;\n    }\n</style>\n<table border=\"1\" class=\"dataframe\">\n  <thead>\n    <tr style=\"text-align: right;\">\n      <th></th>\n      <th>mean_mfcc_1</th>\n      <th>mean_mfcc_2</th>\n      <th>mean_mfcc_3</th>\n      <th>mean_mfcc_4</th>\n      <th>mean_mfcc_5</th>\n      <th>mean_mfcc_6</th>\n      <th>mean_mfcc_7</th>\n      <th>mean_mfcc_8</th>\n      <th>mean_mfcc_9</th>\n      <th>mean_mfcc_10</th>\n      <th>...</th>\n      <th>kurtosis_delta2_mfcc_6</th>\n      <th>kurtosis_delta2_mfcc_7</th>\n      <th>kurtosis_delta2_mfcc_8</th>\n      <th>kurtosis_delta2_mfcc_9</th>\n      <th>kurtosis_delta2_mfcc_10</th>\n      <th>kurtosis_delta2_mfcc_11</th>\n      <th>kurtosis_delta2_mfcc_12</th>\n      <th>kurtosis_delta2_mfcc_13</th>\n      <th>technique</th>\n      <th>file</th>\n    </tr>\n  </thead>\n  <tbody>\n    <tr>\n      <th>0</th>\n      <td>-218.84694</td>\n      <td>86.81607</td>\n      <td>-51.84921</td>\n      <td>55.75788</td>\n      <td>-36.838966</td>\n      <td>-1.2738166</td>\n      <td>-25.367903</td>\n      <td>-13.5294695</td>\n      <td>-17.419874</td>\n      <td>-11.295274</td>\n      <td>...</td>\n      <td>-1.3386278</td>\n      <td>-1.7792838</td>\n      <td>-1.764172</td>\n      <td>-1.6684377</td>\n      <td>-1.8158064</td>\n      <td>-1.8029685</td>\n      <td>-1.9046292</td>\n      <td>-1.133988</td>\n      <td>bending</td>\n      <td>bending_up_whole_1_1.wav</td>\n    </tr>\n    <tr>\n      <th>1</th>\n      <td>-252.66904</td>\n      <td>81.9901</td>\n      <td>-47.8681</td>\n      <td>56.606754</td>\n      <td>-33.919907</td>\n      <td>7.6535797</td>\n      <td>-22.220734</td>\n      <td>-17.5641</td>\n      <td>-25.35023</td>\n      <td>-13.4374075</td>\n      <td>...</td>\n      <td>-1.9063942</td>\n      <td>-0.7111263</td>\n      <td>-1.7595763</td>\n      <td>-1.7542081</td>\n      <td>-1.3334488</td>\n      <td>1.4874015</td>\n      <td>-1.8409225</td>\n      <td>-0.032402992</td>\n      <td>bending</td>\n      <td>bending_up_whole_2_1.wav</td>\n    </tr>\n    <tr>\n      <th>2</th>\n      <td>-250.90128</td>\n      <td>56.77972</td>\n      <td>-47.70276</td>\n      <td>50.883003</td>\n      <td>-44.211445</td>\n      <td>-1.6806709</td>\n      <td>-33.99672</td>\n      <td>-26.632442</td>\n      <td>-16.369343</td>\n      <td>-3.762543</td>\n      <td>...</td>\n      <td>0.21673512</td>\n      <td>0.94823337</td>\n      <td>-0.98609495</td>\n      <td>0.8075805</td>\n      <td>-1.8453026</td>\n      <td>-1.5187328</td>\n      <td>-1.793363</td>\n      <td>0.3179667</td>\n      <td>hamming</td>\n      <td>hamming_whole_step_1_1.wav</td>\n    </tr>\n    <tr>\n      <th>3</th>\n      <td>-265.76428</td>\n      <td>69.707016</td>\n      <td>-41.595173</td>\n      <td>54.576717</td>\n      <td>-39.914696</td>\n      <td>5.1588726</td>\n      <td>-28.77237</td>\n      <td>-17.501478</td>\n      <td>-25.740204</td>\n      <td>-11.13976</td>\n      <td>...</td>\n      <td>-1.7127274</td>\n      <td>-1.7433404</td>\n      <td>-1.832233</td>\n      <td>-1.8823328</td>\n      <td>-1.9095594</td>\n      <td>-1.7689748</td>\n      <td>-1.7773163</td>\n      <td>-1.7590983</td>\n      <td>hamming</td>\n      <td>hamming_whole_step_2_1.wav</td>\n    </tr>\n    <tr>\n      <th>4</th>\n      <td>-171.92993</td>\n      <td>177.89772</td>\n      <td>-47.25373</td>\n      <td>60.37567</td>\n      <td>-27.280334</td>\n      <td>6.3716865</td>\n      <td>-17.744514</td>\n      <td>-7.4960775</td>\n      <td>-5.7304964</td>\n      <td>0.50984174</td>\n      <td>...</td>\n      <td>-1.3286442</td>\n      <td>-1.0811257</td>\n      <td>-1.7135916</td>\n      <td>-1.8230137</td>\n      <td>-0.7810836</td>\n      <td>-1.74023</td>\n      <td>-1.7876741</td>\n      <td>-1.1023704</td>\n      <td>mute</td>\n      <td>mute_1_1.wav</td>\n    </tr>\n    <tr>\n      <th>5</th>\n      <td>-178.90503</td>\n      <td>173.24323</td>\n      <td>-43.702946</td>\n      <td>53.700607</td>\n      <td>-21.58375</td>\n      <td>5.908013</td>\n      <td>-10.315294</td>\n      <td>-6.4816685</td>\n      <td>-4.7371135</td>\n      <td>-0.72148025</td>\n      <td>...</td>\n      <td>-1.6293298</td>\n      <td>-1.8528775</td>\n      <td>-1.8901205</td>\n      <td>-1.8444887</td>\n      <td>-1.7728902</td>\n      <td>-0.84310675</td>\n      <td>-1.8737533</td>\n      <td>-0.114789724</td>\n      <td>mute</td>\n      <td>mute_2_1.wav</td>\n    </tr>\n    <tr>\n      <th>6</th>\n      <td>-174.18451</td>\n      <td>166.76561</td>\n      <td>-50.459927</td>\n      <td>56.00855</td>\n      <td>-24.160439</td>\n      <td>11.577605</td>\n      <td>-14.005915</td>\n      <td>-1.3546561</td>\n      <td>-7.976836</td>\n      <td>2.6209466</td>\n      <td>...</td>\n      <td>-1.3153142</td>\n      <td>-0.32129002</td>\n      <td>-1.947642</td>\n      <td>-1.9026482</td>\n      <td>-1.6507813</td>\n      <td>-0.69765997</td>\n      <td>1.668056</td>\n      <td>-0.483433</td>\n      <td>normal</td>\n      <td>normal_1_1.wav</td>\n    </tr>\n    <tr>\n      <th>7</th>\n      <td>-149.0495</td>\n      <td>165.08339</td>\n      <td>-47.892517</td>\n      <td>58.085186</td>\n      <td>-21.581646</td>\n      <td>9.573054</td>\n      <td>-15.679747</td>\n      <td>-6.0630984</td>\n      <td>-11.011153</td>\n      <td>-2.6546214</td>\n      <td>...</td>\n      <td>-1.8645568</td>\n      <td>-1.091222</td>\n      <td>1.9460306</td>\n      <td>-1.87207</td>\n      <td>3.2973309</td>\n      <td>2.1247764</td>\n      <td>-1.7795596</td>\n      <td>-1.1067883</td>\n      <td>normal</td>\n      <td>normal_2_1.wav</td>\n    </tr>\n    <tr>\n      <th>8</th>\n      <td>-229.42401</td>\n      <td>98.25939</td>\n      <td>-49.30093</td>\n      <td>55.048687</td>\n      <td>-28.042206</td>\n      <td>12.151862</td>\n      <td>-14.595781</td>\n      <td>-14.143987</td>\n      <td>-19.198711</td>\n      <td>-10.642881</td>\n      <td>...</td>\n      <td>-1.7948492</td>\n      <td>1.0870352</td>\n      <td>0.8193474</td>\n      <td>0.96823454</td>\n      <td>-1.9120159</td>\n      <td>-1.2472228</td>\n      <td>-1.8317252</td>\n      <td>-1.7568729</td>\n      <td>pulling</td>\n      <td>pulling_whole_step_1_1.wav</td>\n    </tr>\n    <tr>\n      <th>9</th>\n      <td>-239.12857</td>\n      <td>105.10275</td>\n      <td>-47.263706</td>\n      <td>55.117516</td>\n      <td>-25.31652</td>\n      <td>10.826395</td>\n      <td>-9.229997</td>\n      <td>-7.2455363</td>\n      <td>-11.876444</td>\n      <td>-6.864854</td>\n      <td>...</td>\n      <td>-1.5975614</td>\n      <td>-1.1785799</td>\n      <td>-1.6097223</td>\n      <td>-1.7678865</td>\n      <td>-1.8757617</td>\n      <td>-0.64981246</td>\n      <td>-1.1703469</td>\n      <td>-1.9144055</td>\n      <td>pulling</td>\n      <td>pulling_whole_step_2_1.wav</td>\n    </tr>\n    <tr>\n      <th>10</th>\n      <td>-223.3738</td>\n      <td>98.80097</td>\n      <td>-45.96021</td>\n      <td>53.955746</td>\n      <td>-33.537594</td>\n      <td>8.112716</td>\n      <td>-13.122084</td>\n      <td>-12.120887</td>\n      <td>-21.86597</td>\n      <td>-7.9476314</td>\n      <td>...</td>\n      <td>1.2366061</td>\n      <td>-1.245217</td>\n      <td>-1.8241363</td>\n      <td>-0.18590498</td>\n      <td>-1.7787255</td>\n      <td>-1.8897104</td>\n      <td>-1.8973488</td>\n      <td>-1.8675362</td>\n      <td>slide</td>\n      <td>slide_whole_step_down_1_1.wav</td>\n    </tr>\n    <tr>\n      <th>11</th>\n      <td>-229.47527</td>\n      <td>95.05767</td>\n      <td>-45.428757</td>\n      <td>55.995564</td>\n      <td>-28.915018</td>\n      <td>7.0305643</td>\n      <td>-18.53011</td>\n      <td>-13.9567375</td>\n      <td>-12.5796</td>\n      <td>-4.9919076</td>\n      <td>...</td>\n      <td>-1.4671047</td>\n      <td>-1.7538325</td>\n      <td>-1.7716769</td>\n      <td>-1.5297142</td>\n      <td>-0.35424185</td>\n      <td>0.5606177</td>\n      <td>-1.7366258</td>\n      <td>-1.5076011</td>\n      <td>slide</td>\n      <td>slide_whole_step_down_2_1.wav</td>\n    </tr>\n    <tr>\n      <th>12</th>\n      <td>-163.36801</td>\n      <td>166.09335</td>\n      <td>-41.006035</td>\n      <td>54.42635</td>\n      <td>-19.714222</td>\n      <td>11.553394</td>\n      <td>-12.718459</td>\n      <td>-5.40672</td>\n      <td>-11.408361</td>\n      <td>-1.4161935</td>\n      <td>...</td>\n      <td>-1.7975044</td>\n      <td>2.4835734</td>\n      <td>-0.98706794</td>\n      <td>-1.7959623</td>\n      <td>-1.7510682</td>\n      <td>-1.8427008</td>\n      <td>-1.0230398</td>\n      <td>-1.7649486</td>\n      <td>trill</td>\n      <td>trill_2_1.wav</td>\n    </tr>\n    <tr>\n      <th>13</th>\n      <td>-172.3421</td>\n      <td>152.97675</td>\n      <td>-45.130722</td>\n      <td>53.975986</td>\n      <td>-20.556948</td>\n      <td>10.294</td>\n      <td>-14.767681</td>\n      <td>-3.6362262</td>\n      <td>-10.725727</td>\n      <td>-3.821517</td>\n      <td>...</td>\n      <td>0.42755675</td>\n      <td>-1.7194146</td>\n      <td>-1.8945171</td>\n      <td>-1.7679434</td>\n      <td>-1.7723963</td>\n      <td>-1.765739</td>\n      <td>-1.3852925</td>\n      <td>-0.004087925</td>\n      <td>trill</td>\n      <td>trill_3_1.wav</td>\n    </tr>\n  </tbody>\n</table>\n<p>14 rows × 275 columns</p>\n</div>"
     },
     "metadata": {},
     "execution_count": 5
    }
   ],
   "source": [
    "df = pd.DataFrame(data, columns=columns)\n",
    "df"
   ]
  },
  {
   "cell_type": "code",
   "execution_count": 6,
   "metadata": {},
   "outputs": [],
   "source": [
    "# df.to_csv('../data/gpt.csv', index=False)\n",
    "df.to_csv('../data/gpt_split_sample.csv', index=False)"
   ]
  },
  {
   "cell_type": "code",
   "execution_count": 7,
   "metadata": {},
   "outputs": [],
   "source": [
    "gpt_sample = pd.read_csv('../data/gpt_split_sample.csv')"
   ]
  },
  {
   "cell_type": "code",
   "execution_count": 8,
   "metadata": {},
   "outputs": [
    {
     "output_type": "execute_result",
     "data": {
      "text/plain": [
       "    mean_mfcc_1  mean_mfcc_2  mean_mfcc_3  mean_mfcc_4  mean_mfcc_5  \\\n",
       "0    -218.84694    86.816070   -51.849210    55.757880   -36.838966   \n",
       "1    -252.66904    81.990100   -47.868100    56.606754   -33.919907   \n",
       "2    -250.90128    56.779720   -47.702760    50.883003   -44.211445   \n",
       "3    -265.76428    69.707016   -41.595173    54.576717   -39.914696   \n",
       "4    -171.92993   177.897720   -47.253730    60.375670   -27.280334   \n",
       "5    -178.90503   173.243230   -43.702946    53.700607   -21.583750   \n",
       "6    -174.18451   166.765610   -50.459927    56.008550   -24.160439   \n",
       "7    -149.04950   165.083390   -47.892517    58.085186   -21.581646   \n",
       "8    -229.42401    98.259390   -49.300930    55.048687   -28.042206   \n",
       "9    -239.12857   105.102750   -47.263706    55.117516   -25.316520   \n",
       "10   -223.37380    98.800970   -45.960210    53.955746   -33.537594   \n",
       "11   -229.47527    95.057670   -45.428757    55.995564   -28.915018   \n",
       "12   -163.36801   166.093350   -41.006035    54.426350   -19.714222   \n",
       "13   -172.34210   152.976750   -45.130722    53.975986   -20.556948   \n",
       "\n",
       "    mean_mfcc_6  mean_mfcc_7  mean_mfcc_8  mean_mfcc_9  mean_mfcc_10  ...  \\\n",
       "0     -1.273817   -25.367903   -13.529469   -17.419874    -11.295274  ...   \n",
       "1      7.653580   -22.220734   -17.564100   -25.350230    -13.437408  ...   \n",
       "2     -1.680671   -33.996720   -26.632442   -16.369343     -3.762543  ...   \n",
       "3      5.158873   -28.772370   -17.501478   -25.740204    -11.139760  ...   \n",
       "4      6.371687   -17.744514    -7.496078    -5.730496      0.509842  ...   \n",
       "5      5.908013   -10.315294    -6.481668    -4.737114     -0.721480  ...   \n",
       "6     11.577605   -14.005915    -1.354656    -7.976836      2.620947  ...   \n",
       "7      9.573054   -15.679747    -6.063098   -11.011153     -2.654621  ...   \n",
       "8     12.151862   -14.595781   -14.143987   -19.198711    -10.642881  ...   \n",
       "9     10.826395    -9.229997    -7.245536   -11.876444     -6.864854  ...   \n",
       "10     8.112716   -13.122084   -12.120887   -21.865970     -7.947631  ...   \n",
       "11     7.030564   -18.530110   -13.956737   -12.579600     -4.991908  ...   \n",
       "12    11.553394   -12.718459    -5.406720   -11.408361     -1.416194  ...   \n",
       "13    10.294000   -14.767681    -3.636226   -10.725727     -3.821517  ...   \n",
       "\n",
       "    kurtosis_delta2_mfcc_6  kurtosis_delta2_mfcc_7  kurtosis_delta2_mfcc_8  \\\n",
       "0                -1.338628               -1.779284               -1.764172   \n",
       "1                -1.906394               -0.711126               -1.759576   \n",
       "2                 0.216735                0.948233               -0.986095   \n",
       "3                -1.712727               -1.743340               -1.832233   \n",
       "4                -1.328644               -1.081126               -1.713592   \n",
       "5                -1.629330               -1.852877               -1.890121   \n",
       "6                -1.315314               -0.321290               -1.947642   \n",
       "7                -1.864557               -1.091222                1.946031   \n",
       "8                -1.794849                1.087035                0.819347   \n",
       "9                -1.597561               -1.178580               -1.609722   \n",
       "10                1.236606               -1.245217               -1.824136   \n",
       "11               -1.467105               -1.753832               -1.771677   \n",
       "12               -1.797504                2.483573               -0.987068   \n",
       "13                0.427557               -1.719415               -1.894517   \n",
       "\n",
       "    kurtosis_delta2_mfcc_9  kurtosis_delta2_mfcc_10  kurtosis_delta2_mfcc_11  \\\n",
       "0                -1.668438                -1.815806                -1.802968   \n",
       "1                -1.754208                -1.333449                 1.487402   \n",
       "2                 0.807581                -1.845303                -1.518733   \n",
       "3                -1.882333                -1.909559                -1.768975   \n",
       "4                -1.823014                -0.781084                -1.740230   \n",
       "5                -1.844489                -1.772890                -0.843107   \n",
       "6                -1.902648                -1.650781                -0.697660   \n",
       "7                -1.872070                 3.297331                 2.124776   \n",
       "8                 0.968235                -1.912016                -1.247223   \n",
       "9                -1.767886                -1.875762                -0.649812   \n",
       "10               -0.185905                -1.778725                -1.889710   \n",
       "11               -1.529714                -0.354242                 0.560618   \n",
       "12               -1.795962                -1.751068                -1.842701   \n",
       "13               -1.767943                -1.772396                -1.765739   \n",
       "\n",
       "    kurtosis_delta2_mfcc_12  kurtosis_delta2_mfcc_13  technique  \\\n",
       "0                 -1.904629                -1.133988    bending   \n",
       "1                 -1.840923                -0.032403    bending   \n",
       "2                 -1.793363                 0.317967    hamming   \n",
       "3                 -1.777316                -1.759098    hamming   \n",
       "4                 -1.787674                -1.102370       mute   \n",
       "5                 -1.873753                -0.114790       mute   \n",
       "6                  1.668056                -0.483433     normal   \n",
       "7                 -1.779560                -1.106788     normal   \n",
       "8                 -1.831725                -1.756873    pulling   \n",
       "9                 -1.170347                -1.914405    pulling   \n",
       "10                -1.897349                -1.867536      slide   \n",
       "11                -1.736626                -1.507601      slide   \n",
       "12                -1.023040                -1.764949      trill   \n",
       "13                -1.385293                -0.004088      trill   \n",
       "\n",
       "                             file  \n",
       "0        bending_up_whole_1_1.wav  \n",
       "1        bending_up_whole_2_1.wav  \n",
       "2      hamming_whole_step_1_1.wav  \n",
       "3      hamming_whole_step_2_1.wav  \n",
       "4                    mute_1_1.wav  \n",
       "5                    mute_2_1.wav  \n",
       "6                  normal_1_1.wav  \n",
       "7                  normal_2_1.wav  \n",
       "8      pulling_whole_step_1_1.wav  \n",
       "9      pulling_whole_step_2_1.wav  \n",
       "10  slide_whole_step_down_1_1.wav  \n",
       "11  slide_whole_step_down_2_1.wav  \n",
       "12                  trill_2_1.wav  \n",
       "13                  trill_3_1.wav  \n",
       "\n",
       "[14 rows x 275 columns]"
      ],
      "text/html": "<div>\n<style scoped>\n    .dataframe tbody tr th:only-of-type {\n        vertical-align: middle;\n    }\n\n    .dataframe tbody tr th {\n        vertical-align: top;\n    }\n\n    .dataframe thead th {\n        text-align: right;\n    }\n</style>\n<table border=\"1\" class=\"dataframe\">\n  <thead>\n    <tr style=\"text-align: right;\">\n      <th></th>\n      <th>mean_mfcc_1</th>\n      <th>mean_mfcc_2</th>\n      <th>mean_mfcc_3</th>\n      <th>mean_mfcc_4</th>\n      <th>mean_mfcc_5</th>\n      <th>mean_mfcc_6</th>\n      <th>mean_mfcc_7</th>\n      <th>mean_mfcc_8</th>\n      <th>mean_mfcc_9</th>\n      <th>mean_mfcc_10</th>\n      <th>...</th>\n      <th>kurtosis_delta2_mfcc_6</th>\n      <th>kurtosis_delta2_mfcc_7</th>\n      <th>kurtosis_delta2_mfcc_8</th>\n      <th>kurtosis_delta2_mfcc_9</th>\n      <th>kurtosis_delta2_mfcc_10</th>\n      <th>kurtosis_delta2_mfcc_11</th>\n      <th>kurtosis_delta2_mfcc_12</th>\n      <th>kurtosis_delta2_mfcc_13</th>\n      <th>technique</th>\n      <th>file</th>\n    </tr>\n  </thead>\n  <tbody>\n    <tr>\n      <th>0</th>\n      <td>-218.84694</td>\n      <td>86.816070</td>\n      <td>-51.849210</td>\n      <td>55.757880</td>\n      <td>-36.838966</td>\n      <td>-1.273817</td>\n      <td>-25.367903</td>\n      <td>-13.529469</td>\n      <td>-17.419874</td>\n      <td>-11.295274</td>\n      <td>...</td>\n      <td>-1.338628</td>\n      <td>-1.779284</td>\n      <td>-1.764172</td>\n      <td>-1.668438</td>\n      <td>-1.815806</td>\n      <td>-1.802968</td>\n      <td>-1.904629</td>\n      <td>-1.133988</td>\n      <td>bending</td>\n      <td>bending_up_whole_1_1.wav</td>\n    </tr>\n    <tr>\n      <th>1</th>\n      <td>-252.66904</td>\n      <td>81.990100</td>\n      <td>-47.868100</td>\n      <td>56.606754</td>\n      <td>-33.919907</td>\n      <td>7.653580</td>\n      <td>-22.220734</td>\n      <td>-17.564100</td>\n      <td>-25.350230</td>\n      <td>-13.437408</td>\n      <td>...</td>\n      <td>-1.906394</td>\n      <td>-0.711126</td>\n      <td>-1.759576</td>\n      <td>-1.754208</td>\n      <td>-1.333449</td>\n      <td>1.487402</td>\n      <td>-1.840923</td>\n      <td>-0.032403</td>\n      <td>bending</td>\n      <td>bending_up_whole_2_1.wav</td>\n    </tr>\n    <tr>\n      <th>2</th>\n      <td>-250.90128</td>\n      <td>56.779720</td>\n      <td>-47.702760</td>\n      <td>50.883003</td>\n      <td>-44.211445</td>\n      <td>-1.680671</td>\n      <td>-33.996720</td>\n      <td>-26.632442</td>\n      <td>-16.369343</td>\n      <td>-3.762543</td>\n      <td>...</td>\n      <td>0.216735</td>\n      <td>0.948233</td>\n      <td>-0.986095</td>\n      <td>0.807581</td>\n      <td>-1.845303</td>\n      <td>-1.518733</td>\n      <td>-1.793363</td>\n      <td>0.317967</td>\n      <td>hamming</td>\n      <td>hamming_whole_step_1_1.wav</td>\n    </tr>\n    <tr>\n      <th>3</th>\n      <td>-265.76428</td>\n      <td>69.707016</td>\n      <td>-41.595173</td>\n      <td>54.576717</td>\n      <td>-39.914696</td>\n      <td>5.158873</td>\n      <td>-28.772370</td>\n      <td>-17.501478</td>\n      <td>-25.740204</td>\n      <td>-11.139760</td>\n      <td>...</td>\n      <td>-1.712727</td>\n      <td>-1.743340</td>\n      <td>-1.832233</td>\n      <td>-1.882333</td>\n      <td>-1.909559</td>\n      <td>-1.768975</td>\n      <td>-1.777316</td>\n      <td>-1.759098</td>\n      <td>hamming</td>\n      <td>hamming_whole_step_2_1.wav</td>\n    </tr>\n    <tr>\n      <th>4</th>\n      <td>-171.92993</td>\n      <td>177.897720</td>\n      <td>-47.253730</td>\n      <td>60.375670</td>\n      <td>-27.280334</td>\n      <td>6.371687</td>\n      <td>-17.744514</td>\n      <td>-7.496078</td>\n      <td>-5.730496</td>\n      <td>0.509842</td>\n      <td>...</td>\n      <td>-1.328644</td>\n      <td>-1.081126</td>\n      <td>-1.713592</td>\n      <td>-1.823014</td>\n      <td>-0.781084</td>\n      <td>-1.740230</td>\n      <td>-1.787674</td>\n      <td>-1.102370</td>\n      <td>mute</td>\n      <td>mute_1_1.wav</td>\n    </tr>\n    <tr>\n      <th>5</th>\n      <td>-178.90503</td>\n      <td>173.243230</td>\n      <td>-43.702946</td>\n      <td>53.700607</td>\n      <td>-21.583750</td>\n      <td>5.908013</td>\n      <td>-10.315294</td>\n      <td>-6.481668</td>\n      <td>-4.737114</td>\n      <td>-0.721480</td>\n      <td>...</td>\n      <td>-1.629330</td>\n      <td>-1.852877</td>\n      <td>-1.890121</td>\n      <td>-1.844489</td>\n      <td>-1.772890</td>\n      <td>-0.843107</td>\n      <td>-1.873753</td>\n      <td>-0.114790</td>\n      <td>mute</td>\n      <td>mute_2_1.wav</td>\n    </tr>\n    <tr>\n      <th>6</th>\n      <td>-174.18451</td>\n      <td>166.765610</td>\n      <td>-50.459927</td>\n      <td>56.008550</td>\n      <td>-24.160439</td>\n      <td>11.577605</td>\n      <td>-14.005915</td>\n      <td>-1.354656</td>\n      <td>-7.976836</td>\n      <td>2.620947</td>\n      <td>...</td>\n      <td>-1.315314</td>\n      <td>-0.321290</td>\n      <td>-1.947642</td>\n      <td>-1.902648</td>\n      <td>-1.650781</td>\n      <td>-0.697660</td>\n      <td>1.668056</td>\n      <td>-0.483433</td>\n      <td>normal</td>\n      <td>normal_1_1.wav</td>\n    </tr>\n    <tr>\n      <th>7</th>\n      <td>-149.04950</td>\n      <td>165.083390</td>\n      <td>-47.892517</td>\n      <td>58.085186</td>\n      <td>-21.581646</td>\n      <td>9.573054</td>\n      <td>-15.679747</td>\n      <td>-6.063098</td>\n      <td>-11.011153</td>\n      <td>-2.654621</td>\n      <td>...</td>\n      <td>-1.864557</td>\n      <td>-1.091222</td>\n      <td>1.946031</td>\n      <td>-1.872070</td>\n      <td>3.297331</td>\n      <td>2.124776</td>\n      <td>-1.779560</td>\n      <td>-1.106788</td>\n      <td>normal</td>\n      <td>normal_2_1.wav</td>\n    </tr>\n    <tr>\n      <th>8</th>\n      <td>-229.42401</td>\n      <td>98.259390</td>\n      <td>-49.300930</td>\n      <td>55.048687</td>\n      <td>-28.042206</td>\n      <td>12.151862</td>\n      <td>-14.595781</td>\n      <td>-14.143987</td>\n      <td>-19.198711</td>\n      <td>-10.642881</td>\n      <td>...</td>\n      <td>-1.794849</td>\n      <td>1.087035</td>\n      <td>0.819347</td>\n      <td>0.968235</td>\n      <td>-1.912016</td>\n      <td>-1.247223</td>\n      <td>-1.831725</td>\n      <td>-1.756873</td>\n      <td>pulling</td>\n      <td>pulling_whole_step_1_1.wav</td>\n    </tr>\n    <tr>\n      <th>9</th>\n      <td>-239.12857</td>\n      <td>105.102750</td>\n      <td>-47.263706</td>\n      <td>55.117516</td>\n      <td>-25.316520</td>\n      <td>10.826395</td>\n      <td>-9.229997</td>\n      <td>-7.245536</td>\n      <td>-11.876444</td>\n      <td>-6.864854</td>\n      <td>...</td>\n      <td>-1.597561</td>\n      <td>-1.178580</td>\n      <td>-1.609722</td>\n      <td>-1.767886</td>\n      <td>-1.875762</td>\n      <td>-0.649812</td>\n      <td>-1.170347</td>\n      <td>-1.914405</td>\n      <td>pulling</td>\n      <td>pulling_whole_step_2_1.wav</td>\n    </tr>\n    <tr>\n      <th>10</th>\n      <td>-223.37380</td>\n      <td>98.800970</td>\n      <td>-45.960210</td>\n      <td>53.955746</td>\n      <td>-33.537594</td>\n      <td>8.112716</td>\n      <td>-13.122084</td>\n      <td>-12.120887</td>\n      <td>-21.865970</td>\n      <td>-7.947631</td>\n      <td>...</td>\n      <td>1.236606</td>\n      <td>-1.245217</td>\n      <td>-1.824136</td>\n      <td>-0.185905</td>\n      <td>-1.778725</td>\n      <td>-1.889710</td>\n      <td>-1.897349</td>\n      <td>-1.867536</td>\n      <td>slide</td>\n      <td>slide_whole_step_down_1_1.wav</td>\n    </tr>\n    <tr>\n      <th>11</th>\n      <td>-229.47527</td>\n      <td>95.057670</td>\n      <td>-45.428757</td>\n      <td>55.995564</td>\n      <td>-28.915018</td>\n      <td>7.030564</td>\n      <td>-18.530110</td>\n      <td>-13.956737</td>\n      <td>-12.579600</td>\n      <td>-4.991908</td>\n      <td>...</td>\n      <td>-1.467105</td>\n      <td>-1.753832</td>\n      <td>-1.771677</td>\n      <td>-1.529714</td>\n      <td>-0.354242</td>\n      <td>0.560618</td>\n      <td>-1.736626</td>\n      <td>-1.507601</td>\n      <td>slide</td>\n      <td>slide_whole_step_down_2_1.wav</td>\n    </tr>\n    <tr>\n      <th>12</th>\n      <td>-163.36801</td>\n      <td>166.093350</td>\n      <td>-41.006035</td>\n      <td>54.426350</td>\n      <td>-19.714222</td>\n      <td>11.553394</td>\n      <td>-12.718459</td>\n      <td>-5.406720</td>\n      <td>-11.408361</td>\n      <td>-1.416194</td>\n      <td>...</td>\n      <td>-1.797504</td>\n      <td>2.483573</td>\n      <td>-0.987068</td>\n      <td>-1.795962</td>\n      <td>-1.751068</td>\n      <td>-1.842701</td>\n      <td>-1.023040</td>\n      <td>-1.764949</td>\n      <td>trill</td>\n      <td>trill_2_1.wav</td>\n    </tr>\n    <tr>\n      <th>13</th>\n      <td>-172.34210</td>\n      <td>152.976750</td>\n      <td>-45.130722</td>\n      <td>53.975986</td>\n      <td>-20.556948</td>\n      <td>10.294000</td>\n      <td>-14.767681</td>\n      <td>-3.636226</td>\n      <td>-10.725727</td>\n      <td>-3.821517</td>\n      <td>...</td>\n      <td>0.427557</td>\n      <td>-1.719415</td>\n      <td>-1.894517</td>\n      <td>-1.767943</td>\n      <td>-1.772396</td>\n      <td>-1.765739</td>\n      <td>-1.385293</td>\n      <td>-0.004088</td>\n      <td>trill</td>\n      <td>trill_3_1.wav</td>\n    </tr>\n  </tbody>\n</table>\n<p>14 rows × 275 columns</p>\n</div>"
     },
     "metadata": {},
     "execution_count": 8
    }
   ],
   "source": [
    "gpt_sample"
   ]
  },
  {
   "cell_type": "code",
   "execution_count": 9,
   "metadata": {},
   "outputs": [],
   "source": [
    "for idx in range(14):\n",
    "    mfcc = np.zeros((13,7))\n",
    "    for j in range(7):\n",
    "        i = j + 0\n",
    "        mfcc[:,j] = gpt_sample.iloc[idx,i*13:i*13+13]\n",
    "    dmfcc = np.zeros((13,7))\n",
    "    for j in range(7):\n",
    "        i = j + 7\n",
    "        dmfcc[:,j] = gpt_sample.iloc[idx,i*13:i*13+13]\n",
    "    d2mfcc = np.zeros((13,7))\n",
    "    for j in range(7):\n",
    "        i = j + 14\n",
    "        d2mfcc[:,j] = gpt_sample.iloc[idx,i*13:i*13+13]\n",
    "    dframe = np.vstack((mfcc, dmfcc, d2mfcc))\n",
    "    dframe = pd.DataFrame(dframe)\n",
    "    title = df['file'][idx].split('.')[0]\n",
    "    dframe.to_csv(f'csv/{idx}_{title}.csv', index=False, float_format='%.2f')"
   ]
  },
  {
   "cell_type": "code",
   "execution_count": 11,
   "metadata": {},
   "outputs": [],
   "source": [
    "gpt_complete = pd.read_csv('../data/gpt.csv')\n",
    "gpt_split = pd.read_csv('../data/gpt_split.csv')"
   ]
  },
  {
   "cell_type": "code",
   "execution_count": 26,
   "metadata": {},
   "outputs": [],
   "source": [
    "import matplotlib.pyplot as plt\n",
    "import seaborn as sns"
   ]
  },
  {
   "cell_type": "code",
   "execution_count": 101,
   "metadata": {},
   "outputs": [
    {
     "output_type": "execute_result",
     "data": {
      "text/plain": [
       "   bending  hamming  mute  normal  pulling  slide  trill\n",
       "0     1253      567   378    1974      511   1134    630\n",
       "1      874      559   367    3659      515   1061    622"
      ],
      "text/html": "<div>\n<style scoped>\n    .dataframe tbody tr th:only-of-type {\n        vertical-align: middle;\n    }\n\n    .dataframe tbody tr th {\n        vertical-align: top;\n    }\n\n    .dataframe thead th {\n        text-align: right;\n    }\n</style>\n<table border=\"1\" class=\"dataframe\">\n  <thead>\n    <tr style=\"text-align: right;\">\n      <th></th>\n      <th>bending</th>\n      <th>hamming</th>\n      <th>mute</th>\n      <th>normal</th>\n      <th>pulling</th>\n      <th>slide</th>\n      <th>trill</th>\n    </tr>\n  </thead>\n  <tbody>\n    <tr>\n      <th>0</th>\n      <td>1253</td>\n      <td>567</td>\n      <td>378</td>\n      <td>1974</td>\n      <td>511</td>\n      <td>1134</td>\n      <td>630</td>\n    </tr>\n    <tr>\n      <th>1</th>\n      <td>874</td>\n      <td>559</td>\n      <td>367</td>\n      <td>3659</td>\n      <td>515</td>\n      <td>1061</td>\n      <td>622</td>\n    </tr>\n  </tbody>\n</table>\n</div>"
     },
     "metadata": {},
     "execution_count": 101
    }
   ],
   "source": [
    "ds = pd.value_counts(gpt_complete['technique'])\n",
    "dt = pd.value_counts(gpt_split['technique'])\n",
    "df = pd.DataFrame([ds]).append(pd.DataFrame([dt]))\n",
    "df = df.reindex(sorted(df.columns), axis=1)\n",
    "df = df.reset_index(drop=True)\n",
    "df"
   ]
  },
  {
   "cell_type": "code",
   "execution_count": 121,
   "metadata": {},
   "outputs": [
    {
     "output_type": "display_data",
     "data": {
      "text/plain": "<Figure size 720x360 with 1 Axes>",
      "image/svg+xml": "<?xml version=\"1.0\" encoding=\"utf-8\" standalone=\"no\"?>\n<!DOCTYPE svg PUBLIC \"-//W3C//DTD SVG 1.1//EN\"\n  \"http://www.w3.org/Graphics/SVG/1.1/DTD/svg11.dtd\">\n<svg height=\"352.420982pt\" version=\"1.1\" viewBox=\"0 0 712.678125 352.420982\" width=\"712.678125pt\" xmlns=\"http://www.w3.org/2000/svg\" xmlns:xlink=\"http://www.w3.org/1999/xlink\">\n <metadata>\n  <rdf:RDF xmlns:cc=\"http://creativecommons.org/ns#\" xmlns:dc=\"http://purl.org/dc/elements/1.1/\" xmlns:rdf=\"http://www.w3.org/1999/02/22-rdf-syntax-ns#\">\n   <cc:Work>\n    <dc:type rdf:resource=\"http://purl.org/dc/dcmitype/StillImage\"/>\n    <dc:date>2021-06-26T22:33:11.758577</dc:date>\n    <dc:format>image/svg+xml</dc:format>\n    <dc:creator>\n     <cc:Agent>\n      <dc:title>Matplotlib v3.4.1, https://matplotlib.org/</dc:title>\n     </cc:Agent>\n    </dc:creator>\n   </cc:Work>\n  </rdf:RDF>\n </metadata>\n <defs>\n  <style type=\"text/css\">*{stroke-linecap:butt;stroke-linejoin:round;}</style>\n </defs>\n <g id=\"figure_1\">\n  <g id=\"patch_1\">\n   <path d=\"M -0 352.420982 \nL 712.678125 352.420982 \nL 712.678125 0 \nL -0 0 \nz\n\" style=\"fill:none;\"/>\n  </g>\n  <g id=\"axes_1\">\n   <g id=\"patch_2\">\n    <path d=\"M 53.328125 328.542857 \nL 705.478125 328.542857 \nL 705.478125 7.2 \nL 53.328125 7.2 \nz\n\" style=\"fill:#ffffff;\"/>\n   </g>\n   <g id=\"patch_3\">\n    <path clip-path=\"url(#pc84de2de10)\" d=\"M 82.971307 328.542857 \nL 113.941795 328.542857 \nL 113.941795 223.741233 \nL 82.971307 223.741233 \nz\n\" style=\"fill:#1f77b4;\"/>\n   </g>\n   <g id=\"patch_4\">\n    <path clip-path=\"url(#pc84de2de10)\" d=\"M 171.458417 328.542857 \nL 202.428905 328.542857 \nL 202.428905 281.118658 \nL 171.458417 281.118658 \nz\n\" style=\"fill:#1f77b4;\"/>\n   </g>\n   <g id=\"patch_5\">\n    <path clip-path=\"url(#pc84de2de10)\" d=\"M 259.945527 328.542857 \nL 290.916015 328.542857 \nL 290.916015 296.926725 \nL 259.945527 296.926725 \nz\n\" style=\"fill:#1f77b4;\"/>\n   </g>\n   <g id=\"patch_6\">\n    <path clip-path=\"url(#pc84de2de10)\" d=\"M 348.432637 328.542857 \nL 379.403125 328.542857 \nL 379.403125 163.436388 \nL 348.432637 163.436388 \nz\n\" style=\"fill:#1f77b4;\"/>\n   </g>\n   <g id=\"patch_7\">\n    <path clip-path=\"url(#pc84de2de10)\" d=\"M 436.919746 328.542857 \nL 467.890235 328.542857 \nL 467.890235 285.80253 \nL 436.919746 285.80253 \nz\n\" style=\"fill:#1f77b4;\"/>\n   </g>\n   <g id=\"patch_8\">\n    <path clip-path=\"url(#pc84de2de10)\" d=\"M 525.406856 328.542857 \nL 556.377345 328.542857 \nL 556.377345 233.69446 \nL 525.406856 233.69446 \nz\n\" style=\"fill:#1f77b4;\"/>\n   </g>\n   <g id=\"patch_9\">\n    <path clip-path=\"url(#pc84de2de10)\" d=\"M 613.893966 328.542857 \nL 644.864455 328.542857 \nL 644.864455 275.849303 \nL 613.893966 275.849303 \nz\n\" style=\"fill:#1f77b4;\"/>\n   </g>\n   <g id=\"patch_10\">\n    <path clip-path=\"url(#pc84de2de10)\" d=\"M 113.941795 328.542857 \nL 144.912284 328.542857 \nL 144.912284 255.441006 \nL 113.941795 255.441006 \nz\n\" style=\"fill:#ff7f0e;\"/>\n   </g>\n   <g id=\"patch_11\">\n    <path clip-path=\"url(#pc84de2de10)\" d=\"M 202.428905 328.542857 \nL 233.399394 328.542857 \nL 233.399394 281.787783 \nL 202.428905 281.787783 \nz\n\" style=\"fill:#ff7f0e;\"/>\n   </g>\n   <g id=\"patch_12\">\n    <path clip-path=\"url(#pc84de2de10)\" d=\"M 290.916015 328.542857 \nL 321.886504 328.542857 \nL 321.886504 297.846771 \nL 290.916015 297.846771 \nz\n\" style=\"fill:#ff7f0e;\"/>\n   </g>\n   <g id=\"patch_13\">\n    <path clip-path=\"url(#pc84de2de10)\" d=\"M 379.403125 328.542857 \nL 410.373613 328.542857 \nL 410.373613 22.502041 \nL 379.403125 22.502041 \nz\n\" style=\"fill:#ff7f0e;\"/>\n   </g>\n   <g id=\"patch_14\">\n    <path clip-path=\"url(#pc84de2de10)\" d=\"M 467.890235 328.542857 \nL 498.860723 328.542857 \nL 498.860723 285.467968 \nL 467.890235 285.467968 \nz\n\" style=\"fill:#ff7f0e;\"/>\n   </g>\n   <g id=\"patch_15\">\n    <path clip-path=\"url(#pc84de2de10)\" d=\"M 556.377345 328.542857 \nL 587.347833 328.542857 \nL 587.347833 239.800221 \nL 556.377345 239.800221 \nz\n\" style=\"fill:#ff7f0e;\"/>\n   </g>\n   <g id=\"patch_16\">\n    <path clip-path=\"url(#pc84de2de10)\" d=\"M 644.864455 328.542857 \nL 675.834943 328.542857 \nL 675.834943 276.518428 \nL 644.864455 276.518428 \nz\n\" style=\"fill:#ff7f0e;\"/>\n   </g>\n   <g id=\"matplotlib.axis_1\">\n    <g id=\"xtick_1\">\n     <g id=\"line2d_1\">\n      <defs>\n       <path d=\"M 0 0 \nL 0 3.5 \n\" id=\"mb360b1ffb1\" style=\"stroke:#000000;stroke-width:0.8;\"/>\n      </defs>\n      <g>\n       <use style=\"stroke:#000000;stroke-width:0.8;\" x=\"113.941795\" xlink:href=\"#mb360b1ffb1\" y=\"328.542857\"/>\n      </g>\n     </g>\n     <g id=\"text_1\">\n      <!-- bending -->\n      <g transform=\"translate(93.616014 343.141295)scale(0.1 -0.1)\">\n       <defs>\n        <path d=\"M 3116 1747 \nQ 3116 2381 2855 2742 \nQ 2594 3103 2138 3103 \nQ 1681 3103 1420 2742 \nQ 1159 2381 1159 1747 \nQ 1159 1113 1420 752 \nQ 1681 391 2138 391 \nQ 2594 391 2855 752 \nQ 3116 1113 3116 1747 \nz\nM 1159 2969 \nQ 1341 3281 1617 3432 \nQ 1894 3584 2278 3584 \nQ 2916 3584 3314 3078 \nQ 3713 2572 3713 1747 \nQ 3713 922 3314 415 \nQ 2916 -91 2278 -91 \nQ 1894 -91 1617 61 \nQ 1341 213 1159 525 \nL 1159 0 \nL 581 0 \nL 581 4863 \nL 1159 4863 \nL 1159 2969 \nz\n\" id=\"DejaVuSans-62\" transform=\"scale(0.015625)\"/>\n        <path d=\"M 3597 1894 \nL 3597 1613 \nL 953 1613 \nQ 991 1019 1311 708 \nQ 1631 397 2203 397 \nQ 2534 397 2845 478 \nQ 3156 559 3463 722 \nL 3463 178 \nQ 3153 47 2828 -22 \nQ 2503 -91 2169 -91 \nQ 1331 -91 842 396 \nQ 353 884 353 1716 \nQ 353 2575 817 3079 \nQ 1281 3584 2069 3584 \nQ 2775 3584 3186 3129 \nQ 3597 2675 3597 1894 \nz\nM 3022 2063 \nQ 3016 2534 2758 2815 \nQ 2500 3097 2075 3097 \nQ 1594 3097 1305 2825 \nQ 1016 2553 972 2059 \nL 3022 2063 \nz\n\" id=\"DejaVuSans-65\" transform=\"scale(0.015625)\"/>\n        <path d=\"M 3513 2113 \nL 3513 0 \nL 2938 0 \nL 2938 2094 \nQ 2938 2591 2744 2837 \nQ 2550 3084 2163 3084 \nQ 1697 3084 1428 2787 \nQ 1159 2491 1159 1978 \nL 1159 0 \nL 581 0 \nL 581 3500 \nL 1159 3500 \nL 1159 2956 \nQ 1366 3272 1645 3428 \nQ 1925 3584 2291 3584 \nQ 2894 3584 3203 3211 \nQ 3513 2838 3513 2113 \nz\n\" id=\"DejaVuSans-6e\" transform=\"scale(0.015625)\"/>\n        <path d=\"M 2906 2969 \nL 2906 4863 \nL 3481 4863 \nL 3481 0 \nL 2906 0 \nL 2906 525 \nQ 2725 213 2448 61 \nQ 2172 -91 1784 -91 \nQ 1150 -91 751 415 \nQ 353 922 353 1747 \nQ 353 2572 751 3078 \nQ 1150 3584 1784 3584 \nQ 2172 3584 2448 3432 \nQ 2725 3281 2906 2969 \nz\nM 947 1747 \nQ 947 1113 1208 752 \nQ 1469 391 1925 391 \nQ 2381 391 2643 752 \nQ 2906 1113 2906 1747 \nQ 2906 2381 2643 2742 \nQ 2381 3103 1925 3103 \nQ 1469 3103 1208 2742 \nQ 947 2381 947 1747 \nz\n\" id=\"DejaVuSans-64\" transform=\"scale(0.015625)\"/>\n        <path d=\"M 603 3500 \nL 1178 3500 \nL 1178 0 \nL 603 0 \nL 603 3500 \nz\nM 603 4863 \nL 1178 4863 \nL 1178 4134 \nL 603 4134 \nL 603 4863 \nz\n\" id=\"DejaVuSans-69\" transform=\"scale(0.015625)\"/>\n        <path d=\"M 2906 1791 \nQ 2906 2416 2648 2759 \nQ 2391 3103 1925 3103 \nQ 1463 3103 1205 2759 \nQ 947 2416 947 1791 \nQ 947 1169 1205 825 \nQ 1463 481 1925 481 \nQ 2391 481 2648 825 \nQ 2906 1169 2906 1791 \nz\nM 3481 434 \nQ 3481 -459 3084 -895 \nQ 2688 -1331 1869 -1331 \nQ 1566 -1331 1297 -1286 \nQ 1028 -1241 775 -1147 \nL 775 -588 \nQ 1028 -725 1275 -790 \nQ 1522 -856 1778 -856 \nQ 2344 -856 2625 -561 \nQ 2906 -266 2906 331 \nL 2906 616 \nQ 2728 306 2450 153 \nQ 2172 0 1784 0 \nQ 1141 0 747 490 \nQ 353 981 353 1791 \nQ 353 2603 747 3093 \nQ 1141 3584 1784 3584 \nQ 2172 3584 2450 3431 \nQ 2728 3278 2906 2969 \nL 2906 3500 \nL 3481 3500 \nL 3481 434 \nz\n\" id=\"DejaVuSans-67\" transform=\"scale(0.015625)\"/>\n       </defs>\n       <use xlink:href=\"#DejaVuSans-62\"/>\n       <use x=\"63.476562\" xlink:href=\"#DejaVuSans-65\"/>\n       <use x=\"125\" xlink:href=\"#DejaVuSans-6e\"/>\n       <use x=\"188.378906\" xlink:href=\"#DejaVuSans-64\"/>\n       <use x=\"251.855469\" xlink:href=\"#DejaVuSans-69\"/>\n       <use x=\"279.638672\" xlink:href=\"#DejaVuSans-6e\"/>\n       <use x=\"343.017578\" xlink:href=\"#DejaVuSans-67\"/>\n      </g>\n     </g>\n    </g>\n    <g id=\"xtick_2\">\n     <g id=\"line2d_2\">\n      <g>\n       <use style=\"stroke:#000000;stroke-width:0.8;\" x=\"202.428905\" xlink:href=\"#mb360b1ffb1\" y=\"328.542857\"/>\n      </g>\n     </g>\n     <g id=\"text_2\">\n      <!-- hamming -->\n      <g transform=\"translate(178.723436 343.141295)scale(0.1 -0.1)\">\n       <defs>\n        <path d=\"M 3513 2113 \nL 3513 0 \nL 2938 0 \nL 2938 2094 \nQ 2938 2591 2744 2837 \nQ 2550 3084 2163 3084 \nQ 1697 3084 1428 2787 \nQ 1159 2491 1159 1978 \nL 1159 0 \nL 581 0 \nL 581 4863 \nL 1159 4863 \nL 1159 2956 \nQ 1366 3272 1645 3428 \nQ 1925 3584 2291 3584 \nQ 2894 3584 3203 3211 \nQ 3513 2838 3513 2113 \nz\n\" id=\"DejaVuSans-68\" transform=\"scale(0.015625)\"/>\n        <path d=\"M 2194 1759 \nQ 1497 1759 1228 1600 \nQ 959 1441 959 1056 \nQ 959 750 1161 570 \nQ 1363 391 1709 391 \nQ 2188 391 2477 730 \nQ 2766 1069 2766 1631 \nL 2766 1759 \nL 2194 1759 \nz\nM 3341 1997 \nL 3341 0 \nL 2766 0 \nL 2766 531 \nQ 2569 213 2275 61 \nQ 1981 -91 1556 -91 \nQ 1019 -91 701 211 \nQ 384 513 384 1019 \nQ 384 1609 779 1909 \nQ 1175 2209 1959 2209 \nL 2766 2209 \nL 2766 2266 \nQ 2766 2663 2505 2880 \nQ 2244 3097 1772 3097 \nQ 1472 3097 1187 3025 \nQ 903 2953 641 2809 \nL 641 3341 \nQ 956 3463 1253 3523 \nQ 1550 3584 1831 3584 \nQ 2591 3584 2966 3190 \nQ 3341 2797 3341 1997 \nz\n\" id=\"DejaVuSans-61\" transform=\"scale(0.015625)\"/>\n        <path d=\"M 3328 2828 \nQ 3544 3216 3844 3400 \nQ 4144 3584 4550 3584 \nQ 5097 3584 5394 3201 \nQ 5691 2819 5691 2113 \nL 5691 0 \nL 5113 0 \nL 5113 2094 \nQ 5113 2597 4934 2840 \nQ 4756 3084 4391 3084 \nQ 3944 3084 3684 2787 \nQ 3425 2491 3425 1978 \nL 3425 0 \nL 2847 0 \nL 2847 2094 \nQ 2847 2600 2669 2842 \nQ 2491 3084 2119 3084 \nQ 1678 3084 1418 2786 \nQ 1159 2488 1159 1978 \nL 1159 0 \nL 581 0 \nL 581 3500 \nL 1159 3500 \nL 1159 2956 \nQ 1356 3278 1631 3431 \nQ 1906 3584 2284 3584 \nQ 2666 3584 2933 3390 \nQ 3200 3197 3328 2828 \nz\n\" id=\"DejaVuSans-6d\" transform=\"scale(0.015625)\"/>\n       </defs>\n       <use xlink:href=\"#DejaVuSans-68\"/>\n       <use x=\"63.378906\" xlink:href=\"#DejaVuSans-61\"/>\n       <use x=\"124.658203\" xlink:href=\"#DejaVuSans-6d\"/>\n       <use x=\"222.070312\" xlink:href=\"#DejaVuSans-6d\"/>\n       <use x=\"319.482422\" xlink:href=\"#DejaVuSans-69\"/>\n       <use x=\"347.265625\" xlink:href=\"#DejaVuSans-6e\"/>\n       <use x=\"410.644531\" xlink:href=\"#DejaVuSans-67\"/>\n      </g>\n     </g>\n    </g>\n    <g id=\"xtick_3\">\n     <g id=\"line2d_3\">\n      <g>\n       <use style=\"stroke:#000000;stroke-width:0.8;\" x=\"290.916015\" xlink:href=\"#mb360b1ffb1\" y=\"328.542857\"/>\n      </g>\n     </g>\n     <g id=\"text_3\">\n      <!-- mute -->\n      <g transform=\"translate(277.840234 343.141295)scale(0.1 -0.1)\">\n       <defs>\n        <path d=\"M 544 1381 \nL 544 3500 \nL 1119 3500 \nL 1119 1403 \nQ 1119 906 1312 657 \nQ 1506 409 1894 409 \nQ 2359 409 2629 706 \nQ 2900 1003 2900 1516 \nL 2900 3500 \nL 3475 3500 \nL 3475 0 \nL 2900 0 \nL 2900 538 \nQ 2691 219 2414 64 \nQ 2138 -91 1772 -91 \nQ 1169 -91 856 284 \nQ 544 659 544 1381 \nz\nM 1991 3584 \nL 1991 3584 \nz\n\" id=\"DejaVuSans-75\" transform=\"scale(0.015625)\"/>\n        <path d=\"M 1172 4494 \nL 1172 3500 \nL 2356 3500 \nL 2356 3053 \nL 1172 3053 \nL 1172 1153 \nQ 1172 725 1289 603 \nQ 1406 481 1766 481 \nL 2356 481 \nL 2356 0 \nL 1766 0 \nQ 1100 0 847 248 \nQ 594 497 594 1153 \nL 594 3053 \nL 172 3053 \nL 172 3500 \nL 594 3500 \nL 594 4494 \nL 1172 4494 \nz\n\" id=\"DejaVuSans-74\" transform=\"scale(0.015625)\"/>\n       </defs>\n       <use xlink:href=\"#DejaVuSans-6d\"/>\n       <use x=\"97.412109\" xlink:href=\"#DejaVuSans-75\"/>\n       <use x=\"160.791016\" xlink:href=\"#DejaVuSans-74\"/>\n       <use x=\"200\" xlink:href=\"#DejaVuSans-65\"/>\n      </g>\n     </g>\n    </g>\n    <g id=\"xtick_4\">\n     <g id=\"line2d_4\">\n      <g>\n       <use style=\"stroke:#000000;stroke-width:0.8;\" x=\"379.403125\" xlink:href=\"#mb360b1ffb1\" y=\"328.542857\"/>\n      </g>\n     </g>\n     <g id=\"text_4\">\n      <!-- normal -->\n      <g transform=\"translate(361.883594 343.141295)scale(0.1 -0.1)\">\n       <defs>\n        <path d=\"M 1959 3097 \nQ 1497 3097 1228 2736 \nQ 959 2375 959 1747 \nQ 959 1119 1226 758 \nQ 1494 397 1959 397 \nQ 2419 397 2687 759 \nQ 2956 1122 2956 1747 \nQ 2956 2369 2687 2733 \nQ 2419 3097 1959 3097 \nz\nM 1959 3584 \nQ 2709 3584 3137 3096 \nQ 3566 2609 3566 1747 \nQ 3566 888 3137 398 \nQ 2709 -91 1959 -91 \nQ 1206 -91 779 398 \nQ 353 888 353 1747 \nQ 353 2609 779 3096 \nQ 1206 3584 1959 3584 \nz\n\" id=\"DejaVuSans-6f\" transform=\"scale(0.015625)\"/>\n        <path d=\"M 2631 2963 \nQ 2534 3019 2420 3045 \nQ 2306 3072 2169 3072 \nQ 1681 3072 1420 2755 \nQ 1159 2438 1159 1844 \nL 1159 0 \nL 581 0 \nL 581 3500 \nL 1159 3500 \nL 1159 2956 \nQ 1341 3275 1631 3429 \nQ 1922 3584 2338 3584 \nQ 2397 3584 2469 3576 \nQ 2541 3569 2628 3553 \nL 2631 2963 \nz\n\" id=\"DejaVuSans-72\" transform=\"scale(0.015625)\"/>\n        <path d=\"M 603 4863 \nL 1178 4863 \nL 1178 0 \nL 603 0 \nL 603 4863 \nz\n\" id=\"DejaVuSans-6c\" transform=\"scale(0.015625)\"/>\n       </defs>\n       <use xlink:href=\"#DejaVuSans-6e\"/>\n       <use x=\"63.378906\" xlink:href=\"#DejaVuSans-6f\"/>\n       <use x=\"124.560547\" xlink:href=\"#DejaVuSans-72\"/>\n       <use x=\"163.923828\" xlink:href=\"#DejaVuSans-6d\"/>\n       <use x=\"261.335938\" xlink:href=\"#DejaVuSans-61\"/>\n       <use x=\"322.615234\" xlink:href=\"#DejaVuSans-6c\"/>\n      </g>\n     </g>\n    </g>\n    <g id=\"xtick_5\">\n     <g id=\"line2d_5\">\n      <g>\n       <use style=\"stroke:#000000;stroke-width:0.8;\" x=\"467.890235\" xlink:href=\"#mb360b1ffb1\" y=\"328.542857\"/>\n      </g>\n     </g>\n     <g id=\"text_5\">\n      <!-- pulling -->\n      <g transform=\"translate(451.03711 343.141295)scale(0.1 -0.1)\">\n       <defs>\n        <path d=\"M 1159 525 \nL 1159 -1331 \nL 581 -1331 \nL 581 3500 \nL 1159 3500 \nL 1159 2969 \nQ 1341 3281 1617 3432 \nQ 1894 3584 2278 3584 \nQ 2916 3584 3314 3078 \nQ 3713 2572 3713 1747 \nQ 3713 922 3314 415 \nQ 2916 -91 2278 -91 \nQ 1894 -91 1617 61 \nQ 1341 213 1159 525 \nz\nM 3116 1747 \nQ 3116 2381 2855 2742 \nQ 2594 3103 2138 3103 \nQ 1681 3103 1420 2742 \nQ 1159 2381 1159 1747 \nQ 1159 1113 1420 752 \nQ 1681 391 2138 391 \nQ 2594 391 2855 752 \nQ 3116 1113 3116 1747 \nz\n\" id=\"DejaVuSans-70\" transform=\"scale(0.015625)\"/>\n       </defs>\n       <use xlink:href=\"#DejaVuSans-70\"/>\n       <use x=\"63.476562\" xlink:href=\"#DejaVuSans-75\"/>\n       <use x=\"126.855469\" xlink:href=\"#DejaVuSans-6c\"/>\n       <use x=\"154.638672\" xlink:href=\"#DejaVuSans-6c\"/>\n       <use x=\"182.421875\" xlink:href=\"#DejaVuSans-69\"/>\n       <use x=\"210.205078\" xlink:href=\"#DejaVuSans-6e\"/>\n       <use x=\"273.583984\" xlink:href=\"#DejaVuSans-67\"/>\n      </g>\n     </g>\n    </g>\n    <g id=\"xtick_6\">\n     <g id=\"line2d_6\">\n      <g>\n       <use style=\"stroke:#000000;stroke-width:0.8;\" x=\"556.377345\" xlink:href=\"#mb360b1ffb1\" y=\"328.542857\"/>\n      </g>\n     </g>\n     <g id=\"text_6\">\n      <!-- slide -->\n      <g transform=\"translate(544.743751 343.141295)scale(0.1 -0.1)\">\n       <defs>\n        <path d=\"M 2834 3397 \nL 2834 2853 \nQ 2591 2978 2328 3040 \nQ 2066 3103 1784 3103 \nQ 1356 3103 1142 2972 \nQ 928 2841 928 2578 \nQ 928 2378 1081 2264 \nQ 1234 2150 1697 2047 \nL 1894 2003 \nQ 2506 1872 2764 1633 \nQ 3022 1394 3022 966 \nQ 3022 478 2636 193 \nQ 2250 -91 1575 -91 \nQ 1294 -91 989 -36 \nQ 684 19 347 128 \nL 347 722 \nQ 666 556 975 473 \nQ 1284 391 1588 391 \nQ 1994 391 2212 530 \nQ 2431 669 2431 922 \nQ 2431 1156 2273 1281 \nQ 2116 1406 1581 1522 \nL 1381 1569 \nQ 847 1681 609 1914 \nQ 372 2147 372 2553 \nQ 372 3047 722 3315 \nQ 1072 3584 1716 3584 \nQ 2034 3584 2315 3537 \nQ 2597 3491 2834 3397 \nz\n\" id=\"DejaVuSans-73\" transform=\"scale(0.015625)\"/>\n       </defs>\n       <use xlink:href=\"#DejaVuSans-73\"/>\n       <use x=\"52.099609\" xlink:href=\"#DejaVuSans-6c\"/>\n       <use x=\"79.882812\" xlink:href=\"#DejaVuSans-69\"/>\n       <use x=\"107.666016\" xlink:href=\"#DejaVuSans-64\"/>\n       <use x=\"171.142578\" xlink:href=\"#DejaVuSans-65\"/>\n      </g>\n     </g>\n    </g>\n    <g id=\"xtick_7\">\n     <g id=\"line2d_7\">\n      <g>\n       <use style=\"stroke:#000000;stroke-width:0.8;\" x=\"644.864455\" xlink:href=\"#mb360b1ffb1\" y=\"328.542857\"/>\n      </g>\n     </g>\n     <g id=\"text_7\">\n      <!-- trill -->\n      <g transform=\"translate(636.681642 343.141295)scale(0.1 -0.1)\">\n       <use xlink:href=\"#DejaVuSans-74\"/>\n       <use x=\"39.208984\" xlink:href=\"#DejaVuSans-72\"/>\n       <use x=\"80.322266\" xlink:href=\"#DejaVuSans-69\"/>\n       <use x=\"108.105469\" xlink:href=\"#DejaVuSans-6c\"/>\n       <use x=\"135.888672\" xlink:href=\"#DejaVuSans-6c\"/>\n      </g>\n     </g>\n    </g>\n   </g>\n   <g id=\"matplotlib.axis_2\">\n    <g id=\"ytick_1\">\n     <g id=\"line2d_8\">\n      <defs>\n       <path d=\"M 0 0 \nL -3.5 0 \n\" id=\"md073aa7d73\" style=\"stroke:#000000;stroke-width:0.8;\"/>\n      </defs>\n      <g>\n       <use style=\"stroke:#000000;stroke-width:0.8;\" x=\"53.328125\" xlink:href=\"#md073aa7d73\" y=\"328.542857\"/>\n      </g>\n     </g>\n     <g id=\"text_8\">\n      <!-- 0 -->\n      <g transform=\"translate(39.965625 332.342076)scale(0.1 -0.1)\">\n       <defs>\n        <path d=\"M 2034 4250 \nQ 1547 4250 1301 3770 \nQ 1056 3291 1056 2328 \nQ 1056 1369 1301 889 \nQ 1547 409 2034 409 \nQ 2525 409 2770 889 \nQ 3016 1369 3016 2328 \nQ 3016 3291 2770 3770 \nQ 2525 4250 2034 4250 \nz\nM 2034 4750 \nQ 2819 4750 3233 4129 \nQ 3647 3509 3647 2328 \nQ 3647 1150 3233 529 \nQ 2819 -91 2034 -91 \nQ 1250 -91 836 529 \nQ 422 1150 422 2328 \nQ 422 3509 836 4129 \nQ 1250 4750 2034 4750 \nz\n\" id=\"DejaVuSans-30\" transform=\"scale(0.015625)\"/>\n       </defs>\n       <use xlink:href=\"#DejaVuSans-30\"/>\n      </g>\n     </g>\n    </g>\n    <g id=\"ytick_2\">\n     <g id=\"line2d_9\">\n      <g>\n       <use style=\"stroke:#000000;stroke-width:0.8;\" x=\"53.328125\" xlink:href=\"#md073aa7d73\" y=\"286.722576\"/>\n      </g>\n     </g>\n     <g id=\"text_9\">\n      <!-- 500 -->\n      <g transform=\"translate(27.240625 290.521795)scale(0.1 -0.1)\">\n       <defs>\n        <path d=\"M 691 4666 \nL 3169 4666 \nL 3169 4134 \nL 1269 4134 \nL 1269 2991 \nQ 1406 3038 1543 3061 \nQ 1681 3084 1819 3084 \nQ 2600 3084 3056 2656 \nQ 3513 2228 3513 1497 \nQ 3513 744 3044 326 \nQ 2575 -91 1722 -91 \nQ 1428 -91 1123 -41 \nQ 819 9 494 109 \nL 494 744 \nQ 775 591 1075 516 \nQ 1375 441 1709 441 \nQ 2250 441 2565 725 \nQ 2881 1009 2881 1497 \nQ 2881 1984 2565 2268 \nQ 2250 2553 1709 2553 \nQ 1456 2553 1204 2497 \nQ 953 2441 691 2322 \nL 691 4666 \nz\n\" id=\"DejaVuSans-35\" transform=\"scale(0.015625)\"/>\n       </defs>\n       <use xlink:href=\"#DejaVuSans-35\"/>\n       <use x=\"63.623047\" xlink:href=\"#DejaVuSans-30\"/>\n       <use x=\"127.246094\" xlink:href=\"#DejaVuSans-30\"/>\n      </g>\n     </g>\n    </g>\n    <g id=\"ytick_3\">\n     <g id=\"line2d_10\">\n      <g>\n       <use style=\"stroke:#000000;stroke-width:0.8;\" x=\"53.328125\" xlink:href=\"#md073aa7d73\" y=\"244.902295\"/>\n      </g>\n     </g>\n     <g id=\"text_10\">\n      <!-- 1000 -->\n      <g transform=\"translate(20.878125 248.701514)scale(0.1 -0.1)\">\n       <defs>\n        <path d=\"M 794 531 \nL 1825 531 \nL 1825 4091 \nL 703 3866 \nL 703 4441 \nL 1819 4666 \nL 2450 4666 \nL 2450 531 \nL 3481 531 \nL 3481 0 \nL 794 0 \nL 794 531 \nz\n\" id=\"DejaVuSans-31\" transform=\"scale(0.015625)\"/>\n       </defs>\n       <use xlink:href=\"#DejaVuSans-31\"/>\n       <use x=\"63.623047\" xlink:href=\"#DejaVuSans-30\"/>\n       <use x=\"127.246094\" xlink:href=\"#DejaVuSans-30\"/>\n       <use x=\"190.869141\" xlink:href=\"#DejaVuSans-30\"/>\n      </g>\n     </g>\n    </g>\n    <g id=\"ytick_4\">\n     <g id=\"line2d_11\">\n      <g>\n       <use style=\"stroke:#000000;stroke-width:0.8;\" x=\"53.328125\" xlink:href=\"#md073aa7d73\" y=\"203.082014\"/>\n      </g>\n     </g>\n     <g id=\"text_11\">\n      <!-- 1500 -->\n      <g transform=\"translate(20.878125 206.881233)scale(0.1 -0.1)\">\n       <use xlink:href=\"#DejaVuSans-31\"/>\n       <use x=\"63.623047\" xlink:href=\"#DejaVuSans-35\"/>\n       <use x=\"127.246094\" xlink:href=\"#DejaVuSans-30\"/>\n       <use x=\"190.869141\" xlink:href=\"#DejaVuSans-30\"/>\n      </g>\n     </g>\n    </g>\n    <g id=\"ytick_5\">\n     <g id=\"line2d_12\">\n      <g>\n       <use style=\"stroke:#000000;stroke-width:0.8;\" x=\"53.328125\" xlink:href=\"#md073aa7d73\" y=\"161.261733\"/>\n      </g>\n     </g>\n     <g id=\"text_12\">\n      <!-- 2000 -->\n      <g transform=\"translate(20.878125 165.060952)scale(0.1 -0.1)\">\n       <defs>\n        <path d=\"M 1228 531 \nL 3431 531 \nL 3431 0 \nL 469 0 \nL 469 531 \nQ 828 903 1448 1529 \nQ 2069 2156 2228 2338 \nQ 2531 2678 2651 2914 \nQ 2772 3150 2772 3378 \nQ 2772 3750 2511 3984 \nQ 2250 4219 1831 4219 \nQ 1534 4219 1204 4116 \nQ 875 4013 500 3803 \nL 500 4441 \nQ 881 4594 1212 4672 \nQ 1544 4750 1819 4750 \nQ 2544 4750 2975 4387 \nQ 3406 4025 3406 3419 \nQ 3406 3131 3298 2873 \nQ 3191 2616 2906 2266 \nQ 2828 2175 2409 1742 \nQ 1991 1309 1228 531 \nz\n\" id=\"DejaVuSans-32\" transform=\"scale(0.015625)\"/>\n       </defs>\n       <use xlink:href=\"#DejaVuSans-32\"/>\n       <use x=\"63.623047\" xlink:href=\"#DejaVuSans-30\"/>\n       <use x=\"127.246094\" xlink:href=\"#DejaVuSans-30\"/>\n       <use x=\"190.869141\" xlink:href=\"#DejaVuSans-30\"/>\n      </g>\n     </g>\n    </g>\n    <g id=\"ytick_6\">\n     <g id=\"line2d_13\">\n      <g>\n       <use style=\"stroke:#000000;stroke-width:0.8;\" x=\"53.328125\" xlink:href=\"#md073aa7d73\" y=\"119.441452\"/>\n      </g>\n     </g>\n     <g id=\"text_13\">\n      <!-- 2500 -->\n      <g transform=\"translate(20.878125 123.240671)scale(0.1 -0.1)\">\n       <use xlink:href=\"#DejaVuSans-32\"/>\n       <use x=\"63.623047\" xlink:href=\"#DejaVuSans-35\"/>\n       <use x=\"127.246094\" xlink:href=\"#DejaVuSans-30\"/>\n       <use x=\"190.869141\" xlink:href=\"#DejaVuSans-30\"/>\n      </g>\n     </g>\n    </g>\n    <g id=\"ytick_7\">\n     <g id=\"line2d_14\">\n      <g>\n       <use style=\"stroke:#000000;stroke-width:0.8;\" x=\"53.328125\" xlink:href=\"#md073aa7d73\" y=\"77.621171\"/>\n      </g>\n     </g>\n     <g id=\"text_14\">\n      <!-- 3000 -->\n      <g transform=\"translate(20.878125 81.42039)scale(0.1 -0.1)\">\n       <defs>\n        <path d=\"M 2597 2516 \nQ 3050 2419 3304 2112 \nQ 3559 1806 3559 1356 \nQ 3559 666 3084 287 \nQ 2609 -91 1734 -91 \nQ 1441 -91 1130 -33 \nQ 819 25 488 141 \nL 488 750 \nQ 750 597 1062 519 \nQ 1375 441 1716 441 \nQ 2309 441 2620 675 \nQ 2931 909 2931 1356 \nQ 2931 1769 2642 2001 \nQ 2353 2234 1838 2234 \nL 1294 2234 \nL 1294 2753 \nL 1863 2753 \nQ 2328 2753 2575 2939 \nQ 2822 3125 2822 3475 \nQ 2822 3834 2567 4026 \nQ 2313 4219 1838 4219 \nQ 1578 4219 1281 4162 \nQ 984 4106 628 3988 \nL 628 4550 \nQ 988 4650 1302 4700 \nQ 1616 4750 1894 4750 \nQ 2613 4750 3031 4423 \nQ 3450 4097 3450 3541 \nQ 3450 3153 3228 2886 \nQ 3006 2619 2597 2516 \nz\n\" id=\"DejaVuSans-33\" transform=\"scale(0.015625)\"/>\n       </defs>\n       <use xlink:href=\"#DejaVuSans-33\"/>\n       <use x=\"63.623047\" xlink:href=\"#DejaVuSans-30\"/>\n       <use x=\"127.246094\" xlink:href=\"#DejaVuSans-30\"/>\n       <use x=\"190.869141\" xlink:href=\"#DejaVuSans-30\"/>\n      </g>\n     </g>\n    </g>\n    <g id=\"ytick_8\">\n     <g id=\"line2d_15\">\n      <g>\n       <use style=\"stroke:#000000;stroke-width:0.8;\" x=\"53.328125\" xlink:href=\"#md073aa7d73\" y=\"35.80089\"/>\n      </g>\n     </g>\n     <g id=\"text_15\">\n      <!-- 3500 -->\n      <g transform=\"translate(20.878125 39.600109)scale(0.1 -0.1)\">\n       <use xlink:href=\"#DejaVuSans-33\"/>\n       <use x=\"63.623047\" xlink:href=\"#DejaVuSans-35\"/>\n       <use x=\"127.246094\" xlink:href=\"#DejaVuSans-30\"/>\n       <use x=\"190.869141\" xlink:href=\"#DejaVuSans-30\"/>\n      </g>\n     </g>\n    </g>\n    <g id=\"text_16\">\n     <!-- Jumlah data -->\n     <g transform=\"translate(14.798438 197.858929)rotate(-90)scale(0.1 -0.1)\">\n      <defs>\n       <path d=\"M 628 4666 \nL 1259 4666 \nL 1259 325 \nQ 1259 -519 939 -900 \nQ 619 -1281 -91 -1281 \nL -331 -1281 \nL -331 -750 \nL -134 -750 \nQ 284 -750 456 -515 \nQ 628 -281 628 325 \nL 628 4666 \nz\n\" id=\"DejaVuSans-4a\" transform=\"scale(0.015625)\"/>\n       <path id=\"DejaVuSans-20\" transform=\"scale(0.015625)\"/>\n      </defs>\n      <use xlink:href=\"#DejaVuSans-4a\"/>\n      <use x=\"29.492188\" xlink:href=\"#DejaVuSans-75\"/>\n      <use x=\"92.871094\" xlink:href=\"#DejaVuSans-6d\"/>\n      <use x=\"190.283203\" xlink:href=\"#DejaVuSans-6c\"/>\n      <use x=\"218.066406\" xlink:href=\"#DejaVuSans-61\"/>\n      <use x=\"279.345703\" xlink:href=\"#DejaVuSans-68\"/>\n      <use x=\"342.724609\" xlink:href=\"#DejaVuSans-20\"/>\n      <use x=\"374.511719\" xlink:href=\"#DejaVuSans-64\"/>\n      <use x=\"437.988281\" xlink:href=\"#DejaVuSans-61\"/>\n      <use x=\"499.267578\" xlink:href=\"#DejaVuSans-74\"/>\n      <use x=\"538.476562\" xlink:href=\"#DejaVuSans-61\"/>\n     </g>\n    </g>\n   </g>\n   <g id=\"patch_17\">\n    <path d=\"M 53.328125 328.542857 \nL 53.328125 7.2 \n\" style=\"fill:none;stroke:#000000;stroke-linecap:square;stroke-linejoin:miter;stroke-width:0.8;\"/>\n   </g>\n   <g id=\"patch_18\">\n    <path d=\"M 705.478125 328.542857 \nL 705.478125 7.2 \n\" style=\"fill:none;stroke:#000000;stroke-linecap:square;stroke-linejoin:miter;stroke-width:0.8;\"/>\n   </g>\n   <g id=\"patch_19\">\n    <path d=\"M 53.328125 328.542857 \nL 705.478125 328.542857 \n\" style=\"fill:none;stroke:#000000;stroke-linecap:square;stroke-linejoin:miter;stroke-width:0.8;\"/>\n   </g>\n   <g id=\"patch_20\">\n    <path d=\"M 53.328125 7.2 \nL 705.478125 7.2 \n\" style=\"fill:none;stroke:#000000;stroke-linecap:square;stroke-linejoin:miter;stroke-width:0.8;\"/>\n   </g>\n   <g id=\"text_17\">\n    <!-- 1253 -->\n    <g transform=\"translate(85.731551 218.661545)scale(0.1 -0.1)\">\n     <use xlink:href=\"#DejaVuSans-31\"/>\n     <use x=\"63.623047\" xlink:href=\"#DejaVuSans-32\"/>\n     <use x=\"127.246094\" xlink:href=\"#DejaVuSans-35\"/>\n     <use x=\"190.869141\" xlink:href=\"#DejaVuSans-33\"/>\n    </g>\n   </g>\n   <g id=\"text_18\">\n    <!-- 567 -->\n    <g transform=\"translate(177.399911 276.038971)scale(0.1 -0.1)\">\n     <defs>\n      <path d=\"M 2113 2584 \nQ 1688 2584 1439 2293 \nQ 1191 2003 1191 1497 \nQ 1191 994 1439 701 \nQ 1688 409 2113 409 \nQ 2538 409 2786 701 \nQ 3034 994 3034 1497 \nQ 3034 2003 2786 2293 \nQ 2538 2584 2113 2584 \nz\nM 3366 4563 \nL 3366 3988 \nQ 3128 4100 2886 4159 \nQ 2644 4219 2406 4219 \nQ 1781 4219 1451 3797 \nQ 1122 3375 1075 2522 \nQ 1259 2794 1537 2939 \nQ 1816 3084 2150 3084 \nQ 2853 3084 3261 2657 \nQ 3669 2231 3669 1497 \nQ 3669 778 3244 343 \nQ 2819 -91 2113 -91 \nQ 1303 -91 875 529 \nQ 447 1150 447 2328 \nQ 447 3434 972 4092 \nQ 1497 4750 2381 4750 \nQ 2619 4750 2861 4703 \nQ 3103 4656 3366 4563 \nz\n\" id=\"DejaVuSans-36\" transform=\"scale(0.015625)\"/>\n      <path d=\"M 525 4666 \nL 3525 4666 \nL 3525 4397 \nL 1831 0 \nL 1172 0 \nL 2766 4134 \nL 525 4134 \nL 525 4666 \nz\n\" id=\"DejaVuSans-37\" transform=\"scale(0.015625)\"/>\n     </defs>\n     <use xlink:href=\"#DejaVuSans-35\"/>\n     <use x=\"63.623047\" xlink:href=\"#DejaVuSans-36\"/>\n     <use x=\"127.246094\" xlink:href=\"#DejaVuSans-37\"/>\n    </g>\n   </g>\n   <g id=\"text_19\">\n    <!-- 378 -->\n    <g transform=\"translate(265.887021 291.847037)scale(0.1 -0.1)\">\n     <defs>\n      <path d=\"M 2034 2216 \nQ 1584 2216 1326 1975 \nQ 1069 1734 1069 1313 \nQ 1069 891 1326 650 \nQ 1584 409 2034 409 \nQ 2484 409 2743 651 \nQ 3003 894 3003 1313 \nQ 3003 1734 2745 1975 \nQ 2488 2216 2034 2216 \nz\nM 1403 2484 \nQ 997 2584 770 2862 \nQ 544 3141 544 3541 \nQ 544 4100 942 4425 \nQ 1341 4750 2034 4750 \nQ 2731 4750 3128 4425 \nQ 3525 4100 3525 3541 \nQ 3525 3141 3298 2862 \nQ 3072 2584 2669 2484 \nQ 3125 2378 3379 2068 \nQ 3634 1759 3634 1313 \nQ 3634 634 3220 271 \nQ 2806 -91 2034 -91 \nQ 1263 -91 848 271 \nQ 434 634 434 1313 \nQ 434 1759 690 2068 \nQ 947 2378 1403 2484 \nz\nM 1172 3481 \nQ 1172 3119 1398 2916 \nQ 1625 2713 2034 2713 \nQ 2441 2713 2670 2916 \nQ 2900 3119 2900 3481 \nQ 2900 3844 2670 4047 \nQ 2441 4250 2034 4250 \nQ 1625 4250 1398 4047 \nQ 1172 3844 1172 3481 \nz\n\" id=\"DejaVuSans-38\" transform=\"scale(0.015625)\"/>\n     </defs>\n     <use xlink:href=\"#DejaVuSans-33\"/>\n     <use x=\"63.623047\" xlink:href=\"#DejaVuSans-37\"/>\n     <use x=\"127.246094\" xlink:href=\"#DejaVuSans-38\"/>\n    </g>\n   </g>\n   <g id=\"text_20\">\n    <!-- 1974 -->\n    <g transform=\"translate(351.192881 158.3567)scale(0.1 -0.1)\">\n     <defs>\n      <path d=\"M 703 97 \nL 703 672 \nQ 941 559 1184 500 \nQ 1428 441 1663 441 \nQ 2288 441 2617 861 \nQ 2947 1281 2994 2138 \nQ 2813 1869 2534 1725 \nQ 2256 1581 1919 1581 \nQ 1219 1581 811 2004 \nQ 403 2428 403 3163 \nQ 403 3881 828 4315 \nQ 1253 4750 1959 4750 \nQ 2769 4750 3195 4129 \nQ 3622 3509 3622 2328 \nQ 3622 1225 3098 567 \nQ 2575 -91 1691 -91 \nQ 1453 -91 1209 -44 \nQ 966 3 703 97 \nz\nM 1959 2075 \nQ 2384 2075 2632 2365 \nQ 2881 2656 2881 3163 \nQ 2881 3666 2632 3958 \nQ 2384 4250 1959 4250 \nQ 1534 4250 1286 3958 \nQ 1038 3666 1038 3163 \nQ 1038 2656 1286 2365 \nQ 1534 2075 1959 2075 \nz\n\" id=\"DejaVuSans-39\" transform=\"scale(0.015625)\"/>\n      <path d=\"M 2419 4116 \nL 825 1625 \nL 2419 1625 \nL 2419 4116 \nz\nM 2253 4666 \nL 3047 4666 \nL 3047 1625 \nL 3713 1625 \nL 3713 1100 \nL 3047 1100 \nL 3047 0 \nL 2419 0 \nL 2419 1100 \nL 313 1100 \nL 313 1709 \nL 2253 4666 \nz\n\" id=\"DejaVuSans-34\" transform=\"scale(0.015625)\"/>\n     </defs>\n     <use xlink:href=\"#DejaVuSans-31\"/>\n     <use x=\"63.623047\" xlink:href=\"#DejaVuSans-39\"/>\n     <use x=\"127.246094\" xlink:href=\"#DejaVuSans-37\"/>\n     <use x=\"190.869141\" xlink:href=\"#DejaVuSans-34\"/>\n    </g>\n   </g>\n   <g id=\"text_21\">\n    <!-- 511 -->\n    <g transform=\"translate(442.861241 280.722842)scale(0.1 -0.1)\">\n     <use xlink:href=\"#DejaVuSans-35\"/>\n     <use x=\"63.623047\" xlink:href=\"#DejaVuSans-31\"/>\n     <use x=\"127.246094\" xlink:href=\"#DejaVuSans-31\"/>\n    </g>\n   </g>\n   <g id=\"text_22\">\n    <!-- 1134 -->\n    <g transform=\"translate(528.167101 228.614772)scale(0.1 -0.1)\">\n     <use xlink:href=\"#DejaVuSans-31\"/>\n     <use x=\"63.623047\" xlink:href=\"#DejaVuSans-31\"/>\n     <use x=\"127.246094\" xlink:href=\"#DejaVuSans-33\"/>\n     <use x=\"190.869141\" xlink:href=\"#DejaVuSans-34\"/>\n    </g>\n   </g>\n   <g id=\"text_23\">\n    <!-- 630 -->\n    <g transform=\"translate(619.83546 270.769616)scale(0.1 -0.1)\">\n     <use xlink:href=\"#DejaVuSans-36\"/>\n     <use x=\"63.623047\" xlink:href=\"#DejaVuSans-33\"/>\n     <use x=\"127.246094\" xlink:href=\"#DejaVuSans-30\"/>\n    </g>\n   </g>\n   <g id=\"text_24\">\n    <!-- 874 -->\n    <g transform=\"translate(119.88329 250.361318)scale(0.1 -0.1)\">\n     <use xlink:href=\"#DejaVuSans-38\"/>\n     <use x=\"63.623047\" xlink:href=\"#DejaVuSans-37\"/>\n     <use x=\"127.246094\" xlink:href=\"#DejaVuSans-34\"/>\n    </g>\n   </g>\n   <g id=\"text_25\">\n    <!-- 559 -->\n    <g transform=\"translate(208.370399 276.708095)scale(0.1 -0.1)\">\n     <use xlink:href=\"#DejaVuSans-35\"/>\n     <use x=\"63.623047\" xlink:href=\"#DejaVuSans-35\"/>\n     <use x=\"127.246094\" xlink:href=\"#DejaVuSans-39\"/>\n    </g>\n   </g>\n   <g id=\"text_26\">\n    <!-- 367 -->\n    <g transform=\"translate(296.857509 292.767083)scale(0.1 -0.1)\">\n     <use xlink:href=\"#DejaVuSans-33\"/>\n     <use x=\"63.623047\" xlink:href=\"#DejaVuSans-36\"/>\n     <use x=\"127.246094\" xlink:href=\"#DejaVuSans-37\"/>\n    </g>\n   </g>\n   <g id=\"text_27\">\n    <!-- 3659 -->\n    <g transform=\"translate(382.163369 17.422353)scale(0.1 -0.1)\">\n     <use xlink:href=\"#DejaVuSans-33\"/>\n     <use x=\"63.623047\" xlink:href=\"#DejaVuSans-36\"/>\n     <use x=\"127.246094\" xlink:href=\"#DejaVuSans-35\"/>\n     <use x=\"190.869141\" xlink:href=\"#DejaVuSans-39\"/>\n    </g>\n   </g>\n   <g id=\"text_28\">\n    <!-- 515 -->\n    <g transform=\"translate(473.831729 280.38828)scale(0.1 -0.1)\">\n     <use xlink:href=\"#DejaVuSans-35\"/>\n     <use x=\"63.623047\" xlink:href=\"#DejaVuSans-31\"/>\n     <use x=\"127.246094\" xlink:href=\"#DejaVuSans-35\"/>\n    </g>\n   </g>\n   <g id=\"text_29\">\n    <!-- 1061 -->\n    <g transform=\"translate(559.137589 234.720533)scale(0.1 -0.1)\">\n     <use xlink:href=\"#DejaVuSans-31\"/>\n     <use x=\"63.623047\" xlink:href=\"#DejaVuSans-30\"/>\n     <use x=\"127.246094\" xlink:href=\"#DejaVuSans-36\"/>\n     <use x=\"190.869141\" xlink:href=\"#DejaVuSans-31\"/>\n    </g>\n   </g>\n   <g id=\"text_30\">\n    <!-- 622 -->\n    <g transform=\"translate(650.805949 271.43874)scale(0.1 -0.1)\">\n     <use xlink:href=\"#DejaVuSans-36\"/>\n     <use x=\"63.623047\" xlink:href=\"#DejaVuSans-32\"/>\n     <use x=\"127.246094\" xlink:href=\"#DejaVuSans-32\"/>\n    </g>\n   </g>\n   <g id=\"legend_1\">\n    <g id=\"patch_21\">\n     <path d=\"M 577.296875 44.55625 \nL 698.478125 44.55625 \nQ 700.478125 44.55625 700.478125 42.55625 \nL 700.478125 14.2 \nQ 700.478125 12.2 698.478125 12.2 \nL 577.296875 12.2 \nQ 575.296875 12.2 575.296875 14.2 \nL 575.296875 42.55625 \nQ 575.296875 44.55625 577.296875 44.55625 \nz\n\" style=\"fill:#ffffff;opacity:0.8;stroke:#cccccc;stroke-linejoin:miter;\"/>\n    </g>\n    <g id=\"patch_22\">\n     <path d=\"M 579.296875 23.798437 \nL 599.296875 23.798437 \nL 599.296875 16.798437 \nL 579.296875 16.798437 \nz\n\" style=\"fill:#1f77b4;\"/>\n    </g>\n    <g id=\"text_31\">\n     <!-- Complete dataset -->\n     <g transform=\"translate(607.296875 23.798437)scale(0.1 -0.1)\">\n      <defs>\n       <path d=\"M 4122 4306 \nL 4122 3641 \nQ 3803 3938 3442 4084 \nQ 3081 4231 2675 4231 \nQ 1875 4231 1450 3742 \nQ 1025 3253 1025 2328 \nQ 1025 1406 1450 917 \nQ 1875 428 2675 428 \nQ 3081 428 3442 575 \nQ 3803 722 4122 1019 \nL 4122 359 \nQ 3791 134 3420 21 \nQ 3050 -91 2638 -91 \nQ 1578 -91 968 557 \nQ 359 1206 359 2328 \nQ 359 3453 968 4101 \nQ 1578 4750 2638 4750 \nQ 3056 4750 3426 4639 \nQ 3797 4528 4122 4306 \nz\n\" id=\"DejaVuSans-43\" transform=\"scale(0.015625)\"/>\n      </defs>\n      <use xlink:href=\"#DejaVuSans-43\"/>\n      <use x=\"69.824219\" xlink:href=\"#DejaVuSans-6f\"/>\n      <use x=\"131.005859\" xlink:href=\"#DejaVuSans-6d\"/>\n      <use x=\"228.417969\" xlink:href=\"#DejaVuSans-70\"/>\n      <use x=\"291.894531\" xlink:href=\"#DejaVuSans-6c\"/>\n      <use x=\"319.677734\" xlink:href=\"#DejaVuSans-65\"/>\n      <use x=\"381.201172\" xlink:href=\"#DejaVuSans-74\"/>\n      <use x=\"420.410156\" xlink:href=\"#DejaVuSans-65\"/>\n      <use x=\"481.933594\" xlink:href=\"#DejaVuSans-20\"/>\n      <use x=\"513.720703\" xlink:href=\"#DejaVuSans-64\"/>\n      <use x=\"577.197266\" xlink:href=\"#DejaVuSans-61\"/>\n      <use x=\"638.476562\" xlink:href=\"#DejaVuSans-74\"/>\n      <use x=\"677.685547\" xlink:href=\"#DejaVuSans-61\"/>\n      <use x=\"738.964844\" xlink:href=\"#DejaVuSans-73\"/>\n      <use x=\"791.064453\" xlink:href=\"#DejaVuSans-65\"/>\n      <use x=\"852.587891\" xlink:href=\"#DejaVuSans-74\"/>\n     </g>\n    </g>\n    <g id=\"patch_23\">\n     <path d=\"M 579.296875 38.476562 \nL 599.296875 38.476562 \nL 599.296875 31.476562 \nL 579.296875 31.476562 \nz\n\" style=\"fill:#ff7f0e;\"/>\n    </g>\n    <g id=\"text_32\">\n     <!-- Split dataset -->\n     <g transform=\"translate(607.296875 38.476562)scale(0.1 -0.1)\">\n      <defs>\n       <path d=\"M 3425 4513 \nL 3425 3897 \nQ 3066 4069 2747 4153 \nQ 2428 4238 2131 4238 \nQ 1616 4238 1336 4038 \nQ 1056 3838 1056 3469 \nQ 1056 3159 1242 3001 \nQ 1428 2844 1947 2747 \nL 2328 2669 \nQ 3034 2534 3370 2195 \nQ 3706 1856 3706 1288 \nQ 3706 609 3251 259 \nQ 2797 -91 1919 -91 \nQ 1588 -91 1214 -16 \nQ 841 59 441 206 \nL 441 856 \nQ 825 641 1194 531 \nQ 1563 422 1919 422 \nQ 2459 422 2753 634 \nQ 3047 847 3047 1241 \nQ 3047 1584 2836 1778 \nQ 2625 1972 2144 2069 \nL 1759 2144 \nQ 1053 2284 737 2584 \nQ 422 2884 422 3419 \nQ 422 4038 858 4394 \nQ 1294 4750 2059 4750 \nQ 2388 4750 2728 4690 \nQ 3069 4631 3425 4513 \nz\n\" id=\"DejaVuSans-53\" transform=\"scale(0.015625)\"/>\n      </defs>\n      <use xlink:href=\"#DejaVuSans-53\"/>\n      <use x=\"63.476562\" xlink:href=\"#DejaVuSans-70\"/>\n      <use x=\"126.953125\" xlink:href=\"#DejaVuSans-6c\"/>\n      <use x=\"154.736328\" xlink:href=\"#DejaVuSans-69\"/>\n      <use x=\"182.519531\" xlink:href=\"#DejaVuSans-74\"/>\n      <use x=\"221.728516\" xlink:href=\"#DejaVuSans-20\"/>\n      <use x=\"253.515625\" xlink:href=\"#DejaVuSans-64\"/>\n      <use x=\"316.992188\" xlink:href=\"#DejaVuSans-61\"/>\n      <use x=\"378.271484\" xlink:href=\"#DejaVuSans-74\"/>\n      <use x=\"417.480469\" xlink:href=\"#DejaVuSans-61\"/>\n      <use x=\"478.759766\" xlink:href=\"#DejaVuSans-73\"/>\n      <use x=\"530.859375\" xlink:href=\"#DejaVuSans-65\"/>\n      <use x=\"592.382812\" xlink:href=\"#DejaVuSans-74\"/>\n     </g>\n    </g>\n   </g>\n  </g>\n </g>\n <defs>\n  <clipPath id=\"pc84de2de10\">\n   <rect height=\"321.342857\" width=\"652.15\" x=\"53.328125\" y=\"7.2\"/>\n  </clipPath>\n </defs>\n</svg>\n",
      "image/png": "[encoded data removed]"
     },
     "metadata": {
      "needs_background": "light"
     }
    }
   ],
   "source": [
    "x = np.arange(7)  # the label locations\n",
    "width = 0.35  # the width of the bars\n",
    "\n",
    "fig, ax = plt.subplots(figsize=(10,5))\n",
    "rects1 = ax.bar(x - width/2, df.iloc[0], width, label='Complete dataset')\n",
    "rects2 = ax.bar(x + width/2, df.iloc[1], width, label='Split dataset')\n",
    "\n",
    "# Add some text for labels, title and custom x-axis tick labels, etc.\n",
    "ax.set_ylabel('Jumlah data')\n",
    "ax.set_xticks(x)\n",
    "ax.set_xticklabels(df.columns)\n",
    "ax.legend()\n",
    "\n",
    "ax.bar_label(rects1, padding=3)\n",
    "ax.bar_label(rects2, padding=3)\n",
    "\n",
    "fig.tight_layout()\n",
    "\n",
    "plt.savefig('distribusi_data.jpg', bbox_inches='tight', dpi=300)"
   ]
  }
 ]
}