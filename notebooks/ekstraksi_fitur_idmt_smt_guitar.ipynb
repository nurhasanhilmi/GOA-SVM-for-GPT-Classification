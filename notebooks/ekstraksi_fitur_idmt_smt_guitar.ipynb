{
 "metadata": {
  "language_info": {
   "codemirror_mode": {
    "name": "ipython",
    "version": 3
   },
   "file_extension": ".py",
   "mimetype": "text/x-python",
   "name": "python",
   "nbconvert_exporter": "python",
   "pygments_lexer": "ipython3",
   "version": "3.8.8"
  },
  "orig_nbformat": 4,
  "kernelspec": {
   "name": "python3",
   "display_name": "Python 3.8.8 64-bit ('GOA-SVM-for-GPT-Classification': conda)"
  },
  "interpreter": {
   "hash": "f88953d5c9aa5aedf1a2710ce0bc6ce5df85e8403576077b94186b56238ee893"
  }
 },
 "nbformat": 4,
 "nbformat_minor": 2,
 "cells": [
  {
   "cell_type": "code",
   "execution_count": 62,
   "source": [
    "import os\n",
    "import pandas as pd\n",
    "import xml.etree.ElementTree as et\n",
    "import librosa\n",
    "import librosa.display\n",
    "import plotly.express as px\n",
    "import matplotlib.pyplot as plt\n",
    "import numpy as np\n",
    "from scipy.stats import skew, kurtosis\n",
    "from tqdm import tqdm"
   ],
   "outputs": [],
   "metadata": {}
  },
  {
   "cell_type": "code",
   "execution_count": 88,
   "source": [
    "ANNOTATION_PATH = '../data/IDMT-SMT-GUITAR_V2/dataset2/annotation'\n",
    "AUDIO_PATH_ROOT = '../data/IDMT-SMT-GUITAR_V2/dataset2/audio'"
   ],
   "outputs": [],
   "metadata": {}
  },
  {
   "cell_type": "code",
   "execution_count": 89,
   "source": [
    "annotation_files = os.listdir(ANNOTATION_PATH)\n",
    "annotation_files.sort()\n",
    "len(annotation_files)"
   ],
   "outputs": [
    {
     "output_type": "execute_result",
     "data": {
      "text/plain": [
       "87"
      ]
     },
     "metadata": {},
     "execution_count": 89
    }
   ],
   "metadata": {}
  },
  {
   "cell_type": "code",
   "execution_count": 90,
   "source": [
    "dataset = pd.DataFrame()\n",
    "for i, annotation_file in tqdm(enumerate(annotation_files)):\n",
    "    annotation_file_path = os.path.join(ANNOTATION_PATH, annotation_file)\n",
    "\n",
    "    annotation_tree = et.parse(annotation_file_path)\n",
    "    annotation_root = annotation_tree.getroot()\n",
    "    global_params = annotation_root.find('globalParameter')\n",
    "    transcription = annotation_root.find('transcription')\n",
    "\n",
    "    params = []\n",
    "    params_value = []\n",
    "    for param in global_params:\n",
    "        params.append(param.tag)\n",
    "        params_value.append(param.text)\n",
    "    params_value[0] = annotation_file[:-3] + 'wav'\n",
    "\n",
    "    total_event = len(transcription.findall('event'))\n",
    "    df_globalParams = pd.DataFrame([params_value]*total_event, columns=params)\n",
    "\n",
    "    transcription_tag = ['expressionStyle', 'excitationStyle', 'onsetSec', 'offsetSec', 'duration']\n",
    "    df_transcription = pd.DataFrame(columns=transcription_tag)\n",
    "    for tag in transcription_tag:\n",
    "        if tag != 'duration':\n",
    "            values = []\n",
    "            for value in transcription.iter(tag):\n",
    "                values.append(value.text)\n",
    "            df_transcription[tag] = values\n",
    "    df = pd.concat([df_transcription, df_globalParams], axis=1)\n",
    "    if i == 0:\n",
    "        dataset = df\n",
    "    else:\n",
    "        dataset = dataset.append(df)\n",
    "dataset = dataset.reset_index(drop=True)\n",
    "dataset['onsetSec'] = pd.to_numeric(dataset['onsetSec'])\n",
    "dataset['offsetSec'] = pd.to_numeric(dataset['offsetSec'])\n",
    "dataset['duration'] = dataset['offsetSec'] - dataset['onsetSec']\n",
    "\n",
    "# idx = []\n",
    "# for i in range(dataset.shape[0]):\n",
    "#     if (('Lick' in dataset['audioFileName'][i]) and ((dataset['expressionStyle'][i] == 'NO') and (dataset['excitationStyle'][i] != 'FS'))) or (dataset['excitationStyle'][i] == 'MU'):\n",
    "#         idx.append(i)\n",
    "# dataset = dataset.drop(idx)\n",
    "# dataset = dataset.reset_index(drop=True)"
   ],
   "outputs": [
    {
     "output_type": "stream",
     "name": "stderr",
     "text": [
      "87it [00:00, 87.84it/s]\n"
     ]
    }
   ],
   "metadata": {}
  },
  {
   "cell_type": "code",
   "execution_count": 91,
   "source": [
    "print(dataset.shape)\n",
    "dataset"
   ],
   "outputs": [
    {
     "output_type": "stream",
     "name": "stdout",
     "text": [
      "(1572, 15)\n"
     ]
    },
    {
     "output_type": "execute_result",
     "data": {
      "text/plain": [
       "     expressionStyle excitationStyle  onsetSec  offsetSec  duration  \\\n",
       "0                 NO              PK    1.5790     2.2409    0.6619   \n",
       "1                 NO              PK    2.6026     3.3066    0.7040   \n",
       "2                 NO              PK    3.6949     4.3970    0.7021   \n",
       "3                 NO              PK    4.7456     5.4846    0.7390   \n",
       "4                 NO              PK    5.8514     6.5035    0.6521   \n",
       "...              ...             ...       ...        ...       ...   \n",
       "1567              VI              PK   43.0498    48.6289    5.5791   \n",
       "1568              VI              PK   49.6065    54.7807    5.1742   \n",
       "1569              VI              PK   55.5450    61.3962    5.8512   \n",
       "1570              VI              PK   62.3891    66.6713    4.2822   \n",
       "1571              VI              PK   67.4743    73.8445    6.3702   \n",
       "\n",
       "                   audioFileName instrument  instrumentModel pickUpSetting  \\\n",
       "0             AR_A_fret_0-20.wav       EGUI    Aristides 010       unknown   \n",
       "1             AR_A_fret_0-20.wav       EGUI    Aristides 010       unknown   \n",
       "2             AR_A_fret_0-20.wav       EGUI    Aristides 010       unknown   \n",
       "3             AR_A_fret_0-20.wav       EGUI    Aristides 010       unknown   \n",
       "4             AR_A_fret_0-20.wav       EGUI    Aristides 010       unknown   \n",
       "...                          ...        ...              ...           ...   \n",
       "1567  LP_V_vibrato_slow-fast.wav       EGUI  Gibson Les Paul       unknown   \n",
       "1568  LP_V_vibrato_slow-fast.wav       EGUI  Gibson Les Paul       unknown   \n",
       "1569  LP_V_vibrato_slow-fast.wav       EGUI  Gibson Les Paul       unknown   \n",
       "1570  LP_V_vibrato_slow-fast.wav       EGUI  Gibson Les Paul       unknown   \n",
       "1571  LP_V_vibrato_slow-fast.wav       EGUI  Gibson Les Paul       unknown   \n",
       "\n",
       "            instrumentTuning recordingDate    recordingArtist  \\\n",
       "0     40  45  50  55  59  64      13-02-14  Christian Kehling   \n",
       "1     40  45  50  55  59  64      13-02-14  Christian Kehling   \n",
       "2     40  45  50  55  59  64      13-02-14  Christian Kehling   \n",
       "3     40  45  50  55  59  64      13-02-14  Christian Kehling   \n",
       "4     40  45  50  55  59  64      13-02-14  Christian Kehling   \n",
       "...                      ...           ...                ...   \n",
       "1567  40  45  50  55  59  64      13-02-14  Christian Kehling   \n",
       "1568  40  45  50  55  59  64      13-02-14  Christian Kehling   \n",
       "1569  40  45  50  55  59  64      13-02-14  Christian Kehling   \n",
       "1570  40  45  50  55  59  64      13-02-14  Christian Kehling   \n",
       "1571  40  45  50  55  59  64      13-02-14  Christian Kehling   \n",
       "\n",
       "     instrumentBodyMaterial instrumentStringMaterial           composer  \n",
       "0                   unknown                    Steel  Christian Kehling  \n",
       "1                   unknown                    Steel  Christian Kehling  \n",
       "2                   unknown                    Steel  Christian Kehling  \n",
       "3                   unknown                    Steel  Christian Kehling  \n",
       "4                   unknown                    Steel  Christian Kehling  \n",
       "...                     ...                      ...                ...  \n",
       "1567                unknown                    Steel  Christian Kehling  \n",
       "1568                unknown                    Steel  Christian Kehling  \n",
       "1569                unknown                    Steel  Christian Kehling  \n",
       "1570                unknown                    Steel  Christian Kehling  \n",
       "1571                unknown                    Steel  Christian Kehling  \n",
       "\n",
       "[1572 rows x 15 columns]"
      ],
      "text/html": [
       "<div>\n",
       "<style scoped>\n",
       "    .dataframe tbody tr th:only-of-type {\n",
       "        vertical-align: middle;\n",
       "    }\n",
       "\n",
       "    .dataframe tbody tr th {\n",
       "        vertical-align: top;\n",
       "    }\n",
       "\n",
       "    .dataframe thead th {\n",
       "        text-align: right;\n",
       "    }\n",
       "</style>\n",
       "<table border=\"1\" class=\"dataframe\">\n",
       "  <thead>\n",
       "    <tr style=\"text-align: right;\">\n",
       "      <th></th>\n",
       "      <th>expressionStyle</th>\n",
       "      <th>excitationStyle</th>\n",
       "      <th>onsetSec</th>\n",
       "      <th>offsetSec</th>\n",
       "      <th>duration</th>\n",
       "      <th>audioFileName</th>\n",
       "      <th>instrument</th>\n",
       "      <th>instrumentModel</th>\n",
       "      <th>pickUpSetting</th>\n",
       "      <th>instrumentTuning</th>\n",
       "      <th>recordingDate</th>\n",
       "      <th>recordingArtist</th>\n",
       "      <th>instrumentBodyMaterial</th>\n",
       "      <th>instrumentStringMaterial</th>\n",
       "      <th>composer</th>\n",
       "    </tr>\n",
       "  </thead>\n",
       "  <tbody>\n",
       "    <tr>\n",
       "      <th>0</th>\n",
       "      <td>NO</td>\n",
       "      <td>PK</td>\n",
       "      <td>1.5790</td>\n",
       "      <td>2.2409</td>\n",
       "      <td>0.6619</td>\n",
       "      <td>AR_A_fret_0-20.wav</td>\n",
       "      <td>EGUI</td>\n",
       "      <td>Aristides 010</td>\n",
       "      <td>unknown</td>\n",
       "      <td>40  45  50  55  59  64</td>\n",
       "      <td>13-02-14</td>\n",
       "      <td>Christian Kehling</td>\n",
       "      <td>unknown</td>\n",
       "      <td>Steel</td>\n",
       "      <td>Christian Kehling</td>\n",
       "    </tr>\n",
       "    <tr>\n",
       "      <th>1</th>\n",
       "      <td>NO</td>\n",
       "      <td>PK</td>\n",
       "      <td>2.6026</td>\n",
       "      <td>3.3066</td>\n",
       "      <td>0.7040</td>\n",
       "      <td>AR_A_fret_0-20.wav</td>\n",
       "      <td>EGUI</td>\n",
       "      <td>Aristides 010</td>\n",
       "      <td>unknown</td>\n",
       "      <td>40  45  50  55  59  64</td>\n",
       "      <td>13-02-14</td>\n",
       "      <td>Christian Kehling</td>\n",
       "      <td>unknown</td>\n",
       "      <td>Steel</td>\n",
       "      <td>Christian Kehling</td>\n",
       "    </tr>\n",
       "    <tr>\n",
       "      <th>2</th>\n",
       "      <td>NO</td>\n",
       "      <td>PK</td>\n",
       "      <td>3.6949</td>\n",
       "      <td>4.3970</td>\n",
       "      <td>0.7021</td>\n",
       "      <td>AR_A_fret_0-20.wav</td>\n",
       "      <td>EGUI</td>\n",
       "      <td>Aristides 010</td>\n",
       "      <td>unknown</td>\n",
       "      <td>40  45  50  55  59  64</td>\n",
       "      <td>13-02-14</td>\n",
       "      <td>Christian Kehling</td>\n",
       "      <td>unknown</td>\n",
       "      <td>Steel</td>\n",
       "      <td>Christian Kehling</td>\n",
       "    </tr>\n",
       "    <tr>\n",
       "      <th>3</th>\n",
       "      <td>NO</td>\n",
       "      <td>PK</td>\n",
       "      <td>4.7456</td>\n",
       "      <td>5.4846</td>\n",
       "      <td>0.7390</td>\n",
       "      <td>AR_A_fret_0-20.wav</td>\n",
       "      <td>EGUI</td>\n",
       "      <td>Aristides 010</td>\n",
       "      <td>unknown</td>\n",
       "      <td>40  45  50  55  59  64</td>\n",
       "      <td>13-02-14</td>\n",
       "      <td>Christian Kehling</td>\n",
       "      <td>unknown</td>\n",
       "      <td>Steel</td>\n",
       "      <td>Christian Kehling</td>\n",
       "    </tr>\n",
       "    <tr>\n",
       "      <th>4</th>\n",
       "      <td>NO</td>\n",
       "      <td>PK</td>\n",
       "      <td>5.8514</td>\n",
       "      <td>6.5035</td>\n",
       "      <td>0.6521</td>\n",
       "      <td>AR_A_fret_0-20.wav</td>\n",
       "      <td>EGUI</td>\n",
       "      <td>Aristides 010</td>\n",
       "      <td>unknown</td>\n",
       "      <td>40  45  50  55  59  64</td>\n",
       "      <td>13-02-14</td>\n",
       "      <td>Christian Kehling</td>\n",
       "      <td>unknown</td>\n",
       "      <td>Steel</td>\n",
       "      <td>Christian Kehling</td>\n",
       "    </tr>\n",
       "    <tr>\n",
       "      <th>...</th>\n",
       "      <td>...</td>\n",
       "      <td>...</td>\n",
       "      <td>...</td>\n",
       "      <td>...</td>\n",
       "      <td>...</td>\n",
       "      <td>...</td>\n",
       "      <td>...</td>\n",
       "      <td>...</td>\n",
       "      <td>...</td>\n",
       "      <td>...</td>\n",
       "      <td>...</td>\n",
       "      <td>...</td>\n",
       "      <td>...</td>\n",
       "      <td>...</td>\n",
       "      <td>...</td>\n",
       "    </tr>\n",
       "    <tr>\n",
       "      <th>1567</th>\n",
       "      <td>VI</td>\n",
       "      <td>PK</td>\n",
       "      <td>43.0498</td>\n",
       "      <td>48.6289</td>\n",
       "      <td>5.5791</td>\n",
       "      <td>LP_V_vibrato_slow-fast.wav</td>\n",
       "      <td>EGUI</td>\n",
       "      <td>Gibson Les Paul</td>\n",
       "      <td>unknown</td>\n",
       "      <td>40  45  50  55  59  64</td>\n",
       "      <td>13-02-14</td>\n",
       "      <td>Christian Kehling</td>\n",
       "      <td>unknown</td>\n",
       "      <td>Steel</td>\n",
       "      <td>Christian Kehling</td>\n",
       "    </tr>\n",
       "    <tr>\n",
       "      <th>1568</th>\n",
       "      <td>VI</td>\n",
       "      <td>PK</td>\n",
       "      <td>49.6065</td>\n",
       "      <td>54.7807</td>\n",
       "      <td>5.1742</td>\n",
       "      <td>LP_V_vibrato_slow-fast.wav</td>\n",
       "      <td>EGUI</td>\n",
       "      <td>Gibson Les Paul</td>\n",
       "      <td>unknown</td>\n",
       "      <td>40  45  50  55  59  64</td>\n",
       "      <td>13-02-14</td>\n",
       "      <td>Christian Kehling</td>\n",
       "      <td>unknown</td>\n",
       "      <td>Steel</td>\n",
       "      <td>Christian Kehling</td>\n",
       "    </tr>\n",
       "    <tr>\n",
       "      <th>1569</th>\n",
       "      <td>VI</td>\n",
       "      <td>PK</td>\n",
       "      <td>55.5450</td>\n",
       "      <td>61.3962</td>\n",
       "      <td>5.8512</td>\n",
       "      <td>LP_V_vibrato_slow-fast.wav</td>\n",
       "      <td>EGUI</td>\n",
       "      <td>Gibson Les Paul</td>\n",
       "      <td>unknown</td>\n",
       "      <td>40  45  50  55  59  64</td>\n",
       "      <td>13-02-14</td>\n",
       "      <td>Christian Kehling</td>\n",
       "      <td>unknown</td>\n",
       "      <td>Steel</td>\n",
       "      <td>Christian Kehling</td>\n",
       "    </tr>\n",
       "    <tr>\n",
       "      <th>1570</th>\n",
       "      <td>VI</td>\n",
       "      <td>PK</td>\n",
       "      <td>62.3891</td>\n",
       "      <td>66.6713</td>\n",
       "      <td>4.2822</td>\n",
       "      <td>LP_V_vibrato_slow-fast.wav</td>\n",
       "      <td>EGUI</td>\n",
       "      <td>Gibson Les Paul</td>\n",
       "      <td>unknown</td>\n",
       "      <td>40  45  50  55  59  64</td>\n",
       "      <td>13-02-14</td>\n",
       "      <td>Christian Kehling</td>\n",
       "      <td>unknown</td>\n",
       "      <td>Steel</td>\n",
       "      <td>Christian Kehling</td>\n",
       "    </tr>\n",
       "    <tr>\n",
       "      <th>1571</th>\n",
       "      <td>VI</td>\n",
       "      <td>PK</td>\n",
       "      <td>67.4743</td>\n",
       "      <td>73.8445</td>\n",
       "      <td>6.3702</td>\n",
       "      <td>LP_V_vibrato_slow-fast.wav</td>\n",
       "      <td>EGUI</td>\n",
       "      <td>Gibson Les Paul</td>\n",
       "      <td>unknown</td>\n",
       "      <td>40  45  50  55  59  64</td>\n",
       "      <td>13-02-14</td>\n",
       "      <td>Christian Kehling</td>\n",
       "      <td>unknown</td>\n",
       "      <td>Steel</td>\n",
       "      <td>Christian Kehling</td>\n",
       "    </tr>\n",
       "  </tbody>\n",
       "</table>\n",
       "<p>1572 rows × 15 columns</p>\n",
       "</div>"
      ]
     },
     "metadata": {},
     "execution_count": 91
    }
   ],
   "metadata": {
    "tags": []
   }
  },
  {
   "cell_type": "code",
   "execution_count": 92,
   "source": [
    "expressionStyle = pd.value_counts(dataset['expressionStyle']).reset_index()\n",
    "expressionStyle.columns = ['Expression Style', 'Number']\n",
    "px.bar(expressionStyle, x='Expression Style', y='Number', width=400, height=300)"
   ],
   "outputs": [
    {
     "output_type": "display_data",
     "data": {
      "application/vnd.plotly.v1+json": {
       "config": {
        "plotlyServerURL": "https://plot.ly"
       },
       "data": [
        {
         "alignmentgroup": "True",
         "hovertemplate": "Expression Style=%{x}<br>Number=%{y}<extra></extra>",
         "legendgroup": "",
         "marker": {
          "color": "#636efa"
         },
         "name": "",
         "offsetgroup": "",
         "orientation": "v",
         "showlegend": false,
         "textposition": "auto",
         "type": "bar",
         "x": [
          "NO",
          "DN",
          "HA",
          "VI",
          "BE",
          "SL"
         ],
         "xaxis": "x",
         "y": [
          876,
          246,
          132,
          120,
          117,
          81
         ],
         "yaxis": "y"
        }
       ],
       "layout": {
        "barmode": "relative",
        "height": 300,
        "legend": {
         "tracegroupgap": 0
        },
        "margin": {
         "t": 60
        },
        "template": {
         "data": {
          "bar": [
           {
            "error_x": {
             "color": "#2a3f5f"
            },
            "error_y": {
             "color": "#2a3f5f"
            },
            "marker": {
             "line": {
              "color": "#E5ECF6",
              "width": 0.5
             }
            },
            "type": "bar"
           }
          ],
          "barpolar": [
           {
            "marker": {
             "line": {
              "color": "#E5ECF6",
              "width": 0.5
             }
            },
            "type": "barpolar"
           }
          ],
          "carpet": [
           {
            "aaxis": {
             "endlinecolor": "#2a3f5f",
             "gridcolor": "white",
             "linecolor": "white",
             "minorgridcolor": "white",
             "startlinecolor": "#2a3f5f"
            },
            "baxis": {
             "endlinecolor": "#2a3f5f",
             "gridcolor": "white",
             "linecolor": "white",
             "minorgridcolor": "white",
             "startlinecolor": "#2a3f5f"
            },
            "type": "carpet"
           }
          ],
          "choropleth": [
           {
            "colorbar": {
             "outlinewidth": 0,
             "ticks": ""
            },
            "type": "choropleth"
           }
          ],
          "contour": [
           {
            "colorbar": {
             "outlinewidth": 0,
             "ticks": ""
            },
            "colorscale": [
             [
              0,
              "#0d0887"
             ],
             [
              0.1111111111111111,
              "#46039f"
             ],
             [
              0.2222222222222222,
              "#7201a8"
             ],
             [
              0.3333333333333333,
              "#9c179e"
             ],
             [
              0.4444444444444444,
              "#bd3786"
             ],
             [
              0.5555555555555556,
              "#d8576b"
             ],
             [
              0.6666666666666666,
              "#ed7953"
             ],
             [
              0.7777777777777778,
              "#fb9f3a"
             ],
             [
              0.8888888888888888,
              "#fdca26"
             ],
             [
              1,
              "#f0f921"
             ]
            ],
            "type": "contour"
           }
          ],
          "contourcarpet": [
           {
            "colorbar": {
             "outlinewidth": 0,
             "ticks": ""
            },
            "type": "contourcarpet"
           }
          ],
          "heatmap": [
           {
            "colorbar": {
             "outlinewidth": 0,
             "ticks": ""
            },
            "colorscale": [
             [
              0,
              "#0d0887"
             ],
             [
              0.1111111111111111,
              "#46039f"
             ],
             [
              0.2222222222222222,
              "#7201a8"
             ],
             [
              0.3333333333333333,
              "#9c179e"
             ],
             [
              0.4444444444444444,
              "#bd3786"
             ],
             [
              0.5555555555555556,
              "#d8576b"
             ],
             [
              0.6666666666666666,
              "#ed7953"
             ],
             [
              0.7777777777777778,
              "#fb9f3a"
             ],
             [
              0.8888888888888888,
              "#fdca26"
             ],
             [
              1,
              "#f0f921"
             ]
            ],
            "type": "heatmap"
           }
          ],
          "heatmapgl": [
           {
            "colorbar": {
             "outlinewidth": 0,
             "ticks": ""
            },
            "colorscale": [
             [
              0,
              "#0d0887"
             ],
             [
              0.1111111111111111,
              "#46039f"
             ],
             [
              0.2222222222222222,
              "#7201a8"
             ],
             [
              0.3333333333333333,
              "#9c179e"
             ],
             [
              0.4444444444444444,
              "#bd3786"
             ],
             [
              0.5555555555555556,
              "#d8576b"
             ],
             [
              0.6666666666666666,
              "#ed7953"
             ],
             [
              0.7777777777777778,
              "#fb9f3a"
             ],
             [
              0.8888888888888888,
              "#fdca26"
             ],
             [
              1,
              "#f0f921"
             ]
            ],
            "type": "heatmapgl"
           }
          ],
          "histogram": [
           {
            "marker": {
             "colorbar": {
              "outlinewidth": 0,
              "ticks": ""
             }
            },
            "type": "histogram"
           }
          ],
          "histogram2d": [
           {
            "colorbar": {
             "outlinewidth": 0,
             "ticks": ""
            },
            "colorscale": [
             [
              0,
              "#0d0887"
             ],
             [
              0.1111111111111111,
              "#46039f"
             ],
             [
              0.2222222222222222,
              "#7201a8"
             ],
             [
              0.3333333333333333,
              "#9c179e"
             ],
             [
              0.4444444444444444,
              "#bd3786"
             ],
             [
              0.5555555555555556,
              "#d8576b"
             ],
             [
              0.6666666666666666,
              "#ed7953"
             ],
             [
              0.7777777777777778,
              "#fb9f3a"
             ],
             [
              0.8888888888888888,
              "#fdca26"
             ],
             [
              1,
              "#f0f921"
             ]
            ],
            "type": "histogram2d"
           }
          ],
          "histogram2dcontour": [
           {
            "colorbar": {
             "outlinewidth": 0,
             "ticks": ""
            },
            "colorscale": [
             [
              0,
              "#0d0887"
             ],
             [
              0.1111111111111111,
              "#46039f"
             ],
             [
              0.2222222222222222,
              "#7201a8"
             ],
             [
              0.3333333333333333,
              "#9c179e"
             ],
             [
              0.4444444444444444,
              "#bd3786"
             ],
             [
              0.5555555555555556,
              "#d8576b"
             ],
             [
              0.6666666666666666,
              "#ed7953"
             ],
             [
              0.7777777777777778,
              "#fb9f3a"
             ],
             [
              0.8888888888888888,
              "#fdca26"
             ],
             [
              1,
              "#f0f921"
             ]
            ],
            "type": "histogram2dcontour"
           }
          ],
          "mesh3d": [
           {
            "colorbar": {
             "outlinewidth": 0,
             "ticks": ""
            },
            "type": "mesh3d"
           }
          ],
          "parcoords": [
           {
            "line": {
             "colorbar": {
              "outlinewidth": 0,
              "ticks": ""
             }
            },
            "type": "parcoords"
           }
          ],
          "pie": [
           {
            "automargin": true,
            "type": "pie"
           }
          ],
          "scatter": [
           {
            "marker": {
             "colorbar": {
              "outlinewidth": 0,
              "ticks": ""
             }
            },
            "type": "scatter"
           }
          ],
          "scatter3d": [
           {
            "line": {
             "colorbar": {
              "outlinewidth": 0,
              "ticks": ""
             }
            },
            "marker": {
             "colorbar": {
              "outlinewidth": 0,
              "ticks": ""
             }
            },
            "type": "scatter3d"
           }
          ],
          "scattercarpet": [
           {
            "marker": {
             "colorbar": {
              "outlinewidth": 0,
              "ticks": ""
             }
            },
            "type": "scattercarpet"
           }
          ],
          "scattergeo": [
           {
            "marker": {
             "colorbar": {
              "outlinewidth": 0,
              "ticks": ""
             }
            },
            "type": "scattergeo"
           }
          ],
          "scattergl": [
           {
            "marker": {
             "colorbar": {
              "outlinewidth": 0,
              "ticks": ""
             }
            },
            "type": "scattergl"
           }
          ],
          "scattermapbox": [
           {
            "marker": {
             "colorbar": {
              "outlinewidth": 0,
              "ticks": ""
             }
            },
            "type": "scattermapbox"
           }
          ],
          "scatterpolar": [
           {
            "marker": {
             "colorbar": {
              "outlinewidth": 0,
              "ticks": ""
             }
            },
            "type": "scatterpolar"
           }
          ],
          "scatterpolargl": [
           {
            "marker": {
             "colorbar": {
              "outlinewidth": 0,
              "ticks": ""
             }
            },
            "type": "scatterpolargl"
           }
          ],
          "scatterternary": [
           {
            "marker": {
             "colorbar": {
              "outlinewidth": 0,
              "ticks": ""
             }
            },
            "type": "scatterternary"
           }
          ],
          "surface": [
           {
            "colorbar": {
             "outlinewidth": 0,
             "ticks": ""
            },
            "colorscale": [
             [
              0,
              "#0d0887"
             ],
             [
              0.1111111111111111,
              "#46039f"
             ],
             [
              0.2222222222222222,
              "#7201a8"
             ],
             [
              0.3333333333333333,
              "#9c179e"
             ],
             [
              0.4444444444444444,
              "#bd3786"
             ],
             [
              0.5555555555555556,
              "#d8576b"
             ],
             [
              0.6666666666666666,
              "#ed7953"
             ],
             [
              0.7777777777777778,
              "#fb9f3a"
             ],
             [
              0.8888888888888888,
              "#fdca26"
             ],
             [
              1,
              "#f0f921"
             ]
            ],
            "type": "surface"
           }
          ],
          "table": [
           {
            "cells": {
             "fill": {
              "color": "#EBF0F8"
             },
             "line": {
              "color": "white"
             }
            },
            "header": {
             "fill": {
              "color": "#C8D4E3"
             },
             "line": {
              "color": "white"
             }
            },
            "type": "table"
           }
          ]
         },
         "layout": {
          "annotationdefaults": {
           "arrowcolor": "#2a3f5f",
           "arrowhead": 0,
           "arrowwidth": 1
          },
          "autotypenumbers": "strict",
          "coloraxis": {
           "colorbar": {
            "outlinewidth": 0,
            "ticks": ""
           }
          },
          "colorscale": {
           "diverging": [
            [
             0,
             "#8e0152"
            ],
            [
             0.1,
             "#c51b7d"
            ],
            [
             0.2,
             "#de77ae"
            ],
            [
             0.3,
             "#f1b6da"
            ],
            [
             0.4,
             "#fde0ef"
            ],
            [
             0.5,
             "#f7f7f7"
            ],
            [
             0.6,
             "#e6f5d0"
            ],
            [
             0.7,
             "#b8e186"
            ],
            [
             0.8,
             "#7fbc41"
            ],
            [
             0.9,
             "#4d9221"
            ],
            [
             1,
             "#276419"
            ]
           ],
           "sequential": [
            [
             0,
             "#0d0887"
            ],
            [
             0.1111111111111111,
             "#46039f"
            ],
            [
             0.2222222222222222,
             "#7201a8"
            ],
            [
             0.3333333333333333,
             "#9c179e"
            ],
            [
             0.4444444444444444,
             "#bd3786"
            ],
            [
             0.5555555555555556,
             "#d8576b"
            ],
            [
             0.6666666666666666,
             "#ed7953"
            ],
            [
             0.7777777777777778,
             "#fb9f3a"
            ],
            [
             0.8888888888888888,
             "#fdca26"
            ],
            [
             1,
             "#f0f921"
            ]
           ],
           "sequentialminus": [
            [
             0,
             "#0d0887"
            ],
            [
             0.1111111111111111,
             "#46039f"
            ],
            [
             0.2222222222222222,
             "#7201a8"
            ],
            [
             0.3333333333333333,
             "#9c179e"
            ],
            [
             0.4444444444444444,
             "#bd3786"
            ],
            [
             0.5555555555555556,
             "#d8576b"
            ],
            [
             0.6666666666666666,
             "#ed7953"
            ],
            [
             0.7777777777777778,
             "#fb9f3a"
            ],
            [
             0.8888888888888888,
             "#fdca26"
            ],
            [
             1,
             "#f0f921"
            ]
           ]
          },
          "colorway": [
           "#636efa",
           "#EF553B",
           "#00cc96",
           "#ab63fa",
           "#FFA15A",
           "#19d3f3",
           "#FF6692",
           "#B6E880",
           "#FF97FF",
           "#FECB52"
          ],
          "font": {
           "color": "#2a3f5f"
          },
          "geo": {
           "bgcolor": "white",
           "lakecolor": "white",
           "landcolor": "#E5ECF6",
           "showlakes": true,
           "showland": true,
           "subunitcolor": "white"
          },
          "hoverlabel": {
           "align": "left"
          },
          "hovermode": "closest",
          "mapbox": {
           "style": "light"
          },
          "paper_bgcolor": "white",
          "plot_bgcolor": "#E5ECF6",
          "polar": {
           "angularaxis": {
            "gridcolor": "white",
            "linecolor": "white",
            "ticks": ""
           },
           "bgcolor": "#E5ECF6",
           "radialaxis": {
            "gridcolor": "white",
            "linecolor": "white",
            "ticks": ""
           }
          },
          "scene": {
           "xaxis": {
            "backgroundcolor": "#E5ECF6",
            "gridcolor": "white",
            "gridwidth": 2,
            "linecolor": "white",
            "showbackground": true,
            "ticks": "",
            "zerolinecolor": "white"
           },
           "yaxis": {
            "backgroundcolor": "#E5ECF6",
            "gridcolor": "white",
            "gridwidth": 2,
            "linecolor": "white",
            "showbackground": true,
            "ticks": "",
            "zerolinecolor": "white"
           },
           "zaxis": {
            "backgroundcolor": "#E5ECF6",
            "gridcolor": "white",
            "gridwidth": 2,
            "linecolor": "white",
            "showbackground": true,
            "ticks": "",
            "zerolinecolor": "white"
           }
          },
          "shapedefaults": {
           "line": {
            "color": "#2a3f5f"
           }
          },
          "ternary": {
           "aaxis": {
            "gridcolor": "white",
            "linecolor": "white",
            "ticks": ""
           },
           "baxis": {
            "gridcolor": "white",
            "linecolor": "white",
            "ticks": ""
           },
           "bgcolor": "#E5ECF6",
           "caxis": {
            "gridcolor": "white",
            "linecolor": "white",
            "ticks": ""
           }
          },
          "title": {
           "x": 0.05
          },
          "xaxis": {
           "automargin": true,
           "gridcolor": "white",
           "linecolor": "white",
           "ticks": "",
           "title": {
            "standoff": 15
           },
           "zerolinecolor": "white",
           "zerolinewidth": 2
          },
          "yaxis": {
           "automargin": true,
           "gridcolor": "white",
           "linecolor": "white",
           "ticks": "",
           "title": {
            "standoff": 15
           },
           "zerolinecolor": "white",
           "zerolinewidth": 2
          }
         }
        },
        "width": 400,
        "xaxis": {
         "anchor": "y",
         "domain": [
          0,
          1
         ],
         "title": {
          "text": "Expression Style"
         }
        },
        "yaxis": {
         "anchor": "x",
         "domain": [
          0,
          1
         ],
         "title": {
          "text": "Number"
         }
        }
       }
      }
     },
     "metadata": {}
    }
   ],
   "metadata": {}
  },
  {
   "cell_type": "code",
   "execution_count": 93,
   "source": [
    "expressionStyle = pd.value_counts(dataset['excitationStyle']).reset_index()\n",
    "expressionStyle.columns = ['Expression Style', 'Number']\n",
    "px.bar(expressionStyle, x='Expression Style', y='Number', width=400, height=300)"
   ],
   "outputs": [
    {
     "output_type": "display_data",
     "data": {
      "application/vnd.plotly.v1+json": {
       "config": {
        "plotlyServerURL": "https://plot.ly"
       },
       "data": [
        {
         "alignmentgroup": "True",
         "hovertemplate": "Expression Style=%{x}<br>Number=%{y}<extra></extra>",
         "legendgroup": "",
         "marker": {
          "color": "#636efa"
         },
         "name": "",
         "offsetgroup": "",
         "orientation": "v",
         "showlegend": false,
         "textposition": "auto",
         "type": "bar",
         "x": [
          "PK",
          "FS"
         ],
         "xaxis": "x",
         "y": [
          1161,
          411
         ],
         "yaxis": "y"
        }
       ],
       "layout": {
        "barmode": "relative",
        "height": 300,
        "legend": {
         "tracegroupgap": 0
        },
        "margin": {
         "t": 60
        },
        "template": {
         "data": {
          "bar": [
           {
            "error_x": {
             "color": "#2a3f5f"
            },
            "error_y": {
             "color": "#2a3f5f"
            },
            "marker": {
             "line": {
              "color": "#E5ECF6",
              "width": 0.5
             }
            },
            "type": "bar"
           }
          ],
          "barpolar": [
           {
            "marker": {
             "line": {
              "color": "#E5ECF6",
              "width": 0.5
             }
            },
            "type": "barpolar"
           }
          ],
          "carpet": [
           {
            "aaxis": {
             "endlinecolor": "#2a3f5f",
             "gridcolor": "white",
             "linecolor": "white",
             "minorgridcolor": "white",
             "startlinecolor": "#2a3f5f"
            },
            "baxis": {
             "endlinecolor": "#2a3f5f",
             "gridcolor": "white",
             "linecolor": "white",
             "minorgridcolor": "white",
             "startlinecolor": "#2a3f5f"
            },
            "type": "carpet"
           }
          ],
          "choropleth": [
           {
            "colorbar": {
             "outlinewidth": 0,
             "ticks": ""
            },
            "type": "choropleth"
           }
          ],
          "contour": [
           {
            "colorbar": {
             "outlinewidth": 0,
             "ticks": ""
            },
            "colorscale": [
             [
              0,
              "#0d0887"
             ],
             [
              0.1111111111111111,
              "#46039f"
             ],
             [
              0.2222222222222222,
              "#7201a8"
             ],
             [
              0.3333333333333333,
              "#9c179e"
             ],
             [
              0.4444444444444444,
              "#bd3786"
             ],
             [
              0.5555555555555556,
              "#d8576b"
             ],
             [
              0.6666666666666666,
              "#ed7953"
             ],
             [
              0.7777777777777778,
              "#fb9f3a"
             ],
             [
              0.8888888888888888,
              "#fdca26"
             ],
             [
              1,
              "#f0f921"
             ]
            ],
            "type": "contour"
           }
          ],
          "contourcarpet": [
           {
            "colorbar": {
             "outlinewidth": 0,
             "ticks": ""
            },
            "type": "contourcarpet"
           }
          ],
          "heatmap": [
           {
            "colorbar": {
             "outlinewidth": 0,
             "ticks": ""
            },
            "colorscale": [
             [
              0,
              "#0d0887"
             ],
             [
              0.1111111111111111,
              "#46039f"
             ],
             [
              0.2222222222222222,
              "#7201a8"
             ],
             [
              0.3333333333333333,
              "#9c179e"
             ],
             [
              0.4444444444444444,
              "#bd3786"
             ],
             [
              0.5555555555555556,
              "#d8576b"
             ],
             [
              0.6666666666666666,
              "#ed7953"
             ],
             [
              0.7777777777777778,
              "#fb9f3a"
             ],
             [
              0.8888888888888888,
              "#fdca26"
             ],
             [
              1,
              "#f0f921"
             ]
            ],
            "type": "heatmap"
           }
          ],
          "heatmapgl": [
           {
            "colorbar": {
             "outlinewidth": 0,
             "ticks": ""
            },
            "colorscale": [
             [
              0,
              "#0d0887"
             ],
             [
              0.1111111111111111,
              "#46039f"
             ],
             [
              0.2222222222222222,
              "#7201a8"
             ],
             [
              0.3333333333333333,
              "#9c179e"
             ],
             [
              0.4444444444444444,
              "#bd3786"
             ],
             [
              0.5555555555555556,
              "#d8576b"
             ],
             [
              0.6666666666666666,
              "#ed7953"
             ],
             [
              0.7777777777777778,
              "#fb9f3a"
             ],
             [
              0.8888888888888888,
              "#fdca26"
             ],
             [
              1,
              "#f0f921"
             ]
            ],
            "type": "heatmapgl"
           }
          ],
          "histogram": [
           {
            "marker": {
             "colorbar": {
              "outlinewidth": 0,
              "ticks": ""
             }
            },
            "type": "histogram"
           }
          ],
          "histogram2d": [
           {
            "colorbar": {
             "outlinewidth": 0,
             "ticks": ""
            },
            "colorscale": [
             [
              0,
              "#0d0887"
             ],
             [
              0.1111111111111111,
              "#46039f"
             ],
             [
              0.2222222222222222,
              "#7201a8"
             ],
             [
              0.3333333333333333,
              "#9c179e"
             ],
             [
              0.4444444444444444,
              "#bd3786"
             ],
             [
              0.5555555555555556,
              "#d8576b"
             ],
             [
              0.6666666666666666,
              "#ed7953"
             ],
             [
              0.7777777777777778,
              "#fb9f3a"
             ],
             [
              0.8888888888888888,
              "#fdca26"
             ],
             [
              1,
              "#f0f921"
             ]
            ],
            "type": "histogram2d"
           }
          ],
          "histogram2dcontour": [
           {
            "colorbar": {
             "outlinewidth": 0,
             "ticks": ""
            },
            "colorscale": [
             [
              0,
              "#0d0887"
             ],
             [
              0.1111111111111111,
              "#46039f"
             ],
             [
              0.2222222222222222,
              "#7201a8"
             ],
             [
              0.3333333333333333,
              "#9c179e"
             ],
             [
              0.4444444444444444,
              "#bd3786"
             ],
             [
              0.5555555555555556,
              "#d8576b"
             ],
             [
              0.6666666666666666,
              "#ed7953"
             ],
             [
              0.7777777777777778,
              "#fb9f3a"
             ],
             [
              0.8888888888888888,
              "#fdca26"
             ],
             [
              1,
              "#f0f921"
             ]
            ],
            "type": "histogram2dcontour"
           }
          ],
          "mesh3d": [
           {
            "colorbar": {
             "outlinewidth": 0,
             "ticks": ""
            },
            "type": "mesh3d"
           }
          ],
          "parcoords": [
           {
            "line": {
             "colorbar": {
              "outlinewidth": 0,
              "ticks": ""
             }
            },
            "type": "parcoords"
           }
          ],
          "pie": [
           {
            "automargin": true,
            "type": "pie"
           }
          ],
          "scatter": [
           {
            "marker": {
             "colorbar": {
              "outlinewidth": 0,
              "ticks": ""
             }
            },
            "type": "scatter"
           }
          ],
          "scatter3d": [
           {
            "line": {
             "colorbar": {
              "outlinewidth": 0,
              "ticks": ""
             }
            },
            "marker": {
             "colorbar": {
              "outlinewidth": 0,
              "ticks": ""
             }
            },
            "type": "scatter3d"
           }
          ],
          "scattercarpet": [
           {
            "marker": {
             "colorbar": {
              "outlinewidth": 0,
              "ticks": ""
             }
            },
            "type": "scattercarpet"
           }
          ],
          "scattergeo": [
           {
            "marker": {
             "colorbar": {
              "outlinewidth": 0,
              "ticks": ""
             }
            },
            "type": "scattergeo"
           }
          ],
          "scattergl": [
           {
            "marker": {
             "colorbar": {
              "outlinewidth": 0,
              "ticks": ""
             }
            },
            "type": "scattergl"
           }
          ],
          "scattermapbox": [
           {
            "marker": {
             "colorbar": {
              "outlinewidth": 0,
              "ticks": ""
             }
            },
            "type": "scattermapbox"
           }
          ],
          "scatterpolar": [
           {
            "marker": {
             "colorbar": {
              "outlinewidth": 0,
              "ticks": ""
             }
            },
            "type": "scatterpolar"
           }
          ],
          "scatterpolargl": [
           {
            "marker": {
             "colorbar": {
              "outlinewidth": 0,
              "ticks": ""
             }
            },
            "type": "scatterpolargl"
           }
          ],
          "scatterternary": [
           {
            "marker": {
             "colorbar": {
              "outlinewidth": 0,
              "ticks": ""
             }
            },
            "type": "scatterternary"
           }
          ],
          "surface": [
           {
            "colorbar": {
             "outlinewidth": 0,
             "ticks": ""
            },
            "colorscale": [
             [
              0,
              "#0d0887"
             ],
             [
              0.1111111111111111,
              "#46039f"
             ],
             [
              0.2222222222222222,
              "#7201a8"
             ],
             [
              0.3333333333333333,
              "#9c179e"
             ],
             [
              0.4444444444444444,
              "#bd3786"
             ],
             [
              0.5555555555555556,
              "#d8576b"
             ],
             [
              0.6666666666666666,
              "#ed7953"
             ],
             [
              0.7777777777777778,
              "#fb9f3a"
             ],
             [
              0.8888888888888888,
              "#fdca26"
             ],
             [
              1,
              "#f0f921"
             ]
            ],
            "type": "surface"
           }
          ],
          "table": [
           {
            "cells": {
             "fill": {
              "color": "#EBF0F8"
             },
             "line": {
              "color": "white"
             }
            },
            "header": {
             "fill": {
              "color": "#C8D4E3"
             },
             "line": {
              "color": "white"
             }
            },
            "type": "table"
           }
          ]
         },
         "layout": {
          "annotationdefaults": {
           "arrowcolor": "#2a3f5f",
           "arrowhead": 0,
           "arrowwidth": 1
          },
          "autotypenumbers": "strict",
          "coloraxis": {
           "colorbar": {
            "outlinewidth": 0,
            "ticks": ""
           }
          },
          "colorscale": {
           "diverging": [
            [
             0,
             "#8e0152"
            ],
            [
             0.1,
             "#c51b7d"
            ],
            [
             0.2,
             "#de77ae"
            ],
            [
             0.3,
             "#f1b6da"
            ],
            [
             0.4,
             "#fde0ef"
            ],
            [
             0.5,
             "#f7f7f7"
            ],
            [
             0.6,
             "#e6f5d0"
            ],
            [
             0.7,
             "#b8e186"
            ],
            [
             0.8,
             "#7fbc41"
            ],
            [
             0.9,
             "#4d9221"
            ],
            [
             1,
             "#276419"
            ]
           ],
           "sequential": [
            [
             0,
             "#0d0887"
            ],
            [
             0.1111111111111111,
             "#46039f"
            ],
            [
             0.2222222222222222,
             "#7201a8"
            ],
            [
             0.3333333333333333,
             "#9c179e"
            ],
            [
             0.4444444444444444,
             "#bd3786"
            ],
            [
             0.5555555555555556,
             "#d8576b"
            ],
            [
             0.6666666666666666,
             "#ed7953"
            ],
            [
             0.7777777777777778,
             "#fb9f3a"
            ],
            [
             0.8888888888888888,
             "#fdca26"
            ],
            [
             1,
             "#f0f921"
            ]
           ],
           "sequentialminus": [
            [
             0,
             "#0d0887"
            ],
            [
             0.1111111111111111,
             "#46039f"
            ],
            [
             0.2222222222222222,
             "#7201a8"
            ],
            [
             0.3333333333333333,
             "#9c179e"
            ],
            [
             0.4444444444444444,
             "#bd3786"
            ],
            [
             0.5555555555555556,
             "#d8576b"
            ],
            [
             0.6666666666666666,
             "#ed7953"
            ],
            [
             0.7777777777777778,
             "#fb9f3a"
            ],
            [
             0.8888888888888888,
             "#fdca26"
            ],
            [
             1,
             "#f0f921"
            ]
           ]
          },
          "colorway": [
           "#636efa",
           "#EF553B",
           "#00cc96",
           "#ab63fa",
           "#FFA15A",
           "#19d3f3",
           "#FF6692",
           "#B6E880",
           "#FF97FF",
           "#FECB52"
          ],
          "font": {
           "color": "#2a3f5f"
          },
          "geo": {
           "bgcolor": "white",
           "lakecolor": "white",
           "landcolor": "#E5ECF6",
           "showlakes": true,
           "showland": true,
           "subunitcolor": "white"
          },
          "hoverlabel": {
           "align": "left"
          },
          "hovermode": "closest",
          "mapbox": {
           "style": "light"
          },
          "paper_bgcolor": "white",
          "plot_bgcolor": "#E5ECF6",
          "polar": {
           "angularaxis": {
            "gridcolor": "white",
            "linecolor": "white",
            "ticks": ""
           },
           "bgcolor": "#E5ECF6",
           "radialaxis": {
            "gridcolor": "white",
            "linecolor": "white",
            "ticks": ""
           }
          },
          "scene": {
           "xaxis": {
            "backgroundcolor": "#E5ECF6",
            "gridcolor": "white",
            "gridwidth": 2,
            "linecolor": "white",
            "showbackground": true,
            "ticks": "",
            "zerolinecolor": "white"
           },
           "yaxis": {
            "backgroundcolor": "#E5ECF6",
            "gridcolor": "white",
            "gridwidth": 2,
            "linecolor": "white",
            "showbackground": true,
            "ticks": "",
            "zerolinecolor": "white"
           },
           "zaxis": {
            "backgroundcolor": "#E5ECF6",
            "gridcolor": "white",
            "gridwidth": 2,
            "linecolor": "white",
            "showbackground": true,
            "ticks": "",
            "zerolinecolor": "white"
           }
          },
          "shapedefaults": {
           "line": {
            "color": "#2a3f5f"
           }
          },
          "ternary": {
           "aaxis": {
            "gridcolor": "white",
            "linecolor": "white",
            "ticks": ""
           },
           "baxis": {
            "gridcolor": "white",
            "linecolor": "white",
            "ticks": ""
           },
           "bgcolor": "#E5ECF6",
           "caxis": {
            "gridcolor": "white",
            "linecolor": "white",
            "ticks": ""
           }
          },
          "title": {
           "x": 0.05
          },
          "xaxis": {
           "automargin": true,
           "gridcolor": "white",
           "linecolor": "white",
           "ticks": "",
           "title": {
            "standoff": 15
           },
           "zerolinecolor": "white",
           "zerolinewidth": 2
          },
          "yaxis": {
           "automargin": true,
           "gridcolor": "white",
           "linecolor": "white",
           "ticks": "",
           "title": {
            "standoff": 15
           },
           "zerolinecolor": "white",
           "zerolinewidth": 2
          }
         }
        },
        "width": 400,
        "xaxis": {
         "anchor": "y",
         "domain": [
          0,
          1
         ],
         "title": {
          "text": "Expression Style"
         }
        },
        "yaxis": {
         "anchor": "x",
         "domain": [
          0,
          1
         ],
         "title": {
          "text": "Number"
         }
        }
       }
      }
     },
     "metadata": {}
    }
   ],
   "metadata": {}
  },
  {
   "cell_type": "code",
   "execution_count": 97,
   "source": [
    "expressionStyle = pd.value_counts(dataset[dataset['excitationStyle'] == 'FS']['expressionStyle']).reset_index()\n",
    "expressionStyle.columns = ['Expression Style', 'Number']\n",
    "px.bar(expressionStyle, x='Expression Style', y='Number', width=400, height=300)"
   ],
   "outputs": [
    {
     "output_type": "display_data",
     "data": {
      "application/vnd.plotly.v1+json": {
       "config": {
        "plotlyServerURL": "https://plot.ly"
       },
       "data": [
        {
         "alignmentgroup": "True",
         "hovertemplate": "Expression Style=%{x}<br>Number=%{y}<extra></extra>",
         "legendgroup": "",
         "marker": {
          "color": "#636efa"
         },
         "name": "",
         "offsetgroup": "",
         "orientation": "v",
         "showlegend": false,
         "textposition": "auto",
         "type": "bar",
         "x": [
          "NO",
          "BE",
          "VI",
          "SL",
          "HA",
          "DN"
         ],
         "xaxis": "x",
         "y": [
          249,
          54,
          42,
          30,
          21,
          15
         ],
         "yaxis": "y"
        }
       ],
       "layout": {
        "barmode": "relative",
        "height": 300,
        "legend": {
         "tracegroupgap": 0
        },
        "margin": {
         "t": 60
        },
        "template": {
         "data": {
          "bar": [
           {
            "error_x": {
             "color": "#2a3f5f"
            },
            "error_y": {
             "color": "#2a3f5f"
            },
            "marker": {
             "line": {
              "color": "#E5ECF6",
              "width": 0.5
             }
            },
            "type": "bar"
           }
          ],
          "barpolar": [
           {
            "marker": {
             "line": {
              "color": "#E5ECF6",
              "width": 0.5
             }
            },
            "type": "barpolar"
           }
          ],
          "carpet": [
           {
            "aaxis": {
             "endlinecolor": "#2a3f5f",
             "gridcolor": "white",
             "linecolor": "white",
             "minorgridcolor": "white",
             "startlinecolor": "#2a3f5f"
            },
            "baxis": {
             "endlinecolor": "#2a3f5f",
             "gridcolor": "white",
             "linecolor": "white",
             "minorgridcolor": "white",
             "startlinecolor": "#2a3f5f"
            },
            "type": "carpet"
           }
          ],
          "choropleth": [
           {
            "colorbar": {
             "outlinewidth": 0,
             "ticks": ""
            },
            "type": "choropleth"
           }
          ],
          "contour": [
           {
            "colorbar": {
             "outlinewidth": 0,
             "ticks": ""
            },
            "colorscale": [
             [
              0,
              "#0d0887"
             ],
             [
              0.1111111111111111,
              "#46039f"
             ],
             [
              0.2222222222222222,
              "#7201a8"
             ],
             [
              0.3333333333333333,
              "#9c179e"
             ],
             [
              0.4444444444444444,
              "#bd3786"
             ],
             [
              0.5555555555555556,
              "#d8576b"
             ],
             [
              0.6666666666666666,
              "#ed7953"
             ],
             [
              0.7777777777777778,
              "#fb9f3a"
             ],
             [
              0.8888888888888888,
              "#fdca26"
             ],
             [
              1,
              "#f0f921"
             ]
            ],
            "type": "contour"
           }
          ],
          "contourcarpet": [
           {
            "colorbar": {
             "outlinewidth": 0,
             "ticks": ""
            },
            "type": "contourcarpet"
           }
          ],
          "heatmap": [
           {
            "colorbar": {
             "outlinewidth": 0,
             "ticks": ""
            },
            "colorscale": [
             [
              0,
              "#0d0887"
             ],
             [
              0.1111111111111111,
              "#46039f"
             ],
             [
              0.2222222222222222,
              "#7201a8"
             ],
             [
              0.3333333333333333,
              "#9c179e"
             ],
             [
              0.4444444444444444,
              "#bd3786"
             ],
             [
              0.5555555555555556,
              "#d8576b"
             ],
             [
              0.6666666666666666,
              "#ed7953"
             ],
             [
              0.7777777777777778,
              "#fb9f3a"
             ],
             [
              0.8888888888888888,
              "#fdca26"
             ],
             [
              1,
              "#f0f921"
             ]
            ],
            "type": "heatmap"
           }
          ],
          "heatmapgl": [
           {
            "colorbar": {
             "outlinewidth": 0,
             "ticks": ""
            },
            "colorscale": [
             [
              0,
              "#0d0887"
             ],
             [
              0.1111111111111111,
              "#46039f"
             ],
             [
              0.2222222222222222,
              "#7201a8"
             ],
             [
              0.3333333333333333,
              "#9c179e"
             ],
             [
              0.4444444444444444,
              "#bd3786"
             ],
             [
              0.5555555555555556,
              "#d8576b"
             ],
             [
              0.6666666666666666,
              "#ed7953"
             ],
             [
              0.7777777777777778,
              "#fb9f3a"
             ],
             [
              0.8888888888888888,
              "#fdca26"
             ],
             [
              1,
              "#f0f921"
             ]
            ],
            "type": "heatmapgl"
           }
          ],
          "histogram": [
           {
            "marker": {
             "colorbar": {
              "outlinewidth": 0,
              "ticks": ""
             }
            },
            "type": "histogram"
           }
          ],
          "histogram2d": [
           {
            "colorbar": {
             "outlinewidth": 0,
             "ticks": ""
            },
            "colorscale": [
             [
              0,
              "#0d0887"
             ],
             [
              0.1111111111111111,
              "#46039f"
             ],
             [
              0.2222222222222222,
              "#7201a8"
             ],
             [
              0.3333333333333333,
              "#9c179e"
             ],
             [
              0.4444444444444444,
              "#bd3786"
             ],
             [
              0.5555555555555556,
              "#d8576b"
             ],
             [
              0.6666666666666666,
              "#ed7953"
             ],
             [
              0.7777777777777778,
              "#fb9f3a"
             ],
             [
              0.8888888888888888,
              "#fdca26"
             ],
             [
              1,
              "#f0f921"
             ]
            ],
            "type": "histogram2d"
           }
          ],
          "histogram2dcontour": [
           {
            "colorbar": {
             "outlinewidth": 0,
             "ticks": ""
            },
            "colorscale": [
             [
              0,
              "#0d0887"
             ],
             [
              0.1111111111111111,
              "#46039f"
             ],
             [
              0.2222222222222222,
              "#7201a8"
             ],
             [
              0.3333333333333333,
              "#9c179e"
             ],
             [
              0.4444444444444444,
              "#bd3786"
             ],
             [
              0.5555555555555556,
              "#d8576b"
             ],
             [
              0.6666666666666666,
              "#ed7953"
             ],
             [
              0.7777777777777778,
              "#fb9f3a"
             ],
             [
              0.8888888888888888,
              "#fdca26"
             ],
             [
              1,
              "#f0f921"
             ]
            ],
            "type": "histogram2dcontour"
           }
          ],
          "mesh3d": [
           {
            "colorbar": {
             "outlinewidth": 0,
             "ticks": ""
            },
            "type": "mesh3d"
           }
          ],
          "parcoords": [
           {
            "line": {
             "colorbar": {
              "outlinewidth": 0,
              "ticks": ""
             }
            },
            "type": "parcoords"
           }
          ],
          "pie": [
           {
            "automargin": true,
            "type": "pie"
           }
          ],
          "scatter": [
           {
            "marker": {
             "colorbar": {
              "outlinewidth": 0,
              "ticks": ""
             }
            },
            "type": "scatter"
           }
          ],
          "scatter3d": [
           {
            "line": {
             "colorbar": {
              "outlinewidth": 0,
              "ticks": ""
             }
            },
            "marker": {
             "colorbar": {
              "outlinewidth": 0,
              "ticks": ""
             }
            },
            "type": "scatter3d"
           }
          ],
          "scattercarpet": [
           {
            "marker": {
             "colorbar": {
              "outlinewidth": 0,
              "ticks": ""
             }
            },
            "type": "scattercarpet"
           }
          ],
          "scattergeo": [
           {
            "marker": {
             "colorbar": {
              "outlinewidth": 0,
              "ticks": ""
             }
            },
            "type": "scattergeo"
           }
          ],
          "scattergl": [
           {
            "marker": {
             "colorbar": {
              "outlinewidth": 0,
              "ticks": ""
             }
            },
            "type": "scattergl"
           }
          ],
          "scattermapbox": [
           {
            "marker": {
             "colorbar": {
              "outlinewidth": 0,
              "ticks": ""
             }
            },
            "type": "scattermapbox"
           }
          ],
          "scatterpolar": [
           {
            "marker": {
             "colorbar": {
              "outlinewidth": 0,
              "ticks": ""
             }
            },
            "type": "scatterpolar"
           }
          ],
          "scatterpolargl": [
           {
            "marker": {
             "colorbar": {
              "outlinewidth": 0,
              "ticks": ""
             }
            },
            "type": "scatterpolargl"
           }
          ],
          "scatterternary": [
           {
            "marker": {
             "colorbar": {
              "outlinewidth": 0,
              "ticks": ""
             }
            },
            "type": "scatterternary"
           }
          ],
          "surface": [
           {
            "colorbar": {
             "outlinewidth": 0,
             "ticks": ""
            },
            "colorscale": [
             [
              0,
              "#0d0887"
             ],
             [
              0.1111111111111111,
              "#46039f"
             ],
             [
              0.2222222222222222,
              "#7201a8"
             ],
             [
              0.3333333333333333,
              "#9c179e"
             ],
             [
              0.4444444444444444,
              "#bd3786"
             ],
             [
              0.5555555555555556,
              "#d8576b"
             ],
             [
              0.6666666666666666,
              "#ed7953"
             ],
             [
              0.7777777777777778,
              "#fb9f3a"
             ],
             [
              0.8888888888888888,
              "#fdca26"
             ],
             [
              1,
              "#f0f921"
             ]
            ],
            "type": "surface"
           }
          ],
          "table": [
           {
            "cells": {
             "fill": {
              "color": "#EBF0F8"
             },
             "line": {
              "color": "white"
             }
            },
            "header": {
             "fill": {
              "color": "#C8D4E3"
             },
             "line": {
              "color": "white"
             }
            },
            "type": "table"
           }
          ]
         },
         "layout": {
          "annotationdefaults": {
           "arrowcolor": "#2a3f5f",
           "arrowhead": 0,
           "arrowwidth": 1
          },
          "autotypenumbers": "strict",
          "coloraxis": {
           "colorbar": {
            "outlinewidth": 0,
            "ticks": ""
           }
          },
          "colorscale": {
           "diverging": [
            [
             0,
             "#8e0152"
            ],
            [
             0.1,
             "#c51b7d"
            ],
            [
             0.2,
             "#de77ae"
            ],
            [
             0.3,
             "#f1b6da"
            ],
            [
             0.4,
             "#fde0ef"
            ],
            [
             0.5,
             "#f7f7f7"
            ],
            [
             0.6,
             "#e6f5d0"
            ],
            [
             0.7,
             "#b8e186"
            ],
            [
             0.8,
             "#7fbc41"
            ],
            [
             0.9,
             "#4d9221"
            ],
            [
             1,
             "#276419"
            ]
           ],
           "sequential": [
            [
             0,
             "#0d0887"
            ],
            [
             0.1111111111111111,
             "#46039f"
            ],
            [
             0.2222222222222222,
             "#7201a8"
            ],
            [
             0.3333333333333333,
             "#9c179e"
            ],
            [
             0.4444444444444444,
             "#bd3786"
            ],
            [
             0.5555555555555556,
             "#d8576b"
            ],
            [
             0.6666666666666666,
             "#ed7953"
            ],
            [
             0.7777777777777778,
             "#fb9f3a"
            ],
            [
             0.8888888888888888,
             "#fdca26"
            ],
            [
             1,
             "#f0f921"
            ]
           ],
           "sequentialminus": [
            [
             0,
             "#0d0887"
            ],
            [
             0.1111111111111111,
             "#46039f"
            ],
            [
             0.2222222222222222,
             "#7201a8"
            ],
            [
             0.3333333333333333,
             "#9c179e"
            ],
            [
             0.4444444444444444,
             "#bd3786"
            ],
            [
             0.5555555555555556,
             "#d8576b"
            ],
            [
             0.6666666666666666,
             "#ed7953"
            ],
            [
             0.7777777777777778,
             "#fb9f3a"
            ],
            [
             0.8888888888888888,
             "#fdca26"
            ],
            [
             1,
             "#f0f921"
            ]
           ]
          },
          "colorway": [
           "#636efa",
           "#EF553B",
           "#00cc96",
           "#ab63fa",
           "#FFA15A",
           "#19d3f3",
           "#FF6692",
           "#B6E880",
           "#FF97FF",
           "#FECB52"
          ],
          "font": {
           "color": "#2a3f5f"
          },
          "geo": {
           "bgcolor": "white",
           "lakecolor": "white",
           "landcolor": "#E5ECF6",
           "showlakes": true,
           "showland": true,
           "subunitcolor": "white"
          },
          "hoverlabel": {
           "align": "left"
          },
          "hovermode": "closest",
          "mapbox": {
           "style": "light"
          },
          "paper_bgcolor": "white",
          "plot_bgcolor": "#E5ECF6",
          "polar": {
           "angularaxis": {
            "gridcolor": "white",
            "linecolor": "white",
            "ticks": ""
           },
           "bgcolor": "#E5ECF6",
           "radialaxis": {
            "gridcolor": "white",
            "linecolor": "white",
            "ticks": ""
           }
          },
          "scene": {
           "xaxis": {
            "backgroundcolor": "#E5ECF6",
            "gridcolor": "white",
            "gridwidth": 2,
            "linecolor": "white",
            "showbackground": true,
            "ticks": "",
            "zerolinecolor": "white"
           },
           "yaxis": {
            "backgroundcolor": "#E5ECF6",
            "gridcolor": "white",
            "gridwidth": 2,
            "linecolor": "white",
            "showbackground": true,
            "ticks": "",
            "zerolinecolor": "white"
           },
           "zaxis": {
            "backgroundcolor": "#E5ECF6",
            "gridcolor": "white",
            "gridwidth": 2,
            "linecolor": "white",
            "showbackground": true,
            "ticks": "",
            "zerolinecolor": "white"
           }
          },
          "shapedefaults": {
           "line": {
            "color": "#2a3f5f"
           }
          },
          "ternary": {
           "aaxis": {
            "gridcolor": "white",
            "linecolor": "white",
            "ticks": ""
           },
           "baxis": {
            "gridcolor": "white",
            "linecolor": "white",
            "ticks": ""
           },
           "bgcolor": "#E5ECF6",
           "caxis": {
            "gridcolor": "white",
            "linecolor": "white",
            "ticks": ""
           }
          },
          "title": {
           "x": 0.05
          },
          "xaxis": {
           "automargin": true,
           "gridcolor": "white",
           "linecolor": "white",
           "ticks": "",
           "title": {
            "standoff": 15
           },
           "zerolinecolor": "white",
           "zerolinewidth": 2
          },
          "yaxis": {
           "automargin": true,
           "gridcolor": "white",
           "linecolor": "white",
           "ticks": "",
           "title": {
            "standoff": 15
           },
           "zerolinecolor": "white",
           "zerolinewidth": 2
          }
         }
        },
        "width": 400,
        "xaxis": {
         "anchor": "y",
         "domain": [
          0,
          1
         ],
         "title": {
          "text": "Expression Style"
         }
        },
        "yaxis": {
         "anchor": "x",
         "domain": [
          0,
          1
         ],
         "title": {
          "text": "Number"
         }
        }
       }
      }
     },
     "metadata": {}
    }
   ],
   "metadata": {}
  },
  {
   "cell_type": "code",
   "execution_count": 99,
   "source": [
    "def get_features(path, start_time, duration, sr=22050, n_mfcc=13, mode='mirror', n_fft=2048):\n",
    "    signal, sr = librosa.load(path, sr=sr, offset=start_time, duration=duration)\n",
    "\n",
    "    mfcc = librosa.feature.mfcc(y=signal, sr=sr, n_mfcc=n_mfcc, n_fft=n_fft)\n",
    "    delta_mfcc = librosa.feature.delta(mfcc, mode=mode)\n",
    "    delta2_mfcc = librosa.feature.delta(mfcc, mode=mode, order=2)\n",
    "\n",
    "    mfccs = np.hstack((\n",
    "                    np.mean(mfcc, axis=1),\n",
    "                    np.std(mfcc, axis=1),\n",
    "                    skew(mfcc, axis=1),\n",
    "                    kurtosis(mfcc, axis=1)\n",
    "                ))\n",
    "    delta_mfccs = np.hstack((\n",
    "                    np.mean(delta_mfcc, axis=1),\n",
    "                    np.std(delta_mfcc, axis=1),\n",
    "                    skew(delta_mfcc, axis=1),\n",
    "                    kurtosis(delta_mfcc, axis=1)\n",
    "                ))\n",
    "    delta2_mfccs = np.hstack((\n",
    "                    np.mean(delta2_mfcc, axis=1),\n",
    "                    np.std(delta2_mfcc, axis=1),\n",
    "                    skew(delta2_mfcc, axis=1),\n",
    "                    kurtosis(delta2_mfcc, axis=1)\n",
    "                ))\n",
    "\n",
    "    extracted_features = np.hstack((mfccs, delta_mfccs, delta2_mfccs))\n",
    "    return extracted_features"
   ],
   "outputs": [],
   "metadata": {}
  },
  {
   "cell_type": "code",
   "execution_count": 100,
   "source": [
    "data = []\n",
    "for i in tqdm(range(dataset.shape[0])):\n",
    "    filename = dataset['audioFileName'][i]\n",
    "    expression_style = dataset['expressionStyle'][i]\n",
    "    excitation_style = dataset['excitationStyle'][i]\n",
    "    onset = dataset['onsetSec'][i]\n",
    "    duration = dataset['duration'][i]\n",
    "    audio_path = os.path.join(AUDIO_PATH_ROOT, filename)\n",
    "\n",
    "    if duration >= 0.1:\n",
    "        features = get_features(audio_path, onset, duration)\n",
    "        features = np.append(features, [expression_style, excitation_style, onset, duration, filename])\n",
    "        data.append(features)"
   ],
   "outputs": [
    {
     "output_type": "stream",
     "name": "stderr",
     "text": [
      "100%|██████████| 1572/1572 [03:27<00:00,  7.56it/s]\n"
     ]
    }
   ],
   "metadata": {}
  },
  {
   "cell_type": "code",
   "execution_count": 104,
   "source": [
    "columns = []\n",
    "names = ['mfcc', 'delta_mfcc', 'delta2_mfcc']\n",
    "stats = ['mean', 'std', 'skew', 'kurtosis']\n",
    "file_desc = ['expression_style', 'excitation_style', 'start_time', 'duration', 'filename']\n",
    "\n",
    "for name in names:\n",
    "    for stat in stats:\n",
    "        for i in range(13):\n",
    "            col = f'{stat}_{name}_{i+1}'\n",
    "            columns = np.append(columns, col)\n",
    "\n",
    "columns = np.append(columns, file_desc)\n",
    "my_dataset = pd.DataFrame(data, columns=columns)\n",
    "my_dataset['style'] = my_dataset['expression_style'] + '-' + my_dataset['excitation_style']\n",
    "my_dataset"
   ],
   "outputs": [
    {
     "output_type": "execute_result",
     "data": {
      "text/plain": [
       "     mean_mfcc_1 mean_mfcc_2 mean_mfcc_3 mean_mfcc_4 mean_mfcc_5 mean_mfcc_6  \\\n",
       "0      -373.5208    262.5744   7.9024234   -34.80873    9.961049    -8.05357   \n",
       "1      -393.7246   245.06755   31.624142  -31.783554   0.7108597   4.8498893   \n",
       "2      -398.9016   239.59203   20.337126   -26.77444   2.9335093   -8.322906   \n",
       "3     -420.00146   229.10434   22.062202   -32.40053   4.5379567   2.5234015   \n",
       "4      -396.9219    223.9797   22.618193   -27.90899  -2.7065167  -10.108872   \n",
       "...          ...         ...         ...         ...         ...         ...   \n",
       "1543   -606.9015    83.29488   22.430635    7.277141     1.10458   -3.615564   \n",
       "1544   -606.1899   91.671684   16.500425  12.4722805     9.33945  -4.2222204   \n",
       "1545   -613.2374    80.50335   15.800746    9.415098   2.4714391    -11.1929   \n",
       "1546   -584.2645    98.81721   0.6656316   1.0583072    6.641749   -3.675886   \n",
       "1547   -688.0753     89.8494    16.20826   10.253949    6.927589  -2.8381982   \n",
       "\n",
       "      mean_mfcc_7  mean_mfcc_8 mean_mfcc_9 mean_mfcc_10  ...  \\\n",
       "0      -15.143747     14.34315   2.7225041    -38.14924  ...   \n",
       "1      -2.2053814    6.3326335  -5.7031603   -35.125965  ...   \n",
       "2      -12.972422     9.559001   2.3934262   -30.408892  ...   \n",
       "3      -12.783854  -0.54324985   -6.998987     -36.2475  ...   \n",
       "4       -16.10841    3.1485534   1.6159302   -23.154861  ...   \n",
       "...           ...          ...         ...          ...  ...   \n",
       "1543   -2.8690424   -2.9695876  -4.2643905    -6.809227  ...   \n",
       "1544    -9.818228   -5.5479083     -5.8694   -5.5707326  ...   \n",
       "1545  -15.8869505    -10.32773  -11.864934   -10.859158  ...   \n",
       "1546   -7.5781255    -8.488941  -7.3033667    -3.455103  ...   \n",
       "1547    -5.095361    -9.433824  -11.499373    -8.456965  ...   \n",
       "\n",
       "     kurtosis_delta2_mfcc_10 kurtosis_delta2_mfcc_11 kurtosis_delta2_mfcc_12  \\\n",
       "0                  1.8095074               1.1381006               1.9208298   \n",
       "1                  2.1845546               1.1553125               1.1351824   \n",
       "2                  1.2832727               0.7862222             -0.06454539   \n",
       "3                  1.6813421               1.0357203                0.623852   \n",
       "4                 0.19434929               0.6151891              0.47414136   \n",
       "...                      ...                     ...                     ...   \n",
       "1543               0.8957958               1.2389703               1.2796998   \n",
       "1544             -0.29434013             0.017796993               3.5983968   \n",
       "1545               2.8008027               0.3815589              0.46684217   \n",
       "1546               0.3278625              0.57649946             -0.57495594   \n",
       "1547             -0.44660068               0.1126523              -0.3989632   \n",
       "\n",
       "     kurtosis_delta2_mfcc_13 expression_style excitation_style start_time  \\\n",
       "0                 -1.0720413               NO               PK      1.579   \n",
       "1                   4.058322               NO               PK     2.6026   \n",
       "2                 0.64522743               NO               PK     3.6949   \n",
       "3                  2.8943124               NO               PK     4.7456   \n",
       "4                -0.09984326               NO               PK     5.8514   \n",
       "...                      ...              ...              ...        ...   \n",
       "1543             0.071035385               VI               PK    43.0498   \n",
       "1544               1.8744073               VI               PK    49.6065   \n",
       "1545             0.017703056               VI               PK     55.545   \n",
       "1546               2.4794607               VI               PK    62.3891   \n",
       "1547               0.3602767               VI               PK    67.4743   \n",
       "\n",
       "                duration                    filename  style  \n",
       "0     0.6618999999999999          AR_A_fret_0-20.wav  NO-PK  \n",
       "1     0.7040000000000002          AR_A_fret_0-20.wav  NO-PK  \n",
       "2     0.7021000000000002          AR_A_fret_0-20.wav  NO-PK  \n",
       "3     0.7390000000000008          AR_A_fret_0-20.wav  NO-PK  \n",
       "4     0.6520999999999999          AR_A_fret_0-20.wav  NO-PK  \n",
       "...                  ...                         ...    ...  \n",
       "1543   5.579100000000004  LP_V_vibrato_slow-fast.wav  VI-PK  \n",
       "1544   5.174200000000006  LP_V_vibrato_slow-fast.wav  VI-PK  \n",
       "1545   5.851199999999999  LP_V_vibrato_slow-fast.wav  VI-PK  \n",
       "1546   4.282200000000003  LP_V_vibrato_slow-fast.wav  VI-PK  \n",
       "1547   6.370199999999997  LP_V_vibrato_slow-fast.wav  VI-PK  \n",
       "\n",
       "[1548 rows x 162 columns]"
      ],
      "text/html": [
       "<div>\n",
       "<style scoped>\n",
       "    .dataframe tbody tr th:only-of-type {\n",
       "        vertical-align: middle;\n",
       "    }\n",
       "\n",
       "    .dataframe tbody tr th {\n",
       "        vertical-align: top;\n",
       "    }\n",
       "\n",
       "    .dataframe thead th {\n",
       "        text-align: right;\n",
       "    }\n",
       "</style>\n",
       "<table border=\"1\" class=\"dataframe\">\n",
       "  <thead>\n",
       "    <tr style=\"text-align: right;\">\n",
       "      <th></th>\n",
       "      <th>mean_mfcc_1</th>\n",
       "      <th>mean_mfcc_2</th>\n",
       "      <th>mean_mfcc_3</th>\n",
       "      <th>mean_mfcc_4</th>\n",
       "      <th>mean_mfcc_5</th>\n",
       "      <th>mean_mfcc_6</th>\n",
       "      <th>mean_mfcc_7</th>\n",
       "      <th>mean_mfcc_8</th>\n",
       "      <th>mean_mfcc_9</th>\n",
       "      <th>mean_mfcc_10</th>\n",
       "      <th>...</th>\n",
       "      <th>kurtosis_delta2_mfcc_10</th>\n",
       "      <th>kurtosis_delta2_mfcc_11</th>\n",
       "      <th>kurtosis_delta2_mfcc_12</th>\n",
       "      <th>kurtosis_delta2_mfcc_13</th>\n",
       "      <th>expression_style</th>\n",
       "      <th>excitation_style</th>\n",
       "      <th>start_time</th>\n",
       "      <th>duration</th>\n",
       "      <th>filename</th>\n",
       "      <th>style</th>\n",
       "    </tr>\n",
       "  </thead>\n",
       "  <tbody>\n",
       "    <tr>\n",
       "      <th>0</th>\n",
       "      <td>-373.5208</td>\n",
       "      <td>262.5744</td>\n",
       "      <td>7.9024234</td>\n",
       "      <td>-34.80873</td>\n",
       "      <td>9.961049</td>\n",
       "      <td>-8.05357</td>\n",
       "      <td>-15.143747</td>\n",
       "      <td>14.34315</td>\n",
       "      <td>2.7225041</td>\n",
       "      <td>-38.14924</td>\n",
       "      <td>...</td>\n",
       "      <td>1.8095074</td>\n",
       "      <td>1.1381006</td>\n",
       "      <td>1.9208298</td>\n",
       "      <td>-1.0720413</td>\n",
       "      <td>NO</td>\n",
       "      <td>PK</td>\n",
       "      <td>1.579</td>\n",
       "      <td>0.6618999999999999</td>\n",
       "      <td>AR_A_fret_0-20.wav</td>\n",
       "      <td>NO-PK</td>\n",
       "    </tr>\n",
       "    <tr>\n",
       "      <th>1</th>\n",
       "      <td>-393.7246</td>\n",
       "      <td>245.06755</td>\n",
       "      <td>31.624142</td>\n",
       "      <td>-31.783554</td>\n",
       "      <td>0.7108597</td>\n",
       "      <td>4.8498893</td>\n",
       "      <td>-2.2053814</td>\n",
       "      <td>6.3326335</td>\n",
       "      <td>-5.7031603</td>\n",
       "      <td>-35.125965</td>\n",
       "      <td>...</td>\n",
       "      <td>2.1845546</td>\n",
       "      <td>1.1553125</td>\n",
       "      <td>1.1351824</td>\n",
       "      <td>4.058322</td>\n",
       "      <td>NO</td>\n",
       "      <td>PK</td>\n",
       "      <td>2.6026</td>\n",
       "      <td>0.7040000000000002</td>\n",
       "      <td>AR_A_fret_0-20.wav</td>\n",
       "      <td>NO-PK</td>\n",
       "    </tr>\n",
       "    <tr>\n",
       "      <th>2</th>\n",
       "      <td>-398.9016</td>\n",
       "      <td>239.59203</td>\n",
       "      <td>20.337126</td>\n",
       "      <td>-26.77444</td>\n",
       "      <td>2.9335093</td>\n",
       "      <td>-8.322906</td>\n",
       "      <td>-12.972422</td>\n",
       "      <td>9.559001</td>\n",
       "      <td>2.3934262</td>\n",
       "      <td>-30.408892</td>\n",
       "      <td>...</td>\n",
       "      <td>1.2832727</td>\n",
       "      <td>0.7862222</td>\n",
       "      <td>-0.06454539</td>\n",
       "      <td>0.64522743</td>\n",
       "      <td>NO</td>\n",
       "      <td>PK</td>\n",
       "      <td>3.6949</td>\n",
       "      <td>0.7021000000000002</td>\n",
       "      <td>AR_A_fret_0-20.wav</td>\n",
       "      <td>NO-PK</td>\n",
       "    </tr>\n",
       "    <tr>\n",
       "      <th>3</th>\n",
       "      <td>-420.00146</td>\n",
       "      <td>229.10434</td>\n",
       "      <td>22.062202</td>\n",
       "      <td>-32.40053</td>\n",
       "      <td>4.5379567</td>\n",
       "      <td>2.5234015</td>\n",
       "      <td>-12.783854</td>\n",
       "      <td>-0.54324985</td>\n",
       "      <td>-6.998987</td>\n",
       "      <td>-36.2475</td>\n",
       "      <td>...</td>\n",
       "      <td>1.6813421</td>\n",
       "      <td>1.0357203</td>\n",
       "      <td>0.623852</td>\n",
       "      <td>2.8943124</td>\n",
       "      <td>NO</td>\n",
       "      <td>PK</td>\n",
       "      <td>4.7456</td>\n",
       "      <td>0.7390000000000008</td>\n",
       "      <td>AR_A_fret_0-20.wav</td>\n",
       "      <td>NO-PK</td>\n",
       "    </tr>\n",
       "    <tr>\n",
       "      <th>4</th>\n",
       "      <td>-396.9219</td>\n",
       "      <td>223.9797</td>\n",
       "      <td>22.618193</td>\n",
       "      <td>-27.90899</td>\n",
       "      <td>-2.7065167</td>\n",
       "      <td>-10.108872</td>\n",
       "      <td>-16.10841</td>\n",
       "      <td>3.1485534</td>\n",
       "      <td>1.6159302</td>\n",
       "      <td>-23.154861</td>\n",
       "      <td>...</td>\n",
       "      <td>0.19434929</td>\n",
       "      <td>0.6151891</td>\n",
       "      <td>0.47414136</td>\n",
       "      <td>-0.09984326</td>\n",
       "      <td>NO</td>\n",
       "      <td>PK</td>\n",
       "      <td>5.8514</td>\n",
       "      <td>0.6520999999999999</td>\n",
       "      <td>AR_A_fret_0-20.wav</td>\n",
       "      <td>NO-PK</td>\n",
       "    </tr>\n",
       "    <tr>\n",
       "      <th>...</th>\n",
       "      <td>...</td>\n",
       "      <td>...</td>\n",
       "      <td>...</td>\n",
       "      <td>...</td>\n",
       "      <td>...</td>\n",
       "      <td>...</td>\n",
       "      <td>...</td>\n",
       "      <td>...</td>\n",
       "      <td>...</td>\n",
       "      <td>...</td>\n",
       "      <td>...</td>\n",
       "      <td>...</td>\n",
       "      <td>...</td>\n",
       "      <td>...</td>\n",
       "      <td>...</td>\n",
       "      <td>...</td>\n",
       "      <td>...</td>\n",
       "      <td>...</td>\n",
       "      <td>...</td>\n",
       "      <td>...</td>\n",
       "      <td>...</td>\n",
       "    </tr>\n",
       "    <tr>\n",
       "      <th>1543</th>\n",
       "      <td>-606.9015</td>\n",
       "      <td>83.29488</td>\n",
       "      <td>22.430635</td>\n",
       "      <td>7.277141</td>\n",
       "      <td>1.10458</td>\n",
       "      <td>-3.615564</td>\n",
       "      <td>-2.8690424</td>\n",
       "      <td>-2.9695876</td>\n",
       "      <td>-4.2643905</td>\n",
       "      <td>-6.809227</td>\n",
       "      <td>...</td>\n",
       "      <td>0.8957958</td>\n",
       "      <td>1.2389703</td>\n",
       "      <td>1.2796998</td>\n",
       "      <td>0.071035385</td>\n",
       "      <td>VI</td>\n",
       "      <td>PK</td>\n",
       "      <td>43.0498</td>\n",
       "      <td>5.579100000000004</td>\n",
       "      <td>LP_V_vibrato_slow-fast.wav</td>\n",
       "      <td>VI-PK</td>\n",
       "    </tr>\n",
       "    <tr>\n",
       "      <th>1544</th>\n",
       "      <td>-606.1899</td>\n",
       "      <td>91.671684</td>\n",
       "      <td>16.500425</td>\n",
       "      <td>12.4722805</td>\n",
       "      <td>9.33945</td>\n",
       "      <td>-4.2222204</td>\n",
       "      <td>-9.818228</td>\n",
       "      <td>-5.5479083</td>\n",
       "      <td>-5.8694</td>\n",
       "      <td>-5.5707326</td>\n",
       "      <td>...</td>\n",
       "      <td>-0.29434013</td>\n",
       "      <td>0.017796993</td>\n",
       "      <td>3.5983968</td>\n",
       "      <td>1.8744073</td>\n",
       "      <td>VI</td>\n",
       "      <td>PK</td>\n",
       "      <td>49.6065</td>\n",
       "      <td>5.174200000000006</td>\n",
       "      <td>LP_V_vibrato_slow-fast.wav</td>\n",
       "      <td>VI-PK</td>\n",
       "    </tr>\n",
       "    <tr>\n",
       "      <th>1545</th>\n",
       "      <td>-613.2374</td>\n",
       "      <td>80.50335</td>\n",
       "      <td>15.800746</td>\n",
       "      <td>9.415098</td>\n",
       "      <td>2.4714391</td>\n",
       "      <td>-11.1929</td>\n",
       "      <td>-15.8869505</td>\n",
       "      <td>-10.32773</td>\n",
       "      <td>-11.864934</td>\n",
       "      <td>-10.859158</td>\n",
       "      <td>...</td>\n",
       "      <td>2.8008027</td>\n",
       "      <td>0.3815589</td>\n",
       "      <td>0.46684217</td>\n",
       "      <td>0.017703056</td>\n",
       "      <td>VI</td>\n",
       "      <td>PK</td>\n",
       "      <td>55.545</td>\n",
       "      <td>5.851199999999999</td>\n",
       "      <td>LP_V_vibrato_slow-fast.wav</td>\n",
       "      <td>VI-PK</td>\n",
       "    </tr>\n",
       "    <tr>\n",
       "      <th>1546</th>\n",
       "      <td>-584.2645</td>\n",
       "      <td>98.81721</td>\n",
       "      <td>0.6656316</td>\n",
       "      <td>1.0583072</td>\n",
       "      <td>6.641749</td>\n",
       "      <td>-3.675886</td>\n",
       "      <td>-7.5781255</td>\n",
       "      <td>-8.488941</td>\n",
       "      <td>-7.3033667</td>\n",
       "      <td>-3.455103</td>\n",
       "      <td>...</td>\n",
       "      <td>0.3278625</td>\n",
       "      <td>0.57649946</td>\n",
       "      <td>-0.57495594</td>\n",
       "      <td>2.4794607</td>\n",
       "      <td>VI</td>\n",
       "      <td>PK</td>\n",
       "      <td>62.3891</td>\n",
       "      <td>4.282200000000003</td>\n",
       "      <td>LP_V_vibrato_slow-fast.wav</td>\n",
       "      <td>VI-PK</td>\n",
       "    </tr>\n",
       "    <tr>\n",
       "      <th>1547</th>\n",
       "      <td>-688.0753</td>\n",
       "      <td>89.8494</td>\n",
       "      <td>16.20826</td>\n",
       "      <td>10.253949</td>\n",
       "      <td>6.927589</td>\n",
       "      <td>-2.8381982</td>\n",
       "      <td>-5.095361</td>\n",
       "      <td>-9.433824</td>\n",
       "      <td>-11.499373</td>\n",
       "      <td>-8.456965</td>\n",
       "      <td>...</td>\n",
       "      <td>-0.44660068</td>\n",
       "      <td>0.1126523</td>\n",
       "      <td>-0.3989632</td>\n",
       "      <td>0.3602767</td>\n",
       "      <td>VI</td>\n",
       "      <td>PK</td>\n",
       "      <td>67.4743</td>\n",
       "      <td>6.370199999999997</td>\n",
       "      <td>LP_V_vibrato_slow-fast.wav</td>\n",
       "      <td>VI-PK</td>\n",
       "    </tr>\n",
       "  </tbody>\n",
       "</table>\n",
       "<p>1548 rows × 162 columns</p>\n",
       "</div>"
      ]
     },
     "metadata": {},
     "execution_count": 104
    }
   ],
   "metadata": {}
  },
  {
   "cell_type": "code",
   "execution_count": 108,
   "source": [
    "my_dataset.to_csv('../data/idmt-smt-guitar2.csv', index=False)"
   ],
   "outputs": [],
   "metadata": {}
  },
  {
   "cell_type": "code",
   "execution_count": 107,
   "source": [
    "from sklearn.svm import SVC\n",
    "from sklearn.model_selection import train_test_split, StratifiedShuffleSplit\n",
    "from sklearn.preprocessing import MinMaxScaler\n",
    "from sklearn.metrics import accuracy_score, plot_confusion_matrix, matthews_corrcoef, classification_report\n",
    "import matplotlib.pyplot as plt\n",
    "\n",
    "df = my_dataset\n",
    "df['style'] = df['expression_style'] + '-' + df['excitation_style']\n",
    "X = df.iloc[:,:156]\n",
    "y = df['expression_style']\n",
    "y_sub = df['style']\n",
    "\n",
    "X_train, X_test, y_train, y_test = train_test_split(X, y, train_size=0.8, random_state=42, stratify=y_sub)\n",
    "\n",
    "scaler = MinMaxScaler(feature_range=(-1,1))\n",
    "X_train = scaler.fit_transform(X_train)\n",
    "X_test = scaler.transform(X_test)\n",
    "\n",
    "c=3\n",
    "s=3\n",
    "clf = SVC(kernel='rbf', C=2**c, gamma=1/(2*(2**s)**2), decision_function_shape='ovo')\n",
    "clf.fit(X_train, y_train)\n",
    "y_pred = clf.predict(X_test)\n",
    "print(accuracy_score(y_test, y_pred))\n",
    "print(matthews_corrcoef(y_test, y_pred))\n",
    "print(classification_report(y_test, y_pred))\n",
    "plot_confusion_matrix(clf, X_test, y_test)"
   ],
   "outputs": [
    {
     "output_type": "stream",
     "name": "stdout",
     "text": [
      "0.8838709677419355\n",
      "0.8145129222494223\n",
      "              precision    recall  f1-score   support\n",
      "\n",
      "          BE       0.83      0.62      0.71        24\n",
      "          DN       1.00      1.00      1.00        45\n",
      "          HA       1.00      0.96      0.98        26\n",
      "          NO       0.86      0.99      0.92       175\n",
      "          SL       0.67      0.25      0.36        16\n",
      "          VI       0.79      0.46      0.58        24\n",
      "\n",
      "    accuracy                           0.88       310\n",
      "   macro avg       0.86      0.71      0.76       310\n",
      "weighted avg       0.88      0.88      0.87       310\n",
      "\n"
     ]
    },
    {
     "output_type": "execute_result",
     "data": {
      "text/plain": [
       "<sklearn.metrics._plot.confusion_matrix.ConfusionMatrixDisplay at 0x7f210bb6c5e0>"
      ]
     },
     "metadata": {},
     "execution_count": 107
    },
    {
     "output_type": "display_data",
     "data": {
      "text/plain": [
       "<Figure size 432x288 with 2 Axes>"
      ],
      "image/png": "[encoded data removed]"
     },
     "metadata": {
      "needs_background": "light"
     }
    }
   ],
   "metadata": {}
  }
 ]
}