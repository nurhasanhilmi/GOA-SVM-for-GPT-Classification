{
 "cells": [
  {
   "cell_type": "markdown",
   "metadata": {
    "collapsed": true,
    "pycharm": {
     "name": "#%% md\n"
    }
   },
   "source": [
    "# Audio Feature Extraction"
   ]
  },
  {
   "cell_type": "markdown",
   "metadata": {},
   "source": [
    "## 1. Importing Library"
   ]
  },
  {
   "cell_type": "code",
   "execution_count": 1,
   "metadata": {
    "pycharm": {
     "name": "#%%\n"
    }
   },
   "outputs": [],
   "source": [
    "import os\n",
    "import pandas as pd\n",
    "import numpy as np\n",
    "from scipy.stats import skew, kurtosis\n",
    "import librosa"
   ]
  },
  {
   "cell_type": "markdown",
   "metadata": {},
   "source": [
    "## 2. Define function for extraction"
   ]
  },
  {
   "cell_type": "code",
   "execution_count": 2,
   "metadata": {
    "pycharm": {
     "name": "#%%\n"
    }
   },
   "outputs": [],
   "source": [
    "def get_features(path):\n",
    "\n",
    "    signal, sr = librosa.load(path)\n",
    "\n",
    "    mfcc = librosa.feature.mfcc(y=signal, sr=sr, n_mfcc=13)\n",
    "    delta_mfcc = librosa.feature.delta(mfcc)\n",
    "    delta2_mfcc = librosa.feature.delta(mfcc, order=2)\n",
    "\n",
    "    mfccs = np.hstack((\n",
    "                    np.mean(mfcc, axis=1),\n",
    "                    np.std(mfcc, axis=1),\n",
    "                    np.max(mfcc, axis=1),\n",
    "                    np.median(mfcc, axis=1),\n",
    "                    np.min(mfcc, axis=1),\n",
    "                    skew(mfcc, axis=1),\n",
    "                    kurtosis(mfcc, axis=1)\n",
    "                ))\n",
    "    delta_mfccs = np.hstack((\n",
    "                    np.mean(delta_mfcc, axis=1),\n",
    "                    np.std(delta_mfcc, axis=1),\n",
    "                    np.max(delta_mfcc, axis=1),\n",
    "                    np.median(delta_mfcc, axis=1),\n",
    "                    np.min(delta_mfcc, axis=1),\n",
    "                    skew(delta_mfcc, axis=1),\n",
    "                    kurtosis(delta_mfcc, axis=1)\n",
    "                ))\n",
    "    delta2_mfccs = np.hstack((\n",
    "                    np.mean(delta2_mfcc, axis=1),\n",
    "                    np.std(delta2_mfcc, axis=1),\n",
    "                    np.max(delta2_mfcc, axis=1),\n",
    "                    np.median(delta2_mfcc, axis=1),\n",
    "                    np.min(delta2_mfcc, axis=1),\n",
    "                    skew(delta2_mfcc, axis=1),\n",
    "                    kurtosis(delta2_mfcc, axis=1)\n",
    "                ))\n",
    "\n",
    "    extracted_features = np.hstack((mfccs, delta_mfccs, delta2_mfccs))\n",
    "    return extracted_features"
   ]
  },
  {
   "cell_type": "markdown",
   "metadata": {},
   "source": [
    "## 3. Get Audio Features for GPT Audio Data"
   ]
  },
  {
   "cell_type": "code",
   "execution_count": 3,
   "metadata": {
    "pycharm": {
     "name": "#%%\n"
    }
   },
   "outputs": [
    {
     "name": "stdout",
     "output_type": "stream",
     "text": [
      "Done!!!\n"
     ]
    }
   ],
   "source": [
    "# dataset_path = '../data/wav'\n",
    "dataset_path = '../data/wav_split'\n",
    "\n",
    "data = []\n",
    "for i, (root, _, files) in enumerate(os.walk(dataset_path)):\n",
    "    if root is not dataset_path:\n",
    "        if not files:\n",
    "            tone_type = root.split('/')[-1]\n",
    "            # print(f'TONE TYPE: {tone_type}')\n",
    "        else:\n",
    "            subtechnique = root.split('/')[-1]\n",
    "            technique = subtechnique.split('_')[0]\n",
    "            # print(f'TECHNIQUE: {technique}')\n",
    "            # print(f'SUBTECHNIQUE: {subtechnique}')\n",
    "            for file in files:\n",
    "                file_path = os.path.join(root, file)\n",
    "                features = get_features(file_path)\n",
    "                features = np.append(features, [tone_type, technique, subtechnique, file_path])\n",
    "                data.append(features)\n",
    "print('Done!!!')"
   ]
  },
  {
   "cell_type": "markdown",
   "metadata": {},
   "source": [
    "## 4. Define Columns Name to Create Dataframe"
   ]
  },
  {
   "cell_type": "code",
   "execution_count": 4,
   "metadata": {
    "pycharm": {
     "name": "#%%\n"
    }
   },
   "outputs": [
    {
     "data": {
      "text/plain": [
       "(277,)"
      ]
     },
     "execution_count": 4,
     "metadata": {},
     "output_type": "execute_result"
    }
   ],
   "source": [
    "columns = []\n",
    "names = ['mfcc', 'delta_mfcc', 'delta2_mfcc']\n",
    "stats = ['mean', 'std', 'max', 'median', 'min', 'skew', 'kurtosis']\n",
    "file_desc = ['tone_type', 'technique', 'sub_technique', 'file_path']\n",
    "\n",
    "for name in names:\n",
    "    for stat in stats:\n",
    "        for i in range(13):\n",
    "            col = f'{stat}_{name}_{i+1}'\n",
    "            columns = np.append(columns, col)\n",
    "\n",
    "columns = np.append(columns, file_desc)\n",
    "columns.shape"
   ]
  },
  {
   "cell_type": "markdown",
   "metadata": {},
   "source": [
    "## 5. Convert Extracted Feature (List) to Dataframe"
   ]
  },
  {
   "cell_type": "code",
   "execution_count": 5,
   "metadata": {
    "pycharm": {
     "name": "#%%\n"
    }
   },
   "outputs": [
    {
     "data": {
      "text/plain": [
       "(7657, 277)"
      ]
     },
     "execution_count": 5,
     "metadata": {},
     "output_type": "execute_result"
    }
   ],
   "source": [
    "df = pd.DataFrame(data, columns=columns)\n",
    "df.shape"
   ]
  },
  {
   "cell_type": "markdown",
   "metadata": {
    "pycharm": {
     "name": "#%% md\n"
    }
   },
   "source": [
    "## 6. Save Dataframe to CSV File"
   ]
  },
  {
   "cell_type": "code",
   "execution_count": 6,
   "metadata": {
    "pycharm": {
     "name": "#%%\n"
    }
   },
   "outputs": [],
   "source": [
    "# df.to_csv('../data/gpt.csv', index=False)\n",
    "df.to_csv('../data/gpt_split.csv', index=False)"
   ]
  },
  {
   "cell_type": "markdown",
   "metadata": {},
   "source": [
    "## 7. Load CSV File"
   ]
  },
  {
   "cell_type": "code",
   "execution_count": 7,
   "metadata": {
    "pycharm": {
     "name": "#%%\n"
    },
    "scrolled": false
   },
   "outputs": [
    {
     "data": {
      "text/html": [
       "<div>\n",
       "<style scoped>\n",
       "    .dataframe tbody tr th:only-of-type {\n",
       "        vertical-align: middle;\n",
       "    }\n",
       "\n",
       "    .dataframe tbody tr th {\n",
       "        vertical-align: top;\n",
       "    }\n",
       "\n",
       "    .dataframe thead th {\n",
       "        text-align: right;\n",
       "    }\n",
       "</style>\n",
       "<table border=\"1\" class=\"dataframe\">\n",
       "  <thead>\n",
       "    <tr style=\"text-align: right;\">\n",
       "      <th></th>\n",
       "      <th>mean_mfcc_1</th>\n",
       "      <th>mean_mfcc_2</th>\n",
       "      <th>mean_mfcc_3</th>\n",
       "      <th>mean_mfcc_4</th>\n",
       "      <th>mean_mfcc_5</th>\n",
       "      <th>mean_mfcc_6</th>\n",
       "      <th>mean_mfcc_7</th>\n",
       "      <th>mean_mfcc_8</th>\n",
       "      <th>mean_mfcc_9</th>\n",
       "      <th>mean_mfcc_10</th>\n",
       "      <th>...</th>\n",
       "      <th>kurtosis_delta2_mfcc_8</th>\n",
       "      <th>kurtosis_delta2_mfcc_9</th>\n",
       "      <th>kurtosis_delta2_mfcc_10</th>\n",
       "      <th>kurtosis_delta2_mfcc_11</th>\n",
       "      <th>kurtosis_delta2_mfcc_12</th>\n",
       "      <th>kurtosis_delta2_mfcc_13</th>\n",
       "      <th>tone_type</th>\n",
       "      <th>technique</th>\n",
       "      <th>sub_technique</th>\n",
       "      <th>file_path</th>\n",
       "    </tr>\n",
       "  </thead>\n",
       "  <tbody>\n",
       "    <tr>\n",
       "      <th>0</th>\n",
       "      <td>-462.77118</td>\n",
       "      <td>126.876144</td>\n",
       "      <td>-30.820320</td>\n",
       "      <td>21.706020</td>\n",
       "      <td>16.523281</td>\n",
       "      <td>-25.490458</td>\n",
       "      <td>-13.736227</td>\n",
       "      <td>-27.322334</td>\n",
       "      <td>-13.508459</td>\n",
       "      <td>-7.359414</td>\n",
       "      <td>...</td>\n",
       "      <td>-0.550029</td>\n",
       "      <td>-1.649426</td>\n",
       "      <td>0.026621</td>\n",
       "      <td>1.972903</td>\n",
       "      <td>-1.258069</td>\n",
       "      <td>-1.819546</td>\n",
       "      <td>6</td>\n",
       "      <td>hamming</td>\n",
       "      <td>hamming_half_step</td>\n",
       "      <td>../data/wav_split/6/hamming_half_step/hamming_...</td>\n",
       "    </tr>\n",
       "    <tr>\n",
       "      <th>1</th>\n",
       "      <td>-530.52490</td>\n",
       "      <td>93.725330</td>\n",
       "      <td>-39.037434</td>\n",
       "      <td>-4.479851</td>\n",
       "      <td>-20.150124</td>\n",
       "      <td>-17.046190</td>\n",
       "      <td>25.775227</td>\n",
       "      <td>51.612923</td>\n",
       "      <td>40.953102</td>\n",
       "      <td>-8.992085</td>\n",
       "      <td>...</td>\n",
       "      <td>-0.417750</td>\n",
       "      <td>-0.315448</td>\n",
       "      <td>0.676565</td>\n",
       "      <td>0.572439</td>\n",
       "      <td>-1.770167</td>\n",
       "      <td>-1.901417</td>\n",
       "      <td>6</td>\n",
       "      <td>hamming</td>\n",
       "      <td>hamming_half_step</td>\n",
       "      <td>../data/wav_split/6/hamming_half_step/hamming_...</td>\n",
       "    </tr>\n",
       "    <tr>\n",
       "      <th>2</th>\n",
       "      <td>-438.21292</td>\n",
       "      <td>141.950060</td>\n",
       "      <td>-9.433838</td>\n",
       "      <td>7.212989</td>\n",
       "      <td>2.793774</td>\n",
       "      <td>-21.534147</td>\n",
       "      <td>-6.310059</td>\n",
       "      <td>-16.381878</td>\n",
       "      <td>-18.221027</td>\n",
       "      <td>-13.947206</td>\n",
       "      <td>...</td>\n",
       "      <td>-1.832178</td>\n",
       "      <td>-1.765308</td>\n",
       "      <td>-1.804162</td>\n",
       "      <td>-0.630712</td>\n",
       "      <td>0.099910</td>\n",
       "      <td>0.576993</td>\n",
       "      <td>6</td>\n",
       "      <td>hamming</td>\n",
       "      <td>hamming_half_step</td>\n",
       "      <td>../data/wav_split/6/hamming_half_step/hamming_...</td>\n",
       "    </tr>\n",
       "    <tr>\n",
       "      <th>3</th>\n",
       "      <td>-428.30045</td>\n",
       "      <td>128.527250</td>\n",
       "      <td>0.124231</td>\n",
       "      <td>7.482684</td>\n",
       "      <td>3.537882</td>\n",
       "      <td>-24.137173</td>\n",
       "      <td>-13.788621</td>\n",
       "      <td>-22.357704</td>\n",
       "      <td>-23.896505</td>\n",
       "      <td>-14.273493</td>\n",
       "      <td>...</td>\n",
       "      <td>-1.658522</td>\n",
       "      <td>1.790880</td>\n",
       "      <td>-1.846894</td>\n",
       "      <td>-1.876913</td>\n",
       "      <td>-1.890087</td>\n",
       "      <td>-0.089512</td>\n",
       "      <td>6</td>\n",
       "      <td>hamming</td>\n",
       "      <td>hamming_half_step</td>\n",
       "      <td>../data/wav_split/6/hamming_half_step/hamming_...</td>\n",
       "    </tr>\n",
       "    <tr>\n",
       "      <th>4</th>\n",
       "      <td>-498.30170</td>\n",
       "      <td>145.041690</td>\n",
       "      <td>-10.504293</td>\n",
       "      <td>7.761322</td>\n",
       "      <td>2.013798</td>\n",
       "      <td>-26.044313</td>\n",
       "      <td>-13.251748</td>\n",
       "      <td>-23.543161</td>\n",
       "      <td>-14.636507</td>\n",
       "      <td>-5.031464</td>\n",
       "      <td>...</td>\n",
       "      <td>-1.887398</td>\n",
       "      <td>2.807289</td>\n",
       "      <td>-1.624316</td>\n",
       "      <td>-1.834614</td>\n",
       "      <td>-1.919023</td>\n",
       "      <td>-1.820262</td>\n",
       "      <td>6</td>\n",
       "      <td>hamming</td>\n",
       "      <td>hamming_half_step</td>\n",
       "      <td>../data/wav_split/6/hamming_half_step/hamming_...</td>\n",
       "    </tr>\n",
       "    <tr>\n",
       "      <th>...</th>\n",
       "      <td>...</td>\n",
       "      <td>...</td>\n",
       "      <td>...</td>\n",
       "      <td>...</td>\n",
       "      <td>...</td>\n",
       "      <td>...</td>\n",
       "      <td>...</td>\n",
       "      <td>...</td>\n",
       "      <td>...</td>\n",
       "      <td>...</td>\n",
       "      <td>...</td>\n",
       "      <td>...</td>\n",
       "      <td>...</td>\n",
       "      <td>...</td>\n",
       "      <td>...</td>\n",
       "      <td>...</td>\n",
       "      <td>...</td>\n",
       "      <td>...</td>\n",
       "      <td>...</td>\n",
       "      <td>...</td>\n",
       "      <td>...</td>\n",
       "    </tr>\n",
       "    <tr>\n",
       "      <th>7652</th>\n",
       "      <td>-192.05267</td>\n",
       "      <td>36.373207</td>\n",
       "      <td>-41.765950</td>\n",
       "      <td>52.216854</td>\n",
       "      <td>-16.862871</td>\n",
       "      <td>9.718247</td>\n",
       "      <td>-14.838839</td>\n",
       "      <td>-14.813597</td>\n",
       "      <td>-33.602260</td>\n",
       "      <td>-34.855343</td>\n",
       "      <td>...</td>\n",
       "      <td>-1.659349</td>\n",
       "      <td>2.008721</td>\n",
       "      <td>-1.652494</td>\n",
       "      <td>-0.414528</td>\n",
       "      <td>0.760430</td>\n",
       "      <td>0.724007</td>\n",
       "      <td>3</td>\n",
       "      <td>hamming</td>\n",
       "      <td>hamming_whole_step</td>\n",
       "      <td>../data/wav_split/3/hamming_whole_step/hamming...</td>\n",
       "    </tr>\n",
       "    <tr>\n",
       "      <th>7653</th>\n",
       "      <td>-208.97202</td>\n",
       "      <td>25.144392</td>\n",
       "      <td>-45.765255</td>\n",
       "      <td>58.247990</td>\n",
       "      <td>-16.275730</td>\n",
       "      <td>-7.294288</td>\n",
       "      <td>-30.302073</td>\n",
       "      <td>-21.640614</td>\n",
       "      <td>-45.537685</td>\n",
       "      <td>-28.055300</td>\n",
       "      <td>...</td>\n",
       "      <td>-0.117636</td>\n",
       "      <td>-0.679620</td>\n",
       "      <td>-1.752346</td>\n",
       "      <td>2.158094</td>\n",
       "      <td>-1.688273</td>\n",
       "      <td>1.857633</td>\n",
       "      <td>3</td>\n",
       "      <td>hamming</td>\n",
       "      <td>hamming_whole_step</td>\n",
       "      <td>../data/wav_split/3/hamming_whole_step/hamming...</td>\n",
       "    </tr>\n",
       "    <tr>\n",
       "      <th>7654</th>\n",
       "      <td>-249.35416</td>\n",
       "      <td>-0.233360</td>\n",
       "      <td>-52.419010</td>\n",
       "      <td>48.536217</td>\n",
       "      <td>-36.656480</td>\n",
       "      <td>-31.731333</td>\n",
       "      <td>-31.774345</td>\n",
       "      <td>-5.080925</td>\n",
       "      <td>5.155398</td>\n",
       "      <td>16.961800</td>\n",
       "      <td>...</td>\n",
       "      <td>0.140658</td>\n",
       "      <td>-1.681437</td>\n",
       "      <td>-1.768920</td>\n",
       "      <td>-1.480259</td>\n",
       "      <td>-1.817897</td>\n",
       "      <td>-1.906327</td>\n",
       "      <td>3</td>\n",
       "      <td>hamming</td>\n",
       "      <td>hamming_whole_step</td>\n",
       "      <td>../data/wav_split/3/hamming_whole_step/hamming...</td>\n",
       "    </tr>\n",
       "    <tr>\n",
       "      <th>7655</th>\n",
       "      <td>-175.63824</td>\n",
       "      <td>32.764416</td>\n",
       "      <td>-56.552536</td>\n",
       "      <td>48.904472</td>\n",
       "      <td>-23.516140</td>\n",
       "      <td>13.669778</td>\n",
       "      <td>-22.247383</td>\n",
       "      <td>-14.150379</td>\n",
       "      <td>-26.149586</td>\n",
       "      <td>-27.904728</td>\n",
       "      <td>...</td>\n",
       "      <td>-0.699870</td>\n",
       "      <td>0.646151</td>\n",
       "      <td>-1.754304</td>\n",
       "      <td>2.604471</td>\n",
       "      <td>-1.756243</td>\n",
       "      <td>-1.702046</td>\n",
       "      <td>3</td>\n",
       "      <td>hamming</td>\n",
       "      <td>hamming_whole_step</td>\n",
       "      <td>../data/wav_split/3/hamming_whole_step/hamming...</td>\n",
       "    </tr>\n",
       "    <tr>\n",
       "      <th>7656</th>\n",
       "      <td>-231.35403</td>\n",
       "      <td>2.518847</td>\n",
       "      <td>-65.191250</td>\n",
       "      <td>46.792160</td>\n",
       "      <td>-20.306316</td>\n",
       "      <td>-11.115429</td>\n",
       "      <td>-35.216730</td>\n",
       "      <td>-18.910595</td>\n",
       "      <td>-36.636055</td>\n",
       "      <td>-2.206796</td>\n",
       "      <td>...</td>\n",
       "      <td>-1.531469</td>\n",
       "      <td>-1.762152</td>\n",
       "      <td>0.604377</td>\n",
       "      <td>-1.898993</td>\n",
       "      <td>-1.805102</td>\n",
       "      <td>-1.597322</td>\n",
       "      <td>3</td>\n",
       "      <td>hamming</td>\n",
       "      <td>hamming_whole_step</td>\n",
       "      <td>../data/wav_split/3/hamming_whole_step/hamming...</td>\n",
       "    </tr>\n",
       "  </tbody>\n",
       "</table>\n",
       "<p>7657 rows × 277 columns</p>\n",
       "</div>"
      ],
      "text/plain": [
       "      mean_mfcc_1  mean_mfcc_2  mean_mfcc_3  mean_mfcc_4  mean_mfcc_5  \\\n",
       "0      -462.77118   126.876144   -30.820320    21.706020    16.523281   \n",
       "1      -530.52490    93.725330   -39.037434    -4.479851   -20.150124   \n",
       "2      -438.21292   141.950060    -9.433838     7.212989     2.793774   \n",
       "3      -428.30045   128.527250     0.124231     7.482684     3.537882   \n",
       "4      -498.30170   145.041690   -10.504293     7.761322     2.013798   \n",
       "...           ...          ...          ...          ...          ...   \n",
       "7652   -192.05267    36.373207   -41.765950    52.216854   -16.862871   \n",
       "7653   -208.97202    25.144392   -45.765255    58.247990   -16.275730   \n",
       "7654   -249.35416    -0.233360   -52.419010    48.536217   -36.656480   \n",
       "7655   -175.63824    32.764416   -56.552536    48.904472   -23.516140   \n",
       "7656   -231.35403     2.518847   -65.191250    46.792160   -20.306316   \n",
       "\n",
       "      mean_mfcc_6  mean_mfcc_7  mean_mfcc_8  mean_mfcc_9  mean_mfcc_10  ...  \\\n",
       "0      -25.490458   -13.736227   -27.322334   -13.508459     -7.359414  ...   \n",
       "1      -17.046190    25.775227    51.612923    40.953102     -8.992085  ...   \n",
       "2      -21.534147    -6.310059   -16.381878   -18.221027    -13.947206  ...   \n",
       "3      -24.137173   -13.788621   -22.357704   -23.896505    -14.273493  ...   \n",
       "4      -26.044313   -13.251748   -23.543161   -14.636507     -5.031464  ...   \n",
       "...           ...          ...          ...          ...           ...  ...   \n",
       "7652     9.718247   -14.838839   -14.813597   -33.602260    -34.855343  ...   \n",
       "7653    -7.294288   -30.302073   -21.640614   -45.537685    -28.055300  ...   \n",
       "7654   -31.731333   -31.774345    -5.080925     5.155398     16.961800  ...   \n",
       "7655    13.669778   -22.247383   -14.150379   -26.149586    -27.904728  ...   \n",
       "7656   -11.115429   -35.216730   -18.910595   -36.636055     -2.206796  ...   \n",
       "\n",
       "      kurtosis_delta2_mfcc_8  kurtosis_delta2_mfcc_9  kurtosis_delta2_mfcc_10  \\\n",
       "0                  -0.550029               -1.649426                 0.026621   \n",
       "1                  -0.417750               -0.315448                 0.676565   \n",
       "2                  -1.832178               -1.765308                -1.804162   \n",
       "3                  -1.658522                1.790880                -1.846894   \n",
       "4                  -1.887398                2.807289                -1.624316   \n",
       "...                      ...                     ...                      ...   \n",
       "7652               -1.659349                2.008721                -1.652494   \n",
       "7653               -0.117636               -0.679620                -1.752346   \n",
       "7654                0.140658               -1.681437                -1.768920   \n",
       "7655               -0.699870                0.646151                -1.754304   \n",
       "7656               -1.531469               -1.762152                 0.604377   \n",
       "\n",
       "      kurtosis_delta2_mfcc_11  kurtosis_delta2_mfcc_12  \\\n",
       "0                    1.972903                -1.258069   \n",
       "1                    0.572439                -1.770167   \n",
       "2                   -0.630712                 0.099910   \n",
       "3                   -1.876913                -1.890087   \n",
       "4                   -1.834614                -1.919023   \n",
       "...                       ...                      ...   \n",
       "7652                -0.414528                 0.760430   \n",
       "7653                 2.158094                -1.688273   \n",
       "7654                -1.480259                -1.817897   \n",
       "7655                 2.604471                -1.756243   \n",
       "7656                -1.898993                -1.805102   \n",
       "\n",
       "      kurtosis_delta2_mfcc_13  tone_type  technique       sub_technique  \\\n",
       "0                   -1.819546          6    hamming   hamming_half_step   \n",
       "1                   -1.901417          6    hamming   hamming_half_step   \n",
       "2                    0.576993          6    hamming   hamming_half_step   \n",
       "3                   -0.089512          6    hamming   hamming_half_step   \n",
       "4                   -1.820262          6    hamming   hamming_half_step   \n",
       "...                       ...        ...        ...                 ...   \n",
       "7652                 0.724007          3    hamming  hamming_whole_step   \n",
       "7653                 1.857633          3    hamming  hamming_whole_step   \n",
       "7654                -1.906327          3    hamming  hamming_whole_step   \n",
       "7655                -1.702046          3    hamming  hamming_whole_step   \n",
       "7656                -1.597322          3    hamming  hamming_whole_step   \n",
       "\n",
       "                                              file_path  \n",
       "0     ../data/wav_split/6/hamming_half_step/hamming_...  \n",
       "1     ../data/wav_split/6/hamming_half_step/hamming_...  \n",
       "2     ../data/wav_split/6/hamming_half_step/hamming_...  \n",
       "3     ../data/wav_split/6/hamming_half_step/hamming_...  \n",
       "4     ../data/wav_split/6/hamming_half_step/hamming_...  \n",
       "...                                                 ...  \n",
       "7652  ../data/wav_split/3/hamming_whole_step/hamming...  \n",
       "7653  ../data/wav_split/3/hamming_whole_step/hamming...  \n",
       "7654  ../data/wav_split/3/hamming_whole_step/hamming...  \n",
       "7655  ../data/wav_split/3/hamming_whole_step/hamming...  \n",
       "7656  ../data/wav_split/3/hamming_whole_step/hamming...  \n",
       "\n",
       "[7657 rows x 277 columns]"
      ]
     },
     "execution_count": 7,
     "metadata": {},
     "output_type": "execute_result"
    }
   ],
   "source": [
    "# gpt = pd.read_csv('../data/gpt.csv')\n",
    "gpt = pd.read_csv('../data/gpt_split.csv')\n",
    "gpt"
   ]
  }
 ],
 "metadata": {
  "kernelspec": {
   "display_name": "Python 3",
   "language": "python",
   "name": "python3"
  },
  "language_info": {
   "codemirror_mode": {
    "name": "ipython",
    "version": 3
   },
   "file_extension": ".py",
   "mimetype": "text/x-python",
   "name": "python",
   "nbconvert_exporter": "python",
   "pygments_lexer": "ipython3",
   "version": "3.8.5"
  }
 },
 "nbformat": 4,
 "nbformat_minor": 1
}
