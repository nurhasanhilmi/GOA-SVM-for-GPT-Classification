{
 "cells": [
  {
   "cell_type": "markdown",
   "source": [
    "# Audio Feature Extraction"
   ],
   "metadata": {
    "collapsed": true,
    "pycharm": {
     "name": "#%% md\n"
    }
   }
  },
  {
   "cell_type": "markdown",
   "source": [
    "## 1. Importing Library"
   ],
   "metadata": {}
  },
  {
   "cell_type": "code",
   "execution_count": 1,
   "source": [
    "import os\n",
    "from tqdm import tqdm\n",
    "import pandas as pd\n",
    "import numpy as np\n",
    "from scipy.stats import skew, kurtosis\n",
    "import librosa\n",
    "\n",
    "import plotly.express as px\n",
    "from plotly.subplots import make_subplots\n",
    "import plotly.graph_objects as go"
   ],
   "outputs": [],
   "metadata": {
    "pycharm": {
     "name": "#%%\n"
    }
   }
  },
  {
   "cell_type": "markdown",
   "source": [
    "## 2. Get All Audio Files"
   ],
   "metadata": {}
  },
  {
   "cell_type": "code",
   "execution_count": 2,
   "source": [
    "data = []\n",
    "path = '../data/guitar/wav'\n",
    "tone_types = os.listdir(path)\n",
    "tone_types.sort()\n",
    "for tone_type in tone_types:\n",
    "    subpath = os.path.join(path, tone_type)\n",
    "    subtechniques = os.listdir(subpath)\n",
    "    subtechniques.sort()\n",
    "    for subtechnique in subtechniques:\n",
    "        sub2path = os.path.join(subpath, subtechnique)\n",
    "        audio_files = os.listdir(sub2path)\n",
    "        audio_files.sort()\n",
    "        for audio_file in audio_files:\n",
    "            audio_path = os.path.join(sub2path, audio_file)\n",
    "            technique = subtechnique.split('_')[0]\n",
    "            data.append([technique, subtechnique, tone_type, audio_path])\n",
    "\n",
    "columns = ['technique', 'subtechnique', 'tone_type', 'audio_path']\n",
    "df = pd.DataFrame(data, columns=columns)\n",
    "print(df.shape)\n",
    "df"
   ],
   "outputs": [
    {
     "output_type": "stream",
     "name": "stdout",
     "text": [
      "(6447, 4)\n"
     ]
    },
    {
     "output_type": "execute_result",
     "data": {
      "text/plain": [
       "     technique          subtechnique tone_type  \\\n",
       "0      bending  bending_up_down_half         1   \n",
       "1      bending  bending_up_down_half         1   \n",
       "2      bending  bending_up_down_half         1   \n",
       "3      bending  bending_up_down_half         1   \n",
       "4      bending  bending_up_down_half         1   \n",
       "...        ...                   ...       ...   \n",
       "6442     trill                 trill         7   \n",
       "6443     trill                 trill         7   \n",
       "6444     trill                 trill         7   \n",
       "6445     trill                 trill         7   \n",
       "6446     trill                 trill         7   \n",
       "\n",
       "                                             audio_path  \n",
       "0     ../data/guitar/wav/1/bending_up_down_half/bend...  \n",
       "1     ../data/guitar/wav/1/bending_up_down_half/bend...  \n",
       "2     ../data/guitar/wav/1/bending_up_down_half/bend...  \n",
       "3     ../data/guitar/wav/1/bending_up_down_half/bend...  \n",
       "4     ../data/guitar/wav/1/bending_up_down_half/bend...  \n",
       "...                                                 ...  \n",
       "6442            ../data/guitar/wav/7/trill/trill_87.wav  \n",
       "6443            ../data/guitar/wav/7/trill/trill_88.wav  \n",
       "6444            ../data/guitar/wav/7/trill/trill_89.wav  \n",
       "6445             ../data/guitar/wav/7/trill/trill_9.wav  \n",
       "6446            ../data/guitar/wav/7/trill/trill_90.wav  \n",
       "\n",
       "[6447 rows x 4 columns]"
      ],
      "text/html": [
       "<div>\n",
       "<style scoped>\n",
       "    .dataframe tbody tr th:only-of-type {\n",
       "        vertical-align: middle;\n",
       "    }\n",
       "\n",
       "    .dataframe tbody tr th {\n",
       "        vertical-align: top;\n",
       "    }\n",
       "\n",
       "    .dataframe thead th {\n",
       "        text-align: right;\n",
       "    }\n",
       "</style>\n",
       "<table border=\"1\" class=\"dataframe\">\n",
       "  <thead>\n",
       "    <tr style=\"text-align: right;\">\n",
       "      <th></th>\n",
       "      <th>technique</th>\n",
       "      <th>subtechnique</th>\n",
       "      <th>tone_type</th>\n",
       "      <th>audio_path</th>\n",
       "    </tr>\n",
       "  </thead>\n",
       "  <tbody>\n",
       "    <tr>\n",
       "      <th>0</th>\n",
       "      <td>bending</td>\n",
       "      <td>bending_up_down_half</td>\n",
       "      <td>1</td>\n",
       "      <td>../data/guitar/wav/1/bending_up_down_half/bend...</td>\n",
       "    </tr>\n",
       "    <tr>\n",
       "      <th>1</th>\n",
       "      <td>bending</td>\n",
       "      <td>bending_up_down_half</td>\n",
       "      <td>1</td>\n",
       "      <td>../data/guitar/wav/1/bending_up_down_half/bend...</td>\n",
       "    </tr>\n",
       "    <tr>\n",
       "      <th>2</th>\n",
       "      <td>bending</td>\n",
       "      <td>bending_up_down_half</td>\n",
       "      <td>1</td>\n",
       "      <td>../data/guitar/wav/1/bending_up_down_half/bend...</td>\n",
       "    </tr>\n",
       "    <tr>\n",
       "      <th>3</th>\n",
       "      <td>bending</td>\n",
       "      <td>bending_up_down_half</td>\n",
       "      <td>1</td>\n",
       "      <td>../data/guitar/wav/1/bending_up_down_half/bend...</td>\n",
       "    </tr>\n",
       "    <tr>\n",
       "      <th>4</th>\n",
       "      <td>bending</td>\n",
       "      <td>bending_up_down_half</td>\n",
       "      <td>1</td>\n",
       "      <td>../data/guitar/wav/1/bending_up_down_half/bend...</td>\n",
       "    </tr>\n",
       "    <tr>\n",
       "      <th>...</th>\n",
       "      <td>...</td>\n",
       "      <td>...</td>\n",
       "      <td>...</td>\n",
       "      <td>...</td>\n",
       "    </tr>\n",
       "    <tr>\n",
       "      <th>6442</th>\n",
       "      <td>trill</td>\n",
       "      <td>trill</td>\n",
       "      <td>7</td>\n",
       "      <td>../data/guitar/wav/7/trill/trill_87.wav</td>\n",
       "    </tr>\n",
       "    <tr>\n",
       "      <th>6443</th>\n",
       "      <td>trill</td>\n",
       "      <td>trill</td>\n",
       "      <td>7</td>\n",
       "      <td>../data/guitar/wav/7/trill/trill_88.wav</td>\n",
       "    </tr>\n",
       "    <tr>\n",
       "      <th>6444</th>\n",
       "      <td>trill</td>\n",
       "      <td>trill</td>\n",
       "      <td>7</td>\n",
       "      <td>../data/guitar/wav/7/trill/trill_89.wav</td>\n",
       "    </tr>\n",
       "    <tr>\n",
       "      <th>6445</th>\n",
       "      <td>trill</td>\n",
       "      <td>trill</td>\n",
       "      <td>7</td>\n",
       "      <td>../data/guitar/wav/7/trill/trill_9.wav</td>\n",
       "    </tr>\n",
       "    <tr>\n",
       "      <th>6446</th>\n",
       "      <td>trill</td>\n",
       "      <td>trill</td>\n",
       "      <td>7</td>\n",
       "      <td>../data/guitar/wav/7/trill/trill_90.wav</td>\n",
       "    </tr>\n",
       "  </tbody>\n",
       "</table>\n",
       "<p>6447 rows × 4 columns</p>\n",
       "</div>"
      ]
     },
     "metadata": {},
     "execution_count": 2
    }
   ],
   "metadata": {}
  },
  {
   "cell_type": "markdown",
   "source": [
    "## 3. Reconstructing Dataset"
   ],
   "metadata": {}
  },
  {
   "cell_type": "code",
   "execution_count": 3,
   "source": [
    "df2 = df.drop(df[df['subtechnique'].str.contains('normal_')].index).reset_index(drop=True)\n",
    "df2 = df2.drop(df2[df2.technique == 'mute'].index).reset_index(drop=True)\n",
    "df2.loc[(df2['subtechnique'] == 'bending_up_down_half') | (df2['subtechnique'] == 'bending_up_down_whole'), 'technique'] = 'bending_up_down'\n",
    "df2.loc[(df2['subtechnique'] == 'bending_up_half') | (df2['subtechnique'] == 'bending_up_whole'), 'technique'] = 'bending_up'\n",
    "df2.loc[(df2['subtechnique'] == 'slide_half_step_down') | (df2['subtechnique'] == 'slide_whole_step_down'), 'technique'] = 'slide_down'\n",
    "df2.loc[(df2['subtechnique'] == 'slide_half_step_up') | (df2['subtechnique'] == 'slide_whole_step_up'), 'technique'] = 'slide_up'\n",
    "print(df2.shape)\n",
    "df2"
   ],
   "outputs": [
    {
     "output_type": "stream",
     "name": "stdout",
     "text": [
      "(4935, 4)\n"
     ]
    },
    {
     "output_type": "execute_result",
     "data": {
      "text/plain": [
       "            technique          subtechnique tone_type  \\\n",
       "0     bending_up_down  bending_up_down_half         1   \n",
       "1     bending_up_down  bending_up_down_half         1   \n",
       "2     bending_up_down  bending_up_down_half         1   \n",
       "3     bending_up_down  bending_up_down_half         1   \n",
       "4     bending_up_down  bending_up_down_half         1   \n",
       "...               ...                   ...       ...   \n",
       "4930            trill                 trill         7   \n",
       "4931            trill                 trill         7   \n",
       "4932            trill                 trill         7   \n",
       "4933            trill                 trill         7   \n",
       "4934            trill                 trill         7   \n",
       "\n",
       "                                             audio_path  \n",
       "0     ../data/guitar/wav/1/bending_up_down_half/bend...  \n",
       "1     ../data/guitar/wav/1/bending_up_down_half/bend...  \n",
       "2     ../data/guitar/wav/1/bending_up_down_half/bend...  \n",
       "3     ../data/guitar/wav/1/bending_up_down_half/bend...  \n",
       "4     ../data/guitar/wav/1/bending_up_down_half/bend...  \n",
       "...                                                 ...  \n",
       "4930            ../data/guitar/wav/7/trill/trill_87.wav  \n",
       "4931            ../data/guitar/wav/7/trill/trill_88.wav  \n",
       "4932            ../data/guitar/wav/7/trill/trill_89.wav  \n",
       "4933             ../data/guitar/wav/7/trill/trill_9.wav  \n",
       "4934            ../data/guitar/wav/7/trill/trill_90.wav  \n",
       "\n",
       "[4935 rows x 4 columns]"
      ],
      "text/html": [
       "<div>\n",
       "<style scoped>\n",
       "    .dataframe tbody tr th:only-of-type {\n",
       "        vertical-align: middle;\n",
       "    }\n",
       "\n",
       "    .dataframe tbody tr th {\n",
       "        vertical-align: top;\n",
       "    }\n",
       "\n",
       "    .dataframe thead th {\n",
       "        text-align: right;\n",
       "    }\n",
       "</style>\n",
       "<table border=\"1\" class=\"dataframe\">\n",
       "  <thead>\n",
       "    <tr style=\"text-align: right;\">\n",
       "      <th></th>\n",
       "      <th>technique</th>\n",
       "      <th>subtechnique</th>\n",
       "      <th>tone_type</th>\n",
       "      <th>audio_path</th>\n",
       "    </tr>\n",
       "  </thead>\n",
       "  <tbody>\n",
       "    <tr>\n",
       "      <th>0</th>\n",
       "      <td>bending_up_down</td>\n",
       "      <td>bending_up_down_half</td>\n",
       "      <td>1</td>\n",
       "      <td>../data/guitar/wav/1/bending_up_down_half/bend...</td>\n",
       "    </tr>\n",
       "    <tr>\n",
       "      <th>1</th>\n",
       "      <td>bending_up_down</td>\n",
       "      <td>bending_up_down_half</td>\n",
       "      <td>1</td>\n",
       "      <td>../data/guitar/wav/1/bending_up_down_half/bend...</td>\n",
       "    </tr>\n",
       "    <tr>\n",
       "      <th>2</th>\n",
       "      <td>bending_up_down</td>\n",
       "      <td>bending_up_down_half</td>\n",
       "      <td>1</td>\n",
       "      <td>../data/guitar/wav/1/bending_up_down_half/bend...</td>\n",
       "    </tr>\n",
       "    <tr>\n",
       "      <th>3</th>\n",
       "      <td>bending_up_down</td>\n",
       "      <td>bending_up_down_half</td>\n",
       "      <td>1</td>\n",
       "      <td>../data/guitar/wav/1/bending_up_down_half/bend...</td>\n",
       "    </tr>\n",
       "    <tr>\n",
       "      <th>4</th>\n",
       "      <td>bending_up_down</td>\n",
       "      <td>bending_up_down_half</td>\n",
       "      <td>1</td>\n",
       "      <td>../data/guitar/wav/1/bending_up_down_half/bend...</td>\n",
       "    </tr>\n",
       "    <tr>\n",
       "      <th>...</th>\n",
       "      <td>...</td>\n",
       "      <td>...</td>\n",
       "      <td>...</td>\n",
       "      <td>...</td>\n",
       "    </tr>\n",
       "    <tr>\n",
       "      <th>4930</th>\n",
       "      <td>trill</td>\n",
       "      <td>trill</td>\n",
       "      <td>7</td>\n",
       "      <td>../data/guitar/wav/7/trill/trill_87.wav</td>\n",
       "    </tr>\n",
       "    <tr>\n",
       "      <th>4931</th>\n",
       "      <td>trill</td>\n",
       "      <td>trill</td>\n",
       "      <td>7</td>\n",
       "      <td>../data/guitar/wav/7/trill/trill_88.wav</td>\n",
       "    </tr>\n",
       "    <tr>\n",
       "      <th>4932</th>\n",
       "      <td>trill</td>\n",
       "      <td>trill</td>\n",
       "      <td>7</td>\n",
       "      <td>../data/guitar/wav/7/trill/trill_89.wav</td>\n",
       "    </tr>\n",
       "    <tr>\n",
       "      <th>4933</th>\n",
       "      <td>trill</td>\n",
       "      <td>trill</td>\n",
       "      <td>7</td>\n",
       "      <td>../data/guitar/wav/7/trill/trill_9.wav</td>\n",
       "    </tr>\n",
       "    <tr>\n",
       "      <th>4934</th>\n",
       "      <td>trill</td>\n",
       "      <td>trill</td>\n",
       "      <td>7</td>\n",
       "      <td>../data/guitar/wav/7/trill/trill_90.wav</td>\n",
       "    </tr>\n",
       "  </tbody>\n",
       "</table>\n",
       "<p>4935 rows × 4 columns</p>\n",
       "</div>"
      ]
     },
     "metadata": {},
     "execution_count": 3
    }
   ],
   "metadata": {}
  },
  {
   "cell_type": "markdown",
   "source": [
    "## 4. Data Distribution"
   ],
   "metadata": {}
  },
  {
   "cell_type": "code",
   "execution_count": 4,
   "source": [
    "tone_count = pd.DataFrame(pd.value_counts(df2['tone_type'])).reset_index()\n",
    "technique_count = pd.DataFrame(pd.value_counts(df2['technique'])).reset_index()\n",
    "subtechnique_count = pd.DataFrame(pd.value_counts(df2['subtechnique'])).reset_index()\n",
    "\n",
    "fig = make_subplots(rows=3, cols=1)\n",
    "fig.add_trace(go.Bar(x=tone_count['index'], y=tone_count['tone_type'], name='Tone Type'), row=1, col=1)\n",
    "fig.add_trace(go.Bar(x=technique_count['index'], y=technique_count['technique'], name='Technique'), row=2, col=1)\n",
    "fig.add_trace(go.Bar(x=subtechnique_count['index'], y=subtechnique_count['subtechnique'], name='Subtechnique'), row=3, col=1)\n",
    "fig.update_layout(height=800, width=600)\n",
    "fig.show()"
   ],
   "outputs": [
    {
     "output_type": "display_data",
     "data": {
      "application/vnd.plotly.v1+json": {
       "config": {
        "plotlyServerURL": "https://plot.ly"
       },
       "data": [
        {
         "name": "Tone Type",
         "type": "bar",
         "x": [
          "7",
          "3",
          "1",
          "5",
          "4",
          "2",
          "6"
         ],
         "xaxis": "x",
         "y": [
          705,
          705,
          705,
          705,
          705,
          705,
          705
         ],
         "yaxis": "y"
        },
        {
         "name": "Technique",
         "type": "bar",
         "x": [
          "normal",
          "trill",
          "bending_up",
          "bending_up_down",
          "slide_down",
          "hamming",
          "slide_up",
          "pulling"
         ],
         "xaxis": "x2",
         "y": [
          840,
          630,
          630,
          623,
          567,
          567,
          567,
          511
         ],
         "yaxis": "y2"
        },
        {
         "name": "Subtechnique",
         "type": "bar",
         "x": [
          "normal",
          "trill",
          "bending_up_whole",
          "bending_up_down_half",
          "bending_up_half",
          "bending_up_down_whole",
          "slide_half_step_down",
          "hamming_half_step",
          "pulling_half_step",
          "slide_half_step_up",
          "slide_whole_step_up",
          "hamming_whole_step",
          "slide_whole_step_down",
          "pulling_whole_step"
         ],
         "xaxis": "x3",
         "y": [
          840,
          630,
          315,
          315,
          315,
          308,
          294,
          294,
          294,
          294,
          273,
          273,
          273,
          217
         ],
         "yaxis": "y3"
        }
       ],
       "layout": {
        "height": 800,
        "template": {
         "data": {
          "bar": [
           {
            "error_x": {
             "color": "#2a3f5f"
            },
            "error_y": {
             "color": "#2a3f5f"
            },
            "marker": {
             "line": {
              "color": "#E5ECF6",
              "width": 0.5
             }
            },
            "type": "bar"
           }
          ],
          "barpolar": [
           {
            "marker": {
             "line": {
              "color": "#E5ECF6",
              "width": 0.5
             }
            },
            "type": "barpolar"
           }
          ],
          "carpet": [
           {
            "aaxis": {
             "endlinecolor": "#2a3f5f",
             "gridcolor": "white",
             "linecolor": "white",
             "minorgridcolor": "white",
             "startlinecolor": "#2a3f5f"
            },
            "baxis": {
             "endlinecolor": "#2a3f5f",
             "gridcolor": "white",
             "linecolor": "white",
             "minorgridcolor": "white",
             "startlinecolor": "#2a3f5f"
            },
            "type": "carpet"
           }
          ],
          "choropleth": [
           {
            "colorbar": {
             "outlinewidth": 0,
             "ticks": ""
            },
            "type": "choropleth"
           }
          ],
          "contour": [
           {
            "colorbar": {
             "outlinewidth": 0,
             "ticks": ""
            },
            "colorscale": [
             [
              0,
              "#0d0887"
             ],
             [
              0.1111111111111111,
              "#46039f"
             ],
             [
              0.2222222222222222,
              "#7201a8"
             ],
             [
              0.3333333333333333,
              "#9c179e"
             ],
             [
              0.4444444444444444,
              "#bd3786"
             ],
             [
              0.5555555555555556,
              "#d8576b"
             ],
             [
              0.6666666666666666,
              "#ed7953"
             ],
             [
              0.7777777777777778,
              "#fb9f3a"
             ],
             [
              0.8888888888888888,
              "#fdca26"
             ],
             [
              1,
              "#f0f921"
             ]
            ],
            "type": "contour"
           }
          ],
          "contourcarpet": [
           {
            "colorbar": {
             "outlinewidth": 0,
             "ticks": ""
            },
            "type": "contourcarpet"
           }
          ],
          "heatmap": [
           {
            "colorbar": {
             "outlinewidth": 0,
             "ticks": ""
            },
            "colorscale": [
             [
              0,
              "#0d0887"
             ],
             [
              0.1111111111111111,
              "#46039f"
             ],
             [
              0.2222222222222222,
              "#7201a8"
             ],
             [
              0.3333333333333333,
              "#9c179e"
             ],
             [
              0.4444444444444444,
              "#bd3786"
             ],
             [
              0.5555555555555556,
              "#d8576b"
             ],
             [
              0.6666666666666666,
              "#ed7953"
             ],
             [
              0.7777777777777778,
              "#fb9f3a"
             ],
             [
              0.8888888888888888,
              "#fdca26"
             ],
             [
              1,
              "#f0f921"
             ]
            ],
            "type": "heatmap"
           }
          ],
          "heatmapgl": [
           {
            "colorbar": {
             "outlinewidth": 0,
             "ticks": ""
            },
            "colorscale": [
             [
              0,
              "#0d0887"
             ],
             [
              0.1111111111111111,
              "#46039f"
             ],
             [
              0.2222222222222222,
              "#7201a8"
             ],
             [
              0.3333333333333333,
              "#9c179e"
             ],
             [
              0.4444444444444444,
              "#bd3786"
             ],
             [
              0.5555555555555556,
              "#d8576b"
             ],
             [
              0.6666666666666666,
              "#ed7953"
             ],
             [
              0.7777777777777778,
              "#fb9f3a"
             ],
             [
              0.8888888888888888,
              "#fdca26"
             ],
             [
              1,
              "#f0f921"
             ]
            ],
            "type": "heatmapgl"
           }
          ],
          "histogram": [
           {
            "marker": {
             "colorbar": {
              "outlinewidth": 0,
              "ticks": ""
             }
            },
            "type": "histogram"
           }
          ],
          "histogram2d": [
           {
            "colorbar": {
             "outlinewidth": 0,
             "ticks": ""
            },
            "colorscale": [
             [
              0,
              "#0d0887"
             ],
             [
              0.1111111111111111,
              "#46039f"
             ],
             [
              0.2222222222222222,
              "#7201a8"
             ],
             [
              0.3333333333333333,
              "#9c179e"
             ],
             [
              0.4444444444444444,
              "#bd3786"
             ],
             [
              0.5555555555555556,
              "#d8576b"
             ],
             [
              0.6666666666666666,
              "#ed7953"
             ],
             [
              0.7777777777777778,
              "#fb9f3a"
             ],
             [
              0.8888888888888888,
              "#fdca26"
             ],
             [
              1,
              "#f0f921"
             ]
            ],
            "type": "histogram2d"
           }
          ],
          "histogram2dcontour": [
           {
            "colorbar": {
             "outlinewidth": 0,
             "ticks": ""
            },
            "colorscale": [
             [
              0,
              "#0d0887"
             ],
             [
              0.1111111111111111,
              "#46039f"
             ],
             [
              0.2222222222222222,
              "#7201a8"
             ],
             [
              0.3333333333333333,
              "#9c179e"
             ],
             [
              0.4444444444444444,
              "#bd3786"
             ],
             [
              0.5555555555555556,
              "#d8576b"
             ],
             [
              0.6666666666666666,
              "#ed7953"
             ],
             [
              0.7777777777777778,
              "#fb9f3a"
             ],
             [
              0.8888888888888888,
              "#fdca26"
             ],
             [
              1,
              "#f0f921"
             ]
            ],
            "type": "histogram2dcontour"
           }
          ],
          "mesh3d": [
           {
            "colorbar": {
             "outlinewidth": 0,
             "ticks": ""
            },
            "type": "mesh3d"
           }
          ],
          "parcoords": [
           {
            "line": {
             "colorbar": {
              "outlinewidth": 0,
              "ticks": ""
             }
            },
            "type": "parcoords"
           }
          ],
          "pie": [
           {
            "automargin": true,
            "type": "pie"
           }
          ],
          "scatter": [
           {
            "marker": {
             "colorbar": {
              "outlinewidth": 0,
              "ticks": ""
             }
            },
            "type": "scatter"
           }
          ],
          "scatter3d": [
           {
            "line": {
             "colorbar": {
              "outlinewidth": 0,
              "ticks": ""
             }
            },
            "marker": {
             "colorbar": {
              "outlinewidth": 0,
              "ticks": ""
             }
            },
            "type": "scatter3d"
           }
          ],
          "scattercarpet": [
           {
            "marker": {
             "colorbar": {
              "outlinewidth": 0,
              "ticks": ""
             }
            },
            "type": "scattercarpet"
           }
          ],
          "scattergeo": [
           {
            "marker": {
             "colorbar": {
              "outlinewidth": 0,
              "ticks": ""
             }
            },
            "type": "scattergeo"
           }
          ],
          "scattergl": [
           {
            "marker": {
             "colorbar": {
              "outlinewidth": 0,
              "ticks": ""
             }
            },
            "type": "scattergl"
           }
          ],
          "scattermapbox": [
           {
            "marker": {
             "colorbar": {
              "outlinewidth": 0,
              "ticks": ""
             }
            },
            "type": "scattermapbox"
           }
          ],
          "scatterpolar": [
           {
            "marker": {
             "colorbar": {
              "outlinewidth": 0,
              "ticks": ""
             }
            },
            "type": "scatterpolar"
           }
          ],
          "scatterpolargl": [
           {
            "marker": {
             "colorbar": {
              "outlinewidth": 0,
              "ticks": ""
             }
            },
            "type": "scatterpolargl"
           }
          ],
          "scatterternary": [
           {
            "marker": {
             "colorbar": {
              "outlinewidth": 0,
              "ticks": ""
             }
            },
            "type": "scatterternary"
           }
          ],
          "surface": [
           {
            "colorbar": {
             "outlinewidth": 0,
             "ticks": ""
            },
            "colorscale": [
             [
              0,
              "#0d0887"
             ],
             [
              0.1111111111111111,
              "#46039f"
             ],
             [
              0.2222222222222222,
              "#7201a8"
             ],
             [
              0.3333333333333333,
              "#9c179e"
             ],
             [
              0.4444444444444444,
              "#bd3786"
             ],
             [
              0.5555555555555556,
              "#d8576b"
             ],
             [
              0.6666666666666666,
              "#ed7953"
             ],
             [
              0.7777777777777778,
              "#fb9f3a"
             ],
             [
              0.8888888888888888,
              "#fdca26"
             ],
             [
              1,
              "#f0f921"
             ]
            ],
            "type": "surface"
           }
          ],
          "table": [
           {
            "cells": {
             "fill": {
              "color": "#EBF0F8"
             },
             "line": {
              "color": "white"
             }
            },
            "header": {
             "fill": {
              "color": "#C8D4E3"
             },
             "line": {
              "color": "white"
             }
            },
            "type": "table"
           }
          ]
         },
         "layout": {
          "annotationdefaults": {
           "arrowcolor": "#2a3f5f",
           "arrowhead": 0,
           "arrowwidth": 1
          },
          "autotypenumbers": "strict",
          "coloraxis": {
           "colorbar": {
            "outlinewidth": 0,
            "ticks": ""
           }
          },
          "colorscale": {
           "diverging": [
            [
             0,
             "#8e0152"
            ],
            [
             0.1,
             "#c51b7d"
            ],
            [
             0.2,
             "#de77ae"
            ],
            [
             0.3,
             "#f1b6da"
            ],
            [
             0.4,
             "#fde0ef"
            ],
            [
             0.5,
             "#f7f7f7"
            ],
            [
             0.6,
             "#e6f5d0"
            ],
            [
             0.7,
             "#b8e186"
            ],
            [
             0.8,
             "#7fbc41"
            ],
            [
             0.9,
             "#4d9221"
            ],
            [
             1,
             "#276419"
            ]
           ],
           "sequential": [
            [
             0,
             "#0d0887"
            ],
            [
             0.1111111111111111,
             "#46039f"
            ],
            [
             0.2222222222222222,
             "#7201a8"
            ],
            [
             0.3333333333333333,
             "#9c179e"
            ],
            [
             0.4444444444444444,
             "#bd3786"
            ],
            [
             0.5555555555555556,
             "#d8576b"
            ],
            [
             0.6666666666666666,
             "#ed7953"
            ],
            [
             0.7777777777777778,
             "#fb9f3a"
            ],
            [
             0.8888888888888888,
             "#fdca26"
            ],
            [
             1,
             "#f0f921"
            ]
           ],
           "sequentialminus": [
            [
             0,
             "#0d0887"
            ],
            [
             0.1111111111111111,
             "#46039f"
            ],
            [
             0.2222222222222222,
             "#7201a8"
            ],
            [
             0.3333333333333333,
             "#9c179e"
            ],
            [
             0.4444444444444444,
             "#bd3786"
            ],
            [
             0.5555555555555556,
             "#d8576b"
            ],
            [
             0.6666666666666666,
             "#ed7953"
            ],
            [
             0.7777777777777778,
             "#fb9f3a"
            ],
            [
             0.8888888888888888,
             "#fdca26"
            ],
            [
             1,
             "#f0f921"
            ]
           ]
          },
          "colorway": [
           "#636efa",
           "#EF553B",
           "#00cc96",
           "#ab63fa",
           "#FFA15A",
           "#19d3f3",
           "#FF6692",
           "#B6E880",
           "#FF97FF",
           "#FECB52"
          ],
          "font": {
           "color": "#2a3f5f"
          },
          "geo": {
           "bgcolor": "white",
           "lakecolor": "white",
           "landcolor": "#E5ECF6",
           "showlakes": true,
           "showland": true,
           "subunitcolor": "white"
          },
          "hoverlabel": {
           "align": "left"
          },
          "hovermode": "closest",
          "mapbox": {
           "style": "light"
          },
          "paper_bgcolor": "white",
          "plot_bgcolor": "#E5ECF6",
          "polar": {
           "angularaxis": {
            "gridcolor": "white",
            "linecolor": "white",
            "ticks": ""
           },
           "bgcolor": "#E5ECF6",
           "radialaxis": {
            "gridcolor": "white",
            "linecolor": "white",
            "ticks": ""
           }
          },
          "scene": {
           "xaxis": {
            "backgroundcolor": "#E5ECF6",
            "gridcolor": "white",
            "gridwidth": 2,
            "linecolor": "white",
            "showbackground": true,
            "ticks": "",
            "zerolinecolor": "white"
           },
           "yaxis": {
            "backgroundcolor": "#E5ECF6",
            "gridcolor": "white",
            "gridwidth": 2,
            "linecolor": "white",
            "showbackground": true,
            "ticks": "",
            "zerolinecolor": "white"
           },
           "zaxis": {
            "backgroundcolor": "#E5ECF6",
            "gridcolor": "white",
            "gridwidth": 2,
            "linecolor": "white",
            "showbackground": true,
            "ticks": "",
            "zerolinecolor": "white"
           }
          },
          "shapedefaults": {
           "line": {
            "color": "#2a3f5f"
           }
          },
          "ternary": {
           "aaxis": {
            "gridcolor": "white",
            "linecolor": "white",
            "ticks": ""
           },
           "baxis": {
            "gridcolor": "white",
            "linecolor": "white",
            "ticks": ""
           },
           "bgcolor": "#E5ECF6",
           "caxis": {
            "gridcolor": "white",
            "linecolor": "white",
            "ticks": ""
           }
          },
          "title": {
           "x": 0.05
          },
          "xaxis": {
           "automargin": true,
           "gridcolor": "white",
           "linecolor": "white",
           "ticks": "",
           "title": {
            "standoff": 15
           },
           "zerolinecolor": "white",
           "zerolinewidth": 2
          },
          "yaxis": {
           "automargin": true,
           "gridcolor": "white",
           "linecolor": "white",
           "ticks": "",
           "title": {
            "standoff": 15
           },
           "zerolinecolor": "white",
           "zerolinewidth": 2
          }
         }
        },
        "width": 600,
        "xaxis": {
         "anchor": "y",
         "domain": [
          0,
          1
         ]
        },
        "xaxis2": {
         "anchor": "y2",
         "domain": [
          0,
          1
         ]
        },
        "xaxis3": {
         "anchor": "y3",
         "domain": [
          0,
          1
         ]
        },
        "yaxis": {
         "anchor": "x",
         "domain": [
          0.7333333333333333,
          1
         ]
        },
        "yaxis2": {
         "anchor": "x2",
         "domain": [
          0.36666666666666664,
          0.6333333333333333
         ]
        },
        "yaxis3": {
         "anchor": "x3",
         "domain": [
          0,
          0.26666666666666666
         ]
        }
       }
      }
     },
     "metadata": {}
    }
   ],
   "metadata": {}
  },
  {
   "cell_type": "markdown",
   "source": [
    "## 5. Define function for Features Extraction"
   ],
   "metadata": {}
  },
  {
   "cell_type": "code",
   "execution_count": 5,
   "source": [
    "def get_features(path):\n",
    "    signal, sr = librosa.load(path, sr=22050, duration=4.0)\n",
    "\n",
    "    mfcc = librosa.feature.mfcc(y=signal, sr=sr, n_mfcc=13)\n",
    "    delta_mfcc = librosa.feature.delta(mfcc)\n",
    "    delta2_mfcc = librosa.feature.delta(mfcc, order=2)\n",
    "\n",
    "    mfccs = np.hstack((\n",
    "                    np.mean(mfcc, axis=1),\n",
    "                    np.std(mfcc, axis=1)\n",
    "                ))\n",
    "    delta_mfccs = np.hstack((\n",
    "                    np.mean(delta_mfcc, axis=1),\n",
    "                    np.std(delta_mfcc, axis=1)\n",
    "                ))\n",
    "    delta2_mfccs = np.hstack((\n",
    "                    np.mean(delta2_mfcc, axis=1),\n",
    "                    np.std(delta2_mfcc, axis=1)\n",
    "                ))\n",
    "\n",
    "    extracted_features = np.hstack((mfccs, delta_mfccs, delta2_mfccs))\n",
    "    return extracted_features"
   ],
   "outputs": [],
   "metadata": {
    "pycharm": {
     "name": "#%%\n"
    }
   }
  },
  {
   "cell_type": "markdown",
   "source": [
    "## 6. Get Audio Features for GPT Audio Data"
   ],
   "metadata": {}
  },
  {
   "cell_type": "code",
   "execution_count": 6,
   "source": [
    "gpt_data = []\n",
    "for i in tqdm(range(df2.shape[0])):\n",
    "    technique = df2['technique'][i]\n",
    "    subtechnique = df2['subtechnique'][i]\n",
    "    tone_type = df2['tone_type'][i]\n",
    "    audio_path = df2['audio_path'][i]\n",
    "    annotation = [technique, subtechnique, tone_type, audio_path]\n",
    "    features = get_features(audio_path)\n",
    "    features = np.append(features, annotation)\n",
    "    gpt_data.append(features)\n",
    "print('Done!!!')"
   ],
   "outputs": [
    {
     "output_type": "stream",
     "name": "stderr",
     "text": [
      "100%|██████████| 4935/4935 [33:04<00:00,  2.49it/s]"
     ]
    },
    {
     "output_type": "stream",
     "name": "stdout",
     "text": [
      "Done!!!\n"
     ]
    },
    {
     "output_type": "stream",
     "name": "stderr",
     "text": [
      "\n"
     ]
    }
   ],
   "metadata": {
    "pycharm": {
     "name": "#%%\n"
    }
   }
  },
  {
   "cell_type": "markdown",
   "source": [
    "## 7. Define Columns Name to Create Dataframe"
   ],
   "metadata": {}
  },
  {
   "cell_type": "code",
   "execution_count": 7,
   "source": [
    "columns = []\n",
    "names = ['mfcc', 'delta_mfcc', 'delta2_mfcc']\n",
    "stats = ['mean', 'std']\n",
    "file_desc = ['technique', 'subtechnique', 'tone_type', 'audio_path']\n",
    "\n",
    "for name in names:\n",
    "    for stat in stats:\n",
    "        for i in range(13):\n",
    "            col = f'{stat}_{name}_{i+1}'\n",
    "            columns = np.append(columns, col)\n",
    "\n",
    "columns = np.append(columns, file_desc)\n",
    "columns.shape"
   ],
   "outputs": [
    {
     "output_type": "execute_result",
     "data": {
      "text/plain": [
       "(82,)"
      ]
     },
     "metadata": {},
     "execution_count": 7
    }
   ],
   "metadata": {
    "pycharm": {
     "name": "#%%\n"
    }
   }
  },
  {
   "cell_type": "markdown",
   "source": [
    "## 8. Convert Extracted Feature (List) to Dataframe"
   ],
   "metadata": {}
  },
  {
   "cell_type": "code",
   "execution_count": 8,
   "source": [
    "gpt_df = pd.DataFrame(gpt_data, columns=columns)\n",
    "print(gpt_df.shape)"
   ],
   "outputs": [
    {
     "output_type": "stream",
     "name": "stdout",
     "text": [
      "(4935, 82)\n"
     ]
    }
   ],
   "metadata": {
    "pycharm": {
     "name": "#%%\n"
    }
   }
  },
  {
   "cell_type": "markdown",
   "source": [
    "## 9. Save Dataframe to CSV File"
   ],
   "metadata": {
    "pycharm": {
     "name": "#%% md\n"
    }
   }
  },
  {
   "cell_type": "code",
   "execution_count": 9,
   "source": [
    "gpt_df.to_csv('../data/gpt.csv', index=False)"
   ],
   "outputs": [],
   "metadata": {
    "pycharm": {
     "name": "#%%\n"
    }
   }
  },
  {
   "cell_type": "markdown",
   "source": [
    "## 10. Try to Load CSV File"
   ],
   "metadata": {}
  },
  {
   "cell_type": "code",
   "execution_count": 2,
   "source": [
    "gpt = pd.read_csv('../data/gpt.csv')\n",
    "gpt.iloc[:,:78]"
   ],
   "outputs": [
    {
     "output_type": "execute_result",
     "data": {
      "text/plain": [
       "      mean_mfcc_1  mean_mfcc_2  mean_mfcc_3  mean_mfcc_4  mean_mfcc_5  \\\n",
       "0      -355.03528    50.418660   -31.403925    50.348953   -30.673700   \n",
       "1      -409.34760    54.172573   -14.259913    34.271140   -19.298210   \n",
       "2      -437.37173    51.660965    -6.854233    29.953080   -18.832767   \n",
       "3      -438.06467    49.455948   -12.179679    30.181612   -20.404844   \n",
       "4      -421.00162    57.186110   -10.938198    24.475685   -18.420061   \n",
       "...           ...          ...          ...          ...          ...   \n",
       "4930   -448.43590    87.491410   -10.885900     3.775053    -8.661828   \n",
       "4931   -452.21283    77.595474   -12.620891     8.281128    -5.475756   \n",
       "4932   -471.79144    76.883736   -17.900557     3.402666    -9.468511   \n",
       "4933   -381.48682   123.817200     2.646233    15.896898    16.420760   \n",
       "4934   -494.77005    66.191600   -18.541716     2.356203    -8.155362   \n",
       "\n",
       "      mean_mfcc_6  mean_mfcc_7  mean_mfcc_8  mean_mfcc_9  mean_mfcc_10  ...  \\\n",
       "0        1.969854   -22.432991   -18.882349   -19.687302    -17.108780  ...   \n",
       "1       -1.316164   -22.821796   -26.808441   -35.983765    -20.753984  ...   \n",
       "2       -4.724772   -27.711292   -29.034687   -36.362514    -12.233845  ...   \n",
       "3       -2.694792   -28.129316   -27.830496   -26.912025     -4.806398  ...   \n",
       "4       -7.810924   -27.905037   -26.687890   -18.443436     -3.099151  ...   \n",
       "...           ...          ...          ...          ...           ...  ...   \n",
       "4930   -28.545597   -11.102462    13.196578    21.780603     10.927249  ...   \n",
       "4931   -16.596151     1.931262    14.497064    22.093060      8.834344  ...   \n",
       "4932   -14.717384    10.544386    21.593449    19.314589      0.899425  ...   \n",
       "4933    -2.155163    -0.675577    -4.677337    -4.736665     -5.338490  ...   \n",
       "4934    -8.275111    13.797437    20.560762    13.400913     -9.463108  ...   \n",
       "\n",
       "      std_delta2_mfcc_4  std_delta2_mfcc_5  std_delta2_mfcc_6  \\\n",
       "0              0.779445           0.426551           0.623370   \n",
       "1              1.406769           0.646310           0.680021   \n",
       "2              1.335319           0.912139           0.631745   \n",
       "3              1.126964           0.727060           0.521730   \n",
       "4              1.092148           0.546977           0.885436   \n",
       "...                 ...                ...                ...   \n",
       "4930           1.316339           1.179968           1.166556   \n",
       "4931           1.260314           1.043215           0.960883   \n",
       "4932           1.270198           1.194653           1.027984   \n",
       "4933           1.133364           0.484727           0.506073   \n",
       "4934           0.978141           1.128571           1.220781   \n",
       "\n",
       "      std_delta2_mfcc_7  std_delta2_mfcc_8  std_delta2_mfcc_9  \\\n",
       "0              0.449686           0.595603           0.608002   \n",
       "1              0.575558           0.989656           0.586629   \n",
       "2              0.650700           0.940266           0.749098   \n",
       "3              0.813947           1.064398           0.784792   \n",
       "4              0.845619           0.938890           0.515301   \n",
       "...                 ...                ...                ...   \n",
       "4930           1.612248           1.332319           1.106352   \n",
       "4931           1.025139           0.779285           0.826061   \n",
       "4932           1.106710           1.157028           0.846509   \n",
       "4933           0.591242           0.609270           0.436886   \n",
       "4934           1.184522           1.032236           0.886785   \n",
       "\n",
       "      std_delta2_mfcc_10  std_delta2_mfcc_11  std_delta2_mfcc_12  \\\n",
       "0               0.556226            0.422851            0.376067   \n",
       "1               0.618020            0.486782            0.560354   \n",
       "2               0.570480            0.602685            0.513172   \n",
       "3               0.467529            0.632194            0.408578   \n",
       "4               0.455240            0.450919            0.419333   \n",
       "...                  ...                 ...                 ...   \n",
       "4930            0.950605            0.668427            1.002614   \n",
       "4931            0.744555            0.620688            1.188630   \n",
       "4932            0.664322            0.961321            1.070644   \n",
       "4933            0.329715            0.406841            0.463078   \n",
       "4934            0.649028            0.975088            0.668507   \n",
       "\n",
       "      std_delta2_mfcc_13  \n",
       "0               0.295037  \n",
       "1               0.306096  \n",
       "2               0.474988  \n",
       "3               0.670854  \n",
       "4               0.728170  \n",
       "...                  ...  \n",
       "4930            1.238254  \n",
       "4931            0.863979  \n",
       "4932            0.602715  \n",
       "4933            0.481059  \n",
       "4934            0.882663  \n",
       "\n",
       "[4935 rows x 78 columns]"
      ],
      "text/html": [
       "<div>\n",
       "<style scoped>\n",
       "    .dataframe tbody tr th:only-of-type {\n",
       "        vertical-align: middle;\n",
       "    }\n",
       "\n",
       "    .dataframe tbody tr th {\n",
       "        vertical-align: top;\n",
       "    }\n",
       "\n",
       "    .dataframe thead th {\n",
       "        text-align: right;\n",
       "    }\n",
       "</style>\n",
       "<table border=\"1\" class=\"dataframe\">\n",
       "  <thead>\n",
       "    <tr style=\"text-align: right;\">\n",
       "      <th></th>\n",
       "      <th>mean_mfcc_1</th>\n",
       "      <th>mean_mfcc_2</th>\n",
       "      <th>mean_mfcc_3</th>\n",
       "      <th>mean_mfcc_4</th>\n",
       "      <th>mean_mfcc_5</th>\n",
       "      <th>mean_mfcc_6</th>\n",
       "      <th>mean_mfcc_7</th>\n",
       "      <th>mean_mfcc_8</th>\n",
       "      <th>mean_mfcc_9</th>\n",
       "      <th>mean_mfcc_10</th>\n",
       "      <th>...</th>\n",
       "      <th>std_delta2_mfcc_4</th>\n",
       "      <th>std_delta2_mfcc_5</th>\n",
       "      <th>std_delta2_mfcc_6</th>\n",
       "      <th>std_delta2_mfcc_7</th>\n",
       "      <th>std_delta2_mfcc_8</th>\n",
       "      <th>std_delta2_mfcc_9</th>\n",
       "      <th>std_delta2_mfcc_10</th>\n",
       "      <th>std_delta2_mfcc_11</th>\n",
       "      <th>std_delta2_mfcc_12</th>\n",
       "      <th>std_delta2_mfcc_13</th>\n",
       "    </tr>\n",
       "  </thead>\n",
       "  <tbody>\n",
       "    <tr>\n",
       "      <th>0</th>\n",
       "      <td>-355.03528</td>\n",
       "      <td>50.418660</td>\n",
       "      <td>-31.403925</td>\n",
       "      <td>50.348953</td>\n",
       "      <td>-30.673700</td>\n",
       "      <td>1.969854</td>\n",
       "      <td>-22.432991</td>\n",
       "      <td>-18.882349</td>\n",
       "      <td>-19.687302</td>\n",
       "      <td>-17.108780</td>\n",
       "      <td>...</td>\n",
       "      <td>0.779445</td>\n",
       "      <td>0.426551</td>\n",
       "      <td>0.623370</td>\n",
       "      <td>0.449686</td>\n",
       "      <td>0.595603</td>\n",
       "      <td>0.608002</td>\n",
       "      <td>0.556226</td>\n",
       "      <td>0.422851</td>\n",
       "      <td>0.376067</td>\n",
       "      <td>0.295037</td>\n",
       "    </tr>\n",
       "    <tr>\n",
       "      <th>1</th>\n",
       "      <td>-409.34760</td>\n",
       "      <td>54.172573</td>\n",
       "      <td>-14.259913</td>\n",
       "      <td>34.271140</td>\n",
       "      <td>-19.298210</td>\n",
       "      <td>-1.316164</td>\n",
       "      <td>-22.821796</td>\n",
       "      <td>-26.808441</td>\n",
       "      <td>-35.983765</td>\n",
       "      <td>-20.753984</td>\n",
       "      <td>...</td>\n",
       "      <td>1.406769</td>\n",
       "      <td>0.646310</td>\n",
       "      <td>0.680021</td>\n",
       "      <td>0.575558</td>\n",
       "      <td>0.989656</td>\n",
       "      <td>0.586629</td>\n",
       "      <td>0.618020</td>\n",
       "      <td>0.486782</td>\n",
       "      <td>0.560354</td>\n",
       "      <td>0.306096</td>\n",
       "    </tr>\n",
       "    <tr>\n",
       "      <th>2</th>\n",
       "      <td>-437.37173</td>\n",
       "      <td>51.660965</td>\n",
       "      <td>-6.854233</td>\n",
       "      <td>29.953080</td>\n",
       "      <td>-18.832767</td>\n",
       "      <td>-4.724772</td>\n",
       "      <td>-27.711292</td>\n",
       "      <td>-29.034687</td>\n",
       "      <td>-36.362514</td>\n",
       "      <td>-12.233845</td>\n",
       "      <td>...</td>\n",
       "      <td>1.335319</td>\n",
       "      <td>0.912139</td>\n",
       "      <td>0.631745</td>\n",
       "      <td>0.650700</td>\n",
       "      <td>0.940266</td>\n",
       "      <td>0.749098</td>\n",
       "      <td>0.570480</td>\n",
       "      <td>0.602685</td>\n",
       "      <td>0.513172</td>\n",
       "      <td>0.474988</td>\n",
       "    </tr>\n",
       "    <tr>\n",
       "      <th>3</th>\n",
       "      <td>-438.06467</td>\n",
       "      <td>49.455948</td>\n",
       "      <td>-12.179679</td>\n",
       "      <td>30.181612</td>\n",
       "      <td>-20.404844</td>\n",
       "      <td>-2.694792</td>\n",
       "      <td>-28.129316</td>\n",
       "      <td>-27.830496</td>\n",
       "      <td>-26.912025</td>\n",
       "      <td>-4.806398</td>\n",
       "      <td>...</td>\n",
       "      <td>1.126964</td>\n",
       "      <td>0.727060</td>\n",
       "      <td>0.521730</td>\n",
       "      <td>0.813947</td>\n",
       "      <td>1.064398</td>\n",
       "      <td>0.784792</td>\n",
       "      <td>0.467529</td>\n",
       "      <td>0.632194</td>\n",
       "      <td>0.408578</td>\n",
       "      <td>0.670854</td>\n",
       "    </tr>\n",
       "    <tr>\n",
       "      <th>4</th>\n",
       "      <td>-421.00162</td>\n",
       "      <td>57.186110</td>\n",
       "      <td>-10.938198</td>\n",
       "      <td>24.475685</td>\n",
       "      <td>-18.420061</td>\n",
       "      <td>-7.810924</td>\n",
       "      <td>-27.905037</td>\n",
       "      <td>-26.687890</td>\n",
       "      <td>-18.443436</td>\n",
       "      <td>-3.099151</td>\n",
       "      <td>...</td>\n",
       "      <td>1.092148</td>\n",
       "      <td>0.546977</td>\n",
       "      <td>0.885436</td>\n",
       "      <td>0.845619</td>\n",
       "      <td>0.938890</td>\n",
       "      <td>0.515301</td>\n",
       "      <td>0.455240</td>\n",
       "      <td>0.450919</td>\n",
       "      <td>0.419333</td>\n",
       "      <td>0.728170</td>\n",
       "    </tr>\n",
       "    <tr>\n",
       "      <th>...</th>\n",
       "      <td>...</td>\n",
       "      <td>...</td>\n",
       "      <td>...</td>\n",
       "      <td>...</td>\n",
       "      <td>...</td>\n",
       "      <td>...</td>\n",
       "      <td>...</td>\n",
       "      <td>...</td>\n",
       "      <td>...</td>\n",
       "      <td>...</td>\n",
       "      <td>...</td>\n",
       "      <td>...</td>\n",
       "      <td>...</td>\n",
       "      <td>...</td>\n",
       "      <td>...</td>\n",
       "      <td>...</td>\n",
       "      <td>...</td>\n",
       "      <td>...</td>\n",
       "      <td>...</td>\n",
       "      <td>...</td>\n",
       "      <td>...</td>\n",
       "    </tr>\n",
       "    <tr>\n",
       "      <th>4930</th>\n",
       "      <td>-448.43590</td>\n",
       "      <td>87.491410</td>\n",
       "      <td>-10.885900</td>\n",
       "      <td>3.775053</td>\n",
       "      <td>-8.661828</td>\n",
       "      <td>-28.545597</td>\n",
       "      <td>-11.102462</td>\n",
       "      <td>13.196578</td>\n",
       "      <td>21.780603</td>\n",
       "      <td>10.927249</td>\n",
       "      <td>...</td>\n",
       "      <td>1.316339</td>\n",
       "      <td>1.179968</td>\n",
       "      <td>1.166556</td>\n",
       "      <td>1.612248</td>\n",
       "      <td>1.332319</td>\n",
       "      <td>1.106352</td>\n",
       "      <td>0.950605</td>\n",
       "      <td>0.668427</td>\n",
       "      <td>1.002614</td>\n",
       "      <td>1.238254</td>\n",
       "    </tr>\n",
       "    <tr>\n",
       "      <th>4931</th>\n",
       "      <td>-452.21283</td>\n",
       "      <td>77.595474</td>\n",
       "      <td>-12.620891</td>\n",
       "      <td>8.281128</td>\n",
       "      <td>-5.475756</td>\n",
       "      <td>-16.596151</td>\n",
       "      <td>1.931262</td>\n",
       "      <td>14.497064</td>\n",
       "      <td>22.093060</td>\n",
       "      <td>8.834344</td>\n",
       "      <td>...</td>\n",
       "      <td>1.260314</td>\n",
       "      <td>1.043215</td>\n",
       "      <td>0.960883</td>\n",
       "      <td>1.025139</td>\n",
       "      <td>0.779285</td>\n",
       "      <td>0.826061</td>\n",
       "      <td>0.744555</td>\n",
       "      <td>0.620688</td>\n",
       "      <td>1.188630</td>\n",
       "      <td>0.863979</td>\n",
       "    </tr>\n",
       "    <tr>\n",
       "      <th>4932</th>\n",
       "      <td>-471.79144</td>\n",
       "      <td>76.883736</td>\n",
       "      <td>-17.900557</td>\n",
       "      <td>3.402666</td>\n",
       "      <td>-9.468511</td>\n",
       "      <td>-14.717384</td>\n",
       "      <td>10.544386</td>\n",
       "      <td>21.593449</td>\n",
       "      <td>19.314589</td>\n",
       "      <td>0.899425</td>\n",
       "      <td>...</td>\n",
       "      <td>1.270198</td>\n",
       "      <td>1.194653</td>\n",
       "      <td>1.027984</td>\n",
       "      <td>1.106710</td>\n",
       "      <td>1.157028</td>\n",
       "      <td>0.846509</td>\n",
       "      <td>0.664322</td>\n",
       "      <td>0.961321</td>\n",
       "      <td>1.070644</td>\n",
       "      <td>0.602715</td>\n",
       "    </tr>\n",
       "    <tr>\n",
       "      <th>4933</th>\n",
       "      <td>-381.48682</td>\n",
       "      <td>123.817200</td>\n",
       "      <td>2.646233</td>\n",
       "      <td>15.896898</td>\n",
       "      <td>16.420760</td>\n",
       "      <td>-2.155163</td>\n",
       "      <td>-0.675577</td>\n",
       "      <td>-4.677337</td>\n",
       "      <td>-4.736665</td>\n",
       "      <td>-5.338490</td>\n",
       "      <td>...</td>\n",
       "      <td>1.133364</td>\n",
       "      <td>0.484727</td>\n",
       "      <td>0.506073</td>\n",
       "      <td>0.591242</td>\n",
       "      <td>0.609270</td>\n",
       "      <td>0.436886</td>\n",
       "      <td>0.329715</td>\n",
       "      <td>0.406841</td>\n",
       "      <td>0.463078</td>\n",
       "      <td>0.481059</td>\n",
       "    </tr>\n",
       "    <tr>\n",
       "      <th>4934</th>\n",
       "      <td>-494.77005</td>\n",
       "      <td>66.191600</td>\n",
       "      <td>-18.541716</td>\n",
       "      <td>2.356203</td>\n",
       "      <td>-8.155362</td>\n",
       "      <td>-8.275111</td>\n",
       "      <td>13.797437</td>\n",
       "      <td>20.560762</td>\n",
       "      <td>13.400913</td>\n",
       "      <td>-9.463108</td>\n",
       "      <td>...</td>\n",
       "      <td>0.978141</td>\n",
       "      <td>1.128571</td>\n",
       "      <td>1.220781</td>\n",
       "      <td>1.184522</td>\n",
       "      <td>1.032236</td>\n",
       "      <td>0.886785</td>\n",
       "      <td>0.649028</td>\n",
       "      <td>0.975088</td>\n",
       "      <td>0.668507</td>\n",
       "      <td>0.882663</td>\n",
       "    </tr>\n",
       "  </tbody>\n",
       "</table>\n",
       "<p>4935 rows × 78 columns</p>\n",
       "</div>"
      ]
     },
     "metadata": {},
     "execution_count": 2
    }
   ],
   "metadata": {
    "pycharm": {
     "name": "#%%\n"
    },
    "scrolled": false
   }
  },
  {
   "cell_type": "code",
   "execution_count": 3,
   "source": [
    "px.bar(pd.value_counts(gpt['technique']).reset_index(), x='index', y='technique', width=500, height=400)"
   ],
   "outputs": [
    {
     "output_type": "display_data",
     "data": {
      "application/vnd.plotly.v1+json": {
       "config": {
        "plotlyServerURL": "https://plot.ly"
       },
       "data": [
        {
         "alignmentgroup": "True",
         "hovertemplate": "index=%{x}<br>technique=%{y}<extra></extra>",
         "legendgroup": "",
         "marker": {
          "color": "#636efa"
         },
         "name": "",
         "offsetgroup": "",
         "orientation": "v",
         "showlegend": false,
         "textposition": "auto",
         "type": "bar",
         "x": [
          "normal",
          "trill",
          "bending_up",
          "bending_up_down",
          "hamming",
          "slide_up",
          "slide_down",
          "pulling"
         ],
         "xaxis": "x",
         "y": [
          840,
          630,
          630,
          623,
          567,
          567,
          567,
          511
         ],
         "yaxis": "y"
        }
       ],
       "layout": {
        "barmode": "relative",
        "height": 400,
        "legend": {
         "tracegroupgap": 0
        },
        "margin": {
         "t": 60
        },
        "template": {
         "data": {
          "bar": [
           {
            "error_x": {
             "color": "#2a3f5f"
            },
            "error_y": {
             "color": "#2a3f5f"
            },
            "marker": {
             "line": {
              "color": "#E5ECF6",
              "width": 0.5
             }
            },
            "type": "bar"
           }
          ],
          "barpolar": [
           {
            "marker": {
             "line": {
              "color": "#E5ECF6",
              "width": 0.5
             }
            },
            "type": "barpolar"
           }
          ],
          "carpet": [
           {
            "aaxis": {
             "endlinecolor": "#2a3f5f",
             "gridcolor": "white",
             "linecolor": "white",
             "minorgridcolor": "white",
             "startlinecolor": "#2a3f5f"
            },
            "baxis": {
             "endlinecolor": "#2a3f5f",
             "gridcolor": "white",
             "linecolor": "white",
             "minorgridcolor": "white",
             "startlinecolor": "#2a3f5f"
            },
            "type": "carpet"
           }
          ],
          "choropleth": [
           {
            "colorbar": {
             "outlinewidth": 0,
             "ticks": ""
            },
            "type": "choropleth"
           }
          ],
          "contour": [
           {
            "colorbar": {
             "outlinewidth": 0,
             "ticks": ""
            },
            "colorscale": [
             [
              0,
              "#0d0887"
             ],
             [
              0.1111111111111111,
              "#46039f"
             ],
             [
              0.2222222222222222,
              "#7201a8"
             ],
             [
              0.3333333333333333,
              "#9c179e"
             ],
             [
              0.4444444444444444,
              "#bd3786"
             ],
             [
              0.5555555555555556,
              "#d8576b"
             ],
             [
              0.6666666666666666,
              "#ed7953"
             ],
             [
              0.7777777777777778,
              "#fb9f3a"
             ],
             [
              0.8888888888888888,
              "#fdca26"
             ],
             [
              1,
              "#f0f921"
             ]
            ],
            "type": "contour"
           }
          ],
          "contourcarpet": [
           {
            "colorbar": {
             "outlinewidth": 0,
             "ticks": ""
            },
            "type": "contourcarpet"
           }
          ],
          "heatmap": [
           {
            "colorbar": {
             "outlinewidth": 0,
             "ticks": ""
            },
            "colorscale": [
             [
              0,
              "#0d0887"
             ],
             [
              0.1111111111111111,
              "#46039f"
             ],
             [
              0.2222222222222222,
              "#7201a8"
             ],
             [
              0.3333333333333333,
              "#9c179e"
             ],
             [
              0.4444444444444444,
              "#bd3786"
             ],
             [
              0.5555555555555556,
              "#d8576b"
             ],
             [
              0.6666666666666666,
              "#ed7953"
             ],
             [
              0.7777777777777778,
              "#fb9f3a"
             ],
             [
              0.8888888888888888,
              "#fdca26"
             ],
             [
              1,
              "#f0f921"
             ]
            ],
            "type": "heatmap"
           }
          ],
          "heatmapgl": [
           {
            "colorbar": {
             "outlinewidth": 0,
             "ticks": ""
            },
            "colorscale": [
             [
              0,
              "#0d0887"
             ],
             [
              0.1111111111111111,
              "#46039f"
             ],
             [
              0.2222222222222222,
              "#7201a8"
             ],
             [
              0.3333333333333333,
              "#9c179e"
             ],
             [
              0.4444444444444444,
              "#bd3786"
             ],
             [
              0.5555555555555556,
              "#d8576b"
             ],
             [
              0.6666666666666666,
              "#ed7953"
             ],
             [
              0.7777777777777778,
              "#fb9f3a"
             ],
             [
              0.8888888888888888,
              "#fdca26"
             ],
             [
              1,
              "#f0f921"
             ]
            ],
            "type": "heatmapgl"
           }
          ],
          "histogram": [
           {
            "marker": {
             "colorbar": {
              "outlinewidth": 0,
              "ticks": ""
             }
            },
            "type": "histogram"
           }
          ],
          "histogram2d": [
           {
            "colorbar": {
             "outlinewidth": 0,
             "ticks": ""
            },
            "colorscale": [
             [
              0,
              "#0d0887"
             ],
             [
              0.1111111111111111,
              "#46039f"
             ],
             [
              0.2222222222222222,
              "#7201a8"
             ],
             [
              0.3333333333333333,
              "#9c179e"
             ],
             [
              0.4444444444444444,
              "#bd3786"
             ],
             [
              0.5555555555555556,
              "#d8576b"
             ],
             [
              0.6666666666666666,
              "#ed7953"
             ],
             [
              0.7777777777777778,
              "#fb9f3a"
             ],
             [
              0.8888888888888888,
              "#fdca26"
             ],
             [
              1,
              "#f0f921"
             ]
            ],
            "type": "histogram2d"
           }
          ],
          "histogram2dcontour": [
           {
            "colorbar": {
             "outlinewidth": 0,
             "ticks": ""
            },
            "colorscale": [
             [
              0,
              "#0d0887"
             ],
             [
              0.1111111111111111,
              "#46039f"
             ],
             [
              0.2222222222222222,
              "#7201a8"
             ],
             [
              0.3333333333333333,
              "#9c179e"
             ],
             [
              0.4444444444444444,
              "#bd3786"
             ],
             [
              0.5555555555555556,
              "#d8576b"
             ],
             [
              0.6666666666666666,
              "#ed7953"
             ],
             [
              0.7777777777777778,
              "#fb9f3a"
             ],
             [
              0.8888888888888888,
              "#fdca26"
             ],
             [
              1,
              "#f0f921"
             ]
            ],
            "type": "histogram2dcontour"
           }
          ],
          "mesh3d": [
           {
            "colorbar": {
             "outlinewidth": 0,
             "ticks": ""
            },
            "type": "mesh3d"
           }
          ],
          "parcoords": [
           {
            "line": {
             "colorbar": {
              "outlinewidth": 0,
              "ticks": ""
             }
            },
            "type": "parcoords"
           }
          ],
          "pie": [
           {
            "automargin": true,
            "type": "pie"
           }
          ],
          "scatter": [
           {
            "marker": {
             "colorbar": {
              "outlinewidth": 0,
              "ticks": ""
             }
            },
            "type": "scatter"
           }
          ],
          "scatter3d": [
           {
            "line": {
             "colorbar": {
              "outlinewidth": 0,
              "ticks": ""
             }
            },
            "marker": {
             "colorbar": {
              "outlinewidth": 0,
              "ticks": ""
             }
            },
            "type": "scatter3d"
           }
          ],
          "scattercarpet": [
           {
            "marker": {
             "colorbar": {
              "outlinewidth": 0,
              "ticks": ""
             }
            },
            "type": "scattercarpet"
           }
          ],
          "scattergeo": [
           {
            "marker": {
             "colorbar": {
              "outlinewidth": 0,
              "ticks": ""
             }
            },
            "type": "scattergeo"
           }
          ],
          "scattergl": [
           {
            "marker": {
             "colorbar": {
              "outlinewidth": 0,
              "ticks": ""
             }
            },
            "type": "scattergl"
           }
          ],
          "scattermapbox": [
           {
            "marker": {
             "colorbar": {
              "outlinewidth": 0,
              "ticks": ""
             }
            },
            "type": "scattermapbox"
           }
          ],
          "scatterpolar": [
           {
            "marker": {
             "colorbar": {
              "outlinewidth": 0,
              "ticks": ""
             }
            },
            "type": "scatterpolar"
           }
          ],
          "scatterpolargl": [
           {
            "marker": {
             "colorbar": {
              "outlinewidth": 0,
              "ticks": ""
             }
            },
            "type": "scatterpolargl"
           }
          ],
          "scatterternary": [
           {
            "marker": {
             "colorbar": {
              "outlinewidth": 0,
              "ticks": ""
             }
            },
            "type": "scatterternary"
           }
          ],
          "surface": [
           {
            "colorbar": {
             "outlinewidth": 0,
             "ticks": ""
            },
            "colorscale": [
             [
              0,
              "#0d0887"
             ],
             [
              0.1111111111111111,
              "#46039f"
             ],
             [
              0.2222222222222222,
              "#7201a8"
             ],
             [
              0.3333333333333333,
              "#9c179e"
             ],
             [
              0.4444444444444444,
              "#bd3786"
             ],
             [
              0.5555555555555556,
              "#d8576b"
             ],
             [
              0.6666666666666666,
              "#ed7953"
             ],
             [
              0.7777777777777778,
              "#fb9f3a"
             ],
             [
              0.8888888888888888,
              "#fdca26"
             ],
             [
              1,
              "#f0f921"
             ]
            ],
            "type": "surface"
           }
          ],
          "table": [
           {
            "cells": {
             "fill": {
              "color": "#EBF0F8"
             },
             "line": {
              "color": "white"
             }
            },
            "header": {
             "fill": {
              "color": "#C8D4E3"
             },
             "line": {
              "color": "white"
             }
            },
            "type": "table"
           }
          ]
         },
         "layout": {
          "annotationdefaults": {
           "arrowcolor": "#2a3f5f",
           "arrowhead": 0,
           "arrowwidth": 1
          },
          "autotypenumbers": "strict",
          "coloraxis": {
           "colorbar": {
            "outlinewidth": 0,
            "ticks": ""
           }
          },
          "colorscale": {
           "diverging": [
            [
             0,
             "#8e0152"
            ],
            [
             0.1,
             "#c51b7d"
            ],
            [
             0.2,
             "#de77ae"
            ],
            [
             0.3,
             "#f1b6da"
            ],
            [
             0.4,
             "#fde0ef"
            ],
            [
             0.5,
             "#f7f7f7"
            ],
            [
             0.6,
             "#e6f5d0"
            ],
            [
             0.7,
             "#b8e186"
            ],
            [
             0.8,
             "#7fbc41"
            ],
            [
             0.9,
             "#4d9221"
            ],
            [
             1,
             "#276419"
            ]
           ],
           "sequential": [
            [
             0,
             "#0d0887"
            ],
            [
             0.1111111111111111,
             "#46039f"
            ],
            [
             0.2222222222222222,
             "#7201a8"
            ],
            [
             0.3333333333333333,
             "#9c179e"
            ],
            [
             0.4444444444444444,
             "#bd3786"
            ],
            [
             0.5555555555555556,
             "#d8576b"
            ],
            [
             0.6666666666666666,
             "#ed7953"
            ],
            [
             0.7777777777777778,
             "#fb9f3a"
            ],
            [
             0.8888888888888888,
             "#fdca26"
            ],
            [
             1,
             "#f0f921"
            ]
           ],
           "sequentialminus": [
            [
             0,
             "#0d0887"
            ],
            [
             0.1111111111111111,
             "#46039f"
            ],
            [
             0.2222222222222222,
             "#7201a8"
            ],
            [
             0.3333333333333333,
             "#9c179e"
            ],
            [
             0.4444444444444444,
             "#bd3786"
            ],
            [
             0.5555555555555556,
             "#d8576b"
            ],
            [
             0.6666666666666666,
             "#ed7953"
            ],
            [
             0.7777777777777778,
             "#fb9f3a"
            ],
            [
             0.8888888888888888,
             "#fdca26"
            ],
            [
             1,
             "#f0f921"
            ]
           ]
          },
          "colorway": [
           "#636efa",
           "#EF553B",
           "#00cc96",
           "#ab63fa",
           "#FFA15A",
           "#19d3f3",
           "#FF6692",
           "#B6E880",
           "#FF97FF",
           "#FECB52"
          ],
          "font": {
           "color": "#2a3f5f"
          },
          "geo": {
           "bgcolor": "white",
           "lakecolor": "white",
           "landcolor": "#E5ECF6",
           "showlakes": true,
           "showland": true,
           "subunitcolor": "white"
          },
          "hoverlabel": {
           "align": "left"
          },
          "hovermode": "closest",
          "mapbox": {
           "style": "light"
          },
          "paper_bgcolor": "white",
          "plot_bgcolor": "#E5ECF6",
          "polar": {
           "angularaxis": {
            "gridcolor": "white",
            "linecolor": "white",
            "ticks": ""
           },
           "bgcolor": "#E5ECF6",
           "radialaxis": {
            "gridcolor": "white",
            "linecolor": "white",
            "ticks": ""
           }
          },
          "scene": {
           "xaxis": {
            "backgroundcolor": "#E5ECF6",
            "gridcolor": "white",
            "gridwidth": 2,
            "linecolor": "white",
            "showbackground": true,
            "ticks": "",
            "zerolinecolor": "white"
           },
           "yaxis": {
            "backgroundcolor": "#E5ECF6",
            "gridcolor": "white",
            "gridwidth": 2,
            "linecolor": "white",
            "showbackground": true,
            "ticks": "",
            "zerolinecolor": "white"
           },
           "zaxis": {
            "backgroundcolor": "#E5ECF6",
            "gridcolor": "white",
            "gridwidth": 2,
            "linecolor": "white",
            "showbackground": true,
            "ticks": "",
            "zerolinecolor": "white"
           }
          },
          "shapedefaults": {
           "line": {
            "color": "#2a3f5f"
           }
          },
          "ternary": {
           "aaxis": {
            "gridcolor": "white",
            "linecolor": "white",
            "ticks": ""
           },
           "baxis": {
            "gridcolor": "white",
            "linecolor": "white",
            "ticks": ""
           },
           "bgcolor": "#E5ECF6",
           "caxis": {
            "gridcolor": "white",
            "linecolor": "white",
            "ticks": ""
           }
          },
          "title": {
           "x": 0.05
          },
          "xaxis": {
           "automargin": true,
           "gridcolor": "white",
           "linecolor": "white",
           "ticks": "",
           "title": {
            "standoff": 15
           },
           "zerolinecolor": "white",
           "zerolinewidth": 2
          },
          "yaxis": {
           "automargin": true,
           "gridcolor": "white",
           "linecolor": "white",
           "ticks": "",
           "title": {
            "standoff": 15
           },
           "zerolinecolor": "white",
           "zerolinewidth": 2
          }
         }
        },
        "width": 500,
        "xaxis": {
         "anchor": "y",
         "domain": [
          0,
          1
         ],
         "title": {
          "text": "index"
         }
        },
        "yaxis": {
         "anchor": "x",
         "domain": [
          0,
          1
         ],
         "title": {
          "text": "technique"
         }
        }
       }
      }
     },
     "metadata": {}
    }
   ],
   "metadata": {}
  }
 ],
 "metadata": {
  "kernelspec": {
   "name": "python3",
   "display_name": "Python 3.8.8 64-bit ('GOA-SVM-for-GPT-Classification': conda)"
  },
  "language_info": {
   "codemirror_mode": {
    "name": "ipython",
    "version": 3
   },
   "file_extension": ".py",
   "mimetype": "text/x-python",
   "name": "python",
   "nbconvert_exporter": "python",
   "pygments_lexer": "ipython3",
   "version": "3.8.8"
  },
  "interpreter": {
   "hash": "f88953d5c9aa5aedf1a2710ce0bc6ce5df85e8403576077b94186b56238ee893"
  }
 },
 "nbformat": 4,
 "nbformat_minor": 1
}