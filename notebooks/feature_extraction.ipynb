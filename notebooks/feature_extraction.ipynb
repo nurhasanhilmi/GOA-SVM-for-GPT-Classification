{
 "cells": [
  {
   "cell_type": "markdown",
   "source": [
    "# Audio Feature Extraction"
   ],
   "metadata": {
    "collapsed": true,
    "pycharm": {
     "name": "#%% md\n"
    }
   }
  },
  {
   "cell_type": "markdown",
   "source": [
    "## 1. Importing Library"
   ],
   "metadata": {}
  },
  {
   "cell_type": "code",
   "execution_count": 1,
   "source": [
    "import os\n",
    "import pandas as pd\n",
    "import numpy as np\n",
    "from scipy.stats import skew, kurtosis\n",
    "import librosa"
   ],
   "outputs": [],
   "metadata": {
    "pycharm": {
     "name": "#%%\n"
    }
   }
  },
  {
   "cell_type": "markdown",
   "source": [
    "## 2. Define function for extraction"
   ],
   "metadata": {}
  },
  {
   "cell_type": "code",
   "execution_count": 2,
   "source": [
    "def get_features(path, duration):\n",
    "\n",
    "    signal, sr = librosa.load(path, sr=22050, duration=duration)\n",
    "\n",
    "    mfcc = librosa.feature.mfcc(y=signal, sr=sr, n_mfcc=13)\n",
    "    delta_mfcc = librosa.feature.delta(mfcc, mode='mirror')\n",
    "    delta2_mfcc = librosa.feature.delta(mfcc, mode='mirror', order=2)\n",
    "\n",
    "    mfccs = np.hstack((\n",
    "                    np.mean(mfcc, axis=1),\n",
    "                    np.std(mfcc, axis=1),\n",
    "                    skew(mfcc, axis=1),\n",
    "                    kurtosis(mfcc, axis=1)\n",
    "                ))\n",
    "    delta_mfccs = np.hstack((\n",
    "                    np.mean(delta_mfcc, axis=1),\n",
    "                    np.std(delta_mfcc, axis=1),\n",
    "                    skew(delta_mfcc, axis=1),\n",
    "                    kurtosis(delta_mfcc, axis=1)\n",
    "                ))\n",
    "    delta2_mfccs = np.hstack((\n",
    "                    np.mean(delta2_mfcc, axis=1),\n",
    "                    np.std(delta2_mfcc, axis=1),\n",
    "                    skew(delta2_mfcc, axis=1),\n",
    "                    kurtosis(delta2_mfcc, axis=1)\n",
    "                ))\n",
    "\n",
    "    extracted_features = np.hstack((mfccs, delta_mfccs, delta2_mfccs))\n",
    "    return extracted_features"
   ],
   "outputs": [],
   "metadata": {
    "pycharm": {
     "name": "#%%\n"
    }
   }
  },
  {
   "cell_type": "markdown",
   "source": [
    "## 3. Get Audio Features for GPT Audio Data"
   ],
   "metadata": {}
  },
  {
   "cell_type": "code",
   "execution_count": 8,
   "source": [
    "# dataset_path = '../data/guitar/wav'\n",
    "# duration = 4.0\n",
    "\n",
    "dataset_path = '../data/guitar/wav_split'\n",
    "duration = 0.3\n",
    "\n",
    "data = []\n",
    "for i, (root, _, files) in enumerate(os.walk(dataset_path)):\n",
    "    if root is not dataset_path:\n",
    "        if not files:\n",
    "            tone_type = root.split('/')[-1]\n",
    "        else:\n",
    "            subtechnique = root.split('/')[-1]\n",
    "            technique = subtechnique.split('_')[0]\n",
    "            for file in files:\n",
    "                file_path = os.path.join(root, file)\n",
    "                features = get_features(file_path, duration)\n",
    "                features = np.append(features, [technique, subtechnique, tone_type, file_path])\n",
    "                data.append(features)\n",
    "print('Done!!!')"
   ],
   "outputs": [
    {
     "output_type": "stream",
     "name": "stdout",
     "text": [
      "Done!!!\n"
     ]
    }
   ],
   "metadata": {
    "pycharm": {
     "name": "#%%\n"
    }
   }
  },
  {
   "cell_type": "markdown",
   "source": [
    "## 4. Define Columns Name to Create Dataframe"
   ],
   "metadata": {}
  },
  {
   "cell_type": "code",
   "execution_count": 9,
   "source": [
    "columns = []\n",
    "names = ['mfcc', 'delta_mfcc', 'delta2_mfcc']\n",
    "stats = ['mean', 'std', 'skew', 'kurtosis']\n",
    "file_desc = ['technique', 'subtechnique', 'tone_type', 'file_path']\n",
    "\n",
    "for name in names:\n",
    "    for stat in stats:\n",
    "        for i in range(13):\n",
    "            col = f'{stat}_{name}_{i+1}'\n",
    "            columns = np.append(columns, col)\n",
    "\n",
    "columns = np.append(columns, file_desc)\n",
    "columns.shape"
   ],
   "outputs": [
    {
     "output_type": "execute_result",
     "data": {
      "text/plain": [
       "(160,)"
      ]
     },
     "metadata": {},
     "execution_count": 9
    }
   ],
   "metadata": {
    "pycharm": {
     "name": "#%%\n"
    }
   }
  },
  {
   "cell_type": "markdown",
   "source": [
    "## 5. Convert Extracted Feature (List) to Dataframe"
   ],
   "metadata": {}
  },
  {
   "cell_type": "code",
   "execution_count": 10,
   "source": [
    "df = pd.DataFrame(data, columns=columns)\n",
    "print(df.shape)"
   ],
   "outputs": [
    {
     "output_type": "stream",
     "name": "stdout",
     "text": [
      "(7657, 160)\n"
     ]
    }
   ],
   "metadata": {
    "pycharm": {
     "name": "#%%\n"
    }
   }
  },
  {
   "cell_type": "markdown",
   "source": [
    "## 6. Save Dataframe to CSV File"
   ],
   "metadata": {
    "pycharm": {
     "name": "#%% md\n"
    }
   }
  },
  {
   "cell_type": "code",
   "execution_count": 11,
   "source": [
    "# df.to_csv('../data/gpt_complete.csv', index=False)\n",
    "df.to_csv('../data/gpt_split.csv', index=False)"
   ],
   "outputs": [],
   "metadata": {
    "pycharm": {
     "name": "#%%\n"
    }
   }
  },
  {
   "cell_type": "markdown",
   "source": [
    "## 7. Load CSV File"
   ],
   "metadata": {}
  },
  {
   "cell_type": "code",
   "execution_count": 12,
   "source": [
    "# gpt = pd.read_csv('../data/gpt_complete.csv')\n",
    "gpt = pd.read_csv('../data/gpt_split.csv')\n",
    "gpt"
   ],
   "outputs": [
    {
     "output_type": "execute_result",
     "data": {
      "text/plain": [
       "      mean_mfcc_1  mean_mfcc_2  mean_mfcc_3  mean_mfcc_4  mean_mfcc_5  \\\n",
       "0      -321.30880    53.664543   -41.657486    20.575792   -34.078175   \n",
       "1      -197.10857    86.117830   -43.673218    54.265663   -19.434647   \n",
       "2      -244.01527    82.072920   -51.395523    53.868187   -19.187164   \n",
       "3      -194.70702    95.650440   -42.411100    60.186470   -19.122845   \n",
       "4      -346.38394    64.545020   -35.303170    33.381020   -25.183414   \n",
       "...           ...          ...          ...          ...          ...   \n",
       "7652   -208.62580    89.534290   -72.583420    49.182014   -24.961325   \n",
       "7653   -171.62112   102.377240   -76.012450    47.581974   -17.870640   \n",
       "7654   -180.56640   105.330930   -84.613040    53.629623   -20.374622   \n",
       "7655   -186.92618   102.576010   -76.464424    46.970966   -22.491465   \n",
       "7656   -183.65796   122.754690   -70.756850    54.540264   -19.175688   \n",
       "\n",
       "      mean_mfcc_6  mean_mfcc_7  mean_mfcc_8  mean_mfcc_9  mean_mfcc_10  ...  \\\n",
       "0      -15.377439    11.446047    15.791092    24.217379     17.853090  ...   \n",
       "1       -6.111839    -9.582001   -11.827796     2.867603      4.243337  ...   \n",
       "2       -2.757237    -3.269154    -6.843103    -5.374433     -7.197699  ...   \n",
       "3       -0.457996    -7.523692   -14.381029    -5.291275     -6.963178  ...   \n",
       "4      -16.508846    -1.485640     5.415703    14.938007     19.732126  ...   \n",
       "...           ...          ...          ...          ...           ...  ...   \n",
       "7652   -16.623670   -23.536650    -6.877629    -6.587377     13.314508  ...   \n",
       "7653    -2.976126   -21.729235    -0.982900   -12.493032    -15.892898  ...   \n",
       "7654    -4.217498   -24.346489    -6.077085   -16.929007    -11.143519  ...   \n",
       "7655    -5.077390   -29.038008     1.667840    -8.605193     -7.224083  ...   \n",
       "7656    -2.984541   -20.965141   -10.148097   -16.983255    -13.255487  ...   \n",
       "\n",
       "      kurtosis_delta2_mfcc_8  kurtosis_delta2_mfcc_9  kurtosis_delta2_mfcc_10  \\\n",
       "0                  -0.121737               -0.032582                -0.651918   \n",
       "1                  -0.689194               -1.064827                -0.658298   \n",
       "2                  -0.365610                0.674864                -1.053009   \n",
       "3                  -0.686471               -1.336491                -0.994807   \n",
       "4                   0.516332                1.466204                -0.063096   \n",
       "...                      ...                     ...                      ...   \n",
       "7652               -0.441189               -0.830679                -0.824871   \n",
       "7653               -1.347501               -1.361435                -0.552934   \n",
       "7654               -0.885467                0.442155                -0.373782   \n",
       "7655               -1.039444               -1.278862                -1.104712   \n",
       "7656               -1.032227                0.252850                 0.089049   \n",
       "\n",
       "      kurtosis_delta2_mfcc_11  kurtosis_delta2_mfcc_12  \\\n",
       "0                    0.070048                -0.568145   \n",
       "1                   -0.828307                -0.833295   \n",
       "2                   -1.213758                -0.678068   \n",
       "3                   -1.310098                -1.498797   \n",
       "4                   -0.961692                -1.165767   \n",
       "...                       ...                      ...   \n",
       "7652                -1.261925                 0.522229   \n",
       "7653                -1.073264                -1.005519   \n",
       "7654                -0.035077                -1.147394   \n",
       "7655                -1.181983                -0.656139   \n",
       "7656                -1.397359                 0.023652   \n",
       "\n",
       "      kurtosis_delta2_mfcc_13  technique           subtechnique  tone_type  \\\n",
       "0                   -0.889111     normal   normal_whole_step_up          5   \n",
       "1                   -0.063402     normal   normal_whole_step_up          5   \n",
       "2                   -0.446414     normal   normal_whole_step_up          5   \n",
       "3                   -1.144028     normal   normal_whole_step_up          5   \n",
       "4                   -0.681691     normal   normal_whole_step_up          5   \n",
       "...                       ...        ...                    ...        ...   \n",
       "7652                 1.186630      slide  slide_whole_step_down          4   \n",
       "7653                 0.375271      slide  slide_whole_step_down          4   \n",
       "7654                -0.587127      slide  slide_whole_step_down          4   \n",
       "7655                -0.785504      slide  slide_whole_step_down          4   \n",
       "7656                -0.485662      slide  slide_whole_step_down          4   \n",
       "\n",
       "                                              file_path  \n",
       "0     ../data/guitar/wav_split/5/normal_whole_step_u...  \n",
       "1     ../data/guitar/wav_split/5/normal_whole_step_u...  \n",
       "2     ../data/guitar/wav_split/5/normal_whole_step_u...  \n",
       "3     ../data/guitar/wav_split/5/normal_whole_step_u...  \n",
       "4     ../data/guitar/wav_split/5/normal_whole_step_u...  \n",
       "...                                                 ...  \n",
       "7652  ../data/guitar/wav_split/4/slide_whole_step_do...  \n",
       "7653  ../data/guitar/wav_split/4/slide_whole_step_do...  \n",
       "7654  ../data/guitar/wav_split/4/slide_whole_step_do...  \n",
       "7655  ../data/guitar/wav_split/4/slide_whole_step_do...  \n",
       "7656  ../data/guitar/wav_split/4/slide_whole_step_do...  \n",
       "\n",
       "[7657 rows x 160 columns]"
      ],
      "text/html": [
       "<div>\n",
       "<style scoped>\n",
       "    .dataframe tbody tr th:only-of-type {\n",
       "        vertical-align: middle;\n",
       "    }\n",
       "\n",
       "    .dataframe tbody tr th {\n",
       "        vertical-align: top;\n",
       "    }\n",
       "\n",
       "    .dataframe thead th {\n",
       "        text-align: right;\n",
       "    }\n",
       "</style>\n",
       "<table border=\"1\" class=\"dataframe\">\n",
       "  <thead>\n",
       "    <tr style=\"text-align: right;\">\n",
       "      <th></th>\n",
       "      <th>mean_mfcc_1</th>\n",
       "      <th>mean_mfcc_2</th>\n",
       "      <th>mean_mfcc_3</th>\n",
       "      <th>mean_mfcc_4</th>\n",
       "      <th>mean_mfcc_5</th>\n",
       "      <th>mean_mfcc_6</th>\n",
       "      <th>mean_mfcc_7</th>\n",
       "      <th>mean_mfcc_8</th>\n",
       "      <th>mean_mfcc_9</th>\n",
       "      <th>mean_mfcc_10</th>\n",
       "      <th>...</th>\n",
       "      <th>kurtosis_delta2_mfcc_8</th>\n",
       "      <th>kurtosis_delta2_mfcc_9</th>\n",
       "      <th>kurtosis_delta2_mfcc_10</th>\n",
       "      <th>kurtosis_delta2_mfcc_11</th>\n",
       "      <th>kurtosis_delta2_mfcc_12</th>\n",
       "      <th>kurtosis_delta2_mfcc_13</th>\n",
       "      <th>technique</th>\n",
       "      <th>subtechnique</th>\n",
       "      <th>tone_type</th>\n",
       "      <th>file_path</th>\n",
       "    </tr>\n",
       "  </thead>\n",
       "  <tbody>\n",
       "    <tr>\n",
       "      <th>0</th>\n",
       "      <td>-321.30880</td>\n",
       "      <td>53.664543</td>\n",
       "      <td>-41.657486</td>\n",
       "      <td>20.575792</td>\n",
       "      <td>-34.078175</td>\n",
       "      <td>-15.377439</td>\n",
       "      <td>11.446047</td>\n",
       "      <td>15.791092</td>\n",
       "      <td>24.217379</td>\n",
       "      <td>17.853090</td>\n",
       "      <td>...</td>\n",
       "      <td>-0.121737</td>\n",
       "      <td>-0.032582</td>\n",
       "      <td>-0.651918</td>\n",
       "      <td>0.070048</td>\n",
       "      <td>-0.568145</td>\n",
       "      <td>-0.889111</td>\n",
       "      <td>normal</td>\n",
       "      <td>normal_whole_step_up</td>\n",
       "      <td>5</td>\n",
       "      <td>../data/guitar/wav_split/5/normal_whole_step_u...</td>\n",
       "    </tr>\n",
       "    <tr>\n",
       "      <th>1</th>\n",
       "      <td>-197.10857</td>\n",
       "      <td>86.117830</td>\n",
       "      <td>-43.673218</td>\n",
       "      <td>54.265663</td>\n",
       "      <td>-19.434647</td>\n",
       "      <td>-6.111839</td>\n",
       "      <td>-9.582001</td>\n",
       "      <td>-11.827796</td>\n",
       "      <td>2.867603</td>\n",
       "      <td>4.243337</td>\n",
       "      <td>...</td>\n",
       "      <td>-0.689194</td>\n",
       "      <td>-1.064827</td>\n",
       "      <td>-0.658298</td>\n",
       "      <td>-0.828307</td>\n",
       "      <td>-0.833295</td>\n",
       "      <td>-0.063402</td>\n",
       "      <td>normal</td>\n",
       "      <td>normal_whole_step_up</td>\n",
       "      <td>5</td>\n",
       "      <td>../data/guitar/wav_split/5/normal_whole_step_u...</td>\n",
       "    </tr>\n",
       "    <tr>\n",
       "      <th>2</th>\n",
       "      <td>-244.01527</td>\n",
       "      <td>82.072920</td>\n",
       "      <td>-51.395523</td>\n",
       "      <td>53.868187</td>\n",
       "      <td>-19.187164</td>\n",
       "      <td>-2.757237</td>\n",
       "      <td>-3.269154</td>\n",
       "      <td>-6.843103</td>\n",
       "      <td>-5.374433</td>\n",
       "      <td>-7.197699</td>\n",
       "      <td>...</td>\n",
       "      <td>-0.365610</td>\n",
       "      <td>0.674864</td>\n",
       "      <td>-1.053009</td>\n",
       "      <td>-1.213758</td>\n",
       "      <td>-0.678068</td>\n",
       "      <td>-0.446414</td>\n",
       "      <td>normal</td>\n",
       "      <td>normal_whole_step_up</td>\n",
       "      <td>5</td>\n",
       "      <td>../data/guitar/wav_split/5/normal_whole_step_u...</td>\n",
       "    </tr>\n",
       "    <tr>\n",
       "      <th>3</th>\n",
       "      <td>-194.70702</td>\n",
       "      <td>95.650440</td>\n",
       "      <td>-42.411100</td>\n",
       "      <td>60.186470</td>\n",
       "      <td>-19.122845</td>\n",
       "      <td>-0.457996</td>\n",
       "      <td>-7.523692</td>\n",
       "      <td>-14.381029</td>\n",
       "      <td>-5.291275</td>\n",
       "      <td>-6.963178</td>\n",
       "      <td>...</td>\n",
       "      <td>-0.686471</td>\n",
       "      <td>-1.336491</td>\n",
       "      <td>-0.994807</td>\n",
       "      <td>-1.310098</td>\n",
       "      <td>-1.498797</td>\n",
       "      <td>-1.144028</td>\n",
       "      <td>normal</td>\n",
       "      <td>normal_whole_step_up</td>\n",
       "      <td>5</td>\n",
       "      <td>../data/guitar/wav_split/5/normal_whole_step_u...</td>\n",
       "    </tr>\n",
       "    <tr>\n",
       "      <th>4</th>\n",
       "      <td>-346.38394</td>\n",
       "      <td>64.545020</td>\n",
       "      <td>-35.303170</td>\n",
       "      <td>33.381020</td>\n",
       "      <td>-25.183414</td>\n",
       "      <td>-16.508846</td>\n",
       "      <td>-1.485640</td>\n",
       "      <td>5.415703</td>\n",
       "      <td>14.938007</td>\n",
       "      <td>19.732126</td>\n",
       "      <td>...</td>\n",
       "      <td>0.516332</td>\n",
       "      <td>1.466204</td>\n",
       "      <td>-0.063096</td>\n",
       "      <td>-0.961692</td>\n",
       "      <td>-1.165767</td>\n",
       "      <td>-0.681691</td>\n",
       "      <td>normal</td>\n",
       "      <td>normal_whole_step_up</td>\n",
       "      <td>5</td>\n",
       "      <td>../data/guitar/wav_split/5/normal_whole_step_u...</td>\n",
       "    </tr>\n",
       "    <tr>\n",
       "      <th>...</th>\n",
       "      <td>...</td>\n",
       "      <td>...</td>\n",
       "      <td>...</td>\n",
       "      <td>...</td>\n",
       "      <td>...</td>\n",
       "      <td>...</td>\n",
       "      <td>...</td>\n",
       "      <td>...</td>\n",
       "      <td>...</td>\n",
       "      <td>...</td>\n",
       "      <td>...</td>\n",
       "      <td>...</td>\n",
       "      <td>...</td>\n",
       "      <td>...</td>\n",
       "      <td>...</td>\n",
       "      <td>...</td>\n",
       "      <td>...</td>\n",
       "      <td>...</td>\n",
       "      <td>...</td>\n",
       "      <td>...</td>\n",
       "      <td>...</td>\n",
       "    </tr>\n",
       "    <tr>\n",
       "      <th>7652</th>\n",
       "      <td>-208.62580</td>\n",
       "      <td>89.534290</td>\n",
       "      <td>-72.583420</td>\n",
       "      <td>49.182014</td>\n",
       "      <td>-24.961325</td>\n",
       "      <td>-16.623670</td>\n",
       "      <td>-23.536650</td>\n",
       "      <td>-6.877629</td>\n",
       "      <td>-6.587377</td>\n",
       "      <td>13.314508</td>\n",
       "      <td>...</td>\n",
       "      <td>-0.441189</td>\n",
       "      <td>-0.830679</td>\n",
       "      <td>-0.824871</td>\n",
       "      <td>-1.261925</td>\n",
       "      <td>0.522229</td>\n",
       "      <td>1.186630</td>\n",
       "      <td>slide</td>\n",
       "      <td>slide_whole_step_down</td>\n",
       "      <td>4</td>\n",
       "      <td>../data/guitar/wav_split/4/slide_whole_step_do...</td>\n",
       "    </tr>\n",
       "    <tr>\n",
       "      <th>7653</th>\n",
       "      <td>-171.62112</td>\n",
       "      <td>102.377240</td>\n",
       "      <td>-76.012450</td>\n",
       "      <td>47.581974</td>\n",
       "      <td>-17.870640</td>\n",
       "      <td>-2.976126</td>\n",
       "      <td>-21.729235</td>\n",
       "      <td>-0.982900</td>\n",
       "      <td>-12.493032</td>\n",
       "      <td>-15.892898</td>\n",
       "      <td>...</td>\n",
       "      <td>-1.347501</td>\n",
       "      <td>-1.361435</td>\n",
       "      <td>-0.552934</td>\n",
       "      <td>-1.073264</td>\n",
       "      <td>-1.005519</td>\n",
       "      <td>0.375271</td>\n",
       "      <td>slide</td>\n",
       "      <td>slide_whole_step_down</td>\n",
       "      <td>4</td>\n",
       "      <td>../data/guitar/wav_split/4/slide_whole_step_do...</td>\n",
       "    </tr>\n",
       "    <tr>\n",
       "      <th>7654</th>\n",
       "      <td>-180.56640</td>\n",
       "      <td>105.330930</td>\n",
       "      <td>-84.613040</td>\n",
       "      <td>53.629623</td>\n",
       "      <td>-20.374622</td>\n",
       "      <td>-4.217498</td>\n",
       "      <td>-24.346489</td>\n",
       "      <td>-6.077085</td>\n",
       "      <td>-16.929007</td>\n",
       "      <td>-11.143519</td>\n",
       "      <td>...</td>\n",
       "      <td>-0.885467</td>\n",
       "      <td>0.442155</td>\n",
       "      <td>-0.373782</td>\n",
       "      <td>-0.035077</td>\n",
       "      <td>-1.147394</td>\n",
       "      <td>-0.587127</td>\n",
       "      <td>slide</td>\n",
       "      <td>slide_whole_step_down</td>\n",
       "      <td>4</td>\n",
       "      <td>../data/guitar/wav_split/4/slide_whole_step_do...</td>\n",
       "    </tr>\n",
       "    <tr>\n",
       "      <th>7655</th>\n",
       "      <td>-186.92618</td>\n",
       "      <td>102.576010</td>\n",
       "      <td>-76.464424</td>\n",
       "      <td>46.970966</td>\n",
       "      <td>-22.491465</td>\n",
       "      <td>-5.077390</td>\n",
       "      <td>-29.038008</td>\n",
       "      <td>1.667840</td>\n",
       "      <td>-8.605193</td>\n",
       "      <td>-7.224083</td>\n",
       "      <td>...</td>\n",
       "      <td>-1.039444</td>\n",
       "      <td>-1.278862</td>\n",
       "      <td>-1.104712</td>\n",
       "      <td>-1.181983</td>\n",
       "      <td>-0.656139</td>\n",
       "      <td>-0.785504</td>\n",
       "      <td>slide</td>\n",
       "      <td>slide_whole_step_down</td>\n",
       "      <td>4</td>\n",
       "      <td>../data/guitar/wav_split/4/slide_whole_step_do...</td>\n",
       "    </tr>\n",
       "    <tr>\n",
       "      <th>7656</th>\n",
       "      <td>-183.65796</td>\n",
       "      <td>122.754690</td>\n",
       "      <td>-70.756850</td>\n",
       "      <td>54.540264</td>\n",
       "      <td>-19.175688</td>\n",
       "      <td>-2.984541</td>\n",
       "      <td>-20.965141</td>\n",
       "      <td>-10.148097</td>\n",
       "      <td>-16.983255</td>\n",
       "      <td>-13.255487</td>\n",
       "      <td>...</td>\n",
       "      <td>-1.032227</td>\n",
       "      <td>0.252850</td>\n",
       "      <td>0.089049</td>\n",
       "      <td>-1.397359</td>\n",
       "      <td>0.023652</td>\n",
       "      <td>-0.485662</td>\n",
       "      <td>slide</td>\n",
       "      <td>slide_whole_step_down</td>\n",
       "      <td>4</td>\n",
       "      <td>../data/guitar/wav_split/4/slide_whole_step_do...</td>\n",
       "    </tr>\n",
       "  </tbody>\n",
       "</table>\n",
       "<p>7657 rows × 160 columns</p>\n",
       "</div>"
      ]
     },
     "metadata": {},
     "execution_count": 12
    }
   ],
   "metadata": {
    "pycharm": {
     "name": "#%%\n"
    },
    "scrolled": false
   }
  }
 ],
 "metadata": {
  "kernelspec": {
   "name": "python3",
   "display_name": "Python 3.8.8 64-bit ('GOA-SVM-for-GPT-Classification': conda)"
  },
  "language_info": {
   "codemirror_mode": {
    "name": "ipython",
    "version": 3
   },
   "file_extension": ".py",
   "mimetype": "text/x-python",
   "name": "python",
   "nbconvert_exporter": "python",
   "pygments_lexer": "ipython3",
   "version": "3.8.8"
  },
  "interpreter": {
   "hash": "f88953d5c9aa5aedf1a2710ce0bc6ce5df85e8403576077b94186b56238ee893"
  }
 },
 "nbformat": 4,
 "nbformat_minor": 1
}