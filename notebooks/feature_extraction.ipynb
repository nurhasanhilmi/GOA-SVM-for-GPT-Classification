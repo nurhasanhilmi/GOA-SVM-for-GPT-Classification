{
 "cells": [
  {
   "cell_type": "markdown",
   "source": [
    "# Audio Feature Extraction"
   ],
   "metadata": {
    "collapsed": true,
    "pycharm": {
     "name": "#%% md\n"
    }
   }
  },
  {
   "cell_type": "markdown",
   "source": [
    "## 1. Importing Library"
   ],
   "metadata": {}
  },
  {
   "cell_type": "code",
   "execution_count": 1,
   "source": [
    "import os\n",
    "import pandas as pd\n",
    "import numpy as np\n",
    "from scipy.stats import skew, kurtosis\n",
    "import librosa"
   ],
   "outputs": [],
   "metadata": {
    "pycharm": {
     "name": "#%%\n"
    }
   }
  },
  {
   "cell_type": "markdown",
   "source": [
    "## 2. Define function for extraction"
   ],
   "metadata": {}
  },
  {
   "cell_type": "code",
   "execution_count": 2,
   "source": [
    "def get_features(path, duration=4.0):\n",
    "\n",
    "    signal, sr = librosa.load(path, sr=22050, duration=duration)\n",
    "\n",
    "    mfcc = librosa.feature.mfcc(y=signal, sr=sr, n_mfcc=13)\n",
    "    delta_mfcc = librosa.feature.delta(mfcc, mode='mirror')\n",
    "    delta2_mfcc = librosa.feature.delta(mfcc, mode='mirror', order=2)\n",
    "\n",
    "    mfccs = np.hstack((\n",
    "                    np.mean(mfcc, axis=1),\n",
    "                    np.std(mfcc, axis=1),\n",
    "                    skew(mfcc, axis=1),\n",
    "                    kurtosis(mfcc, axis=1)\n",
    "                ))\n",
    "    delta_mfccs = np.hstack((\n",
    "                    np.mean(delta_mfcc, axis=1),\n",
    "                    np.std(delta_mfcc, axis=1),\n",
    "                    skew(delta_mfcc, axis=1),\n",
    "                    kurtosis(delta_mfcc, axis=1)\n",
    "                ))\n",
    "    delta2_mfccs = np.hstack((\n",
    "                    np.mean(delta2_mfcc, axis=1),\n",
    "                    np.std(delta2_mfcc, axis=1),\n",
    "                    skew(delta2_mfcc, axis=1),\n",
    "                    kurtosis(delta2_mfcc, axis=1)\n",
    "                ))\n",
    "\n",
    "    extracted_features = np.hstack((mfccs, delta_mfccs, delta2_mfccs))\n",
    "    return extracted_features"
   ],
   "outputs": [],
   "metadata": {
    "pycharm": {
     "name": "#%%\n"
    }
   }
  },
  {
   "cell_type": "markdown",
   "source": [
    "## 3. Get Audio Features for GPT Audio Data"
   ],
   "metadata": {}
  },
  {
   "cell_type": "code",
   "execution_count": 3,
   "source": [
    "dataset_path = '../data/guitar/wav'\n",
    "\n",
    "data = []\n",
    "for i, (root, _, files) in enumerate(os.walk(dataset_path)):\n",
    "    if root is not dataset_path:\n",
    "        if not files:\n",
    "            tone_type = root.split('/')[-1]\n",
    "        else:\n",
    "            subtechnique = root.split('/')[-1]\n",
    "            technique = subtechnique.split('_')[0]\n",
    "            for file in files:\n",
    "                file_path = os.path.join(root, file)\n",
    "                features = get_features(file_path)\n",
    "                features = np.append(features, [technique, subtechnique, tone_type, file_path])\n",
    "                data.append(features)\n",
    "print('Done!!!')"
   ],
   "outputs": [
    {
     "output_type": "stream",
     "name": "stdout",
     "text": [
      "Done!!!\n"
     ]
    }
   ],
   "metadata": {
    "pycharm": {
     "name": "#%%\n"
    }
   }
  },
  {
   "cell_type": "markdown",
   "source": [
    "## 4. Define Columns Name to Create Dataframe"
   ],
   "metadata": {}
  },
  {
   "cell_type": "code",
   "execution_count": 4,
   "source": [
    "columns = []\n",
    "names = ['mfcc', 'delta_mfcc', 'delta2_mfcc']\n",
    "stats = ['mean', 'std', 'skew', 'kurtosis']\n",
    "file_desc = ['technique', 'subtechnique', 'tone_type', 'file_path']\n",
    "\n",
    "for name in names:\n",
    "    for stat in stats:\n",
    "        for i in range(13):\n",
    "            col = f'{stat}_{name}_{i+1}'\n",
    "            columns = np.append(columns, col)\n",
    "\n",
    "columns = np.append(columns, file_desc)\n",
    "columns.shape"
   ],
   "outputs": [
    {
     "output_type": "execute_result",
     "data": {
      "text/plain": [
       "(160,)"
      ]
     },
     "metadata": {},
     "execution_count": 4
    }
   ],
   "metadata": {
    "pycharm": {
     "name": "#%%\n"
    }
   }
  },
  {
   "cell_type": "markdown",
   "source": [
    "## 5. Convert Extracted Feature (List) to Dataframe"
   ],
   "metadata": {}
  },
  {
   "cell_type": "code",
   "execution_count": 5,
   "source": [
    "df = pd.DataFrame(data, columns=columns)\n",
    "print(df.shape)"
   ],
   "outputs": [
    {
     "output_type": "stream",
     "name": "stdout",
     "text": [
      "(6447, 160)\n"
     ]
    }
   ],
   "metadata": {
    "pycharm": {
     "name": "#%%\n"
    }
   }
  },
  {
   "cell_type": "markdown",
   "source": [
    "## 6. Save Dataframe to CSV File"
   ],
   "metadata": {
    "pycharm": {
     "name": "#%% md\n"
    }
   }
  },
  {
   "cell_type": "code",
   "execution_count": 6,
   "source": [
    "df.to_csv('../data/gpt2.csv', index=False)"
   ],
   "outputs": [],
   "metadata": {
    "pycharm": {
     "name": "#%%\n"
    }
   }
  },
  {
   "cell_type": "markdown",
   "source": [
    "## 7. Load CSV File"
   ],
   "metadata": {}
  },
  {
   "cell_type": "code",
   "execution_count": 76,
   "source": [
    "gpt = pd.read_csv('../data/gpt.csv')\n",
    "gpt"
   ],
   "outputs": [
    {
     "output_type": "execute_result",
     "data": {
      "text/plain": [
       "'../data/guitar/wav/5/trill/trill_3.wav'"
      ]
     },
     "metadata": {},
     "execution_count": 76
    }
   ],
   "metadata": {
    "pycharm": {
     "name": "#%%\n"
    },
    "scrolled": false
   }
  }
 ],
 "metadata": {
  "kernelspec": {
   "name": "python3",
   "display_name": "Python 3.8.8 64-bit ('GOA-SVM-for-GPT-Classification': conda)"
  },
  "language_info": {
   "codemirror_mode": {
    "name": "ipython",
    "version": 3
   },
   "file_extension": ".py",
   "mimetype": "text/x-python",
   "name": "python",
   "nbconvert_exporter": "python",
   "pygments_lexer": "ipython3",
   "version": "3.8.8"
  },
  "interpreter": {
   "hash": "f88953d5c9aa5aedf1a2710ce0bc6ce5df85e8403576077b94186b56238ee893"
  }
 },
 "nbformat": 4,
 "nbformat_minor": 1
}